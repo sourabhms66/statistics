{
  "cells": [
    {
      "cell_type": "code",
      "execution_count": 1,
      "metadata": {
        "id": "MmM05kz9gXa8"
      },
      "outputs": [],
      "source": [
        "import numpy as np\n",
        "import pandas as pd"
      ]
    },
    {
      "cell_type": "code",
      "execution_count": 2,
      "metadata": {
        "id": "7l-cH_-2EBwq"
      },
      "outputs": [],
      "source": [
        "import random"
      ]
    },
    {
      "cell_type": "markdown",
      "metadata": {},
      "source": [
        "## We're creating 10000 random numbers values between 1-6\n",
        "\n",
        "## rolling a dice 10000 times"
      ]
    },
    {
      "cell_type": "code",
      "execution_count": 3,
      "metadata": {},
      "outputs": [],
      "source": [
        "l = []\n",
        "for i in range(10000):\n",
        "  a = random.randint(1,6)\n",
        "  l.append(a)"
      ]
    },
    {
      "cell_type": "code",
      "execution_count": 4,
      "metadata": {},
      "outputs": [
        {
          "data": {
            "text/plain": [
              "10000"
            ]
          },
          "execution_count": 4,
          "metadata": {},
          "output_type": "execute_result"
        }
      ],
      "source": [
        "len(l)"
      ]
    },
    {
      "cell_type": "markdown",
      "metadata": {},
      "source": [
        "## Now if we convert it into a series"
      ]
    },
    {
      "cell_type": "code",
      "execution_count": 5,
      "metadata": {},
      "outputs": [
        {
          "data": {
            "text/plain": [
              "0       5\n",
              "1       3\n",
              "2       1\n",
              "3       4\n",
              "4       5\n",
              "       ..\n",
              "9995    4\n",
              "9996    5\n",
              "9997    2\n",
              "9998    1\n",
              "9999    3\n",
              "Length: 10000, dtype: int64"
            ]
          },
          "execution_count": 5,
          "metadata": {},
          "output_type": "execute_result"
        }
      ],
      "source": [
        "pd.Series(l)"
      ]
    },
    {
      "cell_type": "code",
      "execution_count": 6,
      "metadata": {},
      "outputs": [
        {
          "data": {
            "text/plain": [
              "1    1690\n",
              "3    1675\n",
              "6    1672\n",
              "5    1670\n",
              "2    1656\n",
              "4    1637\n",
              "Name: count, dtype: int64"
            ]
          },
          "execution_count": 6,
          "metadata": {},
          "output_type": "execute_result"
        }
      ],
      "source": [
        "pd.Series(l).value_counts()"
      ]
    },
    {
      "cell_type": "markdown",
      "metadata": {},
      "source": [
        "## Now if we devide this counts by total counts we'll get the probability of getting each number which is almost(1/6)"
      ]
    },
    {
      "cell_type": "code",
      "execution_count": 7,
      "metadata": {},
      "outputs": [
        {
          "data": {
            "text/plain": [
              "1    0.1690\n",
              "3    0.1675\n",
              "6    0.1672\n",
              "5    0.1670\n",
              "2    0.1656\n",
              "4    0.1637\n",
              "Name: count, dtype: float64"
            ]
          },
          "execution_count": 7,
          "metadata": {},
          "output_type": "execute_result"
        }
      ],
      "source": [
        "pd.Series(l).value_counts()/pd.Series(l).value_counts().sum()"
      ]
    },
    {
      "cell_type": "code",
      "execution_count": 8,
      "metadata": {},
      "outputs": [],
      "source": [
        "s = pd.Series(l).value_counts()/pd.Series(l).value_counts().sum()"
      ]
    },
    {
      "cell_type": "code",
      "execution_count": 9,
      "metadata": {},
      "outputs": [
        {
          "data": {
            "text/plain": [
              "1    0.1690\n",
              "2    0.1656\n",
              "3    0.1675\n",
              "4    0.1637\n",
              "5    0.1670\n",
              "6    0.1672\n",
              "Name: count, dtype: float64"
            ]
          },
          "execution_count": 9,
          "metadata": {},
          "output_type": "execute_result"
        }
      ],
      "source": [
        "s.sort_index()"
      ]
    },
    {
      "cell_type": "code",
      "execution_count": 10,
      "metadata": {},
      "outputs": [
        {
          "data": {
            "text/plain": [
              "<Axes: >"
            ]
          },
          "execution_count": 10,
          "metadata": {},
          "output_type": "execute_result"
        },
        {
          "data": {
            "image/png": "[encoded data removed]",
            "text/plain": [
              "<Figure size 640x480 with 1 Axes>"
            ]
          },
          "metadata": {},
          "output_type": "display_data"
        }
      ],
      "source": [
        "s.sort_index().plot(kind='bar')"
      ]
    },
    {
      "cell_type": "markdown",
      "metadata": {},
      "source": [
        "## rolling the two dices 10000 times each"
      ]
    },
    {
      "cell_type": "code",
      "execution_count": 11,
      "metadata": {
        "id": "5cs55cwNEB1L"
      },
      "outputs": [],
      "source": [
        "L = []\n",
        "for i in range(10000):\n",
        "  a = random.randint(1,6)\n",
        "  b = random.randint(1,6)\n",
        "\n",
        "  L.append(a + b)"
      ]
    },
    {
      "cell_type": "code",
      "execution_count": 12,
      "metadata": {},
      "outputs": [
        {
          "data": {
            "text/plain": [
              "[7,\n",
              " 8,\n",
              " 6,\n",
              " 8,\n",
              " 6,\n",
              " 12,\n",
              " 7,\n",
              " 7,\n",
              " 5,\n",
              " 3,\n",
              " 4,\n",
              " 12,\n",
              " 6,\n",
              " 5,\n",
              " 3,\n",
              " 6,\n",
              " 11,\n",
              " 10,\n",
              " 5,\n",
              " 8,\n",
              " 7,\n",
              " 7,\n",
              " 11,\n",
              " 4,\n",
              " 6,\n",
              " 5,\n",
              " 10,\n",
              " 9,\n",
              " 6,\n",
              " 8,\n",
              " 8,\n",
              " 10,\n",
              " 10,\n",
              " 4,\n",
              " 11,\n",
              " 8,\n",
              " 10,\n",
              " 7,\n",
              " 8,\n",
              " 8,\n",
              " 8,\n",
              " 8,\n",
              " 6,\n",
              " 4,\n",
              " 4,\n",
              " 4,\n",
              " 5,\n",
              " 10,\n",
              " 3,\n",
              " 11,\n",
              " 2,\n",
              " 7,\n",
              " 7,\n",
              " 11,\n",
              " 8,\n",
              " 7,\n",
              " 6,\n",
              " 5,\n",
              " 10,\n",
              " 6,\n",
              " 7,\n",
              " 8,\n",
              " 11,\n",
              " 2,\n",
              " 6,\n",
              " 7,\n",
              " 6,\n",
              " 8,\n",
              " 6,\n",
              " 11,\n",
              " 5,\n",
              " 9,\n",
              " 4,\n",
              " 2,\n",
              " 10,\n",
              " 6,\n",
              " 5,\n",
              " 2,\n",
              " 6,\n",
              " 9,\n",
              " 9,\n",
              " 4,\n",
              " 9,\n",
              " 7,\n",
              " 8,\n",
              " 2,\n",
              " 3,\n",
              " 8,\n",
              " 9,\n",
              " 8,\n",
              " 7,\n",
              " 5,\n",
              " 11,\n",
              " 10,\n",
              " 9,\n",
              " 7,\n",
              " 7,\n",
              " 3,\n",
              " 6,\n",
              " 9,\n",
              " 5,\n",
              " 11,\n",
              " 6,\n",
              " 5,\n",
              " 6,\n",
              " 7,\n",
              " 5,\n",
              " 7,\n",
              " 7,\n",
              " 3,\n",
              " 6,\n",
              " 8,\n",
              " 8,\n",
              " 8,\n",
              " 7,\n",
              " 9,\n",
              " 6,\n",
              " 8,\n",
              " 9,\n",
              " 4,\n",
              " 7,\n",
              " 12,\n",
              " 4,\n",
              " 7,\n",
              " 10,\n",
              " 10,\n",
              " 9,\n",
              " 6,\n",
              " 8,\n",
              " 6,\n",
              " 7,\n",
              " 4,\n",
              " 5,\n",
              " 8,\n",
              " 6,\n",
              " 5,\n",
              " 3,\n",
              " 8,\n",
              " 5,\n",
              " 5,\n",
              " 8,\n",
              " 6,\n",
              " 4,\n",
              " 10,\n",
              " 3,\n",
              " 7,\n",
              " 10,\n",
              " 3,\n",
              " 5,\n",
              " 7,\n",
              " 8,\n",
              " 2,\n",
              " 5,\n",
              " 5,\n",
              " 9,\n",
              " 8,\n",
              " 8,\n",
              " 4,\n",
              " 9,\n",
              " 6,\n",
              " 8,\n",
              " 12,\n",
              " 4,\n",
              " 8,\n",
              " 6,\n",
              " 8,\n",
              " 12,\n",
              " 4,\n",
              " 11,\n",
              " 6,\n",
              " 6,\n",
              " 9,\n",
              " 7,\n",
              " 5,\n",
              " 10,\n",
              " 5,\n",
              " 5,\n",
              " 9,\n",
              " 7,\n",
              " 8,\n",
              " 4,\n",
              " 6,\n",
              " 7,\n",
              " 2,\n",
              " 8,\n",
              " 5,\n",
              " 6,\n",
              " 11,\n",
              " 7,\n",
              " 7,\n",
              " 5,\n",
              " 8,\n",
              " 5,\n",
              " 11,\n",
              " 2,\n",
              " 4,\n",
              " 12,\n",
              " 9,\n",
              " 9,\n",
              " 8,\n",
              " 9,\n",
              " 5,\n",
              " 9,\n",
              " 5,\n",
              " 12,\n",
              " 9,\n",
              " 4,\n",
              " 5,\n",
              " 8,\n",
              " 7,\n",
              " 9,\n",
              " 9,\n",
              " 9,\n",
              " 7,\n",
              " 10,\n",
              " 2,\n",
              " 4,\n",
              " 6,\n",
              " 11,\n",
              " 12,\n",
              " 10,\n",
              " 7,\n",
              " 2,\n",
              " 9,\n",
              " 11,\n",
              " 10,\n",
              " 6,\n",
              " 3,\n",
              " 11,\n",
              " 6,\n",
              " 11,\n",
              " 8,\n",
              " 9,\n",
              " 8,\n",
              " 7,\n",
              " 5,\n",
              " 5,\n",
              " 11,\n",
              " 3,\n",
              " 7,\n",
              " 6,\n",
              " 5,\n",
              " 11,\n",
              " 7,\n",
              " 3,\n",
              " 12,\n",
              " 5,\n",
              " 11,\n",
              " 7,\n",
              " 9,\n",
              " 8,\n",
              " 11,\n",
              " 5,\n",
              " 8,\n",
              " 6,\n",
              " 11,\n",
              " 8,\n",
              " 3,\n",
              " 4,\n",
              " 6,\n",
              " 10,\n",
              " 3,\n",
              " 8,\n",
              " 7,\n",
              " 9,\n",
              " 6,\n",
              " 5,\n",
              " 7,\n",
              " 2,\n",
              " 8,\n",
              " 2,\n",
              " 6,\n",
              " 8,\n",
              " 8,\n",
              " 10,\n",
              " 12,\n",
              " 6,\n",
              " 8,\n",
              " 6,\n",
              " 5,\n",
              " 8,\n",
              " 10,\n",
              " 4,\n",
              " 9,\n",
              " 10,\n",
              " 4,\n",
              " 8,\n",
              " 8,\n",
              " 3,\n",
              " 5,\n",
              " 8,\n",
              " 7,\n",
              " 10,\n",
              " 7,\n",
              " 6,\n",
              " 10,\n",
              " 11,\n",
              " 10,\n",
              " 6,\n",
              " 12,\n",
              " 5,\n",
              " 8,\n",
              " 10,\n",
              " 7,\n",
              " 8,\n",
              " 9,\n",
              " 5,\n",
              " 7,\n",
              " 6,\n",
              " 6,\n",
              " 4,\n",
              " 7,\n",
              " 8,\n",
              " 6,\n",
              " 9,\n",
              " 11,\n",
              " 10,\n",
              " 9,\n",
              " 10,\n",
              " 6,\n",
              " 8,\n",
              " 5,\n",
              " 7,\n",
              " 7,\n",
              " 8,\n",
              " 9,\n",
              " 7,\n",
              " 4,\n",
              " 10,\n",
              " 7,\n",
              " 10,\n",
              " 10,\n",
              " 8,\n",
              " 9,\n",
              " 12,\n",
              " 3,\n",
              " 10,\n",
              " 6,\n",
              " 8,\n",
              " 7,\n",
              " 7,\n",
              " 4,\n",
              " 3,\n",
              " 10,\n",
              " 5,\n",
              " 9,\n",
              " 4,\n",
              " 9,\n",
              " 8,\n",
              " 10,\n",
              " 7,\n",
              " 4,\n",
              " 3,\n",
              " 5,\n",
              " 7,\n",
              " 6,\n",
              " 5,\n",
              " 10,\n",
              " 7,\n",
              " 5,\n",
              " 6,\n",
              " 9,\n",
              " 10,\n",
              " 7,\n",
              " 7,\n",
              " 9,\n",
              " 5,\n",
              " 3,\n",
              " 3,\n",
              " 7,\n",
              " 7,\n",
              " 4,\n",
              " 5,\n",
              " 7,\n",
              " 7,\n",
              " 7,\n",
              " 11,\n",
              " 6,\n",
              " 6,\n",
              " 5,\n",
              " 8,\n",
              " 8,\n",
              " 6,\n",
              " 7,\n",
              " 11,\n",
              " 7,\n",
              " 9,\n",
              " 7,\n",
              " 7,\n",
              " 12,\n",
              " 7,\n",
              " 2,\n",
              " 5,\n",
              " 7,\n",
              " 11,\n",
              " 5,\n",
              " 7,\n",
              " 6,\n",
              " 11,\n",
              " 6,\n",
              " 4,\n",
              " 7,\n",
              " 8,\n",
              " 8,\n",
              " 3,\n",
              " 11,\n",
              " 12,\n",
              " 9,\n",
              " 10,\n",
              " 10,\n",
              " 4,\n",
              " 7,\n",
              " 9,\n",
              " 6,\n",
              " 6,\n",
              " 8,\n",
              " 5,\n",
              " 6,\n",
              " 6,\n",
              " 10,\n",
              " 8,\n",
              " 4,\n",
              " 3,\n",
              " 9,\n",
              " 4,\n",
              " 4,\n",
              " 10,\n",
              " 7,\n",
              " 10,\n",
              " 5,\n",
              " 10,\n",
              " 5,\n",
              " 10,\n",
              " 8,\n",
              " 3,\n",
              " 8,\n",
              " 6,\n",
              " 9,\n",
              " 8,\n",
              " 6,\n",
              " 9,\n",
              " 5,\n",
              " 7,\n",
              " 7,\n",
              " 7,\n",
              " 3,\n",
              " 5,\n",
              " 9,\n",
              " 7,\n",
              " 9,\n",
              " 5,\n",
              " 4,\n",
              " 11,\n",
              " 4,\n",
              " 10,\n",
              " 7,\n",
              " 2,\n",
              " 7,\n",
              " 5,\n",
              " 8,\n",
              " 5,\n",
              " 4,\n",
              " 12,\n",
              " 7,\n",
              " 6,\n",
              " 11,\n",
              " 10,\n",
              " 5,\n",
              " 8,\n",
              " 8,\n",
              " 8,\n",
              " 6,\n",
              " 11,\n",
              " 3,\n",
              " 9,\n",
              " 5,\n",
              " 8,\n",
              " 6,\n",
              " 4,\n",
              " 11,\n",
              " 3,\n",
              " 2,\n",
              " 7,\n",
              " 11,\n",
              " 7,\n",
              " 12,\n",
              " 3,\n",
              " 8,\n",
              " 8,\n",
              " 7,\n",
              " 7,\n",
              " 3,\n",
              " 9,\n",
              " 4,\n",
              " 7,\n",
              " 9,\n",
              " 9,\n",
              " 6,\n",
              " 7,\n",
              " 9,\n",
              " 5,\n",
              " 2,\n",
              " 6,\n",
              " 7,\n",
              " 6,\n",
              " 7,\n",
              " 4,\n",
              " 7,\n",
              " 7,\n",
              " 6,\n",
              " 5,\n",
              " 7,\n",
              " 10,\n",
              " 4,\n",
              " 3,\n",
              " 11,\n",
              " 6,\n",
              " 5,\n",
              " 2,\n",
              " 9,\n",
              " 6,\n",
              " 6,\n",
              " 6,\n",
              " 4,\n",
              " 6,\n",
              " 9,\n",
              " 12,\n",
              " 6,\n",
              " 4,\n",
              " 5,\n",
              " 8,\n",
              " 7,\n",
              " 7,\n",
              " 10,\n",
              " 8,\n",
              " 11,\n",
              " 7,\n",
              " 7,\n",
              " 8,\n",
              " 9,\n",
              " 4,\n",
              " 12,\n",
              " 7,\n",
              " 8,\n",
              " 11,\n",
              " 6,\n",
              " 4,\n",
              " 7,\n",
              " 7,\n",
              " 5,\n",
              " 11,\n",
              " 10,\n",
              " 8,\n",
              " 4,\n",
              " 5,\n",
              " 6,\n",
              " 7,\n",
              " 4,\n",
              " 9,\n",
              " 5,\n",
              " 6,\n",
              " 7,\n",
              " 7,\n",
              " 6,\n",
              " 5,\n",
              " 10,\n",
              " 5,\n",
              " 11,\n",
              " 4,\n",
              " 6,\n",
              " 6,\n",
              " 12,\n",
              " 9,\n",
              " 2,\n",
              " 3,\n",
              " 9,\n",
              " 10,\n",
              " 7,\n",
              " 9,\n",
              " 3,\n",
              " 9,\n",
              " 7,\n",
              " 12,\n",
              " 5,\n",
              " 7,\n",
              " 6,\n",
              " 7,\n",
              " 3,\n",
              " 3,\n",
              " 11,\n",
              " 7,\n",
              " 11,\n",
              " 9,\n",
              " 4,\n",
              " 4,\n",
              " 5,\n",
              " 6,\n",
              " 5,\n",
              " 5,\n",
              " 4,\n",
              " 4,\n",
              " 4,\n",
              " 4,\n",
              " 5,\n",
              " 2,\n",
              " 6,\n",
              " 7,\n",
              " 10,\n",
              " 9,\n",
              " 9,\n",
              " 5,\n",
              " 6,\n",
              " 6,\n",
              " 11,\n",
              " 5,\n",
              " 7,\n",
              " 4,\n",
              " 6,\n",
              " 8,\n",
              " 5,\n",
              " 9,\n",
              " 4,\n",
              " 4,\n",
              " 8,\n",
              " 4,\n",
              " 4,\n",
              " 7,\n",
              " 10,\n",
              " 3,\n",
              " 9,\n",
              " 9,\n",
              " 10,\n",
              " 5,\n",
              " 8,\n",
              " 8,\n",
              " 9,\n",
              " 7,\n",
              " 8,\n",
              " 11,\n",
              " 8,\n",
              " 8,\n",
              " 5,\n",
              " 5,\n",
              " 6,\n",
              " 4,\n",
              " 4,\n",
              " 7,\n",
              " 7,\n",
              " 9,\n",
              " 8,\n",
              " 5,\n",
              " 7,\n",
              " 11,\n",
              " 9,\n",
              " 8,\n",
              " 6,\n",
              " 7,\n",
              " 10,\n",
              " 9,\n",
              " 6,\n",
              " 6,\n",
              " 6,\n",
              " 9,\n",
              " 9,\n",
              " 5,\n",
              " 11,\n",
              " 7,\n",
              " 12,\n",
              " 6,\n",
              " 6,\n",
              " 10,\n",
              " 8,\n",
              " 10,\n",
              " 8,\n",
              " 7,\n",
              " 12,\n",
              " 6,\n",
              " 7,\n",
              " 7,\n",
              " 5,\n",
              " 9,\n",
              " 8,\n",
              " 6,\n",
              " 9,\n",
              " 3,\n",
              " 7,\n",
              " 3,\n",
              " 8,\n",
              " 8,\n",
              " 8,\n",
              " 9,\n",
              " 10,\n",
              " 4,\n",
              " 6,\n",
              " 11,\n",
              " 6,\n",
              " 5,\n",
              " 8,\n",
              " 7,\n",
              " 12,\n",
              " 3,\n",
              " 11,\n",
              " 7,\n",
              " 5,\n",
              " 8,\n",
              " 7,\n",
              " 7,\n",
              " 4,\n",
              " 5,\n",
              " 10,\n",
              " 8,\n",
              " 5,\n",
              " 7,\n",
              " 12,\n",
              " 3,\n",
              " 5,\n",
              " 6,\n",
              " 8,\n",
              " 3,\n",
              " 2,\n",
              " 8,\n",
              " 7,\n",
              " 11,\n",
              " 7,\n",
              " 9,\n",
              " 4,\n",
              " 10,\n",
              " 7,\n",
              " 7,\n",
              " 8,\n",
              " 5,\n",
              " 9,\n",
              " 6,\n",
              " 9,\n",
              " 9,\n",
              " 7,\n",
              " 8,\n",
              " 7,\n",
              " 9,\n",
              " 5,\n",
              " 7,\n",
              " 5,\n",
              " 7,\n",
              " 10,\n",
              " 7,\n",
              " 9,\n",
              " 5,\n",
              " 9,\n",
              " 9,\n",
              " 9,\n",
              " 7,\n",
              " 3,\n",
              " 8,\n",
              " 5,\n",
              " 4,\n",
              " 8,\n",
              " 7,\n",
              " 5,\n",
              " 5,\n",
              " 7,\n",
              " 4,\n",
              " 7,\n",
              " 8,\n",
              " 5,\n",
              " 5,\n",
              " 9,\n",
              " 7,\n",
              " 5,\n",
              " 6,\n",
              " 12,\n",
              " 11,\n",
              " 6,\n",
              " 6,\n",
              " 9,\n",
              " 10,\n",
              " 2,\n",
              " 6,\n",
              " 3,\n",
              " 4,\n",
              " 8,\n",
              " 7,\n",
              " 10,\n",
              " 12,\n",
              " 7,\n",
              " 5,\n",
              " 3,\n",
              " 10,\n",
              " 9,\n",
              " 8,\n",
              " 7,\n",
              " 9,\n",
              " 6,\n",
              " 9,\n",
              " 9,\n",
              " 5,\n",
              " 7,\n",
              " 5,\n",
              " 7,\n",
              " 4,\n",
              " 6,\n",
              " 7,\n",
              " 8,\n",
              " 6,\n",
              " 5,\n",
              " 6,\n",
              " 3,\n",
              " 3,\n",
              " 9,\n",
              " 4,\n",
              " 3,\n",
              " 10,\n",
              " 9,\n",
              " 5,\n",
              " 2,\n",
              " 12,\n",
              " 7,\n",
              " 5,\n",
              " 7,\n",
              " 4,\n",
              " 6,\n",
              " 6,\n",
              " 10,\n",
              " 4,\n",
              " 6,\n",
              " 6,\n",
              " 10,\n",
              " 5,\n",
              " 9,\n",
              " 12,\n",
              " 7,\n",
              " 6,\n",
              " 3,\n",
              " 7,\n",
              " 11,\n",
              " 3,\n",
              " 2,\n",
              " 9,\n",
              " 11,\n",
              " 6,\n",
              " 5,\n",
              " 4,\n",
              " 12,\n",
              " 6,\n",
              " 6,\n",
              " 7,\n",
              " 8,\n",
              " 3,\n",
              " 10,\n",
              " 6,\n",
              " 6,\n",
              " 5,\n",
              " 6,\n",
              " 3,\n",
              " 10,\n",
              " 4,\n",
              " 5,\n",
              " 5,\n",
              " 8,\n",
              " 6,\n",
              " 4,\n",
              " 9,\n",
              " 9,\n",
              " 9,\n",
              " 8,\n",
              " 8,\n",
              " 12,\n",
              " 8,\n",
              " 4,\n",
              " 4,\n",
              " 6,\n",
              " 12,\n",
              " 5,\n",
              " 9,\n",
              " 8,\n",
              " 3,\n",
              " 7,\n",
              " 8,\n",
              " 8,\n",
              " 5,\n",
              " 10,\n",
              " 8,\n",
              " 9,\n",
              " 7,\n",
              " 10,\n",
              " 11,\n",
              " 8,\n",
              " 7,\n",
              " 4,\n",
              " 8,\n",
              " 8,\n",
              " 3,\n",
              " 9,\n",
              " 7,\n",
              " 6,\n",
              " 8,\n",
              " 4,\n",
              " 9,\n",
              " 7,\n",
              " 6,\n",
              " 11,\n",
              " 8,\n",
              " 5,\n",
              " 7,\n",
              " 4,\n",
              " 5,\n",
              " 9,\n",
              " 6,\n",
              " 7,\n",
              " 5,\n",
              " 7,\n",
              " 4,\n",
              " 7,\n",
              " 8,\n",
              " 12,\n",
              " 7,\n",
              " 7,\n",
              " 11,\n",
              " 5,\n",
              " 5,\n",
              " 5,\n",
              " 8,\n",
              " 7,\n",
              " 4,\n",
              " 7,\n",
              " 3,\n",
              " 12,\n",
              " 6,\n",
              " 10,\n",
              " 9,\n",
              " 4,\n",
              " 8,\n",
              " 9,\n",
              " 5,\n",
              " 2,\n",
              " 8,\n",
              " 7,\n",
              " 9,\n",
              " 7,\n",
              " 7,\n",
              " 10,\n",
              " 10,\n",
              " 2,\n",
              " 5,\n",
              " 5,\n",
              " 4,\n",
              " 2,\n",
              " 8,\n",
              " 10,\n",
              " 8,\n",
              " 8,\n",
              " 4,\n",
              " 8,\n",
              " 7,\n",
              " 6,\n",
              " 7,\n",
              " 4,\n",
              " 12,\n",
              " 7,\n",
              " 8,\n",
              " 3,\n",
              " 5,\n",
              " 5,\n",
              " 5,\n",
              " 10,\n",
              " 9,\n",
              " 10,\n",
              " 6,\n",
              " 10,\n",
              " 7,\n",
              " 6,\n",
              " 9,\n",
              " 7,\n",
              " 7,\n",
              " 10,\n",
              " 3,\n",
              " 9,\n",
              " 2,\n",
              " 8,\n",
              " 3,\n",
              " 6,\n",
              " 6,\n",
              " 6,\n",
              " 3,\n",
              " 11,\n",
              " 5,\n",
              " 4,\n",
              " 10,\n",
              " 7,\n",
              " 8,\n",
              " 11,\n",
              " 8,\n",
              " 9,\n",
              " 9,\n",
              " 9,\n",
              " 7,\n",
              " 7,\n",
              " 3,\n",
              " 5,\n",
              " 7,\n",
              " 5,\n",
              " ...]"
            ]
          },
          "execution_count": 12,
          "metadata": {},
          "output_type": "execute_result"
        }
      ],
      "source": [
        "L"
      ]
    },
    {
      "cell_type": "code",
      "execution_count": 13,
      "metadata": {
        "colab": {
          "base_uri": "https://localhost:8080/"
        },
        "id": "2620ZC8FEB5k",
        "outputId": "7a07d68a-cd59-474b-e841-12b70fc00a5b"
      },
      "outputs": [
        {
          "data": {
            "text/plain": [
              "10000"
            ]
          },
          "execution_count": 13,
          "metadata": {},
          "output_type": "execute_result"
        }
      ],
      "source": [
        "len(L)"
      ]
    },
    {
      "cell_type": "code",
      "execution_count": 14,
      "metadata": {
        "colab": {
          "base_uri": "https://localhost:8080/"
        },
        "id": "qUA2MblvEB7x",
        "outputId": "25557f47-b7a9-406b-8b2f-48ff63304486"
      },
      "outputs": [
        {
          "data": {
            "text/plain": [
              "[7, 8, 6, 8, 6]"
            ]
          },
          "execution_count": 14,
          "metadata": {},
          "output_type": "execute_result"
        }
      ],
      "source": [
        "L[:5]"
      ]
    },
    {
      "cell_type": "code",
      "execution_count": 15,
      "metadata": {},
      "outputs": [
        {
          "data": {
            "text/plain": [
              "0        7\n",
              "1        8\n",
              "2        6\n",
              "3        8\n",
              "4        6\n",
              "        ..\n",
              "9995     5\n",
              "9996    12\n",
              "9997     8\n",
              "9998     7\n",
              "9999    10\n",
              "Length: 10000, dtype: int64"
            ]
          },
          "execution_count": 15,
          "metadata": {},
          "output_type": "execute_result"
        }
      ],
      "source": [
        "pd.Series(L)"
      ]
    },
    {
      "cell_type": "code",
      "execution_count": 16,
      "metadata": {},
      "outputs": [
        {
          "data": {
            "text/plain": [
              "7     1615\n",
              "8     1406\n",
              "6     1397\n",
              "5     1098\n",
              "9     1098\n",
              "4      870\n",
              "10     789\n",
              "11     583\n",
              "3      568\n",
              "12     299\n",
              "2      277\n",
              "Name: count, dtype: int64"
            ]
          },
          "execution_count": 16,
          "metadata": {},
          "output_type": "execute_result"
        }
      ],
      "source": [
        "pd.Series(L).value_counts()"
      ]
    },
    {
      "cell_type": "code",
      "execution_count": 17,
      "metadata": {},
      "outputs": [
        {
          "data": {
            "text/plain": [
              "10000"
            ]
          },
          "execution_count": 17,
          "metadata": {},
          "output_type": "execute_result"
        }
      ],
      "source": [
        "pd.Series(L).value_counts().sum()"
      ]
    },
    {
      "cell_type": "code",
      "execution_count": 18,
      "metadata": {},
      "outputs": [
        {
          "data": {
            "text/plain": [
              "7     0.1615\n",
              "8     0.1406\n",
              "6     0.1397\n",
              "5     0.1098\n",
              "9     0.1098\n",
              "4     0.0870\n",
              "10    0.0789\n",
              "11    0.0583\n",
              "3     0.0568\n",
              "12    0.0299\n",
              "2     0.0277\n",
              "Name: count, dtype: float64"
            ]
          },
          "execution_count": 18,
          "metadata": {},
          "output_type": "execute_result"
        }
      ],
      "source": [
        "pd.Series(L).value_counts()/pd.Series(L).value_counts().sum()"
      ]
    },
    {
      "cell_type": "code",
      "execution_count": 19,
      "metadata": {
        "id": "Hu76YIbdEB-E"
      },
      "outputs": [],
      "source": [
        "s = (pd.Series(L).value_counts()/pd.Series(L).value_counts().sum()).sort_index()"
      ]
    },
    {
      "cell_type": "code",
      "execution_count": 20,
      "metadata": {},
      "outputs": [
        {
          "data": {
            "text/plain": [
              "2     0.0277\n",
              "3     0.0568\n",
              "4     0.0870\n",
              "5     0.1098\n",
              "6     0.1397\n",
              "7     0.1615\n",
              "8     0.1406\n",
              "9     0.1098\n",
              "10    0.0789\n",
              "11    0.0583\n",
              "12    0.0299\n",
              "Name: count, dtype: float64"
            ]
          },
          "execution_count": 20,
          "metadata": {},
          "output_type": "execute_result"
        }
      ],
      "source": [
        "s"
      ]
    },
    {
      "cell_type": "markdown",
      "metadata": {},
      "source": [
        "## Now if we calculate cumulative sum"
      ]
    },
    {
      "cell_type": "code",
      "execution_count": 21,
      "metadata": {
        "colab": {
          "base_uri": "https://localhost:8080/"
        },
        "id": "ydYmwefR_F3R",
        "outputId": "0a52a761-815d-4245-ac02-226aa42092a3"
      },
      "outputs": [
        {
          "data": {
            "text/plain": [
              "2     0.0277\n",
              "3     0.0845\n",
              "4     0.1715\n",
              "5     0.2813\n",
              "6     0.4210\n",
              "7     0.5825\n",
              "8     0.7231\n",
              "9     0.8329\n",
              "10    0.9118\n",
              "11    0.9701\n",
              "12    1.0000\n",
              "Name: count, dtype: float64"
            ]
          },
          "execution_count": 21,
          "metadata": {},
          "output_type": "execute_result"
        }
      ],
      "source": [
        "np.cumsum(s)"
      ]
    },
    {
      "cell_type": "markdown",
      "metadata": {},
      "source": [
        "## So if we plot for PMF"
      ]
    },
    {
      "cell_type": "code",
      "execution_count": 22,
      "metadata": {
        "colab": {
          "base_uri": "https://localhost:8080/",
          "height": 285
        },
        "id": "Sh5gkLeLECAh",
        "outputId": "75c4eae6-60f1-4f3e-f93a-8ce9dba8110a"
      },
      "outputs": [
        {
          "data": {
            "text/plain": [
              "<Axes: >"
            ]
          },
          "execution_count": 22,
          "metadata": {},
          "output_type": "execute_result"
        },
        {
          "data": {
            "image/png": "[encoded data removed]",
            "text/plain": [
              "<Figure size 640x480 with 1 Axes>"
            ]
          },
          "metadata": {},
          "output_type": "display_data"
        }
      ],
      "source": [
        "s.plot(kind='bar')"
      ]
    },
    {
      "cell_type": "code",
      "execution_count": 23,
      "metadata": {
        "colab": {
          "base_uri": "https://localhost:8080/",
          "height": 285
        },
        "id": "FnuC_aQS-hx7",
        "outputId": "329d4d56-a5a0-4c6f-b8a0-a16d2a9d33ce"
      },
      "outputs": [
        {
          "data": {
            "text/plain": [
              "<Axes: >"
            ]
          },
          "execution_count": 23,
          "metadata": {},
          "output_type": "execute_result"
        },
        {
          "data": {
            "image/png": "[encoded data removed]",
            "text/plain": [
              "<Figure size 640x480 with 1 Axes>"
            ]
          },
          "metadata": {},
          "output_type": "display_data"
        }
      ],
      "source": [
        "np.cumsum(s).plot(kind='bar')"
      ]
    },
    {
      "cell_type": "markdown",
      "metadata": {
        "id": "wwfm9K_sDL1M"
      },
      "source": [
        "# Parametric Density Estimation\n",
        "\n",
        "## To Calculate PDF, let's generate 1000 datapoints which are normally distributed using normal function from numpy, with mean 50 and standerd deviation 5\n",
        "\n",
        "## these parameters are sample parameter; so the actual mean is a little different than sample mean\n",
        "\n",
        "## this is the sample data not the entire data"
      ]
    },
    {
      "cell_type": "code",
      "execution_count": 24,
      "metadata": {
        "id": "Pj2zd24bDQnC"
      },
      "outputs": [],
      "source": [
        "import matplotlib.pyplot as plt\n",
        "import numpy as np\n",
        "from numpy.random import normal\n",
        "\n",
        "sample = normal(loc=50, scale=5,size=1000)"
      ]
    },
    {
      "cell_type": "code",
      "execution_count": 25,
      "metadata": {},
      "outputs": [
        {
          "data": {
            "text/plain": [
              "array([49.96664861, 46.53652456, 49.00580143, 47.17571346, 45.37900982,\n",
              "       61.86827779, 52.99645916, 51.75907629, 51.42822207, 51.35807272,\n",
              "       45.57192274, 52.32185632, 50.44779688, 50.06809354, 53.70260562,\n",
              "       49.53860309, 45.23825115, 48.25275807, 57.31533135, 47.79456772,\n",
              "       51.63891132, 52.09762411, 42.55034   , 46.6011689 , 52.50965397,\n",
              "       49.41713175, 51.58880677, 56.60809489, 48.65471856, 59.12588553,\n",
              "       51.96886941, 57.54520121, 43.5540499 , 46.11533291, 51.58418285,\n",
              "       50.99104213, 43.4502872 , 50.27815976, 54.14713898, 50.24954139,\n",
              "       45.60020882, 52.47802119, 53.23218043, 56.3512459 , 50.24992264,\n",
              "       51.52404091, 49.84518102, 53.16915208, 55.75594785, 61.83305824,\n",
              "       54.64960722, 55.08619375, 50.74754496, 41.12073758, 58.7649829 ,\n",
              "       53.37538549, 43.16690411, 51.6677818 , 36.43180202, 48.50445283,\n",
              "       49.92857387, 49.06727021, 49.77076283, 43.86088624, 50.00543306,\n",
              "       41.29234477, 51.32229779, 55.70088314, 51.91578205, 45.14741518,\n",
              "       53.30749522, 42.3915084 , 52.71993263, 60.54858737, 45.87645323,\n",
              "       48.20833989, 56.17742036, 53.67610921, 53.66509784, 49.48684303,\n",
              "       53.27699794, 52.9714605 , 51.57709446, 49.31893824, 53.26505301,\n",
              "       49.75757992, 57.13020768, 49.60365141, 56.40581756, 46.8177327 ,\n",
              "       47.90142863, 55.95760571, 55.55990271, 50.02098268, 50.70787311,\n",
              "       50.28389141, 50.35251942, 52.44697932, 49.93184032, 52.9550768 ,\n",
              "       47.17961657, 55.50963454, 49.74939005, 52.81439798, 52.70470343,\n",
              "       52.07758292, 57.12350987, 48.57872673, 61.99491528, 48.5417504 ,\n",
              "       47.31542961, 48.22407194, 55.94823105, 55.18604984, 44.38666159,\n",
              "       46.13074624, 44.40563209, 52.82704245, 44.34026928, 56.16818736,\n",
              "       54.3522166 , 56.7857546 , 55.24000095, 46.14987099, 51.72100005,\n",
              "       55.91458004, 61.46351902, 58.65977788, 51.47582119, 47.45930622,\n",
              "       50.00133325, 44.27048363, 48.29242654, 46.72675005, 52.50839063,\n",
              "       54.69030046, 46.68928417, 54.61576228, 51.45086376, 53.92885713,\n",
              "       42.95676234, 55.49493233, 44.5862981 , 49.28204642, 51.65605043,\n",
              "       49.77614878, 49.90334773, 50.33250354, 47.43683785, 57.75694145,\n",
              "       46.61503508, 53.43233497, 39.05413403, 48.90085025, 54.07767596,\n",
              "       55.23297688, 54.45785692, 56.21037022, 48.14906222, 49.85942965,\n",
              "       47.03465724, 56.73772734, 53.01561286, 53.45431839, 51.22088928,\n",
              "       51.1819    , 58.66680886, 50.7840705 , 51.17532688, 53.20186769,\n",
              "       59.08436775, 47.48209345, 47.03151313, 46.15057419, 59.29908718,\n",
              "       56.79195462, 47.05541941, 45.45281299, 51.70992802, 44.03850524,\n",
              "       59.143647  , 55.68624748, 45.22447653, 59.01060856, 56.44071525,\n",
              "       46.22924105, 54.01758949, 55.67329161, 43.68422617, 46.30416251,\n",
              "       49.20812647, 45.73135847, 48.97427928, 52.10011186, 50.2066365 ,\n",
              "       43.41662212, 46.09810268, 47.13916635, 48.98585695, 51.28909581,\n",
              "       50.72043374, 46.89865591, 52.4464627 , 46.56432264, 56.6439637 ,\n",
              "       56.94013522, 57.22962234, 44.22443593, 42.20898143, 40.65986176,\n",
              "       39.2226518 , 52.90374764, 44.10303554, 44.61794987, 51.60789055,\n",
              "       37.61183261, 53.3617474 , 52.56008774, 43.77911918, 47.3187685 ,\n",
              "       54.00639648, 49.68563861, 46.90910977, 52.86924475, 51.48201241,\n",
              "       46.94100739, 36.98384416, 53.34226678, 58.28570071, 42.75372008,\n",
              "       50.17803548, 42.95182302, 47.82213885, 58.10909686, 44.84890839,\n",
              "       48.36186528, 54.76917932, 46.4131015 , 46.19740213, 36.81236161,\n",
              "       58.02063785, 50.90486651, 54.91351042, 41.9575958 , 40.14088691,\n",
              "       48.21800457, 46.77506007, 47.13323241, 52.08522326, 40.5821658 ,\n",
              "       48.65459484, 46.52228437, 53.78010149, 50.60989208, 55.22143465,\n",
              "       50.26091715, 49.96493564, 41.02202409, 47.04530313, 42.09807903,\n",
              "       49.96890745, 49.08206191, 49.68189023, 57.48731949, 52.39838294,\n",
              "       49.96335227, 60.72564595, 51.05700386, 50.13074426, 51.02492674,\n",
              "       47.53889087, 48.22786477, 50.89708955, 44.12213892, 52.04183426,\n",
              "       53.74239922, 56.4769422 , 54.3543849 , 48.10111054, 40.69600992,\n",
              "       50.16086382, 44.75037696, 55.52986201, 53.46901322, 60.15280933,\n",
              "       59.53745412, 55.1885359 , 49.22672439, 44.74251092, 51.44273832,\n",
              "       48.14354263, 49.59207746, 44.79435225, 49.79090781, 43.50887595,\n",
              "       52.95676651, 54.17697433, 49.81375231, 44.38211318, 44.35601585,\n",
              "       49.03225114, 55.99218138, 41.34058432, 53.01770838, 46.64927642,\n",
              "       51.09868709, 54.32265687, 55.94705487, 42.87139342, 47.70725852,\n",
              "       46.0316161 , 47.22304683, 48.08555239, 58.24667638, 55.64037273,\n",
              "       41.44001004, 50.28298547, 48.67909761, 51.62149245, 56.5261951 ,\n",
              "       47.77363691, 48.95247351, 57.06008885, 47.60357927, 57.94833264,\n",
              "       57.70484972, 44.44460303, 43.99637809, 50.16477491, 54.69338439,\n",
              "       49.44130216, 52.71661817, 52.13243835, 48.70998162, 54.0928657 ,\n",
              "       49.12795409, 42.28050677, 46.20920284, 52.97750682, 51.92251107,\n",
              "       44.25151583, 48.86984664, 44.07016045, 47.44434965, 52.66272837,\n",
              "       44.46784743, 49.22778698, 43.86410744, 51.61802094, 51.5535494 ,\n",
              "       42.56509599, 44.22333029, 48.28960735, 45.30385384, 45.73187834,\n",
              "       49.07554142, 48.90390741, 62.28008369, 48.51491149, 47.99184399,\n",
              "       47.81011845, 50.28665215, 47.23193679, 46.68087668, 45.86111959,\n",
              "       56.61184396, 39.51329255, 49.62955413, 43.33758418, 34.81046942,\n",
              "       53.03872348, 47.92107254, 51.4260801 , 63.10913123, 49.7808988 ,\n",
              "       55.56943052, 50.57915903, 50.89398435, 56.8624635 , 52.59382982,\n",
              "       51.02293513, 35.6096904 , 45.69477522, 52.85936622, 56.91338777,\n",
              "       40.94089776, 48.41371966, 47.86799672, 47.39848727, 51.69781177,\n",
              "       56.3827444 , 53.1558145 , 58.58457199, 49.65882038, 54.59430505,\n",
              "       41.32777626, 50.64430696, 49.08615212, 57.84244195, 45.58201902,\n",
              "       35.86984881, 50.71874419, 52.97937094, 58.77863357, 44.08266802,\n",
              "       48.97118421, 54.87756688, 43.62719056, 50.53675682, 50.99527989,\n",
              "       51.20059973, 49.900928  , 48.25876419, 49.03568871, 50.69215111,\n",
              "       50.53292543, 44.50122846, 43.33028264, 51.34432252, 41.65539895,\n",
              "       53.05666217, 53.40001489, 49.66978793, 50.24592113, 41.30929048,\n",
              "       52.56289997, 47.55656572, 42.38122459, 55.28035261, 44.35102118,\n",
              "       52.39546869, 56.40527305, 51.70361286, 53.6695223 , 45.08296928,\n",
              "       52.2413625 , 57.22019645, 51.12824198, 54.41323662, 42.93269235,\n",
              "       46.01254267, 51.1857061 , 46.30714889, 50.19629293, 49.07599129,\n",
              "       45.99656594, 44.74483492, 48.41139723, 47.83062478, 48.75576004,\n",
              "       51.77221163, 56.49066088, 54.88823183, 50.85382789, 50.84206974,\n",
              "       47.93326579, 53.50852337, 44.53195084, 43.98906602, 47.0978582 ,\n",
              "       52.44139135, 47.51673339, 51.32288184, 43.04084423, 48.16089058,\n",
              "       51.21176102, 49.12149135, 53.69815027, 50.99752765, 51.63004496,\n",
              "       55.63150641, 47.99349851, 54.34816321, 40.92832361, 50.64794796,\n",
              "       53.88827841, 45.09486907, 50.65169404, 49.93028315, 55.89708288,\n",
              "       52.61946905, 49.37235991, 49.54859976, 56.03364478, 41.75602102,\n",
              "       47.55215006, 60.89715714, 50.30033651, 47.37433401, 34.69157048,\n",
              "       47.85282819, 46.18927256, 54.86960919, 43.57085528, 47.95873616,\n",
              "       50.52837984, 51.33986566, 48.72638436, 56.102499  , 46.74839912,\n",
              "       56.68616145, 49.90032629, 49.48679638, 48.72259801, 58.51318717,\n",
              "       53.04486724, 51.19627255, 58.23151668, 48.45540664, 52.29108526,\n",
              "       47.92239   , 49.05251722, 54.07042303, 44.45044253, 56.90690149,\n",
              "       53.30990347, 48.51498493, 48.21448158, 47.96436149, 44.73193905,\n",
              "       44.54891805, 45.72700238, 42.16560057, 44.40460012, 48.846331  ,\n",
              "       45.91891934, 37.47524098, 46.63260867, 44.27526861, 51.14969988,\n",
              "       43.63838086, 49.62504252, 52.82196658, 45.85112431, 50.80295579,\n",
              "       52.54283315, 50.52356461, 47.95495917, 54.89124301, 51.83602619,\n",
              "       55.68275266, 47.16675922, 49.69313459, 50.80476992, 51.55156493,\n",
              "       59.76555091, 59.46979675, 48.33960124, 45.46509247, 47.88355543,\n",
              "       54.38462466, 56.79517899, 50.85035495, 48.60825246, 54.79583545,\n",
              "       51.02049859, 48.05591372, 39.9511374 , 52.8471411 , 43.8473591 ,\n",
              "       47.71261998, 46.43919177, 49.34603562, 43.81203119, 39.87207382,\n",
              "       46.42916457, 50.31874618, 47.09848515, 52.60300538, 56.40962806,\n",
              "       47.9868322 , 53.44286018, 42.75226491, 47.3754463 , 51.68030066,\n",
              "       46.91273206, 57.90805419, 51.51466608, 47.23243846, 62.48219563,\n",
              "       51.50691238, 50.73964266, 51.74463393, 53.78382592, 56.2885504 ,\n",
              "       49.09933469, 50.52270258, 42.52033801, 48.62417543, 49.37238498,\n",
              "       41.99105927, 44.53867904, 42.34794559, 53.87083426, 46.07812821,\n",
              "       48.13607635, 39.9332906 , 54.61772598, 53.25887258, 45.06282343,\n",
              "       47.06453989, 47.63593129, 44.0350961 , 45.2913069 , 62.2700588 ,\n",
              "       41.81065326, 49.4678362 , 48.02577202, 56.68102659, 52.59846501,\n",
              "       53.82539568, 48.49125325, 48.47757729, 56.02602442, 54.51522699,\n",
              "       49.26064127, 41.00823615, 41.6465641 , 63.00320846, 51.73694049,\n",
              "       46.90572382, 46.33188028, 47.45553571, 41.7053958 , 55.18604224,\n",
              "       49.75873191, 59.18240774, 50.27145616, 50.15823363, 44.95910089,\n",
              "       52.77645075, 38.61348694, 47.8232053 , 53.3314466 , 49.33426274,\n",
              "       54.70466905, 59.71872313, 54.17978035, 55.9081305 , 50.67468097,\n",
              "       45.44032745, 55.30609522, 53.73662674, 53.52831824, 44.28605184,\n",
              "       46.06510917, 51.95043239, 48.29580604, 50.83199976, 54.52811969,\n",
              "       50.09770244, 54.92630233, 54.42807725, 57.2074013 , 47.63402265,\n",
              "       42.87572641, 52.50495559, 44.21514263, 45.67848955, 50.23403771,\n",
              "       48.77221212, 55.12702261, 39.69837381, 45.84227292, 52.81744334,\n",
              "       47.21509102, 60.50057021, 43.38462485, 54.59452011, 52.69808502,\n",
              "       47.65161338, 59.33611042, 51.3987775 , 48.03518303, 47.5907941 ,\n",
              "       48.12170983, 51.80962415, 53.6295567 , 45.7905393 , 50.13741228,\n",
              "       56.25685708, 47.46194908, 47.21579107, 43.17389067, 45.11548488,\n",
              "       57.03513898, 55.50899995, 52.72553518, 56.99929386, 47.95123264,\n",
              "       46.83444856, 45.16467477, 53.95688501, 47.43193041, 41.04520616,\n",
              "       50.0326179 , 47.16369812, 48.36181578, 49.41824453, 53.07270595,\n",
              "       49.02304513, 55.46750438, 47.19734444, 45.10735411, 49.77526028,\n",
              "       50.39191634, 47.28839263, 51.64094184, 50.0321021 , 59.33503218,\n",
              "       49.54854286, 43.36565495, 47.11853797, 44.98180708, 50.97526022,\n",
              "       61.03773227, 55.95675751, 42.1060975 , 45.35184394, 50.45912211,\n",
              "       45.17833601, 46.66580597, 49.66912379, 51.38230185, 44.97863961,\n",
              "       52.04384074, 54.08131806, 40.71116614, 51.31940502, 46.76555315,\n",
              "       44.65459669, 47.91772085, 42.97047967, 55.44635958, 51.7089906 ,\n",
              "       45.09305934, 44.64010874, 48.18877889, 60.31612222, 52.06943598,\n",
              "       53.08299631, 49.15531813, 45.08569512, 45.82602169, 47.00953924,\n",
              "       47.65486789, 45.59729728, 45.47871701, 46.37114268, 52.52582549,\n",
              "       56.16421968, 48.18508107, 53.94780549, 46.65576613, 46.99595106,\n",
              "       55.11000951, 51.58000529, 56.22987475, 48.09874211, 46.38369511,\n",
              "       54.11078083, 49.68070444, 51.80539428, 48.05899502, 44.47931058,\n",
              "       47.86431221, 51.09791151, 50.97923368, 50.65711977, 59.18015475,\n",
              "       49.93412369, 48.17373019, 52.30342158, 50.60228125, 46.48886173,\n",
              "       55.61878777, 47.51607842, 49.79876271, 50.24146842, 43.31849794,\n",
              "       58.76643269, 46.70902076, 43.0310059 , 53.60891713, 53.09108123,\n",
              "       45.37934601, 42.01231032, 56.00695204, 55.11704732, 44.37562325,\n",
              "       46.59742887, 49.87127081, 43.37060246, 49.26825494, 38.47450618,\n",
              "       53.24884181, 53.9721317 , 48.68803618, 47.76105174, 44.8685574 ,\n",
              "       39.69128723, 50.49785919, 49.40131556, 52.64563388, 50.45092883,\n",
              "       55.76919493, 55.09267765, 59.00299556, 48.93079442, 44.75095675,\n",
              "       44.27059219, 55.00190254, 46.4948794 , 52.1706246 , 39.63586166,\n",
              "       49.45170382, 51.23812709, 50.50840476, 38.03407238, 42.74962115,\n",
              "       56.5671611 , 58.84825243, 40.48143816, 51.53210947, 54.76598912,\n",
              "       38.44330996, 47.88902484, 61.17540571, 39.35421023, 45.32408257,\n",
              "       56.34050468, 47.84930845, 48.11973383, 38.28529708, 57.89229834,\n",
              "       47.73148116, 51.13881495, 48.6542775 , 46.35460022, 52.60004377,\n",
              "       46.31718405, 53.39591038, 43.44366674, 53.54866999, 49.35709444,\n",
              "       45.09710514, 48.19442266, 56.18268787, 52.78795192, 53.77428283,\n",
              "       46.70228726, 49.08943385, 55.35373278, 56.04161035, 44.88324832,\n",
              "       48.34349855, 42.10884856, 51.82065935, 50.76282629, 41.77039081,\n",
              "       43.28166168, 47.59672995, 58.27212747, 49.19731974, 49.11370093,\n",
              "       63.75552204, 46.04948902, 51.93899379, 51.33609655, 55.96679723,\n",
              "       50.23994848, 52.21313032, 45.27291447, 54.85961395, 46.95026423,\n",
              "       48.84052971, 48.24221229, 48.4996861 , 52.67406202, 54.39040162,\n",
              "       50.88590016, 52.10680131, 39.10158069, 54.0617793 , 50.38635699,\n",
              "       36.95343392, 42.62151487, 44.34684283, 58.95249392, 48.17843099,\n",
              "       54.29247566, 46.43358463, 58.46301861, 45.94612204, 55.91914601,\n",
              "       53.11857724, 55.00982767, 53.13990904, 49.19358301, 47.15635416,\n",
              "       50.04649909, 58.67005988, 61.59150807, 44.68984453, 47.84729206,\n",
              "       49.82065962, 51.53676796, 47.12409862, 46.94432475, 54.8305596 ,\n",
              "       46.80448897, 60.36936093, 56.20058719, 48.02002316, 60.00113801,\n",
              "       48.54929044, 52.42622586, 46.70576299, 49.92119827, 42.62034647,\n",
              "       50.42646922, 55.32017502, 56.207269  , 57.52551627, 46.39741502,\n",
              "       51.16250022, 55.78833942, 43.84338516, 49.49513669, 54.01562906,\n",
              "       54.82320481, 47.82180746, 47.11370928, 55.70146806, 42.05489701,\n",
              "       48.93380879, 46.83768901, 42.55756482, 48.52853076, 48.43772453,\n",
              "       54.01923801, 40.63480152, 39.9712989 , 47.48210237, 43.42524409,\n",
              "       46.31226115, 52.12798519, 43.77396736, 52.8874518 , 49.71258214,\n",
              "       50.39581508, 50.98742601, 59.9301538 , 48.43620131, 42.84415644,\n",
              "       39.54420746, 51.93576994, 47.75580793, 41.59842181, 49.78527955,\n",
              "       45.63317453, 44.48696896, 59.47454745, 45.05819385, 54.29335099,\n",
              "       51.54843657, 53.29207036, 41.47880551, 45.63074618, 49.44381465,\n",
              "       51.89982407, 47.61472725, 51.07071244, 48.64212828, 58.14725605,\n",
              "       45.12205314, 53.99487902, 49.26254458, 46.42332046, 57.80034687,\n",
              "       44.14643213, 57.89451316, 45.96546955, 51.78083743, 52.14520044,\n",
              "       55.33300063, 43.08208989, 44.76066901, 47.25354489, 51.77623299,\n",
              "       49.20349295, 54.7110367 , 48.46393774, 55.79096787, 53.99457519,\n",
              "       51.07936747, 47.16121866, 59.48585634, 52.33301433, 56.10203086])"
            ]
          },
          "execution_count": 25,
          "metadata": {},
          "output_type": "execute_result"
        }
      ],
      "source": [
        "sample"
      ]
    },
    {
      "cell_type": "markdown",
      "metadata": {},
      "source": [
        "## As we see this is the sample mean different than actual mean 50"
      ]
    },
    {
      "cell_type": "code",
      "execution_count": 26,
      "metadata": {
        "colab": {
          "base_uri": "https://localhost:8080/"
        },
        "id": "_rEna39pIYVI",
        "outputId": "da1fb9f3-da69-4714-92a3-fad89318691e"
      },
      "outputs": [
        {
          "data": {
            "text/plain": [
              "49.889517172786924"
            ]
          },
          "execution_count": 26,
          "metadata": {},
          "output_type": "execute_result"
        }
      ],
      "source": [
        "sample.mean()"
      ]
    },
    {
      "cell_type": "markdown",
      "metadata": {},
      "source": [
        "# Step 2\n",
        "## Let's plot the histogram to see how the data is distributed"
      ]
    },
    {
      "cell_type": "code",
      "execution_count": 27,
      "metadata": {
        "colab": {
          "base_uri": "https://localhost:8080/",
          "height": 352
        },
        "id": "M6dGCQ1i4QTM",
        "outputId": "dd86b9e9-df29-4f5d-ef31-3f894151c16c"
      },
      "outputs": [
        {
          "data": {
            "text/plain": [
              "(array([  9.,  21.,  65., 134., 222., 230., 157., 105.,  43.,  14.]),\n",
              " array([34.69157048, 37.59796563, 40.50436079, 43.41075595, 46.3171511 ,\n",
              "        49.22354626, 52.12994142, 55.03633657, 57.94273173, 60.84912689,\n",
              "        63.75552204]),\n",
              " <BarContainer object of 10 artists>)"
            ]
          },
          "execution_count": 27,
          "metadata": {},
          "output_type": "execute_result"
        },
        {
          "data": {
            "image/png": "[encoded data removed]",
            "text/plain": [
              "<Figure size 640x480 with 1 Axes>"
            ]
          },
          "metadata": {},
          "output_type": "display_data"
        }
      ],
      "source": [
        "plt.hist(sample,bins=10)"
      ]
    },
    {
      "cell_type": "markdown",
      "metadata": {},
      "source": [
        "# Step 3\n",
        "## As we see the data looks like normally distributed, we'll calculate sample mean and sample standerd deviation"
      ]
    },
    {
      "cell_type": "code",
      "execution_count": 28,
      "metadata": {
        "id": "X-v35mzRgjZ3"
      },
      "outputs": [],
      "source": [
        "sample_mean = sample.mean()\n",
        "sample_std = sample.std()"
      ]
    },
    {
      "cell_type": "markdown",
      "metadata": {},
      "source": [
        "# Step 4\n",
        "![alt text](Capture-1.JPG)\n",
        "\n",
        "## to calculate PDF we need to provide mean and standerd deviation"
      ]
    },
    {
      "cell_type": "code",
      "execution_count": 29,
      "metadata": {
        "id": "5ur02_Xng9WR"
      },
      "outputs": [],
      "source": [
        "# fit the distribution with the above parameters\n",
        "\n",
        "from scipy.stats import norm\n",
        "dist = norm(sample_mean, sample_std)"
      ]
    },
    {
      "cell_type": "markdown",
      "metadata": {},
      "source": [
        "## we are creating 100 datapoints between minimum and maximum values"
      ]
    },
    {
      "cell_type": "code",
      "execution_count": 30,
      "metadata": {
        "id": "hlcOo447hkFR"
      },
      "outputs": [],
      "source": [
        "values = np.linspace(sample.min(),sample.max(),100)"
      ]
    },
    {
      "cell_type": "code",
      "execution_count": 31,
      "metadata": {},
      "outputs": [
        {
          "data": {
            "text/plain": [
              "34.6915704772944"
            ]
          },
          "execution_count": 31,
          "metadata": {},
          "output_type": "execute_result"
        }
      ],
      "source": [
        "sample.min()"
      ]
    },
    {
      "cell_type": "code",
      "execution_count": 32,
      "metadata": {
        "colab": {
          "base_uri": "https://localhost:8080/"
        },
        "id": "BvZ48Ud_JGRu",
        "outputId": "29a09a40-6a37-48b4-9c45-289f648978cf"
      },
      "outputs": [
        {
          "data": {
            "text/plain": [
              "63.755522042735976"
            ]
          },
          "execution_count": 32,
          "metadata": {},
          "output_type": "execute_result"
        }
      ],
      "source": [
        "sample.max()"
      ]
    },
    {
      "cell_type": "markdown",
      "metadata": {},
      "source": [
        "# Now all we need to do is provide the value of x to the PDF equation\n",
        "\n",
        "![alt text](Capture-2.JPG)"
      ]
    },
    {
      "cell_type": "code",
      "execution_count": 33,
      "metadata": {
        "id": "qOQvG9dqh_bd"
      },
      "outputs": [],
      "source": [
        "probability_densities = [dist.pdf(value) for value in values]"
      ]
    },
    {
      "cell_type": "markdown",
      "metadata": {},
      "source": [
        "# Step 5\n",
        "## Now as we have the probabilities densities we can simply plot the graph"
      ]
    },
    {
      "cell_type": "code",
      "execution_count": 34,
      "metadata": {
        "colab": {
          "base_uri": "https://localhost:8080/",
          "height": 282
        },
        "id": "qh2YfPFXiJ8x",
        "outputId": "302b0092-460e-413f-f832-993b84da70b6"
      },
      "outputs": [
        {
          "data": {
            "text/plain": [
              "[<matplotlib.lines.Line2D at 0x13cff79bef0>]"
            ]
          },
          "execution_count": 34,
          "metadata": {},
          "output_type": "execute_result"
        },
        {
          "data": {
            "image/png": "[encoded data removed]",
            "text/plain": [
              "<Figure size 640x480 with 1 Axes>"
            ]
          },
          "metadata": {},
          "output_type": "display_data"
        }
      ],
      "source": [
        "plt.hist(sample,bins=10)\n",
        "plt.plot(values,probability_densities)"
      ]
    },
    {
      "cell_type": "markdown",
      "metadata": {},
      "source": [
        "## If we keep the density same it'll look better"
      ]
    },
    {
      "cell_type": "code",
      "execution_count": 35,
      "metadata": {},
      "outputs": [
        {
          "data": {
            "text/plain": [
              "[<matplotlib.lines.Line2D at 0x13cff88a270>]"
            ]
          },
          "execution_count": 35,
          "metadata": {},
          "output_type": "execute_result"
        },
        {
          "data": {
            "image/png": "[encoded data removed]",
            "text/plain": [
              "<Figure size 640x480 with 1 Axes>"
            ]
          },
          "metadata": {},
          "output_type": "display_data"
        }
      ],
      "source": [
        "plt.hist(sample,bins=10,density=True)\n",
        "plt.plot(values,probability_densities)"
      ]
    },
    {
      "cell_type": "markdown",
      "metadata": {},
      "source": [
        "## We can use seaborn to do the same thing easily"
      ]
    },
    {
      "cell_type": "code",
      "execution_count": 36,
      "metadata": {
        "colab": {
          "base_uri": "https://localhost:8080/",
          "height": 337
        },
        "id": "3TgDJNrlJ24I",
        "outputId": "dd40abf9-509d-4ef7-f769-51d2bc252981"
      },
      "outputs": [
        {
          "data": {
            "text/plain": [
              "<seaborn.axisgrid.FacetGrid at 0x13cff7c3a40>"
            ]
          },
          "execution_count": 36,
          "metadata": {},
          "output_type": "execute_result"
        },
        {
          "data": {
            "image/png": "[encoded data removed]",
            "text/plain": [
              "<Figure size 500x500 with 1 Axes>"
            ]
          },
          "metadata": {},
          "output_type": "display_data"
        }
      ],
      "source": [
        "import seaborn as sns\n",
        "sns.displot(sample, kde=True)"
      ]
    },
    {
      "cell_type": "code",
      "execution_count": 37,
      "metadata": {},
      "outputs": [
        {
          "data": {
            "text/plain": [
              "<Axes: ylabel='Count'>"
            ]
          },
          "execution_count": 37,
          "metadata": {},
          "output_type": "execute_result"
        },
        {
          "data": {
            "image/png": "[encoded data removed]",
            "text/plain": [
              "<Figure size 640x480 with 1 Axes>"
            ]
          },
          "metadata": {},
          "output_type": "display_data"
        }
      ],
      "source": [
        "import seaborn as sns\n",
        "sns.histplot(sample, kde=True)"
      ]
    },
    {
      "cell_type": "markdown",
      "metadata": {},
      "source": [
        "## The reason it's called parametric density estimation if we change any of those parameter(mean and std) the plot will be different"
      ]
    },
    {
      "cell_type": "code",
      "execution_count": 38,
      "metadata": {},
      "outputs": [
        {
          "data": {
            "text/plain": [
              "[<matplotlib.lines.Line2D at 0x13cffc470e0>]"
            ]
          },
          "execution_count": 38,
          "metadata": {},
          "output_type": "execute_result"
        },
        {
          "data": {
            "image/png": "[encoded data removed]",
            "text/plain": [
              "<Figure size 640x480 with 1 Axes>"
            ]
          },
          "metadata": {},
          "output_type": "display_data"
        }
      ],
      "source": [
        "from scipy.stats import norm\n",
        "dist = norm(60, 12) # if we change mean and std \n",
        "values = np.linspace(sample.min(),sample.max(),100)\n",
        "probability_densities = [dist.pdf(value) for value in values]\n",
        "plt.hist(sample,bins=10,density=True)\n",
        "plt.plot(values,probability_densities)"
      ]
    },
    {
      "cell_type": "markdown",
      "metadata": {
        "id": "wIKxiromDJmn"
      },
      "source": [
        "# KDE Kernet Density Estimation\n",
        "\n",
        "## Here we are taking 1000 points"
      ]
    },
    {
      "cell_type": "code",
      "execution_count": 39,
      "metadata": {
        "id": "tANSTx4znAYG"
      },
      "outputs": [],
      "source": [
        "sample1 = normal(loc=20, scale=5, size=300)\n",
        "sample2 = normal(loc=40, scale=5, size=700)\n",
        "sample = np.hstack((sample1, sample2))"
      ]
    },
    {
      "cell_type": "code",
      "execution_count": 40,
      "metadata": {
        "colab": {
          "base_uri": "https://localhost:8080/"
        },
        "id": "WagjEqX-NNxR",
        "outputId": "991f9d4e-4476-4cdd-8c6a-240c5c10f399"
      },
      "outputs": [
        {
          "data": {
            "text/plain": [
              "array([21.98723584, 24.9441482 , 12.90558127, 24.53150492, 30.23703951,\n",
              "       20.82176508, 19.15565274, 23.73198298, 15.73674879, 20.90748542,\n",
              "       15.45230784, 26.10348431, 23.10390473, 20.97542717, 18.46214451,\n",
              "       26.80830439, 20.76131268, 22.74787778, 24.91211602, 22.5900505 ,\n",
              "       24.2753732 , 24.66348194, 20.94058322, 14.63459754, 16.9262089 ,\n",
              "       23.37542728, 26.61672882, 23.2430741 , 13.66510222, 22.25473667,\n",
              "       25.001106  , 20.54033441, 19.39540102, 15.198395  ,  6.75096973,\n",
              "       15.04841341, 19.03689701, 22.74712908, 18.82580289, 20.71370825,\n",
              "       15.97996803, 15.50266748, 14.59172252, 18.74141626, 20.46861912,\n",
              "       16.60601006, 20.63171909, 24.07088054, 22.09533714, 18.59357611,\n",
              "       16.61649558, 28.39202054, 17.36279307, 18.56856526, 28.6138652 ,\n",
              "       25.31992211, 17.80243458, 17.60886215, 16.65526823, 20.6238835 ,\n",
              "       16.12053981, 18.85963203, 19.98498152, 12.62861261, 25.20203143,\n",
              "       11.98475998, 29.49086154, 16.95681807, 22.24835788, 24.17008333,\n",
              "       16.71596189, 20.85122424, 32.28657084, 15.03035273, 23.42375829,\n",
              "       17.21370175, 25.18408037, 21.70160827, 20.69581949, 16.80805093,\n",
              "       21.46437703, 17.68343484, 25.32722102, 17.46163188, 18.22136047,\n",
              "       26.16821488, 14.54162151, 23.21288411, 15.05860003, 12.93661505,\n",
              "       17.7334186 , 26.11780922, 18.4926776 , 18.16576297, 17.38178855,\n",
              "       18.87407438, 16.75399017, 22.6480667 , 20.40614571, 19.97648391,\n",
              "       18.45265614, 17.95536646, 28.76162874, 19.60707175, 15.7748783 ,\n",
              "        8.94875096, 17.47501307, 24.59382436, 18.36024888, 15.49836682,\n",
              "       19.14110479, 19.66327142, 12.81725849, 24.77216283, 22.17342319,\n",
              "       22.38976695, 14.97346518, 18.79948748, 30.14887385, 23.99751255,\n",
              "       19.57824271, 29.10563744, 21.85508725, 21.22419503, 23.87005067,\n",
              "       20.66718921, 19.69139973, 15.71591478, 16.17172494, 12.57834986,\n",
              "       25.29440727, 26.28719657, 22.32833543, 26.72278658,  8.24277556,\n",
              "       26.56599967, 17.21430648, 22.45651585, 24.19276071, 21.52578286,\n",
              "       22.00807941, 15.7287934 , 17.00510787, 27.37798109, 18.12141376,\n",
              "       17.84394111, 22.22106793, 23.13462468, 23.57873029, 21.02351339,\n",
              "       10.87128484, 14.23445831, 34.48430325, 26.17654793, 22.81365485,\n",
              "       15.66342626, 17.4546909 , 19.36252435, 15.02568472, 19.99716071,\n",
              "       33.71057593, 19.67285475, 21.9267448 , 15.73720788, 22.84971472,\n",
              "       23.22245851, 21.01217556, 12.07714597, 18.13049516, 19.22268379,\n",
              "       18.64356422, 26.83270939, 15.01241256, 20.9110996 , 21.64157368,\n",
              "       17.95118128, 24.03126846, 19.46367019, 14.41260895, 14.4846164 ,\n",
              "       16.49722154, 18.33159463, 15.87488721, 23.52259274, 17.80881281,\n",
              "       16.28811402, 15.91997983, 21.75331609, 18.55310571, 19.62793984,\n",
              "       17.98658479, 25.26674177, 18.21290274, 19.36717033, 16.25088352,\n",
              "       26.05562323, 18.85791441, 21.57861982, 21.23089784, 32.02094664,\n",
              "       30.87407413, 19.42258322, 21.99492312, 30.9858438 , 17.81903591,\n",
              "       22.8849501 , 26.0355627 , 15.82538896, 27.50171085, 19.23293914,\n",
              "       15.28432789,  9.75967518, 19.81405081, 23.21243528,  8.70317348,\n",
              "       19.25901355, 25.14207879, 18.82072817, 31.5431462 , 21.53576932,\n",
              "       20.25323238, 18.42147249, 14.31583197, 18.69629493, 20.20147852,\n",
              "       23.84759536, 18.60367824, 28.71401321, 24.12113982, 28.31628124,\n",
              "       19.52821606, 23.92738808, 23.34418755, 23.34810059, 25.69628561,\n",
              "       21.4376446 , 25.9379696 , 22.7369738 , 12.70853564, 18.59344135,\n",
              "       11.51817925, 26.91990121, 39.29029949, 27.11474478, 20.70825596,\n",
              "       27.12930561, 21.61839634, 18.76430469, 19.19544711, 19.31682086,\n",
              "       20.16913592, 21.98527901, 14.26577258, 13.22682216,  9.38360044,\n",
              "       18.69522851, 23.21545096, 18.8091243 , 14.7437472 , 20.10042746,\n",
              "       22.87997217, 13.31883472, 24.94291946, 22.08904457, 17.75306314,\n",
              "       16.65055617, 20.43637646, 23.63465476, 26.46761753, 17.70460517,\n",
              "       19.99818702,  9.48006336, 17.59698415, 13.8863613 , 18.08082914,\n",
              "       22.94018438, 23.1534796 ,  8.05708842, 25.32127677, 12.45114338,\n",
              "       35.5629157 , 18.83125809, 17.52815601, 14.34087149, 25.50676943,\n",
              "       21.73275952, 23.44810659, 24.5583326 , 28.80836317, 20.72356417,\n",
              "       30.90541346, 17.23241108, 21.22388335, 16.15317523,  3.22673384,\n",
              "       21.35843749, 13.8533091 , 14.18317256, 20.70846807, 23.56308647,\n",
              "       34.59963757, 41.20987482, 45.37362626, 39.09003922, 44.39934983,\n",
              "       47.49350165, 37.75037246, 33.22578112, 41.03078243, 31.12391579,\n",
              "       46.2874381 , 38.1694562 , 38.53686752, 38.7170398 , 43.39195453,\n",
              "       37.8980425 , 48.00082537, 35.42949247, 42.79711039, 35.66431225,\n",
              "       43.39012381, 35.85178312, 38.59481306, 39.69683054, 43.08792133,\n",
              "       34.18418885, 40.88981351, 45.33021733, 37.15568542, 38.55822363,\n",
              "       37.12646795, 37.69529639, 43.90342825, 33.13700955, 33.87324351,\n",
              "       35.59172181, 39.92354452, 42.03704486, 45.57310639, 39.4308669 ,\n",
              "       47.82319147, 40.02331137, 32.74490479, 35.49271045, 37.52436432,\n",
              "       41.77898101, 40.20051635, 34.7833064 , 49.06825979, 42.37482836,\n",
              "       33.23543543, 27.29889093, 34.12673943, 37.33627802, 33.47672043,\n",
              "       48.25452511, 47.16816906, 42.57444758, 40.60671062, 40.41839372,\n",
              "       40.2469481 , 50.66965664, 33.0604092 , 42.32121684, 40.0064127 ,\n",
              "       40.46928196, 32.22448351, 38.37301788, 40.60693632, 36.43729777,\n",
              "       39.03809665, 40.75133047, 38.14604976, 51.42565328, 39.1311097 ,\n",
              "       42.39087656, 44.76566172, 36.48110332, 38.69358882, 43.10481717,\n",
              "       41.24278414, 43.94913413, 45.87284415, 47.06402688, 40.81991157,\n",
              "       33.03208509, 35.46254151, 38.34305068, 40.89129184, 36.70503237,\n",
              "       44.61683998, 42.63214678, 37.85401851, 48.03372366, 35.45579577,\n",
              "       36.77499707, 36.44119078, 39.47907225, 32.33816459, 54.15215355,\n",
              "       47.52001352, 36.36550842, 39.10079181, 37.99849635, 35.18645624,\n",
              "       39.06935248, 44.35729368, 31.5913933 , 39.35805196, 40.47679827,\n",
              "       38.03111953, 45.49853083, 44.55681365, 34.35633566, 39.76746902,\n",
              "       43.27722979, 45.63113975, 39.23108813, 38.20621178, 33.64848205,\n",
              "       31.96547892, 35.21603321, 38.43389598, 38.91578902, 37.63657366,\n",
              "       44.50727861, 46.69674812, 45.85187482, 39.55118499, 34.93935567,\n",
              "       37.64102889, 41.64395224, 46.7748594 , 44.15271195, 40.0643367 ,\n",
              "       36.6064228 , 40.24988082, 45.97121767, 34.99810655, 27.03309294,\n",
              "       43.84696847, 36.56903268, 42.26772332, 36.45069086, 42.65300584,\n",
              "       40.73020243, 31.23612267, 34.94765258, 40.79905695, 45.2875111 ,\n",
              "       41.44256599, 37.92664226, 37.53980509, 31.49944679, 38.34079568,\n",
              "       46.67975391, 42.9688844 , 38.58895453, 42.62970385, 26.11351607,\n",
              "       46.71700636, 38.7041621 , 50.29728794, 34.39242355, 40.16390907,\n",
              "       32.94621484, 38.79350347, 39.612714  , 36.0178755 , 42.15749833,\n",
              "       40.47995303, 41.45847914, 39.26029643, 36.46372704, 45.25110386,\n",
              "       48.57684038, 47.54640878, 49.10164361, 48.52068288, 36.77995501,\n",
              "       32.6232481 , 41.43527007, 44.52799362, 34.56627679, 31.38978092,\n",
              "       38.32821064, 36.34109923, 45.04733308, 49.67297929, 40.2290036 ,\n",
              "       32.71115194, 45.25492703, 41.29447111, 40.85805216, 37.60374372,\n",
              "       40.3336547 , 27.95813181, 48.78202909, 44.86978575, 39.99597462,\n",
              "       41.99329238, 42.43584721, 33.66328939, 36.34917447, 38.06757692,\n",
              "       45.74644611, 38.9595281 , 40.90217985, 39.19058938, 38.41518817,\n",
              "       47.00916325, 35.35815108, 43.29260256, 47.12981008, 28.97351309,\n",
              "       39.59686169, 30.45930966, 39.10371109, 31.73735517, 43.76430776,\n",
              "       45.98626569, 46.00658165, 38.69328753, 42.37478744, 32.19398223,\n",
              "       46.94105871, 50.77076486, 36.24155867, 27.64669989, 35.72813094,\n",
              "       35.91718114, 46.05262591, 38.45987849, 31.77033662, 43.35784869,\n",
              "       42.74775323, 38.36666747, 37.04590807, 46.91908164, 34.40942675,\n",
              "       35.20715478, 32.82609084, 45.15784507, 49.17489545, 41.87255142,\n",
              "       33.47853138, 28.93920218, 41.3089926 , 45.18733415, 36.35229194,\n",
              "       43.02189918, 35.44798554, 38.54475839, 44.37792344, 32.06275798,\n",
              "       41.55216666, 42.06801597, 33.92275671, 35.24233117, 32.25472702,\n",
              "       36.75005717, 41.41434382, 47.27800618, 40.19221347, 42.53096094,\n",
              "       45.96518606, 38.95364084, 37.75341364, 34.7423692 , 40.18361924,\n",
              "       42.93187255, 45.92367338, 37.03291965, 35.85127191, 38.25663777,\n",
              "       41.94474099, 35.31540252, 45.30832945, 46.12454864, 45.46543156,\n",
              "       39.90582781, 46.94088844, 28.94439839, 42.66962446, 37.61921325,\n",
              "       41.33610652, 47.01673706, 32.77030274, 36.69815232, 38.8750995 ,\n",
              "       35.20982665, 43.20801141, 42.68368893, 42.69254789, 39.65895185,\n",
              "       35.01290336, 41.29230912, 37.73644276, 47.79442007, 37.91615027,\n",
              "       43.39368574, 37.55018365, 47.7822383 , 37.29856219, 44.35355254,\n",
              "       44.03395818, 36.03181529, 42.22293476, 36.00687956, 43.82481473,\n",
              "       36.45258647, 37.09725613, 40.53155343, 41.47673505, 41.75679667,\n",
              "       51.21163494, 38.98739594, 30.32539359, 37.69585175, 40.91218   ,\n",
              "       29.09626487, 38.73935887, 33.58312293, 34.82517095, 37.9269703 ,\n",
              "       32.55100545, 38.06097445, 45.76234497, 37.83469464, 33.11236224,\n",
              "       38.92251515, 49.61916168, 38.34029717, 35.40246853, 34.44025082,\n",
              "       44.00041329, 41.12509906, 49.89649255, 38.1766813 , 40.7624165 ,\n",
              "       46.29525272, 45.78140477, 34.70651248, 48.01415067, 31.41183813,\n",
              "       40.06625583, 43.59388471, 42.50926841, 34.19377484, 45.25713632,\n",
              "       36.05455009, 39.04506703, 44.17442576, 41.33814906, 38.34073686,\n",
              "       38.05231642, 43.3038614 , 33.00312   , 34.86627647, 38.47730867,\n",
              "       37.37238079, 33.23555742, 37.55054914, 33.70869599, 34.44106914,\n",
              "       42.34215454, 44.69158625, 40.95931824, 36.06978901, 45.19654874,\n",
              "       37.97502202, 33.68740478, 37.64602666, 44.00594393, 39.27604444,\n",
              "       47.9628478 , 46.35299404, 49.16436945, 34.83218242, 35.53265306,\n",
              "       47.53069013, 39.785312  , 42.88738341, 35.05887742, 35.57893097,\n",
              "       31.52682347, 41.84814766, 38.51342496, 35.59967446, 41.87063747,\n",
              "       42.82627442, 35.68321847, 36.21228626, 39.44354883, 43.08524672,\n",
              "       44.89186772, 40.58432373, 35.5962982 , 37.37987937, 36.48144875,\n",
              "       46.98243948, 37.96385988, 33.74077374, 35.18864816, 40.54962695,\n",
              "       42.41051566, 46.97913186, 41.38003797, 33.96978832, 32.30744692,\n",
              "       44.71189069, 49.39521673, 30.20833916, 40.08961686, 37.73750574,\n",
              "       42.47718928, 34.64470268, 45.49868623, 42.71898046, 36.80295899,\n",
              "       41.08093374, 40.94803319, 46.79638539, 39.81271716, 46.29182167,\n",
              "       46.18839065, 42.85129659, 41.12937436, 40.74453666, 40.21809216,\n",
              "       44.85740723, 35.04228268, 41.15259438, 33.60214939, 33.16730458,\n",
              "       43.17454207, 37.5315206 , 40.30150998, 40.61305828, 41.74936632,\n",
              "       45.75652991, 43.34018063, 41.61727287, 32.71577419, 39.41348632,\n",
              "       42.07158099, 39.41085624, 33.9484339 , 45.53652218, 37.56578681,\n",
              "       34.14181369, 38.24915585, 42.67763259, 42.57724467, 36.88296222,\n",
              "       31.93964842, 34.69914094, 40.69498032, 44.35113858, 44.10631189,\n",
              "       37.70667287, 47.59831819, 49.6917988 , 35.65056364, 38.81909747,\n",
              "       47.33871356, 37.94843642, 40.17531335, 37.99105434, 41.58366129,\n",
              "       46.68581996, 30.05213743, 45.77940306, 38.93608945, 45.25868934,\n",
              "       35.66344369, 38.51557953, 45.21309367, 37.32496517, 43.05041485,\n",
              "       35.25845644, 55.14475816, 36.76772828, 30.68030238, 37.6906014 ,\n",
              "       32.73555158, 44.30802281, 40.2642673 , 39.19272703, 36.93779316,\n",
              "       35.971339  , 31.53230706, 42.55705551, 44.37474528, 31.02493496,\n",
              "       40.0777844 , 39.84058813, 45.80930081, 37.25997993, 39.52696663,\n",
              "       40.82042756, 36.89253949, 38.01525114, 36.24702476, 44.88151179,\n",
              "       41.3682465 , 40.57925307, 38.72049219, 46.20299374, 39.35028761,\n",
              "       33.58092213, 36.64115107, 36.80427771, 38.37771435, 47.11258057,\n",
              "       45.23346619, 38.13315085, 38.64825239, 40.94260518, 41.00492954,\n",
              "       34.41217516, 30.94507284, 40.91412734, 38.70412874, 39.97954977,\n",
              "       47.67024617, 37.5397133 , 36.2588147 , 40.89017434, 38.12707374,\n",
              "       38.82955154, 42.80307908, 39.39532051, 44.82323294, 46.39383634,\n",
              "       33.96479163, 39.0989663 , 36.74082045, 39.22044789, 36.87845412,\n",
              "       46.12928902, 29.69751686, 42.65147063, 41.07838493, 31.40396903,\n",
              "       43.83804333, 34.05556794, 44.36602267, 39.01212252, 34.05687416,\n",
              "       30.94772287, 40.10989497, 35.21315546, 41.83695339, 37.88289241,\n",
              "       36.19805699, 40.25379271, 40.74636349, 35.84669504, 30.52785701,\n",
              "       48.74404884, 29.41753202, 44.12960385, 40.18697956, 41.52352164,\n",
              "       41.14279612, 40.47789006, 40.80895315, 54.12792345, 41.65991798,\n",
              "       37.59627944, 45.51675819, 39.48112592, 38.13617048, 36.33079265,\n",
              "       43.95449561, 33.23694822, 28.57693369, 38.04411779, 32.64469602,\n",
              "       42.10621055, 42.38846722, 45.58094229, 36.79888183, 45.11074307,\n",
              "       46.70398471, 43.761807  , 36.74285694, 32.22392522, 38.12008512,\n",
              "       35.76367659, 35.07657249, 44.32280545, 35.43975127, 51.26029642,\n",
              "       44.33314905, 36.87351426, 38.59585564, 47.18300119, 36.63656212,\n",
              "       43.38458884, 39.54015815, 34.61624263, 44.93857827, 33.85457727,\n",
              "       32.55008653, 41.18901774, 42.2573758 , 41.36926791, 42.1545392 ,\n",
              "       35.76475089, 45.93144418, 44.13799054, 38.04803458, 39.9156817 ,\n",
              "       37.94887544, 33.09434415, 45.06372345, 38.44652645, 42.9737376 ,\n",
              "       23.07368649, 37.27379318, 33.58830932, 41.75861457, 42.13785066,\n",
              "       34.71918813, 37.97267573, 40.66811112, 32.63085393, 47.77288603,\n",
              "       36.13037888, 50.09023036, 37.8527361 , 50.44063951, 37.34147314,\n",
              "       36.55550331, 35.7237045 , 40.05064716, 40.3263274 , 42.74725012,\n",
              "       48.23623151, 38.3154824 , 41.36780045, 34.11911688, 34.38828092,\n",
              "       33.82340369, 32.97645944, 38.03407476, 46.42208542, 37.70571117,\n",
              "       30.05170968, 36.47250312, 36.47731306, 46.27791722, 39.74104712,\n",
              "       40.62103067, 37.38961553, 41.35024476, 32.94681428, 45.21941385,\n",
              "       37.58497496, 37.44440564, 34.60992916, 38.33814456, 34.47032411,\n",
              "       37.02685748, 37.85142522, 49.84600354, 30.15257635, 37.75995296,\n",
              "       41.48184715, 48.12220931, 41.96371723, 40.08156524, 39.89006178,\n",
              "       36.32632358, 30.32539105, 42.27803946, 42.7106902 , 43.91666538,\n",
              "       46.00683073, 40.37665115, 41.98196591, 37.23906167, 35.46110707,\n",
              "       45.65380626, 40.56121076, 42.04866319, 34.44443108, 43.0527984 ,\n",
              "       42.16665546, 36.77665226, 38.93913368, 43.40431246, 42.68734453,\n",
              "       37.63353677, 34.4405234 , 40.52251435, 44.70334864, 43.9735071 ])"
            ]
          },
          "execution_count": 40,
          "metadata": {},
          "output_type": "execute_result"
        }
      ],
      "source": [
        "sample"
      ]
    },
    {
      "cell_type": "markdown",
      "metadata": {},
      "source": [
        "## Let's plot a histogram to see the distribution"
      ]
    },
    {
      "cell_type": "code",
      "execution_count": 41,
      "metadata": {
        "colab": {
          "base_uri": "https://localhost:8080/",
          "height": 543
        },
        "id": "8emYcLrbCYBv",
        "outputId": "4b98c24e-23d2-4c8b-d0b8-584fb5f6ac5f"
      },
      "outputs": [
        {
          "data": {
            "text/plain": [
              "(array([ 1.,  0.,  0.,  1.,  2.,  3.,  2.,  2.,  3.,  8., 13., 13., 20.,\n",
              "        20., 30., 28., 23., 21., 24., 22., 16., 13., 14.,  7., 12.,  8.,\n",
              "        14., 19., 27., 27., 41., 47., 44., 76., 53., 53., 55., 47., 33.,\n",
              "        35., 38., 29., 24., 11., 10.,  5.,  3.,  0.,  0.,  3.]),\n",
              " array([ 3.22673384,  4.26509433,  5.30345481,  6.3418153 ,  7.38017579,\n",
              "         8.41853627,  9.45689676, 10.49525725, 11.53361773, 12.57197822,\n",
              "        13.61033871, 14.64869919, 15.68705968, 16.72542016, 17.76378065,\n",
              "        18.80214114, 19.84050162, 20.87886211, 21.9172226 , 22.95558308,\n",
              "        23.99394357, 25.03230405, 26.07066454, 27.10902503, 28.14738551,\n",
              "        29.185746  , 30.22410649, 31.26246697, 32.30082746, 33.33918794,\n",
              "        34.37754843, 35.41590892, 36.4542694 , 37.49262989, 38.53099038,\n",
              "        39.56935086, 40.60771135, 41.64607184, 42.68443232, 43.72279281,\n",
              "        44.76115329, 45.79951378, 46.83787427, 47.87623475, 48.91459524,\n",
              "        49.95295573, 50.99131621, 52.0296767 , 53.06803718, 54.10639767,\n",
              "        55.14475816]),\n",
              " <BarContainer object of 50 artists>)"
            ]
          },
          "execution_count": 41,
          "metadata": {},
          "output_type": "execute_result"
        },
        {
          "data": {
            "image/png": "[encoded data removed]",
            "text/plain": [
              "<Figure size 640x480 with 1 Axes>"
            ]
          },
          "metadata": {},
          "output_type": "display_data"
        }
      ],
      "source": [
        "plt.hist(sample,bins=50)"
      ]
    },
    {
      "cell_type": "markdown",
      "metadata": {},
      "source": [
        "## As we see these datapoints doesn't follow any regular distribution, so we'll use KDE to plot, we'll import Kernel Density from sikit learn, we'll keep the bandwith 3 and the kernel gaussian, we can change these values"
      ]
    },
    {
      "cell_type": "code",
      "execution_count": 42,
      "metadata": {
        "colab": {
          "base_uri": "https://localhost:8080/",
          "height": 74
        },
        "id": "fxPkOU_iqtRB",
        "outputId": "90f29a3d-4d38-4800-eaa3-12f41f86630b"
      },
      "outputs": [],
      "source": [
        "from sklearn.neighbors import KernelDensity\n",
        "model = KernelDensity(bandwidth=3, kernel='gaussian')"
      ]
    },
    {
      "cell_type": "markdown",
      "metadata": {},
      "source": [
        "## convert data to a 2D array because most of the machine learning models works on a 2D data\n",
        "## Then we'll fit the model, means it's gonna calculate all the y values and add them up to plot the graph"
      ]
    },
    {
      "cell_type": "code",
      "execution_count": 43,
      "metadata": {},
      "outputs": [
        {
          "data": {
            "text/html": [
              "<style>#sk-container-id-1 {\n",
              "  /* Definition of color scheme common for light and dark mode */\n",
              "  --sklearn-color-text: black;\n",
              "  --sklearn-color-line: gray;\n",
              "  /* Definition of color scheme for unfitted estimators */\n",
              "  --sklearn-color-unfitted-level-0: #fff5e6;\n",
              "  --sklearn-color-unfitted-level-1: #f6e4d2;\n",
              "  --sklearn-color-unfitted-level-2: #ffe0b3;\n",
              "  --sklearn-color-unfitted-level-3: chocolate;\n",
              "  /* Definition of color scheme for fitted estimators */\n",
              "  --sklearn-color-fitted-level-0: #f0f8ff;\n",
              "  --sklearn-color-fitted-level-1: #d4ebff;\n",
              "  --sklearn-color-fitted-level-2: #b3dbfd;\n",
              "  --sklearn-color-fitted-level-3: cornflowerblue;\n",
              "\n",
              "  /* Specific color for light theme */\n",
              "  --sklearn-color-text-on-default-background: var(--sg-text-color, var(--theme-code-foreground, var(--jp-content-font-color1, black)));\n",
              "  --sklearn-color-background: var(--sg-background-color, var(--theme-background, var(--jp-layout-color0, white)));\n",
              "  --sklearn-color-border-box: var(--sg-text-color, var(--theme-code-foreground, var(--jp-content-font-color1, black)));\n",
              "  --sklearn-color-icon: #696969;\n",
              "\n",
              "  @media (prefers-color-scheme: dark) {\n",
              "    /* Redefinition of color scheme for dark theme */\n",
              "    --sklearn-color-text-on-default-background: var(--sg-text-color, var(--theme-code-foreground, var(--jp-content-font-color1, white)));\n",
              "    --sklearn-color-background: var(--sg-background-color, var(--theme-background, var(--jp-layout-color0, #111)));\n",
              "    --sklearn-color-border-box: var(--sg-text-color, var(--theme-code-foreground, var(--jp-content-font-color1, white)));\n",
              "    --sklearn-color-icon: #878787;\n",
              "  }\n",
              "}\n",
              "\n",
              "#sk-container-id-1 {\n",
              "  color: var(--sklearn-color-text);\n",
              "}\n",
              "\n",
              "#sk-container-id-1 pre {\n",
              "  padding: 0;\n",
              "}\n",
              "\n",
              "#sk-container-id-1 input.sk-hidden--visually {\n",
              "  border: 0;\n",
              "  clip: rect(1px 1px 1px 1px);\n",
              "  clip: rect(1px, 1px, 1px, 1px);\n",
              "  height: 1px;\n",
              "  margin: -1px;\n",
              "  overflow: hidden;\n",
              "  padding: 0;\n",
              "  position: absolute;\n",
              "  width: 1px;\n",
              "}\n",
              "\n",
              "#sk-container-id-1 div.sk-dashed-wrapped {\n",
              "  border: 1px dashed var(--sklearn-color-line);\n",
              "  margin: 0 0.4em 0.5em 0.4em;\n",
              "  box-sizing: border-box;\n",
              "  padding-bottom: 0.4em;\n",
              "  background-color: var(--sklearn-color-background);\n",
              "}\n",
              "\n",
              "#sk-container-id-1 div.sk-container {\n",
              "  /* jupyter's `normalize.less` sets `[hidden] { display: none; }`\n",
              "     but bootstrap.min.css set `[hidden] { display: none !important; }`\n",
              "     so we also need the `!important` here to be able to override the\n",
              "     default hidden behavior on the sphinx rendered scikit-learn.org.\n",
              "     See: https://github.com/scikit-learn/scikit-learn/issues/21755 */\n",
              "  display: inline-block !important;\n",
              "  position: relative;\n",
              "}\n",
              "\n",
              "#sk-container-id-1 div.sk-text-repr-fallback {\n",
              "  display: none;\n",
              "}\n",
              "\n",
              "div.sk-parallel-item,\n",
              "div.sk-serial,\n",
              "div.sk-item {\n",
              "  /* draw centered vertical line to link estimators */\n",
              "  background-image: linear-gradient(var(--sklearn-color-text-on-default-background), var(--sklearn-color-text-on-default-background));\n",
              "  background-size: 2px 100%;\n",
              "  background-repeat: no-repeat;\n",
              "  background-position: center center;\n",
              "}\n",
              "\n",
              "/* Parallel-specific style estimator block */\n",
              "\n",
              "#sk-container-id-1 div.sk-parallel-item::after {\n",
              "  content: \"\";\n",
              "  width: 100%;\n",
              "  border-bottom: 2px solid var(--sklearn-color-text-on-default-background);\n",
              "  flex-grow: 1;\n",
              "}\n",
              "\n",
              "#sk-container-id-1 div.sk-parallel {\n",
              "  display: flex;\n",
              "  align-items: stretch;\n",
              "  justify-content: center;\n",
              "  background-color: var(--sklearn-color-background);\n",
              "  position: relative;\n",
              "}\n",
              "\n",
              "#sk-container-id-1 div.sk-parallel-item {\n",
              "  display: flex;\n",
              "  flex-direction: column;\n",
              "}\n",
              "\n",
              "#sk-container-id-1 div.sk-parallel-item:first-child::after {\n",
              "  align-self: flex-end;\n",
              "  width: 50%;\n",
              "}\n",
              "\n",
              "#sk-container-id-1 div.sk-parallel-item:last-child::after {\n",
              "  align-self: flex-start;\n",
              "  width: 50%;\n",
              "}\n",
              "\n",
              "#sk-container-id-1 div.sk-parallel-item:only-child::after {\n",
              "  width: 0;\n",
              "}\n",
              "\n",
              "/* Serial-specific style estimator block */\n",
              "\n",
              "#sk-container-id-1 div.sk-serial {\n",
              "  display: flex;\n",
              "  flex-direction: column;\n",
              "  align-items: center;\n",
              "  background-color: var(--sklearn-color-background);\n",
              "  padding-right: 1em;\n",
              "  padding-left: 1em;\n",
              "}\n",
              "\n",
              "\n",
              "/* Toggleable style: style used for estimator/Pipeline/ColumnTransformer box that is\n",
              "clickable and can be expanded/collapsed.\n",
              "- Pipeline and ColumnTransformer use this feature and define the default style\n",
              "- Estimators will overwrite some part of the style using the `sk-estimator` class\n",
              "*/\n",
              "\n",
              "/* Pipeline and ColumnTransformer style (default) */\n",
              "\n",
              "#sk-container-id-1 div.sk-toggleable {\n",
              "  /* Default theme specific background. It is overwritten whether we have a\n",
              "  specific estimator or a Pipeline/ColumnTransformer */\n",
              "  background-color: var(--sklearn-color-background);\n",
              "}\n",
              "\n",
              "/* Toggleable label */\n",
              "#sk-container-id-1 label.sk-toggleable__label {\n",
              "  cursor: pointer;\n",
              "  display: block;\n",
              "  width: 100%;\n",
              "  margin-bottom: 0;\n",
              "  padding: 0.5em;\n",
              "  box-sizing: border-box;\n",
              "  text-align: center;\n",
              "}\n",
              "\n",
              "#sk-container-id-1 label.sk-toggleable__label-arrow:before {\n",
              "  /* Arrow on the left of the label */\n",
              "  content: \"▸\";\n",
              "  float: left;\n",
              "  margin-right: 0.25em;\n",
              "  color: var(--sklearn-color-icon);\n",
              "}\n",
              "\n",
              "#sk-container-id-1 label.sk-toggleable__label-arrow:hover:before {\n",
              "  color: var(--sklearn-color-text);\n",
              "}\n",
              "\n",
              "/* Toggleable content - dropdown */\n",
              "\n",
              "#sk-container-id-1 div.sk-toggleable__content {\n",
              "  max-height: 0;\n",
              "  max-width: 0;\n",
              "  overflow: hidden;\n",
              "  text-align: left;\n",
              "  /* unfitted */\n",
              "  background-color: var(--sklearn-color-unfitted-level-0);\n",
              "}\n",
              "\n",
              "#sk-container-id-1 div.sk-toggleable__content.fitted {\n",
              "  /* fitted */\n",
              "  background-color: var(--sklearn-color-fitted-level-0);\n",
              "}\n",
              "\n",
              "#sk-container-id-1 div.sk-toggleable__content pre {\n",
              "  margin: 0.2em;\n",
              "  border-radius: 0.25em;\n",
              "  color: var(--sklearn-color-text);\n",
              "  /* unfitted */\n",
              "  background-color: var(--sklearn-color-unfitted-level-0);\n",
              "}\n",
              "\n",
              "#sk-container-id-1 div.sk-toggleable__content.fitted pre {\n",
              "  /* unfitted */\n",
              "  background-color: var(--sklearn-color-fitted-level-0);\n",
              "}\n",
              "\n",
              "#sk-container-id-1 input.sk-toggleable__control:checked~div.sk-toggleable__content {\n",
              "  /* Expand drop-down */\n",
              "  max-height: 200px;\n",
              "  max-width: 100%;\n",
              "  overflow: auto;\n",
              "}\n",
              "\n",
              "#sk-container-id-1 input.sk-toggleable__control:checked~label.sk-toggleable__label-arrow:before {\n",
              "  content: \"▾\";\n",
              "}\n",
              "\n",
              "/* Pipeline/ColumnTransformer-specific style */\n",
              "\n",
              "#sk-container-id-1 div.sk-label input.sk-toggleable__control:checked~label.sk-toggleable__label {\n",
              "  color: var(--sklearn-color-text);\n",
              "  background-color: var(--sklearn-color-unfitted-level-2);\n",
              "}\n",
              "\n",
              "#sk-container-id-1 div.sk-label.fitted input.sk-toggleable__control:checked~label.sk-toggleable__label {\n",
              "  background-color: var(--sklearn-color-fitted-level-2);\n",
              "}\n",
              "\n",
              "/* Estimator-specific style */\n",
              "\n",
              "/* Colorize estimator box */\n",
              "#sk-container-id-1 div.sk-estimator input.sk-toggleable__control:checked~label.sk-toggleable__label {\n",
              "  /* unfitted */\n",
              "  background-color: var(--sklearn-color-unfitted-level-2);\n",
              "}\n",
              "\n",
              "#sk-container-id-1 div.sk-estimator.fitted input.sk-toggleable__control:checked~label.sk-toggleable__label {\n",
              "  /* fitted */\n",
              "  background-color: var(--sklearn-color-fitted-level-2);\n",
              "}\n",
              "\n",
              "#sk-container-id-1 div.sk-label label.sk-toggleable__label,\n",
              "#sk-container-id-1 div.sk-label label {\n",
              "  /* The background is the default theme color */\n",
              "  color: var(--sklearn-color-text-on-default-background);\n",
              "}\n",
              "\n",
              "/* On hover, darken the color of the background */\n",
              "#sk-container-id-1 div.sk-label:hover label.sk-toggleable__label {\n",
              "  color: var(--sklearn-color-text);\n",
              "  background-color: var(--sklearn-color-unfitted-level-2);\n",
              "}\n",
              "\n",
              "/* Label box, darken color on hover, fitted */\n",
              "#sk-container-id-1 div.sk-label.fitted:hover label.sk-toggleable__label.fitted {\n",
              "  color: var(--sklearn-color-text);\n",
              "  background-color: var(--sklearn-color-fitted-level-2);\n",
              "}\n",
              "\n",
              "/* Estimator label */\n",
              "\n",
              "#sk-container-id-1 div.sk-label label {\n",
              "  font-family: monospace;\n",
              "  font-weight: bold;\n",
              "  display: inline-block;\n",
              "  line-height: 1.2em;\n",
              "}\n",
              "\n",
              "#sk-container-id-1 div.sk-label-container {\n",
              "  text-align: center;\n",
              "}\n",
              "\n",
              "/* Estimator-specific */\n",
              "#sk-container-id-1 div.sk-estimator {\n",
              "  font-family: monospace;\n",
              "  border: 1px dotted var(--sklearn-color-border-box);\n",
              "  border-radius: 0.25em;\n",
              "  box-sizing: border-box;\n",
              "  margin-bottom: 0.5em;\n",
              "  /* unfitted */\n",
              "  background-color: var(--sklearn-color-unfitted-level-0);\n",
              "}\n",
              "\n",
              "#sk-container-id-1 div.sk-estimator.fitted {\n",
              "  /* fitted */\n",
              "  background-color: var(--sklearn-color-fitted-level-0);\n",
              "}\n",
              "\n",
              "/* on hover */\n",
              "#sk-container-id-1 div.sk-estimator:hover {\n",
              "  /* unfitted */\n",
              "  background-color: var(--sklearn-color-unfitted-level-2);\n",
              "}\n",
              "\n",
              "#sk-container-id-1 div.sk-estimator.fitted:hover {\n",
              "  /* fitted */\n",
              "  background-color: var(--sklearn-color-fitted-level-2);\n",
              "}\n",
              "\n",
              "/* Specification for estimator info (e.g. \"i\" and \"?\") */\n",
              "\n",
              "/* Common style for \"i\" and \"?\" */\n",
              "\n",
              ".sk-estimator-doc-link,\n",
              "a:link.sk-estimator-doc-link,\n",
              "a:visited.sk-estimator-doc-link {\n",
              "  float: right;\n",
              "  font-size: smaller;\n",
              "  line-height: 1em;\n",
              "  font-family: monospace;\n",
              "  background-color: var(--sklearn-color-background);\n",
              "  border-radius: 1em;\n",
              "  height: 1em;\n",
              "  width: 1em;\n",
              "  text-decoration: none !important;\n",
              "  margin-left: 1ex;\n",
              "  /* unfitted */\n",
              "  border: var(--sklearn-color-unfitted-level-1) 1pt solid;\n",
              "  color: var(--sklearn-color-unfitted-level-1);\n",
              "}\n",
              "\n",
              ".sk-estimator-doc-link.fitted,\n",
              "a:link.sk-estimator-doc-link.fitted,\n",
              "a:visited.sk-estimator-doc-link.fitted {\n",
              "  /* fitted */\n",
              "  border: var(--sklearn-color-fitted-level-1) 1pt solid;\n",
              "  color: var(--sklearn-color-fitted-level-1);\n",
              "}\n",
              "\n",
              "/* On hover */\n",
              "div.sk-estimator:hover .sk-estimator-doc-link:hover,\n",
              ".sk-estimator-doc-link:hover,\n",
              "div.sk-label-container:hover .sk-estimator-doc-link:hover,\n",
              ".sk-estimator-doc-link:hover {\n",
              "  /* unfitted */\n",
              "  background-color: var(--sklearn-color-unfitted-level-3);\n",
              "  color: var(--sklearn-color-background);\n",
              "  text-decoration: none;\n",
              "}\n",
              "\n",
              "div.sk-estimator.fitted:hover .sk-estimator-doc-link.fitted:hover,\n",
              ".sk-estimator-doc-link.fitted:hover,\n",
              "div.sk-label-container:hover .sk-estimator-doc-link.fitted:hover,\n",
              ".sk-estimator-doc-link.fitted:hover {\n",
              "  /* fitted */\n",
              "  background-color: var(--sklearn-color-fitted-level-3);\n",
              "  color: var(--sklearn-color-background);\n",
              "  text-decoration: none;\n",
              "}\n",
              "\n",
              "/* Span, style for the box shown on hovering the info icon */\n",
              ".sk-estimator-doc-link span {\n",
              "  display: none;\n",
              "  z-index: 9999;\n",
              "  position: relative;\n",
              "  font-weight: normal;\n",
              "  right: .2ex;\n",
              "  padding: .5ex;\n",
              "  margin: .5ex;\n",
              "  width: min-content;\n",
              "  min-width: 20ex;\n",
              "  max-width: 50ex;\n",
              "  color: var(--sklearn-color-text);\n",
              "  box-shadow: 2pt 2pt 4pt #999;\n",
              "  /* unfitted */\n",
              "  background: var(--sklearn-color-unfitted-level-0);\n",
              "  border: .5pt solid var(--sklearn-color-unfitted-level-3);\n",
              "}\n",
              "\n",
              ".sk-estimator-doc-link.fitted span {\n",
              "  /* fitted */\n",
              "  background: var(--sklearn-color-fitted-level-0);\n",
              "  border: var(--sklearn-color-fitted-level-3);\n",
              "}\n",
              "\n",
              ".sk-estimator-doc-link:hover span {\n",
              "  display: block;\n",
              "}\n",
              "\n",
              "/* \"?\"-specific style due to the `<a>` HTML tag */\n",
              "\n",
              "#sk-container-id-1 a.estimator_doc_link {\n",
              "  float: right;\n",
              "  font-size: 1rem;\n",
              "  line-height: 1em;\n",
              "  font-family: monospace;\n",
              "  background-color: var(--sklearn-color-background);\n",
              "  border-radius: 1rem;\n",
              "  height: 1rem;\n",
              "  width: 1rem;\n",
              "  text-decoration: none;\n",
              "  /* unfitted */\n",
              "  color: var(--sklearn-color-unfitted-level-1);\n",
              "  border: var(--sklearn-color-unfitted-level-1) 1pt solid;\n",
              "}\n",
              "\n",
              "#sk-container-id-1 a.estimator_doc_link.fitted {\n",
              "  /* fitted */\n",
              "  border: var(--sklearn-color-fitted-level-1) 1pt solid;\n",
              "  color: var(--sklearn-color-fitted-level-1);\n",
              "}\n",
              "\n",
              "/* On hover */\n",
              "#sk-container-id-1 a.estimator_doc_link:hover {\n",
              "  /* unfitted */\n",
              "  background-color: var(--sklearn-color-unfitted-level-3);\n",
              "  color: var(--sklearn-color-background);\n",
              "  text-decoration: none;\n",
              "}\n",
              "\n",
              "#sk-container-id-1 a.estimator_doc_link.fitted:hover {\n",
              "  /* fitted */\n",
              "  background-color: var(--sklearn-color-fitted-level-3);\n",
              "}\n",
              "</style><div id=\"sk-container-id-1\" class=\"sk-top-container\"><div class=\"sk-text-repr-fallback\"><pre>KernelDensity(bandwidth=3)</pre><b>In a Jupyter environment, please rerun this cell to show the HTML representation or trust the notebook. <br />On GitHub, the HTML representation is unable to render, please try loading this page with nbviewer.org.</b></div><div class=\"sk-container\" hidden><div class=\"sk-item\"><div class=\"sk-estimator fitted sk-toggleable\"><input class=\"sk-toggleable__control sk-hidden--visually\" id=\"sk-estimator-id-1\" type=\"checkbox\" checked><label for=\"sk-estimator-id-1\" class=\"sk-toggleable__label fitted sk-toggleable__label-arrow fitted\">&nbsp;&nbsp;KernelDensity<a class=\"sk-estimator-doc-link fitted\" rel=\"noreferrer\" target=\"_blank\" href=\"https://scikit-learn.org/1.4/modules/generated/sklearn.neighbors.KernelDensity.html\">?<span>Documentation for KernelDensity</span></a><span class=\"sk-estimator-doc-link fitted\">i<span>Fitted</span></span></label><div class=\"sk-toggleable__content fitted\"><pre>KernelDensity(bandwidth=3)</pre></div> </div></div></div></div>"
            ],
            "text/plain": [
              "KernelDensity(bandwidth=3)"
            ]
          },
          "execution_count": 43,
          "metadata": {},
          "output_type": "execute_result"
        }
      ],
      "source": [
        "sample = sample.reshape((len(sample), 1))\n",
        "model.fit(sample)"
      ]
    },
    {
      "cell_type": "markdown",
      "metadata": {},
      "source": [
        "## Now we are generating 100 points between min and max values and convert them in 2D"
      ]
    },
    {
      "cell_type": "code",
      "execution_count": 44,
      "metadata": {
        "id": "ACjbeWVnq90c"
      },
      "outputs": [],
      "source": [
        "values = np.linspace(sample.min(),sample.max(),100)\n",
        "values = values.reshape((len(values), 1))"
      ]
    },
    {
      "cell_type": "markdown",
      "metadata": {},
      "source": [
        "## We'er calculating the y values or probabiliti densities\n",
        "## `score_samples(values)` returns the log-density estimate of the input samples values. This is because the `score_samples()` method of the KernelDensity class returns the logarithm of the probability density estimate rather than the actual probability density estimate. Because exponent cancel out the log values"
      ]
    },
    {
      "cell_type": "code",
      "execution_count": 45,
      "metadata": {
        "id": "SdGSnDL-C60o"
      },
      "outputs": [],
      "source": [
        "probability_densities = model.score_samples(values)\n",
        "probability_densities = np.exp(probability_densities)"
      ]
    },
    {
      "cell_type": "markdown",
      "metadata": {},
      "source": [
        "## Finally ploting them"
      ]
    },
    {
      "cell_type": "code",
      "execution_count": 46,
      "metadata": {
        "colab": {
          "base_uri": "https://localhost:8080/",
          "height": 265
        },
        "id": "6Mx-98t9rDIZ",
        "outputId": "b8e82588-784f-4aa0-ab89-3f50b9c650f5"
      },
      "outputs": [
        {
          "data": {
            "image/png": "[encoded data removed]",
            "text/plain": [
              "<Figure size 640x480 with 1 Axes>"
            ]
          },
          "metadata": {},
          "output_type": "display_data"
        }
      ],
      "source": [
        "plt.hist(sample, bins=50, density=True)\n",
        "plt.plot(values[:], probability_densities)\n",
        "plt.show()"
      ]
    },
    {
      "cell_type": "markdown",
      "metadata": {},
      "source": [
        "## Now if we change the bandwith values the plot will be changed\n",
        "## Short bandwidth create steep curves"
      ]
    },
    {
      "cell_type": "code",
      "execution_count": 47,
      "metadata": {},
      "outputs": [
        {
          "data": {
            "image/png": "[encoded data removed]",
            "text/plain": [
              "<Figure size 640x480 with 1 Axes>"
            ]
          },
          "metadata": {},
          "output_type": "display_data"
        }
      ],
      "source": [
        "from sklearn.neighbors import KernelDensity\n",
        "model = KernelDensity(bandwidth=.5, kernel='gaussian')\n",
        "sample = sample.reshape((len(sample), 1))\n",
        "model.fit(sample)\n",
        "values = np.linspace(sample.min(),sample.max(),100)\n",
        "values = values.reshape((len(values), 1))\n",
        "probability_densities = model.score_samples(values)\n",
        "probability_densities = np.exp(probability_densities)\n",
        "plt.hist(sample, bins=50, density=True)\n",
        "plt.plot(values[:], probability_densities)\n",
        "plt.show()"
      ]
    },
    {
      "cell_type": "markdown",
      "metadata": {},
      "source": [
        "## Now if we change the bandwith values the plot will be changed\n",
        "## large bandwidth create wide curves"
      ]
    },
    {
      "cell_type": "code",
      "execution_count": 48,
      "metadata": {},
      "outputs": [
        {
          "data": {
            "image/png": "[encoded data removed]",
            "text/plain": [
              "<Figure size 640x480 with 1 Axes>"
            ]
          },
          "metadata": {},
          "output_type": "display_data"
        }
      ],
      "source": [
        "from sklearn.neighbors import KernelDensity\n",
        "model = KernelDensity(bandwidth=6, kernel='gaussian')\n",
        "sample = sample.reshape((len(sample), 1))\n",
        "model.fit(sample)\n",
        "values = np.linspace(sample.min(),sample.max(),100)\n",
        "values = values.reshape((len(values), 1))\n",
        "probability_densities = model.score_samples(values)\n",
        "probability_densities = np.exp(probability_densities)\n",
        "plt.hist(sample, bins=50, density=True)\n",
        "plt.plot(values[:], probability_densities)\n",
        "plt.show()"
      ]
    },
    {
      "cell_type": "markdown",
      "metadata": {},
      "source": [
        "## Same thing we can do in seasorn\n",
        "## But we'll change the data in 1D because it takes 1D input"
      ]
    },
    {
      "cell_type": "code",
      "execution_count": 49,
      "metadata": {
        "colab": {
          "base_uri": "https://localhost:8080/",
          "height": 282
        },
        "id": "DZ9gslUGOdZ0",
        "outputId": "f62b1d35-e11f-41a1-ebe8-67d943e59f4f"
      },
      "outputs": [
        {
          "data": {
            "text/plain": [
              "<Axes: ylabel='Density'>"
            ]
          },
          "execution_count": 49,
          "metadata": {},
          "output_type": "execute_result"
        },
        {
          "data": {
            "image/png": "[encoded data removed]",
            "text/plain": [
              "<Figure size 640x480 with 1 Axes>"
            ]
          },
          "metadata": {},
          "output_type": "display_data"
        }
      ],
      "source": [
        "sns.kdeplot(sample.reshape(1000),bw_adjust=1)"
      ]
    },
    {
      "cell_type": "markdown",
      "metadata": {},
      "source": [
        "## Also we can change the bandwidth here as well"
      ]
    },
    {
      "cell_type": "code",
      "execution_count": 50,
      "metadata": {},
      "outputs": [
        {
          "data": {
            "text/plain": [
              "<Axes: ylabel='Density'>"
            ]
          },
          "execution_count": 50,
          "metadata": {},
          "output_type": "execute_result"
        },
        {
          "data": {
            "image/png": "[encoded data removed]",
            "text/plain": [
              "<Figure size 640x480 with 1 Axes>"
            ]
          },
          "metadata": {},
          "output_type": "display_data"
        }
      ],
      "source": [
        "sns.kdeplot(sample.reshape(1000),bw_adjust=0.25)"
      ]
    },
    {
      "cell_type": "markdown",
      "metadata": {},
      "source": [
        "# PDF Application\n",
        "## Now we'll see some examples where we can use pdf to data analysis, data visualization and feature selection"
      ]
    },
    {
      "cell_type": "code",
      "execution_count": 51,
      "metadata": {
        "id": "48l9TEV3rP5h"
      },
      "outputs": [],
      "source": [
        "import seaborn as sns"
      ]
    },
    {
      "cell_type": "code",
      "execution_count": 52,
      "metadata": {
        "id": "pvVbpaheO4yW"
      },
      "outputs": [],
      "source": [
        "df = sns.load_dataset('iris')"
      ]
    },
    {
      "cell_type": "code",
      "execution_count": 53,
      "metadata": {
        "colab": {
          "base_uri": "https://localhost:8080/",
          "height": 206
        },
        "id": "GjfTUowqPBAQ",
        "outputId": "fd7d61fc-0bd7-4581-ec40-d03569a19740"
      },
      "outputs": [
        {
          "data": {
            "text/html": [
              "<div>\n",
              "<style scoped>\n",
              "    .dataframe tbody tr th:only-of-type {\n",
              "        vertical-align: middle;\n",
              "    }\n",
              "\n",
              "    .dataframe tbody tr th {\n",
              "        vertical-align: top;\n",
              "    }\n",
              "\n",
              "    .dataframe thead th {\n",
              "        text-align: right;\n",
              "    }\n",
              "</style>\n",
              "<table border=\"1\" class=\"dataframe\">\n",
              "  <thead>\n",
              "    <tr style=\"text-align: right;\">\n",
              "      <th></th>\n",
              "      <th>sepal_length</th>\n",
              "      <th>sepal_width</th>\n",
              "      <th>petal_length</th>\n",
              "      <th>petal_width</th>\n",
              "      <th>species</th>\n",
              "    </tr>\n",
              "  </thead>\n",
              "  <tbody>\n",
              "    <tr>\n",
              "      <th>0</th>\n",
              "      <td>5.1</td>\n",
              "      <td>3.5</td>\n",
              "      <td>1.4</td>\n",
              "      <td>0.2</td>\n",
              "      <td>setosa</td>\n",
              "    </tr>\n",
              "    <tr>\n",
              "      <th>1</th>\n",
              "      <td>4.9</td>\n",
              "      <td>3.0</td>\n",
              "      <td>1.4</td>\n",
              "      <td>0.2</td>\n",
              "      <td>setosa</td>\n",
              "    </tr>\n",
              "    <tr>\n",
              "      <th>2</th>\n",
              "      <td>4.7</td>\n",
              "      <td>3.2</td>\n",
              "      <td>1.3</td>\n",
              "      <td>0.2</td>\n",
              "      <td>setosa</td>\n",
              "    </tr>\n",
              "    <tr>\n",
              "      <th>3</th>\n",
              "      <td>4.6</td>\n",
              "      <td>3.1</td>\n",
              "      <td>1.5</td>\n",
              "      <td>0.2</td>\n",
              "      <td>setosa</td>\n",
              "    </tr>\n",
              "    <tr>\n",
              "      <th>4</th>\n",
              "      <td>5.0</td>\n",
              "      <td>3.6</td>\n",
              "      <td>1.4</td>\n",
              "      <td>0.2</td>\n",
              "      <td>setosa</td>\n",
              "    </tr>\n",
              "  </tbody>\n",
              "</table>\n",
              "</div>"
            ],
            "text/plain": [
              "   sepal_length  sepal_width  petal_length  petal_width species\n",
              "0           5.1          3.5           1.4          0.2  setosa\n",
              "1           4.9          3.0           1.4          0.2  setosa\n",
              "2           4.7          3.2           1.3          0.2  setosa\n",
              "3           4.6          3.1           1.5          0.2  setosa\n",
              "4           5.0          3.6           1.4          0.2  setosa"
            ]
          },
          "execution_count": 53,
          "metadata": {},
          "output_type": "execute_result"
        }
      ],
      "source": [
        "df.head()"
      ]
    },
    {
      "cell_type": "markdown",
      "metadata": {},
      "source": [
        "## Now we'll only select the features that help us to differentiate between different types of flowers\n",
        "\n",
        "## For example if we wanna see the PDA for sepal_length"
      ]
    },
    {
      "cell_type": "code",
      "execution_count": 54,
      "metadata": {
        "colab": {
          "base_uri": "https://localhost:8080/",
          "height": 297
        },
        "id": "GWXYuEaXO6xA",
        "outputId": "caf9948b-ca46-457d-e8f7-a8f4d544e3b3"
      },
      "outputs": [
        {
          "data": {
            "text/plain": [
              "<Axes: xlabel='sepal_length', ylabel='Density'>"
            ]
          },
          "execution_count": 54,
          "metadata": {},
          "output_type": "execute_result"
        },
        {
          "data": {
            "image/png": "[encoded data removed]",
            "text/plain": [
              "<Figure size 640x480 with 1 Axes>"
            ]
          },
          "metadata": {},
          "output_type": "display_data"
        }
      ],
      "source": [
        "sns.kdeplot(df['sepal_length'])"
      ]
    },
    {
      "cell_type": "markdown",
      "metadata": {},
      "source": [
        "## If we wanna plot PDF for sepal_length for all the flower species"
      ]
    },
    {
      "cell_type": "code",
      "execution_count": 56,
      "metadata": {
        "colab": {
          "base_uri": "https://localhost:8080/",
          "height": 297
        },
        "id": "HfD6ynwBSMh8",
        "outputId": "99c3c3e1-95a1-4b26-9874-e2967de686d8"
      },
      "outputs": [
        {
          "data": {
            "text/plain": [
              "<Axes: xlabel='sepal_length', ylabel='Density'>"
            ]
          },
          "execution_count": 56,
          "metadata": {},
          "output_type": "execute_result"
        },
        {
          "data": {
            "image/png": "[encoded data removed]",
            "text/plain": [
              "<Figure size 640x480 with 1 Axes>"
            ]
          },
          "metadata": {},
          "output_type": "display_data"
        }
      ],
      "source": [
        "sns.kdeplot(data=df,x='sepal_length',hue='species')"
      ]
    },
    {
      "cell_type": "markdown",
      "metadata": {},
      "source": [
        "## Let's plot the PDF for all the features available for all the species"
      ]
    },
    {
      "cell_type": "code",
      "execution_count": 57,
      "metadata": {
        "colab": {
          "base_uri": "https://localhost:8080/",
          "height": 297
        },
        "id": "L017GVtXSMvj",
        "outputId": "89e77eee-27d9-4267-90a5-1bfb8cc98dde"
      },
      "outputs": [
        {
          "data": {
            "text/plain": [
              "<Axes: xlabel='sepal_width', ylabel='Density'>"
            ]
          },
          "execution_count": 57,
          "metadata": {},
          "output_type": "execute_result"
        },
        {
          "data": {
            "image/png": "[encoded data removed]",
            "text/plain": [
              "<Figure size 640x480 with 1 Axes>"
            ]
          },
          "metadata": {},
          "output_type": "display_data"
        }
      ],
      "source": [
        "sns.kdeplot(data=df,x='sepal_width',hue='species')"
      ]
    },
    {
      "cell_type": "code",
      "execution_count": 58,
      "metadata": {},
      "outputs": [
        {
          "data": {
            "text/plain": [
              "<Axes: xlabel='petal_length', ylabel='Density'>"
            ]
          },
          "execution_count": 58,
          "metadata": {},
          "output_type": "execute_result"
        },
        {
          "data": {
            "image/png": "[encoded data removed]",
            "text/plain": [
              "<Figure size 640x480 with 1 Axes>"
            ]
          },
          "metadata": {},
          "output_type": "display_data"
        }
      ],
      "source": [
        "sns.kdeplot(data=df,x='petal_length',hue='species')"
      ]
    },
    {
      "cell_type": "code",
      "execution_count": 59,
      "metadata": {
        "colab": {
          "base_uri": "https://localhost:8080/",
          "height": 297
        },
        "id": "QrkO_gNGSM6v",
        "outputId": "d76ccd7f-3190-4d44-98a8-2f22bd972335"
      },
      "outputs": [
        {
          "data": {
            "text/plain": [
              "<Axes: xlabel='petal_width', ylabel='Density'>"
            ]
          },
          "execution_count": 59,
          "metadata": {},
          "output_type": "execute_result"
        },
        {
          "data": {
            "image/png": "[encoded data removed]",
            "text/plain": [
              "<Figure size 640x480 with 1 Axes>"
            ]
          },
          "metadata": {},
          "output_type": "display_data"
        }
      ],
      "source": [
        "sns.kdeplot(data=df,x='petal_width',hue='species')"
      ]
    },
    {
      "cell_type": "code",
      "execution_count": null,
      "metadata": {
        "id": "lZSdzNveSNGV"
      },
      "outputs": [],
      "source": []
    },
    {
      "cell_type": "code",
      "execution_count": null,
      "metadata": {
        "colab": {
          "base_uri": "https://localhost:8080/",
          "height": 297
        },
        "id": "gO8eZwpPPEe9",
        "outputId": "e37821ca-5a29-4355-e319-e9812efe2d30"
      },
      "outputs": [
        {
          "data": {
            "text/plain": [
              "<AxesSubplot:xlabel='petal_width', ylabel='Density'>"
            ]
          },
          "execution_count": 61,
          "metadata": {},
          "output_type": "execute_result"
        },
        {
          "data": {
            "image/png": "[encoded data removed]",
            "text/plain": [
              "<Figure size 432x288 with 1 Axes>"
            ]
          },
          "metadata": {
            "needs_background": "light"
          },
          "output_type": "display_data"
        }
      ],
      "source": [
        "sns.kdeplot(df['petal_width'],hue=df['species'])\n",
        "sns.ecdfplot(data=df,x='petal_width',hue='species')"
      ]
    },
    {
      "cell_type": "code",
      "execution_count": null,
      "metadata": {
        "id": "Es7lOOwyRk7T"
      },
      "outputs": [],
      "source": [
        "titanic = pd.read_csv('https://raw.githubusercontent.com/datasciencedojo/datasets/master/titanic.csv')"
      ]
    },
    {
      "cell_type": "code",
      "execution_count": null,
      "metadata": {
        "colab": {
          "base_uri": "https://localhost:8080/",
          "height": 285
        },
        "id": "WDggW8PYRlcr",
        "outputId": "f15af5a9-bac3-402e-c28d-44e140d92454"
      },
      "outputs": [
        {
          "data": {
            "text/html": [
              "\n",
              "  <div id=\"df-f2e8ffe3-3034-44e1-ae5f-9f5c3eeeec6f\">\n",
              "    <div class=\"colab-df-container\">\n",
              "      <div>\n",
              "<style scoped>\n",
              "    .dataframe tbody tr th:only-of-type {\n",
              "        vertical-align: middle;\n",
              "    }\n",
              "\n",
              "    .dataframe tbody tr th {\n",
              "        vertical-align: top;\n",
              "    }\n",
              "\n",
              "    .dataframe thead th {\n",
              "        text-align: right;\n",
              "    }\n",
              "</style>\n",
              "<table border=\"1\" class=\"dataframe\">\n",
              "  <thead>\n",
              "    <tr style=\"text-align: right;\">\n",
              "      <th></th>\n",
              "      <th>PassengerId</th>\n",
              "      <th>Survived</th>\n",
              "      <th>Pclass</th>\n",
              "      <th>Name</th>\n",
              "      <th>Sex</th>\n",
              "      <th>Age</th>\n",
              "      <th>SibSp</th>\n",
              "      <th>Parch</th>\n",
              "      <th>Ticket</th>\n",
              "      <th>Fare</th>\n",
              "      <th>Cabin</th>\n",
              "      <th>Embarked</th>\n",
              "    </tr>\n",
              "  </thead>\n",
              "  <tbody>\n",
              "    <tr>\n",
              "      <th>0</th>\n",
              "      <td>1</td>\n",
              "      <td>0</td>\n",
              "      <td>3</td>\n",
              "      <td>Braund, Mr. Owen Harris</td>\n",
              "      <td>male</td>\n",
              "      <td>22.0</td>\n",
              "      <td>1</td>\n",
              "      <td>0</td>\n",
              "      <td>A/5 21171</td>\n",
              "      <td>7.2500</td>\n",
              "      <td>NaN</td>\n",
              "      <td>S</td>\n",
              "    </tr>\n",
              "    <tr>\n",
              "      <th>1</th>\n",
              "      <td>2</td>\n",
              "      <td>1</td>\n",
              "      <td>1</td>\n",
              "      <td>Cumings, Mrs. John Bradley (Florence Briggs Th...</td>\n",
              "      <td>female</td>\n",
              "      <td>38.0</td>\n",
              "      <td>1</td>\n",
              "      <td>0</td>\n",
              "      <td>PC 17599</td>\n",
              "      <td>71.2833</td>\n",
              "      <td>C85</td>\n",
              "      <td>C</td>\n",
              "    </tr>\n",
              "    <tr>\n",
              "      <th>2</th>\n",
              "      <td>3</td>\n",
              "      <td>1</td>\n",
              "      <td>3</td>\n",
              "      <td>Heikkinen, Miss. Laina</td>\n",
              "      <td>female</td>\n",
              "      <td>26.0</td>\n",
              "      <td>0</td>\n",
              "      <td>0</td>\n",
              "      <td>STON/O2. 3101282</td>\n",
              "      <td>7.9250</td>\n",
              "      <td>NaN</td>\n",
              "      <td>S</td>\n",
              "    </tr>\n",
              "    <tr>\n",
              "      <th>3</th>\n",
              "      <td>4</td>\n",
              "      <td>1</td>\n",
              "      <td>1</td>\n",
              "      <td>Futrelle, Mrs. Jacques Heath (Lily May Peel)</td>\n",
              "      <td>female</td>\n",
              "      <td>35.0</td>\n",
              "      <td>1</td>\n",
              "      <td>0</td>\n",
              "      <td>113803</td>\n",
              "      <td>53.1000</td>\n",
              "      <td>C123</td>\n",
              "      <td>S</td>\n",
              "    </tr>\n",
              "    <tr>\n",
              "      <th>4</th>\n",
              "      <td>5</td>\n",
              "      <td>0</td>\n",
              "      <td>3</td>\n",
              "      <td>Allen, Mr. William Henry</td>\n",
              "      <td>male</td>\n",
              "      <td>35.0</td>\n",
              "      <td>0</td>\n",
              "      <td>0</td>\n",
              "      <td>373450</td>\n",
              "      <td>8.0500</td>\n",
              "      <td>NaN</td>\n",
              "      <td>S</td>\n",
              "    </tr>\n",
              "  </tbody>\n",
              "</table>\n",
              "</div>\n",
              "      <button class=\"colab-df-convert\" onclick=\"convertToInteractive('df-f2e8ffe3-3034-44e1-ae5f-9f5c3eeeec6f')\"\n",
              "              title=\"Convert this dataframe to an interactive table.\"\n",
              "              style=\"display:none;\">\n",
              "        \n",
              "  <svg xmlns=\"http://www.w3.org/2000/svg\" height=\"24px\"viewBox=\"0 0 24 24\"\n",
              "       width=\"24px\">\n",
              "    <path d=\"M0 0h24v24H0V0z\" fill=\"none\"/>\n",
              "    <path d=\"M18.56 5.44l.94 2.06.94-2.06 2.06-.94-2.06-.94-.94-2.06-.94 2.06-2.06.94zm-11 1L8.5 8.5l.94-2.06 2.06-.94-2.06-.94L8.5 2.5l-.94 2.06-2.06.94zm10 10l.94 2.06.94-2.06 2.06-.94-2.06-.94-.94-2.06-.94 2.06-2.06.94z\"/><path d=\"M17.41 7.96l-1.37-1.37c-.4-.4-.92-.59-1.43-.59-.52 0-1.04.2-1.43.59L10.3 9.45l-7.72 7.72c-.78.78-.78 2.05 0 2.83L4 21.41c.39.39.9.59 1.41.59.51 0 1.02-.2 1.41-.59l7.78-7.78 2.81-2.81c.8-.78.8-2.07 0-2.86zM5.41 20L4 18.59l7.72-7.72 1.47 1.35L5.41 20z\"/>\n",
              "  </svg>\n",
              "      </button>\n",
              "      \n",
              "  <style>\n",
              "    .colab-df-container {\n",
              "      display:flex;\n",
              "      flex-wrap:wrap;\n",
              "      gap: 12px;\n",
              "    }\n",
              "\n",
              "    .colab-df-convert {\n",
              "      background-color: #E8F0FE;\n",
              "      border: none;\n",
              "      border-radius: 50%;\n",
              "      cursor: pointer;\n",
              "      display: none;\n",
              "      fill: #1967D2;\n",
              "      height: 32px;\n",
              "      padding: 0 0 0 0;\n",
              "      width: 32px;\n",
              "    }\n",
              "\n",
              "    .colab-df-convert:hover {\n",
              "      background-color: #E2EBFA;\n",
              "      box-shadow: 0px 1px 2px rgba(60, 64, 67, 0.3), 0px 1px 3px 1px rgba(60, 64, 67, 0.15);\n",
              "      fill: #174EA6;\n",
              "    }\n",
              "\n",
              "    [theme=dark] .colab-df-convert {\n",
              "      background-color: #3B4455;\n",
              "      fill: #D2E3FC;\n",
              "    }\n",
              "\n",
              "    [theme=dark] .colab-df-convert:hover {\n",
              "      background-color: #434B5C;\n",
              "      box-shadow: 0px 1px 3px 1px rgba(0, 0, 0, 0.15);\n",
              "      filter: drop-shadow(0px 1px 2px rgba(0, 0, 0, 0.3));\n",
              "      fill: #FFFFFF;\n",
              "    }\n",
              "  </style>\n",
              "\n",
              "      <script>\n",
              "        const buttonEl =\n",
              "          document.querySelector('#df-f2e8ffe3-3034-44e1-ae5f-9f5c3eeeec6f button.colab-df-convert');\n",
              "        buttonEl.style.display =\n",
              "          google.colab.kernel.accessAllowed ? 'block' : 'none';\n",
              "\n",
              "        async function convertToInteractive(key) {\n",
              "          const element = document.querySelector('#df-f2e8ffe3-3034-44e1-ae5f-9f5c3eeeec6f');\n",
              "          const dataTable =\n",
              "            await google.colab.kernel.invokeFunction('convertToInteractive',\n",
              "                                                     [key], {});\n",
              "          if (!dataTable) return;\n",
              "\n",
              "          const docLinkHtml = 'Like what you see? Visit the ' +\n",
              "            '<a target=\"_blank\" href=https://colab.research.google.com/notebooks/data_table.ipynb>data table notebook</a>'\n",
              "            + ' to learn more about interactive tables.';\n",
              "          element.innerHTML = '';\n",
              "          dataTable['output_type'] = 'display_data';\n",
              "          await google.colab.output.renderOutput(dataTable, element);\n",
              "          const docLink = document.createElement('div');\n",
              "          docLink.innerHTML = docLinkHtml;\n",
              "          element.appendChild(docLink);\n",
              "        }\n",
              "      </script>\n",
              "    </div>\n",
              "  </div>\n",
              "  "
            ],
            "text/plain": [
              "   PassengerId  Survived  Pclass  \\\n",
              "0            1         0       3   \n",
              "1            2         1       1   \n",
              "2            3         1       3   \n",
              "3            4         1       1   \n",
              "4            5         0       3   \n",
              "\n",
              "                                                Name     Sex   Age  SibSp  \\\n",
              "0                            Braund, Mr. Owen Harris    male  22.0      1   \n",
              "1  Cumings, Mrs. John Bradley (Florence Briggs Th...  female  38.0      1   \n",
              "2                             Heikkinen, Miss. Laina  female  26.0      0   \n",
              "3       Futrelle, Mrs. Jacques Heath (Lily May Peel)  female  35.0      1   \n",
              "4                           Allen, Mr. William Henry    male  35.0      0   \n",
              "\n",
              "   Parch            Ticket     Fare Cabin Embarked  \n",
              "0      0         A/5 21171   7.2500   NaN        S  \n",
              "1      0          PC 17599  71.2833   C85        C  \n",
              "2      0  STON/O2. 3101282   7.9250   NaN        S  \n",
              "3      0            113803  53.1000  C123        S  \n",
              "4      0            373450   8.0500   NaN        S  "
            ]
          },
          "execution_count": 19,
          "metadata": {},
          "output_type": "execute_result"
        }
      ],
      "source": [
        "titanic.head()"
      ]
    },
    {
      "cell_type": "code",
      "execution_count": null,
      "metadata": {
        "colab": {
          "base_uri": "https://localhost:8080/",
          "height": 296
        },
        "id": "mwYpnDPNSDu1",
        "outputId": "e61f9827-fd5d-4e89-b7df-77d5c2f85f78"
      },
      "outputs": [
        {
          "data": {
            "text/plain": [
              "<Axes: xlabel='Age', ylabel='Density'>"
            ]
          },
          "execution_count": 21,
          "metadata": {},
          "output_type": "execute_result"
        },
        {
          "data": {
            "image/png": "[encoded data removed]",
            "text/plain": [
              "<Figure size 432x288 with 1 Axes>"
            ]
          },
          "metadata": {
            "needs_background": "light"
          },
          "output_type": "display_data"
        }
      ],
      "source": [
        "# code here\n",
        "sns.kdeplot(data=titanic,x='Age',hue='Sex')"
      ]
    },
    {
      "cell_type": "code",
      "execution_count": null,
      "metadata": {
        "colab": {
          "base_uri": "https://localhost:8080/",
          "height": 458
        },
        "id": "_5Az3OFmPNvn",
        "outputId": "1a5239a6-558b-4e4d-b9d5-1edf862d2f79"
      },
      "outputs": [
        {
          "data": {
            "text/plain": [
              "<seaborn.axisgrid.JointGrid at 0x7f41e974e7c0>"
            ]
          },
          "execution_count": 59,
          "metadata": {},
          "output_type": "execute_result"
        },
        {
          "data": {
            "image/png": "[encoded data removed]",
            "text/plain": [
              "<Figure size 432x432 with 4 Axes>"
            ]
          },
          "metadata": {
            "needs_background": "light"
          },
          "output_type": "display_data"
        }
      ],
      "source": [
        " sns.jointplot(data=df, x=\"petal_length\", y=\"sepal_length\", kind=\"kde\",fill=True,cbar=True)"
      ]
    },
    {
      "cell_type": "code",
      "execution_count": null,
      "metadata": {
        "colab": {
          "base_uri": "https://localhost:8080/",
          "height": 296
        },
        "id": "HuCPjhWQSz5Q",
        "outputId": "a4396b99-d3e8-4426-c3ff-d92fd74dda18"
      },
      "outputs": [
        {
          "data": {
            "text/plain": [
              "<Axes: xlabel='Age', ylabel='Density'>"
            ]
          },
          "execution_count": 23,
          "metadata": {},
          "output_type": "execute_result"
        },
        {
          "data": {
            "image/png": "[encoded data removed]",
            "text/plain": [
              "<Figure size 432x288 with 1 Axes>"
            ]
          },
          "metadata": {
            "needs_background": "light"
          },
          "output_type": "display_data"
        }
      ],
      "source": [
        "sns.kdeplot(titanic['Age'])"
      ]
    },
    {
      "cell_type": "code",
      "execution_count": null,
      "metadata": {
        "colab": {
          "base_uri": "https://localhost:8080/"
        },
        "id": "UU8EvZtkzLJH",
        "outputId": "35da9e11-07dc-48ee-bed2-edde8ab367d8"
      },
      "outputs": [
        {
          "data": {
            "text/plain": [
              "29.69911764705882"
            ]
          },
          "execution_count": 24,
          "metadata": {},
          "output_type": "execute_result"
        }
      ],
      "source": [
        "titanic['Age'].mean()"
      ]
    },
    {
      "cell_type": "code",
      "execution_count": null,
      "metadata": {
        "id": "-qZ7TLzXzWf6"
      },
      "outputs": [],
      "source": [
        "x = (titanic['Age'] - titanic['Age'].mean())/titanic['Age'].std()"
      ]
    },
    {
      "cell_type": "code",
      "execution_count": null,
      "metadata": {
        "colab": {
          "base_uri": "https://localhost:8080/",
          "height": 296
        },
        "id": "N1E-Wx3vzbpk",
        "outputId": "b8f9db68-59c2-47ce-8fb1-91089b3990fa"
      },
      "outputs": [
        {
          "data": {
            "text/plain": [
              "<Axes: xlabel='Age', ylabel='Density'>"
            ]
          },
          "execution_count": 28,
          "metadata": {},
          "output_type": "execute_result"
        },
        {
          "data": {
            "image/png": "[encoded data removed]",
            "text/plain": [
              "<Figure size 432x288 with 1 Axes>"
            ]
          },
          "metadata": {
            "needs_background": "light"
          },
          "output_type": "display_data"
        }
      ],
      "source": [
        "sns.kdeplot(x)"
      ]
    },
    {
      "cell_type": "code",
      "execution_count": null,
      "metadata": {
        "colab": {
          "base_uri": "https://localhost:8080/"
        },
        "id": "HiyJuu1XzsS-",
        "outputId": "4442da60-baeb-44a4-b2eb-4999001d1d03"
      },
      "outputs": [
        {
          "data": {
            "text/plain": [
              "2.338621049070358e-16"
            ]
          },
          "execution_count": 29,
          "metadata": {},
          "output_type": "execute_result"
        }
      ],
      "source": [
        "x.mean()"
      ]
    },
    {
      "cell_type": "code",
      "execution_count": null,
      "metadata": {
        "colab": {
          "base_uri": "https://localhost:8080/"
        },
        "id": "hnxKg-YUzxBF",
        "outputId": "bc110ce5-2620-4aee-a9ba-4cdeebf06a6d"
      },
      "outputs": [
        {
          "data": {
            "text/plain": [
              "1.0"
            ]
          },
          "execution_count": 30,
          "metadata": {},
          "output_type": "execute_result"
        }
      ],
      "source": [
        "x.std()"
      ]
    },
    {
      "cell_type": "code",
      "execution_count": null,
      "metadata": {
        "colab": {
          "base_uri": "https://localhost:8080/"
        },
        "id": "zukZ3BmOz1XF",
        "outputId": "b12fe27e-d1ab-4c2d-9423-bb33bdc48cce"
      },
      "outputs": [
        {
          "data": {
            "text/plain": [
              "0.38910778230082704"
            ]
          },
          "execution_count": 32,
          "metadata": {},
          "output_type": "execute_result"
        }
      ],
      "source": [
        "titanic['Age'].skew()"
      ]
    },
    {
      "cell_type": "code",
      "execution_count": null,
      "metadata": {
        "colab": {
          "base_uri": "https://localhost:8080/"
        },
        "id": "6EBKSsQd7SOy",
        "outputId": "d042a547-4320-48c8-9ec1-55137d352a14"
      },
      "outputs": [
        {
          "data": {
            "text/plain": [
              "73.27860964406094"
            ]
          },
          "execution_count": 33,
          "metadata": {},
          "output_type": "execute_result"
        }
      ],
      "source": [
        "titanic['Age'].mean() + 3*titanic['Age'].std()"
      ]
    },
    {
      "cell_type": "code",
      "execution_count": null,
      "metadata": {
        "colab": {
          "base_uri": "https://localhost:8080/"
        },
        "id": "uf9R_YNL9uMs",
        "outputId": "b70b3edb-fda6-4ebe-ae77-fe613c79c493"
      },
      "outputs": [
        {
          "data": {
            "text/plain": [
              "-13.880374349943303"
            ]
          },
          "execution_count": 34,
          "metadata": {},
          "output_type": "execute_result"
        }
      ],
      "source": [
        "titanic['Age'].mean() - 3*titanic['Age'].std()"
      ]
    },
    {
      "cell_type": "code",
      "execution_count": null,
      "metadata": {
        "colab": {
          "base_uri": "https://localhost:8080/",
          "height": 112
        },
        "id": "rf3bBw7D9xgD",
        "outputId": "1b0db4c9-e0a0-4851-a162-71b0d1298c82"
      },
      "outputs": [
        {
          "data": {
            "text/html": [
              "\n",
              "  <div id=\"df-83d66de9-d78e-4ac5-a9d7-f1600ac3441d\">\n",
              "    <div class=\"colab-df-container\">\n",
              "      <div>\n",
              "<style scoped>\n",
              "    .dataframe tbody tr th:only-of-type {\n",
              "        vertical-align: middle;\n",
              "    }\n",
              "\n",
              "    .dataframe tbody tr th {\n",
              "        vertical-align: top;\n",
              "    }\n",
              "\n",
              "    .dataframe thead th {\n",
              "        text-align: right;\n",
              "    }\n",
              "</style>\n",
              "<table border=\"1\" class=\"dataframe\">\n",
              "  <thead>\n",
              "    <tr style=\"text-align: right;\">\n",
              "      <th></th>\n",
              "      <th>PassengerId</th>\n",
              "      <th>Survived</th>\n",
              "      <th>Pclass</th>\n",
              "      <th>Name</th>\n",
              "      <th>Sex</th>\n",
              "      <th>Age</th>\n",
              "      <th>SibSp</th>\n",
              "      <th>Parch</th>\n",
              "      <th>Ticket</th>\n",
              "      <th>Fare</th>\n",
              "      <th>Cabin</th>\n",
              "      <th>Embarked</th>\n",
              "    </tr>\n",
              "  </thead>\n",
              "  <tbody>\n",
              "    <tr>\n",
              "      <th>630</th>\n",
              "      <td>631</td>\n",
              "      <td>1</td>\n",
              "      <td>1</td>\n",
              "      <td>Barkworth, Mr. Algernon Henry Wilson</td>\n",
              "      <td>male</td>\n",
              "      <td>80.0</td>\n",
              "      <td>0</td>\n",
              "      <td>0</td>\n",
              "      <td>27042</td>\n",
              "      <td>30.000</td>\n",
              "      <td>A23</td>\n",
              "      <td>S</td>\n",
              "    </tr>\n",
              "    <tr>\n",
              "      <th>851</th>\n",
              "      <td>852</td>\n",
              "      <td>0</td>\n",
              "      <td>3</td>\n",
              "      <td>Svensson, Mr. Johan</td>\n",
              "      <td>male</td>\n",
              "      <td>74.0</td>\n",
              "      <td>0</td>\n",
              "      <td>0</td>\n",
              "      <td>347060</td>\n",
              "      <td>7.775</td>\n",
              "      <td>NaN</td>\n",
              "      <td>S</td>\n",
              "    </tr>\n",
              "  </tbody>\n",
              "</table>\n",
              "</div>\n",
              "      <button class=\"colab-df-convert\" onclick=\"convertToInteractive('df-83d66de9-d78e-4ac5-a9d7-f1600ac3441d')\"\n",
              "              title=\"Convert this dataframe to an interactive table.\"\n",
              "              style=\"display:none;\">\n",
              "        \n",
              "  <svg xmlns=\"http://www.w3.org/2000/svg\" height=\"24px\"viewBox=\"0 0 24 24\"\n",
              "       width=\"24px\">\n",
              "    <path d=\"M0 0h24v24H0V0z\" fill=\"none\"/>\n",
              "    <path d=\"M18.56 5.44l.94 2.06.94-2.06 2.06-.94-2.06-.94-.94-2.06-.94 2.06-2.06.94zm-11 1L8.5 8.5l.94-2.06 2.06-.94-2.06-.94L8.5 2.5l-.94 2.06-2.06.94zm10 10l.94 2.06.94-2.06 2.06-.94-2.06-.94-.94-2.06-.94 2.06-2.06.94z\"/><path d=\"M17.41 7.96l-1.37-1.37c-.4-.4-.92-.59-1.43-.59-.52 0-1.04.2-1.43.59L10.3 9.45l-7.72 7.72c-.78.78-.78 2.05 0 2.83L4 21.41c.39.39.9.59 1.41.59.51 0 1.02-.2 1.41-.59l7.78-7.78 2.81-2.81c.8-.78.8-2.07 0-2.86zM5.41 20L4 18.59l7.72-7.72 1.47 1.35L5.41 20z\"/>\n",
              "  </svg>\n",
              "      </button>\n",
              "      \n",
              "  <style>\n",
              "    .colab-df-container {\n",
              "      display:flex;\n",
              "      flex-wrap:wrap;\n",
              "      gap: 12px;\n",
              "    }\n",
              "\n",
              "    .colab-df-convert {\n",
              "      background-color: #E8F0FE;\n",
              "      border: none;\n",
              "      border-radius: 50%;\n",
              "      cursor: pointer;\n",
              "      display: none;\n",
              "      fill: #1967D2;\n",
              "      height: 32px;\n",
              "      padding: 0 0 0 0;\n",
              "      width: 32px;\n",
              "    }\n",
              "\n",
              "    .colab-df-convert:hover {\n",
              "      background-color: #E2EBFA;\n",
              "      box-shadow: 0px 1px 2px rgba(60, 64, 67, 0.3), 0px 1px 3px 1px rgba(60, 64, 67, 0.15);\n",
              "      fill: #174EA6;\n",
              "    }\n",
              "\n",
              "    [theme=dark] .colab-df-convert {\n",
              "      background-color: #3B4455;\n",
              "      fill: #D2E3FC;\n",
              "    }\n",
              "\n",
              "    [theme=dark] .colab-df-convert:hover {\n",
              "      background-color: #434B5C;\n",
              "      box-shadow: 0px 1px 3px 1px rgba(0, 0, 0, 0.15);\n",
              "      filter: drop-shadow(0px 1px 2px rgba(0, 0, 0, 0.3));\n",
              "      fill: #FFFFFF;\n",
              "    }\n",
              "  </style>\n",
              "\n",
              "      <script>\n",
              "        const buttonEl =\n",
              "          document.querySelector('#df-83d66de9-d78e-4ac5-a9d7-f1600ac3441d button.colab-df-convert');\n",
              "        buttonEl.style.display =\n",
              "          google.colab.kernel.accessAllowed ? 'block' : 'none';\n",
              "\n",
              "        async function convertToInteractive(key) {\n",
              "          const element = document.querySelector('#df-83d66de9-d78e-4ac5-a9d7-f1600ac3441d');\n",
              "          const dataTable =\n",
              "            await google.colab.kernel.invokeFunction('convertToInteractive',\n",
              "                                                     [key], {});\n",
              "          if (!dataTable) return;\n",
              "\n",
              "          const docLinkHtml = 'Like what you see? Visit the ' +\n",
              "            '<a target=\"_blank\" href=https://colab.research.google.com/notebooks/data_table.ipynb>data table notebook</a>'\n",
              "            + ' to learn more about interactive tables.';\n",
              "          element.innerHTML = '';\n",
              "          dataTable['output_type'] = 'display_data';\n",
              "          await google.colab.output.renderOutput(dataTable, element);\n",
              "          const docLink = document.createElement('div');\n",
              "          docLink.innerHTML = docLinkHtml;\n",
              "          element.appendChild(docLink);\n",
              "        }\n",
              "      </script>\n",
              "    </div>\n",
              "  </div>\n",
              "  "
            ],
            "text/plain": [
              "     PassengerId  Survived  Pclass                                  Name  \\\n",
              "630          631         1       1  Barkworth, Mr. Algernon Henry Wilson   \n",
              "851          852         0       3                   Svensson, Mr. Johan   \n",
              "\n",
              "      Sex   Age  SibSp  Parch  Ticket    Fare Cabin Embarked  \n",
              "630  male  80.0      0      0   27042  30.000   A23        S  \n",
              "851  male  74.0      0      0  347060   7.775   NaN        S  "
            ]
          },
          "execution_count": 37,
          "metadata": {},
          "output_type": "execute_result"
        }
      ],
      "source": [
        "titanic[titanic['Age'] > 73]"
      ]
    },
    {
      "cell_type": "code",
      "execution_count": null,
      "metadata": {
        "colab": {
          "base_uri": "https://localhost:8080/"
        },
        "id": "KQu5isNq9-5b",
        "outputId": "81c376ea-9345-4043-8be1-1de17bfea78d"
      },
      "outputs": [
        {
          "data": {
            "text/plain": [
              "80.0"
            ]
          },
          "execution_count": 36,
          "metadata": {},
          "output_type": "execute_result"
        }
      ],
      "source": [
        "titanic['Age'].max()"
      ]
    },
    {
      "cell_type": "code",
      "execution_count": null,
      "metadata": {
        "id": "Gqi-IezQ-D_w"
      },
      "outputs": [],
      "source": []
    }
  ],
  "metadata": {
    "colab": {
      "provenance": []
    },
    "kernelspec": {
      "display_name": "Python 3",
      "name": "python3"
    },
    "language_info": {
      "codemirror_mode": {
        "name": "ipython",
        "version": 3
      },
      "file_extension": ".py",
      "mimetype": "text/x-python",
      "name": "python",
      "nbconvert_exporter": "python",
      "pygments_lexer": "ipython3",
      "version": "3.12.4"
    }
  },
  "nbformat": 4,
  "nbformat_minor": 0
}
