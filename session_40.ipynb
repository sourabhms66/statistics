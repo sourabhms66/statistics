{
  "cells": [
    {
      "cell_type": "code",
      "execution_count": 1,
      "metadata": {
        "id": "MmM05kz9gXa8"
      },
      "outputs": [],
      "source": [
        "import numpy as np\n",
        "import pandas as pd"
      ]
    },
    {
      "cell_type": "code",
      "execution_count": 2,
      "metadata": {
        "id": "7l-cH_-2EBwq"
      },
      "outputs": [],
      "source": [
        "import random"
      ]
    },
    {
      "cell_type": "markdown",
      "metadata": {},
      "source": [
        "## We're creating 10000 random numbers values between 1-6\n",
        "\n",
        "## rolling a dice 10000 times"
      ]
    },
    {
      "cell_type": "code",
      "execution_count": 4,
      "metadata": {},
      "outputs": [],
      "source": [
        "l = []\n",
        "for i in range(10000):\n",
        "  a = random.randint(1,6)\n",
        "  l.append(a)"
      ]
    },
    {
      "cell_type": "code",
      "execution_count": 6,
      "metadata": {},
      "outputs": [
        {
          "data": {
            "text/plain": [
              "10000"
            ]
          },
          "execution_count": 6,
          "metadata": {},
          "output_type": "execute_result"
        }
      ],
      "source": [
        "len(l)"
      ]
    },
    {
      "cell_type": "markdown",
      "metadata": {},
      "source": [
        "## Now if we convert it into a series"
      ]
    },
    {
      "cell_type": "code",
      "execution_count": 8,
      "metadata": {},
      "outputs": [
        {
          "data": {
            "text/plain": [
              "0       2\n",
              "1       2\n",
              "2       5\n",
              "3       2\n",
              "4       1\n",
              "       ..\n",
              "9995    1\n",
              "9996    4\n",
              "9997    3\n",
              "9998    3\n",
              "9999    6\n",
              "Length: 10000, dtype: int64"
            ]
          },
          "execution_count": 8,
          "metadata": {},
          "output_type": "execute_result"
        }
      ],
      "source": [
        "pd.Series(l)"
      ]
    },
    {
      "cell_type": "code",
      "execution_count": 9,
      "metadata": {},
      "outputs": [
        {
          "data": {
            "text/plain": [
              "2    1711\n",
              "4    1696\n",
              "3    1680\n",
              "1    1656\n",
              "5    1648\n",
              "6    1609\n",
              "Name: count, dtype: int64"
            ]
          },
          "execution_count": 9,
          "metadata": {},
          "output_type": "execute_result"
        }
      ],
      "source": [
        "pd.Series(l).value_counts()"
      ]
    },
    {
      "cell_type": "markdown",
      "metadata": {},
      "source": [
        "## Now if we devide this counts by total counts we'll get the probability of getting each number which is almost(1/6)"
      ]
    },
    {
      "cell_type": "code",
      "execution_count": 10,
      "metadata": {},
      "outputs": [
        {
          "data": {
            "text/plain": [
              "2    0.1711\n",
              "4    0.1696\n",
              "3    0.1680\n",
              "1    0.1656\n",
              "5    0.1648\n",
              "6    0.1609\n",
              "Name: count, dtype: float64"
            ]
          },
          "execution_count": 10,
          "metadata": {},
          "output_type": "execute_result"
        }
      ],
      "source": [
        "pd.Series(l).value_counts()/pd.Series(l).value_counts().sum()"
      ]
    },
    {
      "cell_type": "code",
      "execution_count": 16,
      "metadata": {},
      "outputs": [],
      "source": [
        "s = pd.Series(l).value_counts()/pd.Series(l).value_counts().sum()"
      ]
    },
    {
      "cell_type": "code",
      "execution_count": 17,
      "metadata": {},
      "outputs": [
        {
          "data": {
            "text/plain": [
              "1    0.1656\n",
              "2    0.1711\n",
              "3    0.1680\n",
              "4    0.1696\n",
              "5    0.1648\n",
              "6    0.1609\n",
              "Name: count, dtype: float64"
            ]
          },
          "execution_count": 17,
          "metadata": {},
          "output_type": "execute_result"
        }
      ],
      "source": [
        "s.sort_index()"
      ]
    },
    {
      "cell_type": "code",
      "execution_count": 18,
      "metadata": {},
      "outputs": [
        {
          "data": {
            "text/plain": [
              "<Axes: >"
            ]
          },
          "execution_count": 18,
          "metadata": {},
          "output_type": "execute_result"
        },
        {
          "data": {
            "image/png": "[encoded data removed]",
            "text/plain": [
              "<Figure size 640x480 with 1 Axes>"
            ]
          },
          "metadata": {},
          "output_type": "display_data"
        }
      ],
      "source": [
        "s.sort_index().plot(kind='bar')"
      ]
    },
    {
      "cell_type": "markdown",
      "metadata": {},
      "source": [
        "## rolling the two dices 10000 times each"
      ]
    },
    {
      "cell_type": "code",
      "execution_count": 19,
      "metadata": {
        "id": "5cs55cwNEB1L"
      },
      "outputs": [],
      "source": [
        "L = []\n",
        "for i in range(10000):\n",
        "  a = random.randint(1,6)\n",
        "  b = random.randint(1,6)\n",
        "\n",
        "  L.append(a + b)"
      ]
    },
    {
      "cell_type": "code",
      "execution_count": 20,
      "metadata": {},
      "outputs": [
        {
          "data": {
            "text/plain": [
              "[7,\n",
              " 11,\n",
              " 5,\n",
              " 9,\n",
              " 11,\n",
              " 7,\n",
              " 7,\n",
              " 4,\n",
              " 9,\n",
              " 9,\n",
              " 7,\n",
              " 12,\n",
              " 4,\n",
              " 6,\n",
              " 4,\n",
              " 6,\n",
              " 5,\n",
              " 8,\n",
              " 10,\n",
              " 10,\n",
              " 11,\n",
              " 8,\n",
              " 3,\n",
              " 6,\n",
              " 7,\n",
              " 7,\n",
              " 4,\n",
              " 11,\n",
              " 11,\n",
              " 10,\n",
              " 7,\n",
              " 11,\n",
              " 7,\n",
              " 8,\n",
              " 7,\n",
              " 6,\n",
              " 7,\n",
              " 3,\n",
              " 6,\n",
              " 2,\n",
              " 8,\n",
              " 2,\n",
              " 9,\n",
              " 5,\n",
              " 6,\n",
              " 9,\n",
              " 7,\n",
              " 10,\n",
              " 7,\n",
              " 11,\n",
              " 8,\n",
              " 6,\n",
              " 8,\n",
              " 7,\n",
              " 9,\n",
              " 8,\n",
              " 11,\n",
              " 9,\n",
              " 4,\n",
              " 6,\n",
              " 6,\n",
              " 4,\n",
              " 9,\n",
              " 4,\n",
              " 4,\n",
              " 6,\n",
              " 9,\n",
              " 7,\n",
              " 3,\n",
              " 7,\n",
              " 5,\n",
              " 9,\n",
              " 5,\n",
              " 10,\n",
              " 10,\n",
              " 10,\n",
              " 10,\n",
              " 9,\n",
              " 9,\n",
              " 8,\n",
              " 4,\n",
              " 4,\n",
              " 9,\n",
              " 5,\n",
              " 6,\n",
              " 7,\n",
              " 7,\n",
              " 7,\n",
              " 9,\n",
              " 9,\n",
              " 6,\n",
              " 8,\n",
              " 5,\n",
              " 3,\n",
              " 4,\n",
              " 4,\n",
              " 10,\n",
              " 7,\n",
              " 4,\n",
              " 5,\n",
              " 7,\n",
              " 6,\n",
              " 9,\n",
              " 5,\n",
              " 4,\n",
              " 7,\n",
              " 7,\n",
              " 11,\n",
              " 10,\n",
              " 6,\n",
              " 3,\n",
              " 9,\n",
              " 11,\n",
              " 8,\n",
              " 10,\n",
              " 8,\n",
              " 5,\n",
              " 7,\n",
              " 6,\n",
              " 10,\n",
              " 6,\n",
              " 10,\n",
              " 5,\n",
              " 10,\n",
              " 5,\n",
              " 10,\n",
              " 8,\n",
              " 10,\n",
              " 8,\n",
              " 7,\n",
              " 7,\n",
              " 10,\n",
              " 4,\n",
              " 5,\n",
              " 3,\n",
              " 4,\n",
              " 5,\n",
              " 9,\n",
              " 9,\n",
              " 9,\n",
              " 9,\n",
              " 11,\n",
              " 6,\n",
              " 8,\n",
              " 5,\n",
              " 6,\n",
              " 6,\n",
              " 7,\n",
              " 8,\n",
              " 9,\n",
              " 4,\n",
              " 6,\n",
              " 4,\n",
              " 5,\n",
              " 8,\n",
              " 8,\n",
              " 8,\n",
              " 11,\n",
              " 9,\n",
              " 6,\n",
              " 2,\n",
              " 10,\n",
              " 10,\n",
              " 8,\n",
              " 4,\n",
              " 5,\n",
              " 7,\n",
              " 9,\n",
              " 6,\n",
              " 7,\n",
              " 4,\n",
              " 8,\n",
              " 2,\n",
              " 12,\n",
              " 4,\n",
              " 5,\n",
              " 8,\n",
              " 12,\n",
              " 9,\n",
              " 7,\n",
              " 11,\n",
              " 9,\n",
              " 11,\n",
              " 10,\n",
              " 5,\n",
              " 6,\n",
              " 12,\n",
              " 7,\n",
              " 6,\n",
              " 10,\n",
              " 7,\n",
              " 9,\n",
              " 9,\n",
              " 5,\n",
              " 9,\n",
              " 6,\n",
              " 12,\n",
              " 8,\n",
              " 7,\n",
              " 11,\n",
              " 8,\n",
              " 8,\n",
              " 6,\n",
              " 5,\n",
              " 9,\n",
              " 11,\n",
              " 4,\n",
              " 5,\n",
              " 4,\n",
              " 9,\n",
              " 6,\n",
              " 7,\n",
              " 8,\n",
              " 8,\n",
              " 9,\n",
              " 4,\n",
              " 7,\n",
              " 4,\n",
              " 12,\n",
              " 9,\n",
              " 9,\n",
              " 7,\n",
              " 6,\n",
              " 2,\n",
              " 6,\n",
              " 9,\n",
              " 11,\n",
              " 10,\n",
              " 7,\n",
              " 6,\n",
              " 5,\n",
              " 9,\n",
              " 2,\n",
              " 7,\n",
              " 4,\n",
              " 9,\n",
              " 8,\n",
              " 9,\n",
              " 6,\n",
              " 11,\n",
              " 7,\n",
              " 4,\n",
              " 9,\n",
              " 8,\n",
              " 5,\n",
              " 8,\n",
              " 5,\n",
              " 11,\n",
              " 8,\n",
              " 8,\n",
              " 3,\n",
              " 6,\n",
              " 5,\n",
              " 11,\n",
              " 7,\n",
              " 11,\n",
              " 4,\n",
              " 8,\n",
              " 8,\n",
              " 9,\n",
              " 6,\n",
              " 3,\n",
              " 3,\n",
              " 7,\n",
              " 7,\n",
              " 5,\n",
              " 10,\n",
              " 7,\n",
              " 9,\n",
              " 8,\n",
              " 7,\n",
              " 12,\n",
              " 5,\n",
              " 11,\n",
              " 8,\n",
              " 2,\n",
              " 7,\n",
              " 10,\n",
              " 8,\n",
              " 5,\n",
              " 9,\n",
              " 10,\n",
              " 11,\n",
              " 10,\n",
              " 2,\n",
              " 2,\n",
              " 12,\n",
              " 4,\n",
              " 6,\n",
              " 10,\n",
              " 7,\n",
              " 11,\n",
              " 5,\n",
              " 8,\n",
              " 6,\n",
              " 7,\n",
              " 7,\n",
              " 7,\n",
              " 5,\n",
              " 6,\n",
              " 8,\n",
              " 7,\n",
              " 6,\n",
              " 7,\n",
              " 7,\n",
              " 8,\n",
              " 6,\n",
              " 7,\n",
              " 7,\n",
              " 9,\n",
              " 6,\n",
              " 4,\n",
              " 4,\n",
              " 6,\n",
              " 8,\n",
              " 3,\n",
              " 5,\n",
              " 10,\n",
              " 9,\n",
              " 5,\n",
              " 9,\n",
              " 7,\n",
              " 4,\n",
              " 5,\n",
              " 11,\n",
              " 10,\n",
              " 7,\n",
              " 7,\n",
              " 10,\n",
              " 9,\n",
              " 4,\n",
              " 8,\n",
              " 5,\n",
              " 6,\n",
              " 11,\n",
              " 9,\n",
              " 12,\n",
              " 7,\n",
              " 5,\n",
              " 7,\n",
              " 8,\n",
              " 7,\n",
              " 7,\n",
              " 2,\n",
              " 9,\n",
              " 8,\n",
              " 7,\n",
              " 9,\n",
              " 5,\n",
              " 8,\n",
              " 6,\n",
              " 6,\n",
              " 5,\n",
              " 9,\n",
              " 11,\n",
              " 7,\n",
              " 2,\n",
              " 7,\n",
              " 2,\n",
              " 8,\n",
              " 7,\n",
              " 12,\n",
              " 4,\n",
              " 5,\n",
              " 8,\n",
              " 3,\n",
              " 8,\n",
              " 10,\n",
              " 11,\n",
              " 3,\n",
              " 8,\n",
              " 11,\n",
              " 7,\n",
              " 11,\n",
              " 10,\n",
              " 3,\n",
              " 9,\n",
              " 5,\n",
              " 10,\n",
              " 6,\n",
              " 12,\n",
              " 11,\n",
              " 7,\n",
              " 9,\n",
              " 5,\n",
              " 3,\n",
              " 7,\n",
              " 7,\n",
              " 8,\n",
              " 3,\n",
              " 10,\n",
              " 9,\n",
              " 6,\n",
              " 8,\n",
              " 3,\n",
              " 6,\n",
              " 9,\n",
              " 6,\n",
              " 11,\n",
              " 4,\n",
              " 7,\n",
              " 4,\n",
              " 10,\n",
              " 9,\n",
              " 7,\n",
              " 7,\n",
              " 3,\n",
              " 8,\n",
              " 8,\n",
              " 9,\n",
              " 6,\n",
              " 3,\n",
              " 6,\n",
              " 7,\n",
              " 12,\n",
              " 8,\n",
              " 4,\n",
              " 9,\n",
              " 7,\n",
              " 9,\n",
              " 9,\n",
              " 5,\n",
              " 8,\n",
              " 10,\n",
              " 7,\n",
              " 7,\n",
              " 7,\n",
              " 5,\n",
              " 10,\n",
              " 7,\n",
              " 6,\n",
              " 11,\n",
              " 3,\n",
              " 7,\n",
              " 11,\n",
              " 6,\n",
              " 8,\n",
              " 9,\n",
              " 7,\n",
              " 3,\n",
              " 12,\n",
              " 7,\n",
              " 8,\n",
              " 5,\n",
              " 8,\n",
              " 10,\n",
              " 6,\n",
              " 10,\n",
              " 10,\n",
              " 11,\n",
              " 7,\n",
              " 3,\n",
              " 9,\n",
              " 7,\n",
              " 7,\n",
              " 4,\n",
              " 9,\n",
              " 7,\n",
              " 7,\n",
              " 6,\n",
              " 2,\n",
              " 4,\n",
              " 7,\n",
              " 10,\n",
              " 4,\n",
              " 3,\n",
              " 2,\n",
              " 6,\n",
              " 8,\n",
              " 3,\n",
              " 6,\n",
              " 11,\n",
              " 8,\n",
              " 4,\n",
              " 3,\n",
              " 8,\n",
              " 8,\n",
              " 11,\n",
              " 2,\n",
              " 9,\n",
              " 4,\n",
              " 6,\n",
              " 2,\n",
              " 3,\n",
              " 8,\n",
              " 6,\n",
              " 9,\n",
              " 8,\n",
              " 3,\n",
              " 3,\n",
              " 12,\n",
              " 9,\n",
              " 4,\n",
              " 3,\n",
              " 7,\n",
              " 6,\n",
              " 5,\n",
              " 11,\n",
              " 8,\n",
              " 6,\n",
              " 7,\n",
              " 11,\n",
              " 4,\n",
              " 7,\n",
              " 6,\n",
              " 4,\n",
              " 7,\n",
              " 8,\n",
              " 8,\n",
              " 9,\n",
              " 7,\n",
              " 4,\n",
              " 9,\n",
              " 7,\n",
              " 5,\n",
              " 5,\n",
              " 8,\n",
              " 8,\n",
              " 9,\n",
              " 4,\n",
              " 6,\n",
              " 12,\n",
              " 9,\n",
              " 8,\n",
              " 5,\n",
              " 9,\n",
              " 8,\n",
              " 7,\n",
              " 9,\n",
              " 9,\n",
              " 10,\n",
              " 9,\n",
              " 10,\n",
              " 9,\n",
              " 7,\n",
              " 8,\n",
              " 10,\n",
              " 11,\n",
              " 11,\n",
              " 10,\n",
              " 11,\n",
              " 5,\n",
              " 4,\n",
              " 7,\n",
              " 7,\n",
              " 7,\n",
              " 12,\n",
              " 11,\n",
              " 10,\n",
              " 5,\n",
              " 6,\n",
              " 6,\n",
              " 11,\n",
              " 9,\n",
              " 7,\n",
              " 11,\n",
              " 5,\n",
              " 7,\n",
              " 9,\n",
              " 7,\n",
              " 9,\n",
              " 9,\n",
              " 3,\n",
              " 5,\n",
              " 10,\n",
              " 5,\n",
              " 11,\n",
              " 2,\n",
              " 7,\n",
              " 6,\n",
              " 7,\n",
              " 3,\n",
              " 9,\n",
              " 6,\n",
              " 3,\n",
              " 10,\n",
              " 5,\n",
              " 8,\n",
              " 7,\n",
              " 9,\n",
              " 7,\n",
              " 4,\n",
              " 7,\n",
              " 7,\n",
              " 6,\n",
              " 7,\n",
              " 12,\n",
              " 7,\n",
              " 8,\n",
              " 8,\n",
              " 9,\n",
              " 7,\n",
              " 7,\n",
              " 4,\n",
              " 9,\n",
              " 11,\n",
              " 6,\n",
              " 9,\n",
              " 4,\n",
              " 7,\n",
              " 3,\n",
              " 11,\n",
              " 6,\n",
              " 11,\n",
              " 8,\n",
              " 9,\n",
              " 8,\n",
              " 7,\n",
              " 11,\n",
              " 5,\n",
              " 4,\n",
              " 11,\n",
              " 7,\n",
              " 10,\n",
              " 11,\n",
              " 9,\n",
              " 2,\n",
              " 7,\n",
              " 7,\n",
              " 3,\n",
              " 9,\n",
              " 10,\n",
              " 8,\n",
              " 6,\n",
              " 9,\n",
              " 7,\n",
              " 12,\n",
              " 8,\n",
              " 11,\n",
              " 7,\n",
              " 6,\n",
              " 7,\n",
              " 10,\n",
              " 6,\n",
              " 8,\n",
              " 10,\n",
              " 4,\n",
              " 6,\n",
              " 8,\n",
              " 8,\n",
              " 8,\n",
              " 2,\n",
              " 8,\n",
              " 5,\n",
              " 7,\n",
              " 11,\n",
              " 7,\n",
              " 6,\n",
              " 9,\n",
              " 10,\n",
              " 5,\n",
              " 7,\n",
              " 6,\n",
              " 6,\n",
              " 12,\n",
              " 7,\n",
              " 10,\n",
              " 5,\n",
              " 7,\n",
              " 11,\n",
              " 4,\n",
              " 7,\n",
              " 7,\n",
              " 7,\n",
              " 11,\n",
              " 10,\n",
              " 2,\n",
              " 5,\n",
              " 10,\n",
              " 6,\n",
              " 8,\n",
              " 12,\n",
              " 7,\n",
              " 7,\n",
              " 10,\n",
              " 11,\n",
              " 8,\n",
              " 2,\n",
              " 5,\n",
              " 6,\n",
              " 6,\n",
              " 6,\n",
              " 9,\n",
              " 9,\n",
              " 8,\n",
              " 5,\n",
              " 8,\n",
              " 10,\n",
              " 2,\n",
              " 5,\n",
              " 8,\n",
              " 9,\n",
              " 5,\n",
              " 5,\n",
              " 4,\n",
              " 6,\n",
              " 5,\n",
              " 8,\n",
              " 10,\n",
              " 5,\n",
              " 7,\n",
              " 6,\n",
              " 10,\n",
              " 6,\n",
              " 7,\n",
              " 9,\n",
              " 3,\n",
              " 7,\n",
              " 7,\n",
              " 7,\n",
              " 11,\n",
              " 9,\n",
              " 9,\n",
              " 4,\n",
              " 9,\n",
              " 5,\n",
              " 7,\n",
              " 8,\n",
              " 5,\n",
              " 6,\n",
              " 8,\n",
              " 6,\n",
              " 9,\n",
              " 8,\n",
              " 3,\n",
              " 9,\n",
              " 7,\n",
              " 11,\n",
              " 9,\n",
              " 4,\n",
              " 11,\n",
              " 10,\n",
              " 9,\n",
              " 5,\n",
              " 7,\n",
              " 6,\n",
              " 3,\n",
              " 7,\n",
              " 7,\n",
              " 5,\n",
              " 8,\n",
              " 5,\n",
              " 2,\n",
              " 5,\n",
              " 9,\n",
              " 7,\n",
              " 7,\n",
              " 10,\n",
              " 11,\n",
              " 10,\n",
              " 6,\n",
              " 7,\n",
              " 9,\n",
              " 11,\n",
              " 10,\n",
              " 10,\n",
              " 6,\n",
              " 9,\n",
              " 11,\n",
              " 7,\n",
              " 9,\n",
              " 6,\n",
              " 7,\n",
              " 7,\n",
              " 9,\n",
              " 7,\n",
              " 10,\n",
              " 5,\n",
              " 3,\n",
              " 4,\n",
              " 8,\n",
              " 11,\n",
              " 5,\n",
              " 9,\n",
              " 5,\n",
              " 8,\n",
              " 6,\n",
              " 7,\n",
              " 8,\n",
              " 7,\n",
              " 7,\n",
              " 3,\n",
              " 7,\n",
              " 7,\n",
              " 4,\n",
              " 5,\n",
              " 11,\n",
              " 5,\n",
              " 8,\n",
              " 10,\n",
              " 8,\n",
              " 7,\n",
              " 10,\n",
              " 8,\n",
              " 7,\n",
              " 9,\n",
              " 7,\n",
              " 4,\n",
              " 3,\n",
              " 10,\n",
              " 3,\n",
              " 8,\n",
              " 7,\n",
              " 7,\n",
              " 9,\n",
              " 6,\n",
              " 4,\n",
              " 10,\n",
              " 8,\n",
              " 7,\n",
              " 6,\n",
              " 11,\n",
              " 4,\n",
              " 7,\n",
              " 7,\n",
              " 8,\n",
              " 7,\n",
              " 10,\n",
              " 7,\n",
              " 6,\n",
              " 6,\n",
              " 5,\n",
              " 2,\n",
              " 4,\n",
              " 6,\n",
              " 7,\n",
              " 4,\n",
              " 5,\n",
              " 7,\n",
              " 8,\n",
              " 7,\n",
              " 10,\n",
              " 5,\n",
              " 7,\n",
              " 4,\n",
              " 7,\n",
              " 3,\n",
              " 4,\n",
              " 6,\n",
              " 10,\n",
              " 10,\n",
              " 9,\n",
              " 2,\n",
              " 8,\n",
              " 8,\n",
              " 9,\n",
              " 5,\n",
              " 9,\n",
              " 8,\n",
              " 6,\n",
              " 9,\n",
              " 10,\n",
              " 11,\n",
              " 7,\n",
              " 3,\n",
              " 10,\n",
              " 7,\n",
              " 8,\n",
              " 10,\n",
              " 8,\n",
              " 5,\n",
              " 4,\n",
              " 8,\n",
              " 8,\n",
              " 8,\n",
              " 7,\n",
              " 4,\n",
              " 10,\n",
              " 5,\n",
              " 8,\n",
              " 8,\n",
              " 6,\n",
              " 3,\n",
              " 8,\n",
              " 10,\n",
              " 7,\n",
              " 6,\n",
              " 7,\n",
              " 6,\n",
              " 8,\n",
              " 7,\n",
              " 3,\n",
              " 8,\n",
              " 7,\n",
              " 12,\n",
              " 11,\n",
              " 8,\n",
              " 10,\n",
              " 11,\n",
              " 4,\n",
              " 10,\n",
              " 6,\n",
              " 7,\n",
              " 6,\n",
              " 9,\n",
              " 7,\n",
              " 9,\n",
              " 6,\n",
              " 7,\n",
              " 7,\n",
              " 9,\n",
              " 5,\n",
              " 8,\n",
              " 5,\n",
              " 3,\n",
              " 12,\n",
              " 7,\n",
              " 7,\n",
              " 7,\n",
              " 3,\n",
              " 7,\n",
              " 3,\n",
              " 7,\n",
              " 5,\n",
              " 7,\n",
              " 7,\n",
              " 5,\n",
              " 6,\n",
              " 9,\n",
              " 3,\n",
              " 5,\n",
              " 6,\n",
              " 10,\n",
              " 12,\n",
              " 10,\n",
              " 9,\n",
              " 8,\n",
              " 10,\n",
              " 10,\n",
              " 8,\n",
              " 10,\n",
              " 8,\n",
              " 9,\n",
              " 8,\n",
              " 4,\n",
              " 5,\n",
              " 11,\n",
              " 8,\n",
              " 9,\n",
              " 10,\n",
              " 5,\n",
              " 10,\n",
              " 7,\n",
              " 6,\n",
              " 6,\n",
              " 6,\n",
              " 6,\n",
              " 6,\n",
              " 4,\n",
              " 4,\n",
              " 8,\n",
              " 7,\n",
              " 7,\n",
              " 7,\n",
              " 6,\n",
              " 8,\n",
              " 10,\n",
              " 6,\n",
              " 10,\n",
              " 4,\n",
              " 8,\n",
              " 6,\n",
              " 7,\n",
              " 8,\n",
              " 9,\n",
              " 5,\n",
              " 9,\n",
              " 12,\n",
              " 5,\n",
              " 6,\n",
              " 7,\n",
              " 8,\n",
              " 11,\n",
              " 7,\n",
              " 10,\n",
              " 6,\n",
              " 10,\n",
              " 4,\n",
              " 7,\n",
              " 3,\n",
              " 9,\n",
              " 3,\n",
              " 3,\n",
              " 9,\n",
              " 6,\n",
              " 10,\n",
              " 3,\n",
              " 4,\n",
              " 10,\n",
              " 6,\n",
              " 5,\n",
              " 10,\n",
              " 7,\n",
              " 9,\n",
              " 8,\n",
              " 9,\n",
              " 7,\n",
              " 12,\n",
              " 4,\n",
              " 7,\n",
              " ...]"
            ]
          },
          "execution_count": 20,
          "metadata": {},
          "output_type": "execute_result"
        }
      ],
      "source": [
        "L"
      ]
    },
    {
      "cell_type": "code",
      "execution_count": 21,
      "metadata": {
        "colab": {
          "base_uri": "https://localhost:8080/"
        },
        "id": "2620ZC8FEB5k",
        "outputId": "7a07d68a-cd59-474b-e841-12b70fc00a5b"
      },
      "outputs": [
        {
          "data": {
            "text/plain": [
              "10000"
            ]
          },
          "execution_count": 21,
          "metadata": {},
          "output_type": "execute_result"
        }
      ],
      "source": [
        "len(L)"
      ]
    },
    {
      "cell_type": "code",
      "execution_count": 22,
      "metadata": {
        "colab": {
          "base_uri": "https://localhost:8080/"
        },
        "id": "qUA2MblvEB7x",
        "outputId": "25557f47-b7a9-406b-8b2f-48ff63304486"
      },
      "outputs": [
        {
          "data": {
            "text/plain": [
              "[7, 11, 5, 9, 11]"
            ]
          },
          "execution_count": 22,
          "metadata": {},
          "output_type": "execute_result"
        }
      ],
      "source": [
        "L[:5]"
      ]
    },
    {
      "cell_type": "code",
      "execution_count": 23,
      "metadata": {},
      "outputs": [
        {
          "data": {
            "text/plain": [
              "0        7\n",
              "1       11\n",
              "2        5\n",
              "3        9\n",
              "4       11\n",
              "        ..\n",
              "9995     9\n",
              "9996    10\n",
              "9997     9\n",
              "9998     7\n",
              "9999    11\n",
              "Length: 10000, dtype: int64"
            ]
          },
          "execution_count": 23,
          "metadata": {},
          "output_type": "execute_result"
        }
      ],
      "source": [
        "pd.Series(L)"
      ]
    },
    {
      "cell_type": "code",
      "execution_count": 24,
      "metadata": {},
      "outputs": [
        {
          "data": {
            "text/plain": [
              "7     1668\n",
              "8     1433\n",
              "6     1321\n",
              "9     1131\n",
              "5     1101\n",
              "10     851\n",
              "4      813\n",
              "3      550\n",
              "11     544\n",
              "2      315\n",
              "12     273\n",
              "Name: count, dtype: int64"
            ]
          },
          "execution_count": 24,
          "metadata": {},
          "output_type": "execute_result"
        }
      ],
      "source": [
        "pd.Series(L).value_counts()"
      ]
    },
    {
      "cell_type": "code",
      "execution_count": 25,
      "metadata": {},
      "outputs": [
        {
          "data": {
            "text/plain": [
              "10000"
            ]
          },
          "execution_count": 25,
          "metadata": {},
          "output_type": "execute_result"
        }
      ],
      "source": [
        "pd.Series(L).value_counts().sum()"
      ]
    },
    {
      "cell_type": "code",
      "execution_count": 26,
      "metadata": {},
      "outputs": [
        {
          "data": {
            "text/plain": [
              "7     0.1668\n",
              "8     0.1433\n",
              "6     0.1321\n",
              "9     0.1131\n",
              "5     0.1101\n",
              "10    0.0851\n",
              "4     0.0813\n",
              "3     0.0550\n",
              "11    0.0544\n",
              "2     0.0315\n",
              "12    0.0273\n",
              "Name: count, dtype: float64"
            ]
          },
          "execution_count": 26,
          "metadata": {},
          "output_type": "execute_result"
        }
      ],
      "source": [
        "pd.Series(L).value_counts()/pd.Series(L).value_counts().sum()"
      ]
    },
    {
      "cell_type": "code",
      "execution_count": 27,
      "metadata": {
        "id": "Hu76YIbdEB-E"
      },
      "outputs": [],
      "source": [
        "s = (pd.Series(L).value_counts()/pd.Series(L).value_counts().sum()).sort_index()"
      ]
    },
    {
      "cell_type": "code",
      "execution_count": 28,
      "metadata": {},
      "outputs": [
        {
          "data": {
            "text/plain": [
              "2     0.0315\n",
              "3     0.0550\n",
              "4     0.0813\n",
              "5     0.1101\n",
              "6     0.1321\n",
              "7     0.1668\n",
              "8     0.1433\n",
              "9     0.1131\n",
              "10    0.0851\n",
              "11    0.0544\n",
              "12    0.0273\n",
              "Name: count, dtype: float64"
            ]
          },
          "execution_count": 28,
          "metadata": {},
          "output_type": "execute_result"
        }
      ],
      "source": [
        "s"
      ]
    },
    {
      "cell_type": "markdown",
      "metadata": {},
      "source": [
        "## Now if we calculate cumulative sum"
      ]
    },
    {
      "cell_type": "code",
      "execution_count": 29,
      "metadata": {
        "colab": {
          "base_uri": "https://localhost:8080/"
        },
        "id": "ydYmwefR_F3R",
        "outputId": "0a52a761-815d-4245-ac02-226aa42092a3"
      },
      "outputs": [
        {
          "data": {
            "text/plain": [
              "2     0.0315\n",
              "3     0.0865\n",
              "4     0.1678\n",
              "5     0.2779\n",
              "6     0.4100\n",
              "7     0.5768\n",
              "8     0.7201\n",
              "9     0.8332\n",
              "10    0.9183\n",
              "11    0.9727\n",
              "12    1.0000\n",
              "Name: count, dtype: float64"
            ]
          },
          "execution_count": 29,
          "metadata": {},
          "output_type": "execute_result"
        }
      ],
      "source": [
        "np.cumsum(s)"
      ]
    },
    {
      "cell_type": "markdown",
      "metadata": {},
      "source": [
        "## So if we plot for PMF"
      ]
    },
    {
      "cell_type": "code",
      "execution_count": 30,
      "metadata": {
        "colab": {
          "base_uri": "https://localhost:8080/",
          "height": 285
        },
        "id": "Sh5gkLeLECAh",
        "outputId": "75c4eae6-60f1-4f3e-f93a-8ce9dba8110a"
      },
      "outputs": [
        {
          "data": {
            "text/plain": [
              "<Axes: >"
            ]
          },
          "execution_count": 30,
          "metadata": {},
          "output_type": "execute_result"
        },
        {
          "data": {
            "image/png": "[encoded data removed]",
            "text/plain": [
              "<Figure size 640x480 with 1 Axes>"
            ]
          },
          "metadata": {},
          "output_type": "display_data"
        }
      ],
      "source": [
        "s.plot(kind='bar')"
      ]
    },
    {
      "cell_type": "code",
      "execution_count": 31,
      "metadata": {
        "colab": {
          "base_uri": "https://localhost:8080/",
          "height": 285
        },
        "id": "FnuC_aQS-hx7",
        "outputId": "329d4d56-a5a0-4c6f-b8a0-a16d2a9d33ce"
      },
      "outputs": [
        {
          "data": {
            "text/plain": [
              "<Axes: >"
            ]
          },
          "execution_count": 31,
          "metadata": {},
          "output_type": "execute_result"
        },
        {
          "data": {
            "image/png": "[encoded data removed]",
            "text/plain": [
              "<Figure size 640x480 with 1 Axes>"
            ]
          },
          "metadata": {},
          "output_type": "display_data"
        }
      ],
      "source": [
        "np.cumsum(s).plot(kind='bar')"
      ]
    },
    {
      "cell_type": "markdown",
      "metadata": {
        "id": "wwfm9K_sDL1M"
      },
      "source": [
        "# Parametric Density Estimation\n",
        "\n",
        "## To Calculate PDF, let's generate 1000 datapoints which are normally distributed using normal function from numpy, with mean 50 and standerd deviation 5\n",
        "\n",
        "## these parameters are sample parameter; so the actual mean is a little different than sample mean\n",
        "\n",
        "## this is the sample data not the entire data"
      ]
    },
    {
      "cell_type": "code",
      "execution_count": 32,
      "metadata": {
        "id": "Pj2zd24bDQnC"
      },
      "outputs": [],
      "source": [
        "import matplotlib.pyplot as plt\n",
        "import numpy as np\n",
        "from numpy.random import normal\n",
        "\n",
        "sample = normal(loc=50, scale=5,size=1000)"
      ]
    },
    {
      "cell_type": "code",
      "execution_count": 33,
      "metadata": {},
      "outputs": [
        {
          "data": {
            "text/plain": [
              "array([53.84817731, 47.23901681, 54.29065252, 48.02730811, 53.02904273,\n",
              "       51.7756585 , 49.50327402, 55.68332758, 49.13199307, 48.11564157,\n",
              "       37.78840386, 41.92194378, 54.52472724, 52.57852363, 51.89625725,\n",
              "       48.42735832, 46.96961708, 48.43234627, 54.74988212, 45.71341379,\n",
              "       51.07138434, 53.88016043, 53.49116037, 57.96882455, 51.60798757,\n",
              "       49.28354751, 60.99783206, 45.23855794, 49.12292101, 48.96245216,\n",
              "       57.29119629, 46.11230709, 45.06409482, 48.37035623, 50.77588969,\n",
              "       50.20809778, 52.76717702, 52.98104155, 46.31977889, 53.37416069,\n",
              "       50.6088505 , 46.98903339, 45.00357524, 47.83259482, 49.62765277,\n",
              "       47.08817238, 49.8869697 , 48.30006708, 48.39146353, 52.80545905,\n",
              "       48.34807059, 54.61530641, 57.68736962, 48.53293123, 58.19086082,\n",
              "       44.64557528, 45.45467517, 48.7388763 , 55.67561667, 48.61067895,\n",
              "       52.40485256, 59.29640199, 41.41410787, 51.95666866, 50.28447653,\n",
              "       54.85744397, 46.17314488, 51.9860047 , 47.15271929, 50.60993119,\n",
              "       40.84426383, 55.78283148, 56.83682361, 50.18826135, 59.60081481,\n",
              "       48.45304896, 51.05723392, 50.42491721, 49.19611486, 53.86913255,\n",
              "       43.18673802, 53.99262458, 64.55973165, 53.36765551, 57.89236785,\n",
              "       49.95963732, 48.7515037 , 50.08937226, 45.28265443, 51.46698654,\n",
              "       50.52290054, 49.06369956, 46.61605964, 59.24223647, 50.57473333,\n",
              "       48.24088562, 52.19548058, 48.44884319, 42.63569778, 47.79481126,\n",
              "       44.25545846, 54.89400967, 53.32009692, 54.63768835, 49.99644602,\n",
              "       51.2275454 , 56.45565164, 38.37850792, 54.73541524, 51.85067544,\n",
              "       53.80733186, 53.19005135, 47.04601168, 43.28523729, 46.98011052,\n",
              "       44.00374147, 52.82343567, 41.7889952 , 50.97988357, 50.1197702 ,\n",
              "       47.25051381, 46.31838115, 52.71371139, 49.10057358, 51.35541648,\n",
              "       48.76821463, 51.66875411, 56.01084234, 51.95646621, 51.61275705,\n",
              "       45.59413212, 49.75191317, 46.78404355, 49.85074066, 53.41452984,\n",
              "       48.11557794, 47.55256777, 47.57900666, 49.46876607, 48.48860087,\n",
              "       35.26094118, 52.16696211, 47.58551759, 44.65100049, 48.19499684,\n",
              "       48.17984253, 47.42323809, 50.45441048, 50.67978737, 51.96133316,\n",
              "       53.5534808 , 46.54416947, 50.3511344 , 35.59817265, 47.91643791,\n",
              "       49.92253669, 51.53492414, 56.15563135, 56.63885528, 49.13723654,\n",
              "       52.09715596, 48.5027078 , 44.87549242, 45.74882591, 55.51681834,\n",
              "       56.58308987, 47.00974847, 46.37806575, 49.39851434, 46.42462549,\n",
              "       52.01521934, 36.50322697, 49.13524558, 50.98576372, 49.49917735,\n",
              "       39.1873158 , 53.65610295, 41.42679646, 48.97198291, 45.29479016,\n",
              "       55.66380705, 45.22423193, 48.28334381, 44.02805988, 52.37610125,\n",
              "       60.45302022, 44.40093274, 43.07123902, 53.12386146, 54.47622437,\n",
              "       47.94491247, 50.94056094, 59.55577143, 61.48336398, 46.88796051,\n",
              "       45.02052811, 47.61617914, 47.74101752, 50.97178051, 41.85360815,\n",
              "       54.22701252, 60.61069442, 51.36622795, 52.29336293, 52.66114107,\n",
              "       45.93830761, 47.16614685, 52.68242642, 51.67268149, 45.33847356,\n",
              "       49.16668653, 53.81159709, 45.77684592, 44.38712013, 47.96696837,\n",
              "       50.74706717, 52.84453871, 51.13184597, 47.79849505, 52.51899266,\n",
              "       39.03729334, 54.32312744, 43.2835345 , 60.13962479, 50.70772983,\n",
              "       47.22775038, 55.12277052, 51.60754584, 46.92617043, 59.42171937,\n",
              "       37.90896838, 52.36882629, 47.26431851, 50.86651267, 53.03692925,\n",
              "       43.94290646, 40.19198944, 49.43118357, 41.48039203, 59.99091391,\n",
              "       46.89600864, 45.55718399, 55.83854329, 51.35013296, 44.48941434,\n",
              "       57.3842328 , 50.39034365, 58.42515356, 51.5756056 , 40.56624899,\n",
              "       53.49263045, 40.0411157 , 45.29614819, 50.72544892, 52.55578509,\n",
              "       47.0596001 , 51.3988035 , 50.45281338, 49.31987273, 53.79805605,\n",
              "       51.37435066, 54.14004441, 51.9254229 , 53.16856479, 48.52552149,\n",
              "       46.21119186, 54.37666558, 47.05509831, 51.83812945, 47.43334771,\n",
              "       47.9071656 , 47.68310554, 48.14301314, 54.10285293, 47.08643432,\n",
              "       45.92801156, 47.7233747 , 41.70075221, 56.81370809, 50.43752598,\n",
              "       44.69730953, 50.9643542 , 39.20125403, 44.67825746, 51.54742745,\n",
              "       51.24617081, 52.21042278, 48.89273742, 54.69352727, 55.97820384,\n",
              "       51.12409993, 49.59442313, 53.17158676, 52.32035605, 57.28489179,\n",
              "       56.2176871 , 47.1158909 , 54.39293886, 46.80892463, 49.27026938,\n",
              "       44.55366833, 47.53134407, 55.28340586, 50.69813982, 53.66618942,\n",
              "       44.60098675, 51.60049381, 49.92117967, 57.96117244, 49.80037574,\n",
              "       51.77730947, 52.64654321, 50.98157553, 56.672345  , 52.856351  ,\n",
              "       51.52450574, 46.81283137, 48.33224744, 48.48717989, 49.06773682,\n",
              "       47.37183314, 48.7566435 , 40.77553747, 47.42170449, 55.63895914,\n",
              "       50.01000056, 40.72806292, 50.62895897, 53.73466711, 52.0417355 ,\n",
              "       45.37132942, 49.46197029, 60.19927175, 43.26758756, 47.23163374,\n",
              "       50.48723598, 60.34491869, 52.22448605, 58.36896918, 47.0400907 ,\n",
              "       49.68517404, 41.23057353, 54.21011983, 49.82383038, 47.35200313,\n",
              "       47.63199944, 47.05108428, 59.03137239, 59.04352606, 46.90572635,\n",
              "       48.90461059, 52.72218919, 38.67763523, 50.75888489, 54.27914254,\n",
              "       43.03149876, 52.68587373, 51.35841991, 53.58936704, 48.82814282,\n",
              "       52.38964214, 47.01342638, 45.00385738, 42.4689778 , 55.03008165,\n",
              "       57.72016408, 50.15556298, 55.42875094, 43.48331144, 54.49853109,\n",
              "       50.46437747, 45.81715955, 45.88847293, 44.19166344, 48.31494681,\n",
              "       56.7856386 , 50.10182205, 52.13971772, 51.42803769, 52.18731962,\n",
              "       49.27500439, 53.27984747, 50.68562942, 43.44652897, 49.81679609,\n",
              "       53.426885  , 51.60130868, 56.65733212, 54.47772367, 48.15914015,\n",
              "       43.95433696, 61.30028854, 50.7347657 , 49.37495485, 38.39009124,\n",
              "       57.82102743, 51.1777776 , 49.95596161, 53.36653114, 40.85475204,\n",
              "       49.12176768, 48.33826718, 46.9467001 , 52.53794237, 51.50533608,\n",
              "       53.5860868 , 43.461132  , 56.32399508, 51.05292658, 57.65247185,\n",
              "       50.80973001, 48.54658226, 57.10663473, 54.02641412, 57.98813144,\n",
              "       58.30338745, 42.01500346, 52.29067733, 47.37074874, 56.45339271,\n",
              "       45.48896333, 40.34368386, 41.49232765, 47.29891944, 52.04424774,\n",
              "       48.5498956 , 41.63089335, 47.22585525, 47.15724339, 52.27213177,\n",
              "       51.54740343, 47.34280521, 58.43935706, 54.9043972 , 52.02610835,\n",
              "       37.3733429 , 49.16594576, 50.5931319 , 47.92666819, 48.66298853,\n",
              "       50.94497041, 47.75517903, 43.6084731 , 46.78404137, 58.89385999,\n",
              "       52.69188881, 52.71917326, 49.63073534, 43.74278003, 60.38790347,\n",
              "       54.57107375, 45.16748568, 49.65289021, 50.8339644 , 51.83539065,\n",
              "       52.06133582, 55.3185732 , 49.39594701, 51.29710342, 45.670306  ,\n",
              "       49.7201654 , 54.97221334, 47.40692621, 50.29066538, 54.85097312,\n",
              "       45.2671857 , 54.39862261, 53.16180115, 53.7256908 , 48.22798873,\n",
              "       53.581452  , 50.55987381, 45.99075721, 48.91064136, 53.85434774,\n",
              "       45.92627627, 44.70979182, 56.60049412, 46.04675585, 53.704681  ,\n",
              "       57.89912557, 47.82673147, 45.03566662, 51.25417951, 46.99935044,\n",
              "       39.28775765, 48.34732386, 50.54412527, 46.45561712, 48.0542749 ,\n",
              "       49.65232774, 54.84569917, 45.96689003, 43.02763248, 46.94603374,\n",
              "       37.5365053 , 49.99312759, 54.92265437, 51.65629985, 44.10968689,\n",
              "       59.45911021, 51.83201405, 46.29644884, 53.67732243, 44.65987346,\n",
              "       53.01585051, 52.48329821, 43.5263908 , 46.93613559, 45.67323877,\n",
              "       51.87483181, 53.72329229, 52.7907461 , 50.52563099, 51.03854275,\n",
              "       48.24386944, 46.55569029, 53.60900164, 42.31549463, 44.83530277,\n",
              "       59.46506605, 44.80941122, 41.23579294, 56.75308831, 46.18078067,\n",
              "       44.28020096, 50.24538166, 48.80046798, 43.93789228, 58.47816326,\n",
              "       54.99148114, 46.19785655, 36.65955686, 47.9000014 , 33.4474198 ,\n",
              "       43.41094666, 54.44594846, 52.53819232, 50.53234945, 49.99638941,\n",
              "       54.86702848, 49.30625063, 43.99906556, 47.76427933, 58.02861317,\n",
              "       52.31130196, 49.71316202, 53.48865519, 44.64964015, 56.32341253,\n",
              "       53.0267803 , 51.53856497, 55.00436031, 45.99402059, 48.46289956,\n",
              "       54.02906381, 45.14597491, 53.98773853, 53.02181088, 47.89949451,\n",
              "       47.11389871, 46.95770778, 48.88911831, 49.2375343 , 45.22440317,\n",
              "       43.32559957, 58.74020187, 54.89263622, 53.12669016, 50.52999625,\n",
              "       53.98247527, 50.82599597, 43.14981422, 53.46180593, 51.97737123,\n",
              "       37.87381068, 47.74493117, 57.90741249, 53.25055857, 55.25845563,\n",
              "       54.10836545, 51.03218488, 61.92390081, 48.10234384, 52.96215772,\n",
              "       49.88181396, 49.89437753, 50.04686733, 52.25752682, 42.65556894,\n",
              "       54.34806392, 36.88379121, 45.49846366, 54.07750789, 51.13005737,\n",
              "       39.4605819 , 60.27951453, 44.0462181 , 53.24265973, 55.90263907,\n",
              "       53.93037015, 42.58714141, 46.83977778, 56.2065167 , 56.74751309,\n",
              "       53.8438108 , 51.73071489, 49.54601442, 54.53453157, 48.45375251,\n",
              "       49.667519  , 47.83114337, 61.30937283, 44.03345747, 38.86234432,\n",
              "       40.19973166, 46.62287905, 54.39371795, 53.27576347, 51.53705067,\n",
              "       50.54375666, 51.03411492, 45.2355124 , 52.82063175, 55.05109958,\n",
              "       50.08863418, 52.3620483 , 49.99994826, 57.25303405, 44.31345032,\n",
              "       44.95363373, 52.87229388, 50.41197765, 47.59005389, 44.9617846 ,\n",
              "       58.32421531, 50.01146079, 59.6393199 , 53.32917433, 47.82591176,\n",
              "       46.88689708, 62.22859717, 54.36381686, 45.71115802, 42.62880883,\n",
              "       40.63851852, 44.61183283, 42.85574626, 53.2665232 , 57.49989467,\n",
              "       45.16746727, 43.11698403, 53.31602659, 48.95662818, 46.48761962,\n",
              "       56.97764987, 55.64831001, 53.78292544, 53.51396202, 50.33816831,\n",
              "       47.22286738, 58.91208107, 48.79810921, 60.09008051, 48.870157  ,\n",
              "       47.38632721, 50.67120789, 42.60589348, 52.65501567, 44.67428222,\n",
              "       50.63126178, 51.12205292, 42.83827584, 47.00952925, 58.15602616,\n",
              "       57.7354446 , 49.5326129 , 43.14527254, 45.3127569 , 44.53117373,\n",
              "       65.780487  , 53.28901615, 49.51076625, 50.77964072, 52.65384318,\n",
              "       48.56779514, 44.04854219, 52.21786805, 54.04516746, 36.74517909,\n",
              "       57.26168442, 53.63981964, 46.27264499, 45.37561999, 48.71539171,\n",
              "       45.99610671, 45.17840744, 52.23521221, 50.71069532, 52.87005268,\n",
              "       53.67974014, 49.51905128, 52.56214512, 45.51582628, 55.41785373,\n",
              "       55.51603345, 51.98309558, 55.47761838, 54.86139076, 56.3271326 ,\n",
              "       52.4086208 , 44.78276038, 46.79122801, 59.04594254, 46.886601  ,\n",
              "       53.50522668, 45.30564238, 54.93034513, 53.14476349, 50.99594943,\n",
              "       59.83771095, 49.56017182, 53.19579691, 43.71190688, 39.3137544 ,\n",
              "       38.12712022, 53.24535394, 34.25020495, 53.28815022, 48.17935548,\n",
              "       58.86509463, 50.97882268, 56.62815425, 46.06640418, 54.46487753,\n",
              "       50.34558061, 43.35396461, 45.2572284 , 45.76907401, 48.40064354,\n",
              "       51.34602464, 47.98368796, 53.96216766, 51.44624563, 51.57736622,\n",
              "       46.17705936, 50.35289692, 45.73248601, 45.99064226, 45.66415767,\n",
              "       45.59877773, 52.17700254, 41.91602454, 53.07697958, 46.33952097,\n",
              "       45.94326352, 51.16699234, 56.40060698, 53.05347431, 53.16566206,\n",
              "       56.55478335, 49.23054349, 51.55779366, 50.32386452, 39.11666169,\n",
              "       42.08015429, 48.61029759, 50.56020505, 58.11669766, 48.10895819,\n",
              "       41.53848823, 62.83469621, 51.41968622, 54.16491254, 47.6192216 ,\n",
              "       54.49246138, 51.17974646, 48.73799973, 51.43345766, 52.76724554,\n",
              "       46.94039093, 56.70415994, 47.27642509, 49.47718761, 40.7011874 ,\n",
              "       59.33648848, 44.20303292, 46.29619405, 59.43846531, 45.21087943,\n",
              "       46.80967124, 49.92010068, 43.98060934, 53.86152893, 58.24745512,\n",
              "       45.60469297, 46.78693195, 60.74383645, 48.07884824, 58.88548655,\n",
              "       50.61853813, 42.45822658, 51.08016814, 47.19787349, 44.23657615,\n",
              "       50.77512078, 37.146718  , 49.48981054, 54.29162339, 56.57019718,\n",
              "       46.6733821 , 50.27053114, 47.3160822 , 47.92321563, 57.19438229,\n",
              "       46.63963403, 42.84269913, 43.7953827 , 56.38325587, 54.24163661,\n",
              "       41.76136501, 44.02779686, 55.74465969, 47.55468692, 55.53276852,\n",
              "       44.06993156, 45.72648527, 42.21392574, 48.31020585, 48.35396712,\n",
              "       42.2568169 , 41.78819153, 46.08550513, 45.69508755, 45.63167902,\n",
              "       53.21570582, 62.59394851, 49.59970923, 62.07032317, 36.11035043,\n",
              "       49.82960132, 47.39084074, 50.54263783, 44.07001666, 45.90053677,\n",
              "       46.8025921 , 48.62342827, 60.3660886 , 40.30485365, 49.39518095,\n",
              "       46.24444945, 45.19716519, 53.07829558, 51.54091319, 51.50899059,\n",
              "       46.72206076, 42.74731784, 52.60270595, 60.03110255, 43.73132126,\n",
              "       48.52938398, 50.49925757, 45.67854281, 53.96113937, 51.1503868 ,\n",
              "       44.01528   , 45.81010076, 54.71734345, 46.66887305, 54.89576187,\n",
              "       43.02417664, 49.5431848 , 57.36446456, 51.78258354, 51.70770529,\n",
              "       45.78576439, 51.56601212, 55.98567082, 43.28128866, 53.25738486,\n",
              "       54.44836264, 44.29178551, 53.73132777, 52.69384448, 52.05235143,\n",
              "       50.01755598, 57.1405144 , 49.82488575, 49.68370803, 60.60523244,\n",
              "       52.10347233, 50.89886981, 51.33391721, 50.25880924, 43.15154782,\n",
              "       46.19291295, 56.28021485, 59.61640152, 43.68572632, 48.84498896,\n",
              "       41.84456574, 49.69856636, 45.16552745, 53.46718582, 46.36131597,\n",
              "       50.39305634, 44.23317372, 48.55214997, 57.36904598, 47.66383295,\n",
              "       56.80103654, 48.54198322, 52.00590894, 46.03910586, 55.36580146,\n",
              "       54.34842951, 45.45817231, 56.21528613, 55.54898403, 49.65405292,\n",
              "       50.28357409, 42.50312752, 53.60815538, 47.61175943, 49.99521627,\n",
              "       55.98558317, 40.42613318, 47.63009427, 40.55208286, 53.57710578,\n",
              "       42.42679899, 43.65068964, 42.41399787, 52.84176074, 57.03689573,\n",
              "       54.66671008, 52.00907347, 57.17758838, 55.84367915, 48.98233058,\n",
              "       53.64384465, 59.03992572, 46.35011328, 47.71286027, 45.67208675,\n",
              "       47.03064   , 55.81295127, 54.98132849, 42.48083015, 50.05177698,\n",
              "       45.9887918 , 54.46161379, 56.53558656, 51.62273182, 48.23525278,\n",
              "       50.20961372, 53.05123676, 47.50159722, 49.87128549, 44.44607156,\n",
              "       49.52650313, 49.07420701, 51.01330819, 53.64337779, 51.73823667,\n",
              "       44.53990536, 35.98617563, 43.53921595, 48.63843611, 46.03240894,\n",
              "       47.86290194, 51.67349624, 45.71193895, 53.57306486, 45.84842593,\n",
              "       48.52421075, 47.46938224, 46.31361471, 55.5869408 , 59.94337672,\n",
              "       56.37293591, 47.68782399, 43.7397001 , 51.15959591, 42.3767817 ,\n",
              "       53.55098382, 54.10522083, 49.6914761 , 51.13892692, 52.02494579,\n",
              "       51.60707435, 52.4519069 , 46.46492355, 56.0997481 , 54.96993512,\n",
              "       51.16217018, 50.2748195 , 50.16757884, 44.79373244, 52.02092309])"
            ]
          },
          "execution_count": 33,
          "metadata": {},
          "output_type": "execute_result"
        }
      ],
      "source": [
        "sample"
      ]
    },
    {
      "cell_type": "markdown",
      "metadata": {},
      "source": [
        "## As we see this is the sample mean different than actual mean 50"
      ]
    },
    {
      "cell_type": "code",
      "execution_count": 34,
      "metadata": {
        "colab": {
          "base_uri": "https://localhost:8080/"
        },
        "id": "_rEna39pIYVI",
        "outputId": "da1fb9f3-da69-4714-92a3-fad89318691e"
      },
      "outputs": [
        {
          "data": {
            "text/plain": [
              "49.92048350285612"
            ]
          },
          "execution_count": 34,
          "metadata": {},
          "output_type": "execute_result"
        }
      ],
      "source": [
        "sample.mean()"
      ]
    },
    {
      "cell_type": "markdown",
      "metadata": {},
      "source": [
        "# Step 2\n",
        "## Let's plot the histogram to see how the data is distributed"
      ]
    },
    {
      "cell_type": "code",
      "execution_count": 35,
      "metadata": {
        "colab": {
          "base_uri": "https://localhost:8080/",
          "height": 352
        },
        "id": "M6dGCQ1i4QTM",
        "outputId": "dd86b9e9-df29-4f5d-ef31-3f894151c16c"
      },
      "outputs": [
        {
          "data": {
            "text/plain": [
              "(array([  8.,  20.,  57., 159., 220., 252., 172.,  77.,  31.,   4.]),\n",
              " array([33.4474198 , 36.68072652, 39.91403324, 43.14733996, 46.38064668,\n",
              "        49.6139534 , 52.84726012, 56.08056684, 59.31387356, 62.54718028,\n",
              "        65.780487  ]),\n",
              " <BarContainer object of 10 artists>)"
            ]
          },
          "execution_count": 35,
          "metadata": {},
          "output_type": "execute_result"
        },
        {
          "data": {
            "image/png": "[encoded data removed]",
            "text/plain": [
              "<Figure size 640x480 with 1 Axes>"
            ]
          },
          "metadata": {},
          "output_type": "display_data"
        }
      ],
      "source": [
        "plt.hist(sample,bins=10)"
      ]
    },
    {
      "cell_type": "markdown",
      "metadata": {},
      "source": [
        "# Step 3\n",
        "## As we see the data looks like normally distributed, we'll calculate sample mean and sample standerd deviation"
      ]
    },
    {
      "cell_type": "code",
      "execution_count": 36,
      "metadata": {
        "id": "X-v35mzRgjZ3"
      },
      "outputs": [],
      "source": [
        "sample_mean = sample.mean()\n",
        "sample_std = sample.std()"
      ]
    },
    {
      "cell_type": "markdown",
      "metadata": {},
      "source": [
        "# Step 4\n",
        "![alt text](Capture-1.JPG)\n",
        "\n",
        "## to calculate PDF we need to provide mean and standerd deviation"
      ]
    },
    {
      "cell_type": "code",
      "execution_count": 38,
      "metadata": {
        "id": "5ur02_Xng9WR"
      },
      "outputs": [],
      "source": [
        "# fit the distribution with the above parameters\n",
        "\n",
        "from scipy.stats import norm\n",
        "dist = norm(sample_mean, sample_std)"
      ]
    },
    {
      "cell_type": "markdown",
      "metadata": {},
      "source": [
        "## we are creating 100 datapoints between minimum and maximum values"
      ]
    },
    {
      "cell_type": "code",
      "execution_count": 40,
      "metadata": {
        "id": "hlcOo447hkFR"
      },
      "outputs": [],
      "source": [
        "values = np.linspace(sample.min(),sample.max(),100)"
      ]
    },
    {
      "cell_type": "code",
      "execution_count": 42,
      "metadata": {},
      "outputs": [
        {
          "data": {
            "text/plain": [
              "33.447419800656036"
            ]
          },
          "execution_count": 42,
          "metadata": {},
          "output_type": "execute_result"
        }
      ],
      "source": [
        "sample.min()"
      ]
    },
    {
      "cell_type": "code",
      "execution_count": 41,
      "metadata": {
        "colab": {
          "base_uri": "https://localhost:8080/"
        },
        "id": "BvZ48Ud_JGRu",
        "outputId": "29a09a40-6a37-48b4-9c45-289f648978cf"
      },
      "outputs": [
        {
          "data": {
            "text/plain": [
              "65.78048700042442"
            ]
          },
          "execution_count": 41,
          "metadata": {},
          "output_type": "execute_result"
        }
      ],
      "source": [
        "sample.max()"
      ]
    },
    {
      "cell_type": "markdown",
      "metadata": {},
      "source": [
        "# Now all we need to do is provide the value of x to the PDF equation\n",
        "\n",
        "![alt text](Capture-2.JPG)"
      ]
    },
    {
      "cell_type": "code",
      "execution_count": 44,
      "metadata": {
        "id": "qOQvG9dqh_bd"
      },
      "outputs": [],
      "source": [
        "probability_densities = [dist.pdf(value) for value in values]"
      ]
    },
    {
      "cell_type": "markdown",
      "metadata": {},
      "source": [
        "# Step 5\n",
        "## Now as we have the probabilities densities we can simply plot the graph"
      ]
    },
    {
      "cell_type": "code",
      "execution_count": 47,
      "metadata": {
        "colab": {
          "base_uri": "https://localhost:8080/",
          "height": 282
        },
        "id": "qh2YfPFXiJ8x",
        "outputId": "302b0092-460e-413f-f832-993b84da70b6"
      },
      "outputs": [
        {
          "data": {
            "text/plain": [
              "[<matplotlib.lines.Line2D at 0x1a96adf3560>]"
            ]
          },
          "execution_count": 47,
          "metadata": {},
          "output_type": "execute_result"
        },
        {
          "data": {
            "image/png": "[encoded data removed]",
            "text/plain": [
              "<Figure size 640x480 with 1 Axes>"
            ]
          },
          "metadata": {},
          "output_type": "display_data"
        }
      ],
      "source": [
        "plt.hist(sample,bins=10)\n",
        "plt.plot(values,probability_densities)"
      ]
    },
    {
      "cell_type": "markdown",
      "metadata": {},
      "source": [
        "## If we keep the density same it'll look better"
      ]
    },
    {
      "cell_type": "code",
      "execution_count": 48,
      "metadata": {},
      "outputs": [
        {
          "data": {
            "text/plain": [
              "[<matplotlib.lines.Line2D at 0x1a96ac10710>]"
            ]
          },
          "execution_count": 48,
          "metadata": {},
          "output_type": "execute_result"
        },
        {
          "data": {
            "image/png": "[encoded data removed]",
            "text/plain": [
              "<Figure size 640x480 with 1 Axes>"
            ]
          },
          "metadata": {},
          "output_type": "display_data"
        }
      ],
      "source": [
        "plt.hist(sample,bins=10,density=True)\n",
        "plt.plot(values,probability_densities)"
      ]
    },
    {
      "cell_type": "code",
      "execution_count": null,
      "metadata": {
        "colab": {
          "base_uri": "https://localhost:8080/",
          "height": 337
        },
        "id": "3TgDJNrlJ24I",
        "outputId": "dd40abf9-509d-4ef7-f769-51d2bc252981"
      },
      "outputs": [
        {
          "name": "stderr",
          "output_type": "stream",
          "text": [
            "/usr/local/lib/python3.9/dist-packages/seaborn/distributions.py:2619: FutureWarning: `distplot` is a deprecated function and will be removed in a future version. Please adapt your code to use either `displot` (a figure-level function with similar flexibility) or `histplot` (an axes-level function for histograms).\n",
            "  warnings.warn(msg, FutureWarning)\n"
          ]
        },
        {
          "data": {
            "text/plain": [
              "<AxesSubplot:ylabel='Density'>"
            ]
          },
          "execution_count": 104,
          "metadata": {},
          "output_type": "execute_result"
        },
        {
          "data": {
            "image/png": "[encoded data removed]",
            "text/plain": [
              "<Figure size 432x288 with 1 Axes>"
            ]
          },
          "metadata": {
            "needs_background": "light"
          },
          "output_type": "display_data"
        }
      ],
      "source": [
        "import seaborn as sns\n",
        "sns.plot(sample)"
      ]
    },
    {
      "cell_type": "markdown",
      "metadata": {
        "id": "wIKxiromDJmn"
      },
      "source": [
        "# KDE"
      ]
    },
    {
      "cell_type": "code",
      "execution_count": null,
      "metadata": {
        "id": "tANSTx4znAYG"
      },
      "outputs": [],
      "source": [
        "# generate a sample\n",
        "sample1 = normal(loc=20, scale=5, size=300)\n",
        "sample2 = normal(loc=40, scale=5, size=700)\n",
        "sample = np.hstack((sample1, sample2))"
      ]
    },
    {
      "cell_type": "code",
      "execution_count": null,
      "metadata": {
        "colab": {
          "base_uri": "https://localhost:8080/"
        },
        "id": "WagjEqX-NNxR",
        "outputId": "991f9d4e-4476-4cdd-8c6a-240c5c10f399"
      },
      "outputs": [
        {
          "data": {
            "text/plain": [
              "array([25.37101508, 23.17282846, 23.19266408, 21.23591442, 19.99585223,\n",
              "       26.05479481, 24.87635573, 22.5707997 , 24.53847252, 17.19733365,\n",
              "       15.62925657, 18.86415649, 19.00022272, 18.59746903, 13.39775335,\n",
              "       14.44637505, 16.50879004, 22.05320241, 16.91522729, 24.87998461,\n",
              "       25.38985776, 27.60649904, 20.60436429, 20.51424303, 16.82990467,\n",
              "       16.72124091, 15.82440899, 19.21818665, 22.43898545, 19.05112432,\n",
              "       21.23007028, 22.35301007, 14.54516627, 13.68508601, 21.93909454,\n",
              "       16.50490442, 18.52882481, 22.6361671 , 22.06974787, 22.80384678,\n",
              "       16.02872418, 14.45938868, 19.39410043, 23.67978479, 30.33476097,\n",
              "       17.75143584, 18.41254234, 22.79632257, 14.69758962, 24.0195535 ,\n",
              "       19.72296554, 18.34844409, 22.4203516 , 17.6989518 , 23.95721438,\n",
              "       22.29306234, 13.23571722, 17.7655658 , 26.32972605, 15.46106693,\n",
              "       21.51581129, 22.84867011, 19.72513232, 24.73696242, 21.79223535,\n",
              "        8.22274972, 15.86279733, 20.42353259, 25.27510655, 11.79336859,\n",
              "       30.98321687, 25.27164993, 20.99753848, 26.67515231, 24.7271303 ,\n",
              "       21.63150605, 24.60940313, 23.30878058, 28.05151889, 21.17020424,\n",
              "       16.78264853, 14.12669305, 11.80739263,  5.05186622, 21.39726354,\n",
              "       15.61932563, 16.59017009, 20.04965707, 23.11173277, 14.57859971,\n",
              "       26.12455937, 26.26216464, 21.22182602,  8.85059506, 17.19364332,\n",
              "       22.29817619, 19.17735695, 14.89720989, 17.36085747, 17.1183832 ,\n",
              "       20.28324735, 27.05545087, 21.09241359, 21.88932091, 24.12244744,\n",
              "       14.2880955 , 22.71175357, 16.03407841, 21.16002229, 17.25168091,\n",
              "       12.35880113, 17.99983483, 17.76747721, 19.64827737, 20.868073  ,\n",
              "       22.56885729, 20.10785454, 21.38082444, 21.90100254, 29.08848779,\n",
              "       24.74629218, 13.50222425, 23.88186078, 21.85681186,  7.02675044,\n",
              "        9.90320294, 18.69286498,  9.15045863, 25.57540596, 14.18278419,\n",
              "       21.73176782, 23.1606919 , 17.90438272, 24.96182011, 16.57844909,\n",
              "        6.36002823, 24.78961174, 11.86592833, 15.3407537 , 25.08009891,\n",
              "       11.34006611, 22.97390008, 28.27499148, 15.55016342, 16.34681504,\n",
              "       23.50536342, 22.29213397, 20.23312824, 23.11627322, 20.61688122,\n",
              "        9.57667934, 26.78338359, 21.10275124, 32.10644825, 17.09923323,\n",
              "       27.98466852, 20.32323469, 14.10503853, 18.12318603, 17.43011757,\n",
              "       21.07648969, 18.67818737, 17.81757834,  9.30223607, 18.48552739,\n",
              "       18.70204873, 25.68824933, 19.05019273, 16.39032404, 26.08934326,\n",
              "       20.17006534,  9.12645349,  5.89423269, 16.35405488, 23.27501581,\n",
              "       16.82084574, 29.74043569, 20.18629982, 18.24601079, 23.18352563,\n",
              "       18.90359697,  8.63121699, 18.2930157 , 11.5290024 , 16.39303508,\n",
              "       18.92919987, 14.57333024, 19.52109113, 17.53375919, 25.87628953,\n",
              "       23.55675677, 11.33288285, 16.74051487, 18.46771288, 28.79462526,\n",
              "       21.37614571, 28.04604062, 26.34210096, 24.68440547, 28.47095162,\n",
              "       15.94117231, 19.35134081, 14.5701244 , 15.71938091, 23.60508574,\n",
              "       15.46047783, 19.90686679, 12.55894732, 15.46622532, 21.4263793 ,\n",
              "       18.17069968, 27.28927082, 12.54958259, 14.91019411, 24.65403664,\n",
              "       18.00419714, 14.41376697, 23.77078508, 21.75974396, 20.89187443,\n",
              "       19.42516299, 21.89752599, 20.93304196, 23.90513584, 21.43002363,\n",
              "       18.52895782, 16.71201353, 13.67725951, 18.30366448, 23.03085079,\n",
              "       19.33705698, 25.27806926, 20.11656414, 25.26448695, 33.38601471,\n",
              "       13.96621707, 15.89733303, 20.83892597, 16.27569864, 28.68295975,\n",
              "       25.75488628, 22.939394  , 25.45781151, 20.29437577, 27.07100449,\n",
              "       24.42457018, 22.31363222, 22.7558104 , 22.8726237 , 18.47619897,\n",
              "       20.99851326, 18.91547169, 28.88932465, 19.45021749, 18.93285244,\n",
              "       21.69607542, 15.77282225, 15.68924639, 15.57018335, 28.02897941,\n",
              "       17.99334961, 23.86003035, 14.18082463, 16.93595427, 19.2814389 ,\n",
              "       22.15848311, 25.4594286 , 22.50721518, 14.13010351, 25.03236024,\n",
              "       28.84136287, 24.17320625, 15.77171299, 19.78258207, 13.21617116,\n",
              "       22.33858876, 13.2282553 , 18.63374997, 16.51538315, 21.46124808,\n",
              "       12.29998606, 10.49452423, 21.90382576, 18.08726767, 16.61968217,\n",
              "       28.91808032, 14.9863611 , 21.97243812, 15.82700917, 28.8810876 ,\n",
              "       24.86015152, 15.62734566, 15.27845298, 22.93710468, 17.60938761,\n",
              "       25.0124093 , 18.74136892, 21.38243622, 21.95787799, 21.50418021,\n",
              "       41.0741759 , 41.41914491, 38.24365405, 39.87907291, 34.98392569,\n",
              "       45.23990366, 34.21905167, 40.19245345, 40.73553464, 42.84887533,\n",
              "       39.76153054, 29.94066035, 38.56514619, 37.98881783, 31.89527468,\n",
              "       29.14744504, 37.10686621, 42.18490174, 41.74820744, 35.86236639,\n",
              "       49.52952782, 36.28137182, 43.31718992, 42.44600978, 38.41862013,\n",
              "       41.80059062, 45.52670395, 41.27611923, 28.06329917, 38.44391051,\n",
              "       46.22115727, 35.51874083, 41.41175836, 36.00726735, 37.20215621,\n",
              "       41.47857716, 41.39903645, 34.37437495, 39.73988878, 36.50351007,\n",
              "       50.41543751, 38.52270962, 44.55094986, 39.81588082, 43.37436134,\n",
              "       35.83635116, 32.35551974, 44.93477396, 37.23754461, 37.98959225,\n",
              "       37.75272764, 40.8530519 , 34.85739242, 46.79646907, 39.14420781,\n",
              "       44.20815943, 39.87551678, 36.90866251, 32.06960164, 35.97896455,\n",
              "       44.37846088, 37.69088549, 39.25199249, 44.75317325, 38.40245654,\n",
              "       44.82844153, 40.80150961, 31.03854539, 33.81965963, 37.90509009,\n",
              "       39.59187872, 36.39803252, 41.5221155 , 49.11156693, 44.56818962,\n",
              "       38.67786101, 45.84138415, 39.19436841, 31.79658523, 42.17075001,\n",
              "       37.48319973, 43.53857445, 45.41378396, 39.18586238, 37.33311284,\n",
              "       35.32279632, 36.48912034, 42.91444883, 37.06126601, 47.24720688,\n",
              "       44.4632233 , 40.59842258, 46.96566359, 42.74140712, 35.10379742,\n",
              "       50.89544581, 39.30289443, 42.75985366, 37.0079749 , 39.68640939,\n",
              "       35.78943198, 39.64554775, 52.85576872, 29.98521283, 37.38275314,\n",
              "       36.98978506, 38.43290892, 40.70780059, 35.81615827, 39.61561306,\n",
              "       41.97774424, 36.52319362, 43.07895748, 45.91041075, 47.05691027,\n",
              "       43.03798465, 42.13709124, 48.07968329, 45.83841487, 41.03610323,\n",
              "       42.62397852, 52.31393646, 46.43669983, 36.6713587 , 38.37557792,\n",
              "       42.93732159, 39.40128832, 45.96976361, 41.33910985, 43.26877768,\n",
              "       48.69544611, 42.66405404, 41.87029612, 44.81687514, 40.90608383,\n",
              "       40.62215967, 40.94309833, 41.90541385, 39.92070848, 34.88910549,\n",
              "       45.30869139, 39.68585167, 38.00141658, 34.78926272, 46.66441031,\n",
              "       40.43655517, 33.6067768 , 42.26246648, 46.9505463 , 45.47476821,\n",
              "       42.12022124, 42.01853476, 43.82284462, 38.62352643, 38.06725275,\n",
              "       39.52111502, 33.62912278, 40.22256891, 37.0208567 , 30.21705826,\n",
              "       34.06268386, 41.65885503, 44.27582044, 45.09618683, 37.32483203,\n",
              "       44.47588172, 42.48131224, 35.79452299, 39.0832571 , 43.65840104,\n",
              "       41.83356157, 41.9752401 , 50.24873012, 46.42842879, 36.39442907,\n",
              "       39.91651488, 48.80125315, 31.19348861, 47.2767498 , 39.28024532,\n",
              "       47.13604961, 39.28097698, 47.33478906, 41.81557569, 46.83489133,\n",
              "       39.59783901, 30.17342009, 42.20566065, 40.30456576, 39.34825318,\n",
              "       41.08826345, 35.82430174, 41.27399781, 34.24969189, 32.4208817 ,\n",
              "       40.53934958, 39.77514626, 39.52897883, 46.6174556 , 35.00066048,\n",
              "       40.08787686, 30.66014277, 45.29737443, 39.43455999, 43.12624903,\n",
              "       43.69942189, 44.960577  , 42.42502713, 56.39046814, 41.94568846,\n",
              "       38.24177848, 35.12850529, 41.06461694, 43.10416498, 40.27907187,\n",
              "       34.74304951, 38.58351147, 36.52121653, 43.79851694, 39.12292998,\n",
              "       38.40921829, 39.3190778 , 38.7270657 , 48.74489569, 45.57168981,\n",
              "       41.8057959 , 41.77549631, 47.41912147, 33.47301834, 39.19149983,\n",
              "       37.54320892, 40.31850314, 28.73889316, 40.94277105, 39.58151451,\n",
              "       41.1187906 , 39.38089379, 41.33562295, 34.93160707, 36.8854692 ,\n",
              "       37.53720281, 46.01301467, 38.50085051, 38.95905211, 32.491023  ,\n",
              "       44.46386333, 35.56985487, 45.35003826, 47.23430599, 37.95071393,\n",
              "       39.13350005, 41.16366166, 51.35579281, 35.18878543, 39.69899186,\n",
              "       43.71624041, 37.88709301, 38.08007219, 34.46757815, 32.63737883,\n",
              "       36.46053433, 39.0182914 , 30.4299954 , 37.05968359, 33.26457689,\n",
              "       32.24396804, 39.35956084, 50.95199341, 47.65605658, 45.130757  ,\n",
              "       44.11616762, 40.84706251, 40.74978747, 42.11687831, 40.48589537,\n",
              "       41.69503667, 43.61810095, 31.4400789 , 35.59814465, 35.32813433,\n",
              "       43.91029175, 37.26571608, 38.41287963, 41.4473774 , 37.43447322,\n",
              "       40.25571184, 34.40372988, 44.15185276, 40.74277253, 41.44558108,\n",
              "       42.79322751, 34.34635519, 49.88968855, 45.34239332, 43.70127142,\n",
              "       47.5388867 , 44.18742645, 42.47376688, 45.55050967, 39.19708754,\n",
              "       38.4212459 , 40.88617665, 36.45365519, 37.45862599, 44.35003511,\n",
              "       42.77540068, 44.2989849 , 37.74837959, 34.71848359, 41.46340445,\n",
              "       41.23703844, 42.65787583, 35.44164612, 32.46847532, 41.05119369,\n",
              "       47.88855136, 45.4829783 , 35.6935348 , 41.2799797 , 43.32650706,\n",
              "       44.16957899, 49.4491652 , 31.71167691, 39.92938315, 40.90801743,\n",
              "       49.90102555, 30.85164971, 35.20886361, 47.55547467, 49.30709962,\n",
              "       48.77751404, 41.74206185, 36.86704366, 38.26561585, 43.82999284,\n",
              "       42.22172673, 45.93953913, 37.07346936, 32.9385562 , 46.97360686,\n",
              "       47.66875849, 41.00211389, 43.79037461, 33.26752282, 28.80475669,\n",
              "       48.02365406, 44.22508647, 38.1397994 , 36.06783486, 41.85083064,\n",
              "       40.92973778, 46.69145985, 43.13002482, 41.66648372, 44.97365014,\n",
              "       42.57851093, 38.63551294, 36.98539465, 38.24784866, 43.64417777,\n",
              "       39.31599763, 33.30604272, 30.18796337, 42.87774868, 46.72779135,\n",
              "       44.00363724, 43.82501101, 43.48164555, 45.58803477, 36.89291011,\n",
              "       47.76357248, 43.26989396, 46.73057123, 41.46582675, 41.05992883,\n",
              "       36.36122628, 41.04163229, 40.85581658, 42.45096863, 35.08493489,\n",
              "       45.55056949, 51.72665339, 45.60411596, 43.38468548, 52.32670989,\n",
              "       44.03534065, 35.9634601 , 40.37803159, 49.93993427, 32.45494667,\n",
              "       40.26822408, 42.85394787, 37.92438777, 39.83067761, 34.46801716,\n",
              "       39.76839175, 40.77108689, 47.96217482, 40.65931021, 44.7681893 ,\n",
              "       38.155861  , 38.16700937, 32.51452092, 41.1091604 , 37.32774255,\n",
              "       41.56707939, 35.06569819, 39.2989464 , 34.26105499, 43.7082327 ,\n",
              "       44.66577745, 40.25094516, 50.6113641 , 42.75084615, 41.03013169,\n",
              "       38.16586302, 37.2349834 , 28.18057339, 35.355291  , 34.13989008,\n",
              "       46.03353533, 40.6466733 , 34.23418697, 41.72161819, 44.63396534,\n",
              "       39.17641764, 43.25080924, 35.01509648, 49.70846018, 35.63011524,\n",
              "       41.05263484, 37.64410672, 43.98133824, 43.17110041, 41.68413606,\n",
              "       33.41299288, 41.42281767, 30.59877068, 34.84120445, 35.2265054 ,\n",
              "       37.56903893, 36.88421947, 34.90382216, 41.66552856, 33.86457452,\n",
              "       44.09014989, 43.31772554, 40.59635924, 28.16922734, 34.2225738 ,\n",
              "       37.9195099 , 41.35458035, 37.77381219, 39.08522177, 35.07191047,\n",
              "       39.88251751, 31.02492678, 41.24676034, 39.10824346, 31.53252914,\n",
              "       41.97955517, 44.2750435 , 46.51038738, 44.89736886, 30.34738128,\n",
              "       48.58429003, 36.32292234, 30.97806661, 36.06618499, 38.40519865,\n",
              "       42.26733294, 37.93528358, 42.83073454, 51.39412138, 38.51714627,\n",
              "       44.87992244, 35.47308304, 40.50895933, 53.23550055, 44.62218618,\n",
              "       45.54239065, 39.26968991, 40.99838492, 42.30504773, 29.94827646,\n",
              "       41.98960937, 39.25755256, 47.98567532, 41.15652489, 35.01275215,\n",
              "       42.48226719, 34.93788255, 44.3811202 , 40.24800378, 40.5152042 ,\n",
              "       39.7152192 , 32.44202541, 27.35257494, 48.80361914, 44.02387616,\n",
              "       35.24541237, 41.98718646, 42.62538277, 42.0354184 , 44.27109102,\n",
              "       45.48779512, 48.99516166, 41.18723545, 35.40957623, 44.08589214,\n",
              "       35.73433645, 33.37464387, 39.55679732, 36.8758092 , 46.0789014 ,\n",
              "       38.46646857, 41.54792385, 29.20978066, 42.56334456, 37.37244968,\n",
              "       46.84571469, 47.56001774, 40.73073147, 38.69246692, 41.55494361,\n",
              "       43.63431559, 42.07048252, 39.27526297, 47.99332781, 40.21608073,\n",
              "       36.80172198, 43.36439364, 42.48766044, 35.76193617, 44.93776434,\n",
              "       38.76932004, 32.27525645, 43.70781218, 35.22213425, 40.21315005,\n",
              "       41.30006213, 38.35687654, 42.34130196, 39.70926494, 40.69038388,\n",
              "       45.33350455, 37.04934665, 40.07922147, 34.99525709, 42.82568587,\n",
              "       46.32642241, 46.04922546, 32.73732048, 45.77527202, 37.25211768,\n",
              "       39.68315367, 33.96833878, 36.65914333, 42.15743708, 49.18959476,\n",
              "       43.74344185, 44.81169988, 30.54103775, 39.91423165, 40.5104222 ,\n",
              "       41.51517014, 44.19105724, 35.51176396, 36.60125127, 41.87063223,\n",
              "       42.51242863, 48.85618242, 45.69008113, 43.48256463, 43.41926303,\n",
              "       36.70816673, 41.06667665, 41.44369923, 39.33984316, 50.90998327,\n",
              "       47.47093465, 33.77325001, 38.83475007, 43.05365588, 34.58768341,\n",
              "       41.18597244, 44.39411671, 38.12597047, 38.23308136, 43.52511468,\n",
              "       45.44492423, 36.49140212, 43.68445151, 48.64803526, 40.50552878,\n",
              "       38.77200543, 41.77004836, 39.48066122, 28.19826095, 44.5792832 ,\n",
              "       44.81886221, 41.16995243, 33.61051472, 40.14465473, 45.06478475,\n",
              "       46.25204819, 41.58832867, 41.73185652, 45.08025656, 41.09511627,\n",
              "       29.48609513, 39.15610379, 35.56635413, 35.21388952, 26.71141849,\n",
              "       43.74472604, 44.555497  , 37.21902812, 31.88010303, 39.88828333,\n",
              "       35.44717795, 43.60060583, 37.55195396, 38.18579578, 30.15228105,\n",
              "       44.84513172, 42.26568778, 35.32728432, 43.36398227, 38.8988552 ,\n",
              "       46.65572642, 39.35436465, 40.74036481, 37.72657537, 42.76851122,\n",
              "       42.65149028, 38.68185137, 43.26592724, 49.30900386, 36.10198981,\n",
              "       40.33514146, 37.2237043 , 44.14396335, 40.31654664, 39.60473605,\n",
              "       42.09611271, 46.82396566, 41.10767122, 36.39170533, 33.49371084,\n",
              "       43.39172516, 40.70464289, 41.43214306, 42.91857853, 43.38339599,\n",
              "       37.22282506, 47.28142315, 48.78830445, 39.08516785, 44.40309642,\n",
              "       34.13940467, 35.68446253, 43.13134344, 43.45064161, 45.31895721,\n",
              "       37.46240419, 42.41505202, 39.54144275, 47.1926372 , 32.28139876,\n",
              "       35.69869627, 40.5904034 , 40.47954903, 41.99821291, 39.37346201,\n",
              "       36.83596823, 46.48068467, 46.64825007, 46.18211384, 48.88230308,\n",
              "       47.04347697, 43.71476009, 33.50373636, 30.34183984, 40.41083312,\n",
              "       29.99389296, 40.51050243, 41.69274795, 46.56654929, 40.40425604,\n",
              "       41.17593812, 40.10665184, 31.9191808 , 36.59388233, 44.24233255,\n",
              "       39.63518268, 33.9892251 , 32.72163839, 50.49824466, 27.94296695])"
            ]
          },
          "execution_count": 110,
          "metadata": {},
          "output_type": "execute_result"
        }
      ],
      "source": [
        "sample"
      ]
    },
    {
      "cell_type": "code",
      "execution_count": null,
      "metadata": {
        "colab": {
          "base_uri": "https://localhost:8080/",
          "height": 543
        },
        "id": "8emYcLrbCYBv",
        "outputId": "4b98c24e-23d2-4c8b-d0b8-584fb5f6ac5f"
      },
      "outputs": [
        {
          "data": {
            "text/plain": [
              "(array([ 2.,  2.,  0.,  5.,  3.,  1.,  6.,  7., 11., 12., 21., 24., 19.,\n",
              "        27., 18., 24., 26., 23., 13., 23.,  9.,  8., 11., 12., 16.,  9.,\n",
              "        19., 14., 21., 46., 29., 42., 46., 65., 54., 75., 48., 50., 45.,\n",
              "        32., 26., 20., 13.,  8.,  7.,  3.,  4.,  0.,  0.,  1.]),\n",
              " array([ 5.05186622,  6.07863826,  7.1054103 ,  8.13218234,  9.15895438,\n",
              "        10.18572641, 11.21249845, 12.23927049, 13.26604253, 14.29281457,\n",
              "        15.31958661, 16.34635865, 17.37313068, 18.39990272, 19.42667476,\n",
              "        20.4534468 , 21.48021884, 22.50699088, 23.53376291, 24.56053495,\n",
              "        25.58730699, 26.61407903, 27.64085107, 28.66762311, 29.69439514,\n",
              "        30.72116718, 31.74793922, 32.77471126, 33.8014833 , 34.82825534,\n",
              "        35.85502737, 36.88179941, 37.90857145, 38.93534349, 39.96211553,\n",
              "        40.98888757, 42.0156596 , 43.04243164, 44.06920368, 45.09597572,\n",
              "        46.12274776, 47.1495198 , 48.17629184, 49.20306387, 50.22983591,\n",
              "        51.25660795, 52.28337999, 53.31015203, 54.33692407, 55.3636961 ,\n",
              "        56.39046814]),\n",
              " <BarContainer object of 50 artists>)"
            ]
          },
          "execution_count": 111,
          "metadata": {},
          "output_type": "execute_result"
        },
        {
          "data": {
            "image/png": "[encoded data removed]",
            "text/plain": [
              "<Figure size 432x288 with 1 Axes>"
            ]
          },
          "metadata": {
            "needs_background": "light"
          },
          "output_type": "display_data"
        }
      ],
      "source": [
        "# plot histogram bins=50\n",
        "plt.hist(sample,bins=50)"
      ]
    },
    {
      "cell_type": "code",
      "execution_count": null,
      "metadata": {
        "colab": {
          "base_uri": "https://localhost:8080/",
          "height": 74
        },
        "id": "fxPkOU_iqtRB",
        "outputId": "90f29a3d-4d38-4800-eaa3-12f41f86630b"
      },
      "outputs": [
        {
          "data": {
            "text/html": [
              "<style>#sk-container-id-7 {color: black;background-color: white;}#sk-container-id-7 pre{padding: 0;}#sk-container-id-7 div.sk-toggleable {background-color: white;}#sk-container-id-7 label.sk-toggleable__label {cursor: pointer;display: block;width: 100%;margin-bottom: 0;padding: 0.3em;box-sizing: border-box;text-align: center;}#sk-container-id-7 label.sk-toggleable__label-arrow:before {content: \"▸\";float: left;margin-right: 0.25em;color: #696969;}#sk-container-id-7 label.sk-toggleable__label-arrow:hover:before {color: black;}#sk-container-id-7 div.sk-estimator:hover label.sk-toggleable__label-arrow:before {color: black;}#sk-container-id-7 div.sk-toggleable__content {max-height: 0;max-width: 0;overflow: hidden;text-align: left;background-color: #f0f8ff;}#sk-container-id-7 div.sk-toggleable__content pre {margin: 0.2em;color: black;border-radius: 0.25em;background-color: #f0f8ff;}#sk-container-id-7 input.sk-toggleable__control:checked~div.sk-toggleable__content {max-height: 200px;max-width: 100%;overflow: auto;}#sk-container-id-7 input.sk-toggleable__control:checked~label.sk-toggleable__label-arrow:before {content: \"▾\";}#sk-container-id-7 div.sk-estimator input.sk-toggleable__control:checked~label.sk-toggleable__label {background-color: #d4ebff;}#sk-container-id-7 div.sk-label input.sk-toggleable__control:checked~label.sk-toggleable__label {background-color: #d4ebff;}#sk-container-id-7 input.sk-hidden--visually {border: 0;clip: rect(1px 1px 1px 1px);clip: rect(1px, 1px, 1px, 1px);height: 1px;margin: -1px;overflow: hidden;padding: 0;position: absolute;width: 1px;}#sk-container-id-7 div.sk-estimator {font-family: monospace;background-color: #f0f8ff;border: 1px dotted black;border-radius: 0.25em;box-sizing: border-box;margin-bottom: 0.5em;}#sk-container-id-7 div.sk-estimator:hover {background-color: #d4ebff;}#sk-container-id-7 div.sk-parallel-item::after {content: \"\";width: 100%;border-bottom: 1px solid gray;flex-grow: 1;}#sk-container-id-7 div.sk-label:hover label.sk-toggleable__label {background-color: #d4ebff;}#sk-container-id-7 div.sk-serial::before {content: \"\";position: absolute;border-left: 1px solid gray;box-sizing: border-box;top: 0;bottom: 0;left: 50%;z-index: 0;}#sk-container-id-7 div.sk-serial {display: flex;flex-direction: column;align-items: center;background-color: white;padding-right: 0.2em;padding-left: 0.2em;position: relative;}#sk-container-id-7 div.sk-item {position: relative;z-index: 1;}#sk-container-id-7 div.sk-parallel {display: flex;align-items: stretch;justify-content: center;background-color: white;position: relative;}#sk-container-id-7 div.sk-item::before, #sk-container-id-7 div.sk-parallel-item::before {content: \"\";position: absolute;border-left: 1px solid gray;box-sizing: border-box;top: 0;bottom: 0;left: 50%;z-index: -1;}#sk-container-id-7 div.sk-parallel-item {display: flex;flex-direction: column;z-index: 1;position: relative;background-color: white;}#sk-container-id-7 div.sk-parallel-item:first-child::after {align-self: flex-end;width: 50%;}#sk-container-id-7 div.sk-parallel-item:last-child::after {align-self: flex-start;width: 50%;}#sk-container-id-7 div.sk-parallel-item:only-child::after {width: 0;}#sk-container-id-7 div.sk-dashed-wrapped {border: 1px dashed gray;margin: 0 0.4em 0.5em 0.4em;box-sizing: border-box;padding-bottom: 0.4em;background-color: white;}#sk-container-id-7 div.sk-label label {font-family: monospace;font-weight: bold;display: inline-block;line-height: 1.2em;}#sk-container-id-7 div.sk-label-container {text-align: center;}#sk-container-id-7 div.sk-container {/* jupyter's `normalize.less` sets `[hidden] { display: none; }` but bootstrap.min.css set `[hidden] { display: none !important; }` so we also need the `!important` here to be able to override the default hidden behavior on the sphinx rendered scikit-learn.org. See: https://github.com/scikit-learn/scikit-learn/issues/21755 */display: inline-block !important;position: relative;}#sk-container-id-7 div.sk-text-repr-fallback {display: none;}</style><div id=\"sk-container-id-7\" class=\"sk-top-container\"><div class=\"sk-text-repr-fallback\"><pre>KernelDensity(bandwidth=5)</pre><b>In a Jupyter environment, please rerun this cell to show the HTML representation or trust the notebook. <br />On GitHub, the HTML representation is unable to render, please try loading this page with nbviewer.org.</b></div><div class=\"sk-container\" hidden><div class=\"sk-item\"><div class=\"sk-estimator sk-toggleable\"><input class=\"sk-toggleable__control sk-hidden--visually\" id=\"sk-estimator-id-7\" type=\"checkbox\" checked><label for=\"sk-estimator-id-7\" class=\"sk-toggleable__label sk-toggleable__label-arrow\">KernelDensity</label><div class=\"sk-toggleable__content\"><pre>KernelDensity(bandwidth=5)</pre></div></div></div></div></div>"
            ],
            "text/plain": [
              "KernelDensity(bandwidth=5)"
            ]
          },
          "execution_count": 123,
          "metadata": {},
          "output_type": "execute_result"
        }
      ],
      "source": [
        "from sklearn.neighbors import KernelDensity\n",
        "\n",
        "model = KernelDensity(bandwidth=5, kernel='gaussian')\n",
        "\n",
        "# convert data to a 2D array\n",
        "sample = sample.reshape((len(sample), 1))\n",
        "\n",
        "model.fit(sample)"
      ]
    },
    {
      "cell_type": "code",
      "execution_count": null,
      "metadata": {
        "id": "ACjbeWVnq90c"
      },
      "outputs": [],
      "source": [
        "values = np.linspace(sample.min(),sample.max(),100)\n",
        "values = values.reshape((len(values), 1))"
      ]
    },
    {
      "cell_type": "code",
      "execution_count": null,
      "metadata": {
        "id": "SdGSnDL-C60o"
      },
      "outputs": [],
      "source": [
        "probabilities = model.score_samples(values)\n",
        "probabilities = np.exp(probabilities)"
      ]
    },
    {
      "cell_type": "markdown",
      "metadata": {
        "id": "3WxOuZ5ZDsPG"
      },
      "source": [
        "`score_samples(values)` returns the log-density estimate of the input samples values. This is because the `score_samples()` method of the KernelDensity class returns the logarithm of the probability density estimate rather than the actual probability density estimate."
      ]
    },
    {
      "cell_type": "code",
      "execution_count": null,
      "metadata": {
        "colab": {
          "base_uri": "https://localhost:8080/",
          "height": 265
        },
        "id": "6Mx-98t9rDIZ",
        "outputId": "b8e82588-784f-4aa0-ab89-3f50b9c650f5"
      },
      "outputs": [
        {
          "data": {
            "image/png": "[encoded data removed]",
            "text/plain": [
              "<Figure size 432x288 with 1 Axes>"
            ]
          },
          "metadata": {
            "needs_background": "light"
          },
          "output_type": "display_data"
        }
      ],
      "source": [
        "plt.hist(sample, bins=50, density=True)\n",
        "plt.plot(values[:], probabilities)\n",
        "plt.show()"
      ]
    },
    {
      "cell_type": "code",
      "execution_count": null,
      "metadata": {
        "colab": {
          "base_uri": "https://localhost:8080/",
          "height": 282
        },
        "id": "DZ9gslUGOdZ0",
        "outputId": "f62b1d35-e11f-41a1-ebe8-67d943e59f4f"
      },
      "outputs": [
        {
          "data": {
            "text/plain": [
              "<AxesSubplot:ylabel='Density'>"
            ]
          },
          "execution_count": 132,
          "metadata": {},
          "output_type": "execute_result"
        },
        {
          "data": {
            "image/png": "[encoded data removed]",
            "text/plain": [
              "<Figure size 432x288 with 1 Axes>"
            ]
          },
          "metadata": {
            "needs_background": "light"
          },
          "output_type": "display_data"
        }
      ],
      "source": [
        "sns.kdeplot(sample.reshape(1000),bw_adjust=0.02)"
      ]
    },
    {
      "cell_type": "code",
      "execution_count": null,
      "metadata": {
        "id": "48l9TEV3rP5h"
      },
      "outputs": [],
      "source": [
        "import seaborn as sns"
      ]
    },
    {
      "cell_type": "code",
      "execution_count": null,
      "metadata": {
        "id": "pvVbpaheO4yW"
      },
      "outputs": [],
      "source": [
        "df = sns.load_dataset('iris')"
      ]
    },
    {
      "cell_type": "code",
      "execution_count": null,
      "metadata": {
        "colab": {
          "base_uri": "https://localhost:8080/",
          "height": 206
        },
        "id": "GjfTUowqPBAQ",
        "outputId": "fd7d61fc-0bd7-4581-ec40-d03569a19740"
      },
      "outputs": [
        {
          "data": {
            "text/html": [
              "\n",
              "  <div id=\"df-d316fa85-d039-4aae-b16d-1ca683813b85\">\n",
              "    <div class=\"colab-df-container\">\n",
              "      <div>\n",
              "<style scoped>\n",
              "    .dataframe tbody tr th:only-of-type {\n",
              "        vertical-align: middle;\n",
              "    }\n",
              "\n",
              "    .dataframe tbody tr th {\n",
              "        vertical-align: top;\n",
              "    }\n",
              "\n",
              "    .dataframe thead th {\n",
              "        text-align: right;\n",
              "    }\n",
              "</style>\n",
              "<table border=\"1\" class=\"dataframe\">\n",
              "  <thead>\n",
              "    <tr style=\"text-align: right;\">\n",
              "      <th></th>\n",
              "      <th>sepal_length</th>\n",
              "      <th>sepal_width</th>\n",
              "      <th>petal_length</th>\n",
              "      <th>petal_width</th>\n",
              "      <th>species</th>\n",
              "    </tr>\n",
              "  </thead>\n",
              "  <tbody>\n",
              "    <tr>\n",
              "      <th>0</th>\n",
              "      <td>5.1</td>\n",
              "      <td>3.5</td>\n",
              "      <td>1.4</td>\n",
              "      <td>0.2</td>\n",
              "      <td>setosa</td>\n",
              "    </tr>\n",
              "    <tr>\n",
              "      <th>1</th>\n",
              "      <td>4.9</td>\n",
              "      <td>3.0</td>\n",
              "      <td>1.4</td>\n",
              "      <td>0.2</td>\n",
              "      <td>setosa</td>\n",
              "    </tr>\n",
              "    <tr>\n",
              "      <th>2</th>\n",
              "      <td>4.7</td>\n",
              "      <td>3.2</td>\n",
              "      <td>1.3</td>\n",
              "      <td>0.2</td>\n",
              "      <td>setosa</td>\n",
              "    </tr>\n",
              "    <tr>\n",
              "      <th>3</th>\n",
              "      <td>4.6</td>\n",
              "      <td>3.1</td>\n",
              "      <td>1.5</td>\n",
              "      <td>0.2</td>\n",
              "      <td>setosa</td>\n",
              "    </tr>\n",
              "    <tr>\n",
              "      <th>4</th>\n",
              "      <td>5.0</td>\n",
              "      <td>3.6</td>\n",
              "      <td>1.4</td>\n",
              "      <td>0.2</td>\n",
              "      <td>setosa</td>\n",
              "    </tr>\n",
              "  </tbody>\n",
              "</table>\n",
              "</div>\n",
              "      <button class=\"colab-df-convert\" onclick=\"convertToInteractive('df-d316fa85-d039-4aae-b16d-1ca683813b85')\"\n",
              "              title=\"Convert this dataframe to an interactive table.\"\n",
              "              style=\"display:none;\">\n",
              "        \n",
              "  <svg xmlns=\"http://www.w3.org/2000/svg\" height=\"24px\"viewBox=\"0 0 24 24\"\n",
              "       width=\"24px\">\n",
              "    <path d=\"M0 0h24v24H0V0z\" fill=\"none\"/>\n",
              "    <path d=\"M18.56 5.44l.94 2.06.94-2.06 2.06-.94-2.06-.94-.94-2.06-.94 2.06-2.06.94zm-11 1L8.5 8.5l.94-2.06 2.06-.94-2.06-.94L8.5 2.5l-.94 2.06-2.06.94zm10 10l.94 2.06.94-2.06 2.06-.94-2.06-.94-.94-2.06-.94 2.06-2.06.94z\"/><path d=\"M17.41 7.96l-1.37-1.37c-.4-.4-.92-.59-1.43-.59-.52 0-1.04.2-1.43.59L10.3 9.45l-7.72 7.72c-.78.78-.78 2.05 0 2.83L4 21.41c.39.39.9.59 1.41.59.51 0 1.02-.2 1.41-.59l7.78-7.78 2.81-2.81c.8-.78.8-2.07 0-2.86zM5.41 20L4 18.59l7.72-7.72 1.47 1.35L5.41 20z\"/>\n",
              "  </svg>\n",
              "      </button>\n",
              "      \n",
              "  <style>\n",
              "    .colab-df-container {\n",
              "      display:flex;\n",
              "      flex-wrap:wrap;\n",
              "      gap: 12px;\n",
              "    }\n",
              "\n",
              "    .colab-df-convert {\n",
              "      background-color: #E8F0FE;\n",
              "      border: none;\n",
              "      border-radius: 50%;\n",
              "      cursor: pointer;\n",
              "      display: none;\n",
              "      fill: #1967D2;\n",
              "      height: 32px;\n",
              "      padding: 0 0 0 0;\n",
              "      width: 32px;\n",
              "    }\n",
              "\n",
              "    .colab-df-convert:hover {\n",
              "      background-color: #E2EBFA;\n",
              "      box-shadow: 0px 1px 2px rgba(60, 64, 67, 0.3), 0px 1px 3px 1px rgba(60, 64, 67, 0.15);\n",
              "      fill: #174EA6;\n",
              "    }\n",
              "\n",
              "    [theme=dark] .colab-df-convert {\n",
              "      background-color: #3B4455;\n",
              "      fill: #D2E3FC;\n",
              "    }\n",
              "\n",
              "    [theme=dark] .colab-df-convert:hover {\n",
              "      background-color: #434B5C;\n",
              "      box-shadow: 0px 1px 3px 1px rgba(0, 0, 0, 0.15);\n",
              "      filter: drop-shadow(0px 1px 2px rgba(0, 0, 0, 0.3));\n",
              "      fill: #FFFFFF;\n",
              "    }\n",
              "  </style>\n",
              "\n",
              "      <script>\n",
              "        const buttonEl =\n",
              "          document.querySelector('#df-d316fa85-d039-4aae-b16d-1ca683813b85 button.colab-df-convert');\n",
              "        buttonEl.style.display =\n",
              "          google.colab.kernel.accessAllowed ? 'block' : 'none';\n",
              "\n",
              "        async function convertToInteractive(key) {\n",
              "          const element = document.querySelector('#df-d316fa85-d039-4aae-b16d-1ca683813b85');\n",
              "          const dataTable =\n",
              "            await google.colab.kernel.invokeFunction('convertToInteractive',\n",
              "                                                     [key], {});\n",
              "          if (!dataTable) return;\n",
              "\n",
              "          const docLinkHtml = 'Like what you see? Visit the ' +\n",
              "            '<a target=\"_blank\" href=https://colab.research.google.com/notebooks/data_table.ipynb>data table notebook</a>'\n",
              "            + ' to learn more about interactive tables.';\n",
              "          element.innerHTML = '';\n",
              "          dataTable['output_type'] = 'display_data';\n",
              "          await google.colab.output.renderOutput(dataTable, element);\n",
              "          const docLink = document.createElement('div');\n",
              "          docLink.innerHTML = docLinkHtml;\n",
              "          element.appendChild(docLink);\n",
              "        }\n",
              "      </script>\n",
              "    </div>\n",
              "  </div>\n",
              "  "
            ],
            "text/plain": [
              "   sepal_length  sepal_width  petal_length  petal_width species\n",
              "0           5.1          3.5           1.4          0.2  setosa\n",
              "1           4.9          3.0           1.4          0.2  setosa\n",
              "2           4.7          3.2           1.3          0.2  setosa\n",
              "3           4.6          3.1           1.5          0.2  setosa\n",
              "4           5.0          3.6           1.4          0.2  setosa"
            ]
          },
          "execution_count": 13,
          "metadata": {},
          "output_type": "execute_result"
        }
      ],
      "source": [
        "df.head()"
      ]
    },
    {
      "cell_type": "code",
      "execution_count": null,
      "metadata": {
        "colab": {
          "base_uri": "https://localhost:8080/",
          "height": 297
        },
        "id": "GWXYuEaXO6xA",
        "outputId": "caf9948b-ca46-457d-e8f7-a8f4d544e3b3"
      },
      "outputs": [
        {
          "data": {
            "text/plain": [
              "<Axes: xlabel='sepal_length', ylabel='Density'>"
            ]
          },
          "execution_count": 14,
          "metadata": {},
          "output_type": "execute_result"
        },
        {
          "data": {
            "image/png": "[encoded data removed]",
            "text/plain": [
              "<Figure size 432x288 with 1 Axes>"
            ]
          },
          "metadata": {
            "needs_background": "light"
          },
          "output_type": "display_data"
        }
      ],
      "source": [
        "sns.kdeplot(data=df,x='sepal_length',hue='species')"
      ]
    },
    {
      "cell_type": "code",
      "execution_count": null,
      "metadata": {
        "colab": {
          "base_uri": "https://localhost:8080/",
          "height": 297
        },
        "id": "HfD6ynwBSMh8",
        "outputId": "99c3c3e1-95a1-4b26-9874-e2967de686d8"
      },
      "outputs": [
        {
          "data": {
            "text/plain": [
              "<Axes: xlabel='sepal_width', ylabel='Density'>"
            ]
          },
          "execution_count": 15,
          "metadata": {},
          "output_type": "execute_result"
        },
        {
          "data": {
            "image/png": "[encoded data removed]",
            "text/plain": [
              "<Figure size 432x288 with 1 Axes>"
            ]
          },
          "metadata": {
            "needs_background": "light"
          },
          "output_type": "display_data"
        }
      ],
      "source": [
        "sns.kdeplot(data=df,x='sepal_width',hue='species')"
      ]
    },
    {
      "cell_type": "code",
      "execution_count": null,
      "metadata": {
        "colab": {
          "base_uri": "https://localhost:8080/",
          "height": 297
        },
        "id": "L017GVtXSMvj",
        "outputId": "89e77eee-27d9-4267-90a5-1bfb8cc98dde"
      },
      "outputs": [
        {
          "data": {
            "text/plain": [
              "<Axes: xlabel='petal_length', ylabel='Density'>"
            ]
          },
          "execution_count": 16,
          "metadata": {},
          "output_type": "execute_result"
        },
        {
          "data": {
            "image/png": "[encoded data removed]",
            "text/plain": [
              "<Figure size 432x288 with 1 Axes>"
            ]
          },
          "metadata": {
            "needs_background": "light"
          },
          "output_type": "display_data"
        }
      ],
      "source": [
        "sns.kdeplot(data=df,x='petal_length',hue='species')"
      ]
    },
    {
      "cell_type": "code",
      "execution_count": null,
      "metadata": {
        "colab": {
          "base_uri": "https://localhost:8080/",
          "height": 297
        },
        "id": "QrkO_gNGSM6v",
        "outputId": "d76ccd7f-3190-4d44-98a8-2f22bd972335"
      },
      "outputs": [
        {
          "data": {
            "text/plain": [
              "<Axes: xlabel='petal_width', ylabel='Density'>"
            ]
          },
          "execution_count": 17,
          "metadata": {},
          "output_type": "execute_result"
        },
        {
          "data": {
            "image/png": "[encoded data removed]",
            "text/plain": [
              "<Figure size 432x288 with 1 Axes>"
            ]
          },
          "metadata": {
            "needs_background": "light"
          },
          "output_type": "display_data"
        }
      ],
      "source": [
        "sns.kdeplot(data=df,x='petal_width',hue='species')"
      ]
    },
    {
      "cell_type": "code",
      "execution_count": null,
      "metadata": {
        "id": "lZSdzNveSNGV"
      },
      "outputs": [],
      "source": []
    },
    {
      "cell_type": "code",
      "execution_count": null,
      "metadata": {
        "colab": {
          "base_uri": "https://localhost:8080/",
          "height": 297
        },
        "id": "gO8eZwpPPEe9",
        "outputId": "e37821ca-5a29-4355-e319-e9812efe2d30"
      },
      "outputs": [
        {
          "data": {
            "text/plain": [
              "<AxesSubplot:xlabel='petal_width', ylabel='Density'>"
            ]
          },
          "execution_count": 61,
          "metadata": {},
          "output_type": "execute_result"
        },
        {
          "data": {
            "image/png": "[encoded data removed]",
            "text/plain": [
              "<Figure size 432x288 with 1 Axes>"
            ]
          },
          "metadata": {
            "needs_background": "light"
          },
          "output_type": "display_data"
        }
      ],
      "source": [
        "sns.kdeplot(df['petal_width'],hue=df['species'])\n",
        "sns.ecdfplot(data=df,x='petal_width',hue='species')"
      ]
    },
    {
      "cell_type": "code",
      "execution_count": null,
      "metadata": {
        "id": "Es7lOOwyRk7T"
      },
      "outputs": [],
      "source": [
        "titanic = pd.read_csv('https://raw.githubusercontent.com/datasciencedojo/datasets/master/titanic.csv')"
      ]
    },
    {
      "cell_type": "code",
      "execution_count": null,
      "metadata": {
        "colab": {
          "base_uri": "https://localhost:8080/",
          "height": 285
        },
        "id": "WDggW8PYRlcr",
        "outputId": "f15af5a9-bac3-402e-c28d-44e140d92454"
      },
      "outputs": [
        {
          "data": {
            "text/html": [
              "\n",
              "  <div id=\"df-f2e8ffe3-3034-44e1-ae5f-9f5c3eeeec6f\">\n",
              "    <div class=\"colab-df-container\">\n",
              "      <div>\n",
              "<style scoped>\n",
              "    .dataframe tbody tr th:only-of-type {\n",
              "        vertical-align: middle;\n",
              "    }\n",
              "\n",
              "    .dataframe tbody tr th {\n",
              "        vertical-align: top;\n",
              "    }\n",
              "\n",
              "    .dataframe thead th {\n",
              "        text-align: right;\n",
              "    }\n",
              "</style>\n",
              "<table border=\"1\" class=\"dataframe\">\n",
              "  <thead>\n",
              "    <tr style=\"text-align: right;\">\n",
              "      <th></th>\n",
              "      <th>PassengerId</th>\n",
              "      <th>Survived</th>\n",
              "      <th>Pclass</th>\n",
              "      <th>Name</th>\n",
              "      <th>Sex</th>\n",
              "      <th>Age</th>\n",
              "      <th>SibSp</th>\n",
              "      <th>Parch</th>\n",
              "      <th>Ticket</th>\n",
              "      <th>Fare</th>\n",
              "      <th>Cabin</th>\n",
              "      <th>Embarked</th>\n",
              "    </tr>\n",
              "  </thead>\n",
              "  <tbody>\n",
              "    <tr>\n",
              "      <th>0</th>\n",
              "      <td>1</td>\n",
              "      <td>0</td>\n",
              "      <td>3</td>\n",
              "      <td>Braund, Mr. Owen Harris</td>\n",
              "      <td>male</td>\n",
              "      <td>22.0</td>\n",
              "      <td>1</td>\n",
              "      <td>0</td>\n",
              "      <td>A/5 21171</td>\n",
              "      <td>7.2500</td>\n",
              "      <td>NaN</td>\n",
              "      <td>S</td>\n",
              "    </tr>\n",
              "    <tr>\n",
              "      <th>1</th>\n",
              "      <td>2</td>\n",
              "      <td>1</td>\n",
              "      <td>1</td>\n",
              "      <td>Cumings, Mrs. John Bradley (Florence Briggs Th...</td>\n",
              "      <td>female</td>\n",
              "      <td>38.0</td>\n",
              "      <td>1</td>\n",
              "      <td>0</td>\n",
              "      <td>PC 17599</td>\n",
              "      <td>71.2833</td>\n",
              "      <td>C85</td>\n",
              "      <td>C</td>\n",
              "    </tr>\n",
              "    <tr>\n",
              "      <th>2</th>\n",
              "      <td>3</td>\n",
              "      <td>1</td>\n",
              "      <td>3</td>\n",
              "      <td>Heikkinen, Miss. Laina</td>\n",
              "      <td>female</td>\n",
              "      <td>26.0</td>\n",
              "      <td>0</td>\n",
              "      <td>0</td>\n",
              "      <td>STON/O2. 3101282</td>\n",
              "      <td>7.9250</td>\n",
              "      <td>NaN</td>\n",
              "      <td>S</td>\n",
              "    </tr>\n",
              "    <tr>\n",
              "      <th>3</th>\n",
              "      <td>4</td>\n",
              "      <td>1</td>\n",
              "      <td>1</td>\n",
              "      <td>Futrelle, Mrs. Jacques Heath (Lily May Peel)</td>\n",
              "      <td>female</td>\n",
              "      <td>35.0</td>\n",
              "      <td>1</td>\n",
              "      <td>0</td>\n",
              "      <td>113803</td>\n",
              "      <td>53.1000</td>\n",
              "      <td>C123</td>\n",
              "      <td>S</td>\n",
              "    </tr>\n",
              "    <tr>\n",
              "      <th>4</th>\n",
              "      <td>5</td>\n",
              "      <td>0</td>\n",
              "      <td>3</td>\n",
              "      <td>Allen, Mr. William Henry</td>\n",
              "      <td>male</td>\n",
              "      <td>35.0</td>\n",
              "      <td>0</td>\n",
              "      <td>0</td>\n",
              "      <td>373450</td>\n",
              "      <td>8.0500</td>\n",
              "      <td>NaN</td>\n",
              "      <td>S</td>\n",
              "    </tr>\n",
              "  </tbody>\n",
              "</table>\n",
              "</div>\n",
              "      <button class=\"colab-df-convert\" onclick=\"convertToInteractive('df-f2e8ffe3-3034-44e1-ae5f-9f5c3eeeec6f')\"\n",
              "              title=\"Convert this dataframe to an interactive table.\"\n",
              "              style=\"display:none;\">\n",
              "        \n",
              "  <svg xmlns=\"http://www.w3.org/2000/svg\" height=\"24px\"viewBox=\"0 0 24 24\"\n",
              "       width=\"24px\">\n",
              "    <path d=\"M0 0h24v24H0V0z\" fill=\"none\"/>\n",
              "    <path d=\"M18.56 5.44l.94 2.06.94-2.06 2.06-.94-2.06-.94-.94-2.06-.94 2.06-2.06.94zm-11 1L8.5 8.5l.94-2.06 2.06-.94-2.06-.94L8.5 2.5l-.94 2.06-2.06.94zm10 10l.94 2.06.94-2.06 2.06-.94-2.06-.94-.94-2.06-.94 2.06-2.06.94z\"/><path d=\"M17.41 7.96l-1.37-1.37c-.4-.4-.92-.59-1.43-.59-.52 0-1.04.2-1.43.59L10.3 9.45l-7.72 7.72c-.78.78-.78 2.05 0 2.83L4 21.41c.39.39.9.59 1.41.59.51 0 1.02-.2 1.41-.59l7.78-7.78 2.81-2.81c.8-.78.8-2.07 0-2.86zM5.41 20L4 18.59l7.72-7.72 1.47 1.35L5.41 20z\"/>\n",
              "  </svg>\n",
              "      </button>\n",
              "      \n",
              "  <style>\n",
              "    .colab-df-container {\n",
              "      display:flex;\n",
              "      flex-wrap:wrap;\n",
              "      gap: 12px;\n",
              "    }\n",
              "\n",
              "    .colab-df-convert {\n",
              "      background-color: #E8F0FE;\n",
              "      border: none;\n",
              "      border-radius: 50%;\n",
              "      cursor: pointer;\n",
              "      display: none;\n",
              "      fill: #1967D2;\n",
              "      height: 32px;\n",
              "      padding: 0 0 0 0;\n",
              "      width: 32px;\n",
              "    }\n",
              "\n",
              "    .colab-df-convert:hover {\n",
              "      background-color: #E2EBFA;\n",
              "      box-shadow: 0px 1px 2px rgba(60, 64, 67, 0.3), 0px 1px 3px 1px rgba(60, 64, 67, 0.15);\n",
              "      fill: #174EA6;\n",
              "    }\n",
              "\n",
              "    [theme=dark] .colab-df-convert {\n",
              "      background-color: #3B4455;\n",
              "      fill: #D2E3FC;\n",
              "    }\n",
              "\n",
              "    [theme=dark] .colab-df-convert:hover {\n",
              "      background-color: #434B5C;\n",
              "      box-shadow: 0px 1px 3px 1px rgba(0, 0, 0, 0.15);\n",
              "      filter: drop-shadow(0px 1px 2px rgba(0, 0, 0, 0.3));\n",
              "      fill: #FFFFFF;\n",
              "    }\n",
              "  </style>\n",
              "\n",
              "      <script>\n",
              "        const buttonEl =\n",
              "          document.querySelector('#df-f2e8ffe3-3034-44e1-ae5f-9f5c3eeeec6f button.colab-df-convert');\n",
              "        buttonEl.style.display =\n",
              "          google.colab.kernel.accessAllowed ? 'block' : 'none';\n",
              "\n",
              "        async function convertToInteractive(key) {\n",
              "          const element = document.querySelector('#df-f2e8ffe3-3034-44e1-ae5f-9f5c3eeeec6f');\n",
              "          const dataTable =\n",
              "            await google.colab.kernel.invokeFunction('convertToInteractive',\n",
              "                                                     [key], {});\n",
              "          if (!dataTable) return;\n",
              "\n",
              "          const docLinkHtml = 'Like what you see? Visit the ' +\n",
              "            '<a target=\"_blank\" href=https://colab.research.google.com/notebooks/data_table.ipynb>data table notebook</a>'\n",
              "            + ' to learn more about interactive tables.';\n",
              "          element.innerHTML = '';\n",
              "          dataTable['output_type'] = 'display_data';\n",
              "          await google.colab.output.renderOutput(dataTable, element);\n",
              "          const docLink = document.createElement('div');\n",
              "          docLink.innerHTML = docLinkHtml;\n",
              "          element.appendChild(docLink);\n",
              "        }\n",
              "      </script>\n",
              "    </div>\n",
              "  </div>\n",
              "  "
            ],
            "text/plain": [
              "   PassengerId  Survived  Pclass  \\\n",
              "0            1         0       3   \n",
              "1            2         1       1   \n",
              "2            3         1       3   \n",
              "3            4         1       1   \n",
              "4            5         0       3   \n",
              "\n",
              "                                                Name     Sex   Age  SibSp  \\\n",
              "0                            Braund, Mr. Owen Harris    male  22.0      1   \n",
              "1  Cumings, Mrs. John Bradley (Florence Briggs Th...  female  38.0      1   \n",
              "2                             Heikkinen, Miss. Laina  female  26.0      0   \n",
              "3       Futrelle, Mrs. Jacques Heath (Lily May Peel)  female  35.0      1   \n",
              "4                           Allen, Mr. William Henry    male  35.0      0   \n",
              "\n",
              "   Parch            Ticket     Fare Cabin Embarked  \n",
              "0      0         A/5 21171   7.2500   NaN        S  \n",
              "1      0          PC 17599  71.2833   C85        C  \n",
              "2      0  STON/O2. 3101282   7.9250   NaN        S  \n",
              "3      0            113803  53.1000  C123        S  \n",
              "4      0            373450   8.0500   NaN        S  "
            ]
          },
          "execution_count": 19,
          "metadata": {},
          "output_type": "execute_result"
        }
      ],
      "source": [
        "titanic.head()"
      ]
    },
    {
      "cell_type": "code",
      "execution_count": null,
      "metadata": {
        "colab": {
          "base_uri": "https://localhost:8080/",
          "height": 296
        },
        "id": "mwYpnDPNSDu1",
        "outputId": "e61f9827-fd5d-4e89-b7df-77d5c2f85f78"
      },
      "outputs": [
        {
          "data": {
            "text/plain": [
              "<Axes: xlabel='Age', ylabel='Density'>"
            ]
          },
          "execution_count": 21,
          "metadata": {},
          "output_type": "execute_result"
        },
        {
          "data": {
            "image/png": "[encoded data removed]",
            "text/plain": [
              "<Figure size 432x288 with 1 Axes>"
            ]
          },
          "metadata": {
            "needs_background": "light"
          },
          "output_type": "display_data"
        }
      ],
      "source": [
        "# code here\n",
        "sns.kdeplot(data=titanic,x='Age',hue='Sex')"
      ]
    },
    {
      "cell_type": "code",
      "execution_count": null,
      "metadata": {
        "colab": {
          "base_uri": "https://localhost:8080/",
          "height": 458
        },
        "id": "_5Az3OFmPNvn",
        "outputId": "1a5239a6-558b-4e4d-b9d5-1edf862d2f79"
      },
      "outputs": [
        {
          "data": {
            "text/plain": [
              "<seaborn.axisgrid.JointGrid at 0x7f41e974e7c0>"
            ]
          },
          "execution_count": 59,
          "metadata": {},
          "output_type": "execute_result"
        },
        {
          "data": {
            "image/png": "[encoded data removed]",
            "text/plain": [
              "<Figure size 432x432 with 4 Axes>"
            ]
          },
          "metadata": {
            "needs_background": "light"
          },
          "output_type": "display_data"
        }
      ],
      "source": [
        " sns.jointplot(data=df, x=\"petal_length\", y=\"sepal_length\", kind=\"kde\",fill=True,cbar=True)"
      ]
    },
    {
      "cell_type": "code",
      "execution_count": null,
      "metadata": {
        "colab": {
          "base_uri": "https://localhost:8080/",
          "height": 296
        },
        "id": "HuCPjhWQSz5Q",
        "outputId": "a4396b99-d3e8-4426-c3ff-d92fd74dda18"
      },
      "outputs": [
        {
          "data": {
            "text/plain": [
              "<Axes: xlabel='Age', ylabel='Density'>"
            ]
          },
          "execution_count": 23,
          "metadata": {},
          "output_type": "execute_result"
        },
        {
          "data": {
            "image/png": "[encoded data removed]",
            "text/plain": [
              "<Figure size 432x288 with 1 Axes>"
            ]
          },
          "metadata": {
            "needs_background": "light"
          },
          "output_type": "display_data"
        }
      ],
      "source": [
        "sns.kdeplot(titanic['Age'])"
      ]
    },
    {
      "cell_type": "code",
      "execution_count": null,
      "metadata": {
        "colab": {
          "base_uri": "https://localhost:8080/"
        },
        "id": "UU8EvZtkzLJH",
        "outputId": "35da9e11-07dc-48ee-bed2-edde8ab367d8"
      },
      "outputs": [
        {
          "data": {
            "text/plain": [
              "29.69911764705882"
            ]
          },
          "execution_count": 24,
          "metadata": {},
          "output_type": "execute_result"
        }
      ],
      "source": [
        "titanic['Age'].mean()"
      ]
    },
    {
      "cell_type": "code",
      "execution_count": null,
      "metadata": {
        "id": "-qZ7TLzXzWf6"
      },
      "outputs": [],
      "source": [
        "x = (titanic['Age'] - titanic['Age'].mean())/titanic['Age'].std()"
      ]
    },
    {
      "cell_type": "code",
      "execution_count": null,
      "metadata": {
        "colab": {
          "base_uri": "https://localhost:8080/",
          "height": 296
        },
        "id": "N1E-Wx3vzbpk",
        "outputId": "b8f9db68-59c2-47ce-8fb1-91089b3990fa"
      },
      "outputs": [
        {
          "data": {
            "text/plain": [
              "<Axes: xlabel='Age', ylabel='Density'>"
            ]
          },
          "execution_count": 28,
          "metadata": {},
          "output_type": "execute_result"
        },
        {
          "data": {
            "image/png": "[encoded data removed]",
            "text/plain": [
              "<Figure size 432x288 with 1 Axes>"
            ]
          },
          "metadata": {
            "needs_background": "light"
          },
          "output_type": "display_data"
        }
      ],
      "source": [
        "sns.kdeplot(x)"
      ]
    },
    {
      "cell_type": "code",
      "execution_count": null,
      "metadata": {
        "colab": {
          "base_uri": "https://localhost:8080/"
        },
        "id": "HiyJuu1XzsS-",
        "outputId": "4442da60-baeb-44a4-b2eb-4999001d1d03"
      },
      "outputs": [
        {
          "data": {
            "text/plain": [
              "2.338621049070358e-16"
            ]
          },
          "execution_count": 29,
          "metadata": {},
          "output_type": "execute_result"
        }
      ],
      "source": [
        "x.mean()"
      ]
    },
    {
      "cell_type": "code",
      "execution_count": null,
      "metadata": {
        "colab": {
          "base_uri": "https://localhost:8080/"
        },
        "id": "hnxKg-YUzxBF",
        "outputId": "bc110ce5-2620-4aee-a9ba-4cdeebf06a6d"
      },
      "outputs": [
        {
          "data": {
            "text/plain": [
              "1.0"
            ]
          },
          "execution_count": 30,
          "metadata": {},
          "output_type": "execute_result"
        }
      ],
      "source": [
        "x.std()"
      ]
    },
    {
      "cell_type": "code",
      "execution_count": null,
      "metadata": {
        "colab": {
          "base_uri": "https://localhost:8080/"
        },
        "id": "zukZ3BmOz1XF",
        "outputId": "b12fe27e-d1ab-4c2d-9423-bb33bdc48cce"
      },
      "outputs": [
        {
          "data": {
            "text/plain": [
              "0.38910778230082704"
            ]
          },
          "execution_count": 32,
          "metadata": {},
          "output_type": "execute_result"
        }
      ],
      "source": [
        "titanic['Age'].skew()"
      ]
    },
    {
      "cell_type": "code",
      "execution_count": null,
      "metadata": {
        "colab": {
          "base_uri": "https://localhost:8080/"
        },
        "id": "6EBKSsQd7SOy",
        "outputId": "d042a547-4320-48c8-9ec1-55137d352a14"
      },
      "outputs": [
        {
          "data": {
            "text/plain": [
              "73.27860964406094"
            ]
          },
          "execution_count": 33,
          "metadata": {},
          "output_type": "execute_result"
        }
      ],
      "source": [
        "titanic['Age'].mean() + 3*titanic['Age'].std()"
      ]
    },
    {
      "cell_type": "code",
      "execution_count": null,
      "metadata": {
        "colab": {
          "base_uri": "https://localhost:8080/"
        },
        "id": "uf9R_YNL9uMs",
        "outputId": "b70b3edb-fda6-4ebe-ae77-fe613c79c493"
      },
      "outputs": [
        {
          "data": {
            "text/plain": [
              "-13.880374349943303"
            ]
          },
          "execution_count": 34,
          "metadata": {},
          "output_type": "execute_result"
        }
      ],
      "source": [
        "titanic['Age'].mean() - 3*titanic['Age'].std()"
      ]
    },
    {
      "cell_type": "code",
      "execution_count": null,
      "metadata": {
        "colab": {
          "base_uri": "https://localhost:8080/",
          "height": 112
        },
        "id": "rf3bBw7D9xgD",
        "outputId": "1b0db4c9-e0a0-4851-a162-71b0d1298c82"
      },
      "outputs": [
        {
          "data": {
            "text/html": [
              "\n",
              "  <div id=\"df-83d66de9-d78e-4ac5-a9d7-f1600ac3441d\">\n",
              "    <div class=\"colab-df-container\">\n",
              "      <div>\n",
              "<style scoped>\n",
              "    .dataframe tbody tr th:only-of-type {\n",
              "        vertical-align: middle;\n",
              "    }\n",
              "\n",
              "    .dataframe tbody tr th {\n",
              "        vertical-align: top;\n",
              "    }\n",
              "\n",
              "    .dataframe thead th {\n",
              "        text-align: right;\n",
              "    }\n",
              "</style>\n",
              "<table border=\"1\" class=\"dataframe\">\n",
              "  <thead>\n",
              "    <tr style=\"text-align: right;\">\n",
              "      <th></th>\n",
              "      <th>PassengerId</th>\n",
              "      <th>Survived</th>\n",
              "      <th>Pclass</th>\n",
              "      <th>Name</th>\n",
              "      <th>Sex</th>\n",
              "      <th>Age</th>\n",
              "      <th>SibSp</th>\n",
              "      <th>Parch</th>\n",
              "      <th>Ticket</th>\n",
              "      <th>Fare</th>\n",
              "      <th>Cabin</th>\n",
              "      <th>Embarked</th>\n",
              "    </tr>\n",
              "  </thead>\n",
              "  <tbody>\n",
              "    <tr>\n",
              "      <th>630</th>\n",
              "      <td>631</td>\n",
              "      <td>1</td>\n",
              "      <td>1</td>\n",
              "      <td>Barkworth, Mr. Algernon Henry Wilson</td>\n",
              "      <td>male</td>\n",
              "      <td>80.0</td>\n",
              "      <td>0</td>\n",
              "      <td>0</td>\n",
              "      <td>27042</td>\n",
              "      <td>30.000</td>\n",
              "      <td>A23</td>\n",
              "      <td>S</td>\n",
              "    </tr>\n",
              "    <tr>\n",
              "      <th>851</th>\n",
              "      <td>852</td>\n",
              "      <td>0</td>\n",
              "      <td>3</td>\n",
              "      <td>Svensson, Mr. Johan</td>\n",
              "      <td>male</td>\n",
              "      <td>74.0</td>\n",
              "      <td>0</td>\n",
              "      <td>0</td>\n",
              "      <td>347060</td>\n",
              "      <td>7.775</td>\n",
              "      <td>NaN</td>\n",
              "      <td>S</td>\n",
              "    </tr>\n",
              "  </tbody>\n",
              "</table>\n",
              "</div>\n",
              "      <button class=\"colab-df-convert\" onclick=\"convertToInteractive('df-83d66de9-d78e-4ac5-a9d7-f1600ac3441d')\"\n",
              "              title=\"Convert this dataframe to an interactive table.\"\n",
              "              style=\"display:none;\">\n",
              "        \n",
              "  <svg xmlns=\"http://www.w3.org/2000/svg\" height=\"24px\"viewBox=\"0 0 24 24\"\n",
              "       width=\"24px\">\n",
              "    <path d=\"M0 0h24v24H0V0z\" fill=\"none\"/>\n",
              "    <path d=\"M18.56 5.44l.94 2.06.94-2.06 2.06-.94-2.06-.94-.94-2.06-.94 2.06-2.06.94zm-11 1L8.5 8.5l.94-2.06 2.06-.94-2.06-.94L8.5 2.5l-.94 2.06-2.06.94zm10 10l.94 2.06.94-2.06 2.06-.94-2.06-.94-.94-2.06-.94 2.06-2.06.94z\"/><path d=\"M17.41 7.96l-1.37-1.37c-.4-.4-.92-.59-1.43-.59-.52 0-1.04.2-1.43.59L10.3 9.45l-7.72 7.72c-.78.78-.78 2.05 0 2.83L4 21.41c.39.39.9.59 1.41.59.51 0 1.02-.2 1.41-.59l7.78-7.78 2.81-2.81c.8-.78.8-2.07 0-2.86zM5.41 20L4 18.59l7.72-7.72 1.47 1.35L5.41 20z\"/>\n",
              "  </svg>\n",
              "      </button>\n",
              "      \n",
              "  <style>\n",
              "    .colab-df-container {\n",
              "      display:flex;\n",
              "      flex-wrap:wrap;\n",
              "      gap: 12px;\n",
              "    }\n",
              "\n",
              "    .colab-df-convert {\n",
              "      background-color: #E8F0FE;\n",
              "      border: none;\n",
              "      border-radius: 50%;\n",
              "      cursor: pointer;\n",
              "      display: none;\n",
              "      fill: #1967D2;\n",
              "      height: 32px;\n",
              "      padding: 0 0 0 0;\n",
              "      width: 32px;\n",
              "    }\n",
              "\n",
              "    .colab-df-convert:hover {\n",
              "      background-color: #E2EBFA;\n",
              "      box-shadow: 0px 1px 2px rgba(60, 64, 67, 0.3), 0px 1px 3px 1px rgba(60, 64, 67, 0.15);\n",
              "      fill: #174EA6;\n",
              "    }\n",
              "\n",
              "    [theme=dark] .colab-df-convert {\n",
              "      background-color: #3B4455;\n",
              "      fill: #D2E3FC;\n",
              "    }\n",
              "\n",
              "    [theme=dark] .colab-df-convert:hover {\n",
              "      background-color: #434B5C;\n",
              "      box-shadow: 0px 1px 3px 1px rgba(0, 0, 0, 0.15);\n",
              "      filter: drop-shadow(0px 1px 2px rgba(0, 0, 0, 0.3));\n",
              "      fill: #FFFFFF;\n",
              "    }\n",
              "  </style>\n",
              "\n",
              "      <script>\n",
              "        const buttonEl =\n",
              "          document.querySelector('#df-83d66de9-d78e-4ac5-a9d7-f1600ac3441d button.colab-df-convert');\n",
              "        buttonEl.style.display =\n",
              "          google.colab.kernel.accessAllowed ? 'block' : 'none';\n",
              "\n",
              "        async function convertToInteractive(key) {\n",
              "          const element = document.querySelector('#df-83d66de9-d78e-4ac5-a9d7-f1600ac3441d');\n",
              "          const dataTable =\n",
              "            await google.colab.kernel.invokeFunction('convertToInteractive',\n",
              "                                                     [key], {});\n",
              "          if (!dataTable) return;\n",
              "\n",
              "          const docLinkHtml = 'Like what you see? Visit the ' +\n",
              "            '<a target=\"_blank\" href=https://colab.research.google.com/notebooks/data_table.ipynb>data table notebook</a>'\n",
              "            + ' to learn more about interactive tables.';\n",
              "          element.innerHTML = '';\n",
              "          dataTable['output_type'] = 'display_data';\n",
              "          await google.colab.output.renderOutput(dataTable, element);\n",
              "          const docLink = document.createElement('div');\n",
              "          docLink.innerHTML = docLinkHtml;\n",
              "          element.appendChild(docLink);\n",
              "        }\n",
              "      </script>\n",
              "    </div>\n",
              "  </div>\n",
              "  "
            ],
            "text/plain": [
              "     PassengerId  Survived  Pclass                                  Name  \\\n",
              "630          631         1       1  Barkworth, Mr. Algernon Henry Wilson   \n",
              "851          852         0       3                   Svensson, Mr. Johan   \n",
              "\n",
              "      Sex   Age  SibSp  Parch  Ticket    Fare Cabin Embarked  \n",
              "630  male  80.0      0      0   27042  30.000   A23        S  \n",
              "851  male  74.0      0      0  347060   7.775   NaN        S  "
            ]
          },
          "execution_count": 37,
          "metadata": {},
          "output_type": "execute_result"
        }
      ],
      "source": [
        "titanic[titanic['Age'] > 73]"
      ]
    },
    {
      "cell_type": "code",
      "execution_count": null,
      "metadata": {
        "colab": {
          "base_uri": "https://localhost:8080/"
        },
        "id": "KQu5isNq9-5b",
        "outputId": "81c376ea-9345-4043-8be1-1de17bfea78d"
      },
      "outputs": [
        {
          "data": {
            "text/plain": [
              "80.0"
            ]
          },
          "execution_count": 36,
          "metadata": {},
          "output_type": "execute_result"
        }
      ],
      "source": [
        "titanic['Age'].max()"
      ]
    },
    {
      "cell_type": "code",
      "execution_count": null,
      "metadata": {
        "id": "Gqi-IezQ-D_w"
      },
      "outputs": [],
      "source": []
    }
  ],
  "metadata": {
    "colab": {
      "provenance": []
    },
    "kernelspec": {
      "display_name": "Python 3",
      "name": "python3"
    },
    "language_info": {
      "codemirror_mode": {
        "name": "ipython",
        "version": 3
      },
      "file_extension": ".py",
      "mimetype": "text/x-python",
      "name": "python",
      "nbconvert_exporter": "python",
      "pygments_lexer": "ipython3",
      "version": "3.12.4"
    }
  },
  "nbformat": 4,
  "nbformat_minor": 0
}
