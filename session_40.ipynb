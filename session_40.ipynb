{
  "cells": [
    {
      "cell_type": "code",
      "execution_count": 1,
      "metadata": {
        "id": "MmM05kz9gXa8"
      },
      "outputs": [],
      "source": [
        "import numpy as np\n",
        "import pandas as pd"
      ]
    },
    {
      "cell_type": "code",
      "execution_count": 2,
      "metadata": {
        "id": "7l-cH_-2EBwq"
      },
      "outputs": [],
      "source": [
        "import random"
      ]
    },
    {
      "cell_type": "markdown",
      "metadata": {},
      "source": [
        "## We're creating 10000 random numbers values between 1-6\n",
        "\n",
        "## rolling a dice 10000 times"
      ]
    },
    {
      "cell_type": "code",
      "execution_count": 4,
      "metadata": {},
      "outputs": [],
      "source": [
        "l = []\n",
        "for i in range(10000):\n",
        "  a = random.randint(1,6)\n",
        "  l.append(a)"
      ]
    },
    {
      "cell_type": "code",
      "execution_count": 6,
      "metadata": {},
      "outputs": [
        {
          "data": {
            "text/plain": [
              "10000"
            ]
          },
          "execution_count": 6,
          "metadata": {},
          "output_type": "execute_result"
        }
      ],
      "source": [
        "len(l)"
      ]
    },
    {
      "cell_type": "markdown",
      "metadata": {},
      "source": [
        "## Now if we convert it into a series"
      ]
    },
    {
      "cell_type": "code",
      "execution_count": 8,
      "metadata": {},
      "outputs": [
        {
          "data": {
            "text/plain": [
              "0       2\n",
              "1       2\n",
              "2       5\n",
              "3       2\n",
              "4       1\n",
              "       ..\n",
              "9995    1\n",
              "9996    4\n",
              "9997    3\n",
              "9998    3\n",
              "9999    6\n",
              "Length: 10000, dtype: int64"
            ]
          },
          "execution_count": 8,
          "metadata": {},
          "output_type": "execute_result"
        }
      ],
      "source": [
        "pd.Series(l)"
      ]
    },
    {
      "cell_type": "code",
      "execution_count": 9,
      "metadata": {},
      "outputs": [
        {
          "data": {
            "text/plain": [
              "2    1711\n",
              "4    1696\n",
              "3    1680\n",
              "1    1656\n",
              "5    1648\n",
              "6    1609\n",
              "Name: count, dtype: int64"
            ]
          },
          "execution_count": 9,
          "metadata": {},
          "output_type": "execute_result"
        }
      ],
      "source": [
        "pd.Series(l).value_counts()"
      ]
    },
    {
      "cell_type": "markdown",
      "metadata": {},
      "source": [
        "## Now if we devide this counts by total counts we'll get the probability of getting each number which is almost(1/6)"
      ]
    },
    {
      "cell_type": "code",
      "execution_count": 10,
      "metadata": {},
      "outputs": [
        {
          "data": {
            "text/plain": [
              "2    0.1711\n",
              "4    0.1696\n",
              "3    0.1680\n",
              "1    0.1656\n",
              "5    0.1648\n",
              "6    0.1609\n",
              "Name: count, dtype: float64"
            ]
          },
          "execution_count": 10,
          "metadata": {},
          "output_type": "execute_result"
        }
      ],
      "source": [
        "pd.Series(l).value_counts()/pd.Series(l).value_counts().sum()"
      ]
    },
    {
      "cell_type": "code",
      "execution_count": 16,
      "metadata": {},
      "outputs": [],
      "source": [
        "s = pd.Series(l).value_counts()/pd.Series(l).value_counts().sum()"
      ]
    },
    {
      "cell_type": "code",
      "execution_count": 17,
      "metadata": {},
      "outputs": [
        {
          "data": {
            "text/plain": [
              "1    0.1656\n",
              "2    0.1711\n",
              "3    0.1680\n",
              "4    0.1696\n",
              "5    0.1648\n",
              "6    0.1609\n",
              "Name: count, dtype: float64"
            ]
          },
          "execution_count": 17,
          "metadata": {},
          "output_type": "execute_result"
        }
      ],
      "source": [
        "s.sort_index()"
      ]
    },
    {
      "cell_type": "code",
      "execution_count": 18,
      "metadata": {},
      "outputs": [
        {
          "data": {
            "text/plain": [
              "<Axes: >"
            ]
          },
          "execution_count": 18,
          "metadata": {},
          "output_type": "execute_result"
        },
        {
          "data": {
            "image/png": "[encoded data removed]",
            "text/plain": [
              "<Figure size 640x480 with 1 Axes>"
            ]
          },
          "metadata": {},
          "output_type": "display_data"
        }
      ],
      "source": [
        "s.sort_index().plot(kind='bar')"
      ]
    },
    {
      "cell_type": "markdown",
      "metadata": {},
      "source": [
        "## rolling the two dices 10000 times each"
      ]
    },
    {
      "cell_type": "code",
      "execution_count": 19,
      "metadata": {
        "id": "5cs55cwNEB1L"
      },
      "outputs": [],
      "source": [
        "L = []\n",
        "for i in range(10000):\n",
        "  a = random.randint(1,6)\n",
        "  b = random.randint(1,6)\n",
        "\n",
        "  L.append(a + b)"
      ]
    },
    {
      "cell_type": "code",
      "execution_count": 20,
      "metadata": {},
      "outputs": [
        {
          "data": {
            "text/plain": [
              "[7,\n",
              " 11,\n",
              " 5,\n",
              " 9,\n",
              " 11,\n",
              " 7,\n",
              " 7,\n",
              " 4,\n",
              " 9,\n",
              " 9,\n",
              " 7,\n",
              " 12,\n",
              " 4,\n",
              " 6,\n",
              " 4,\n",
              " 6,\n",
              " 5,\n",
              " 8,\n",
              " 10,\n",
              " 10,\n",
              " 11,\n",
              " 8,\n",
              " 3,\n",
              " 6,\n",
              " 7,\n",
              " 7,\n",
              " 4,\n",
              " 11,\n",
              " 11,\n",
              " 10,\n",
              " 7,\n",
              " 11,\n",
              " 7,\n",
              " 8,\n",
              " 7,\n",
              " 6,\n",
              " 7,\n",
              " 3,\n",
              " 6,\n",
              " 2,\n",
              " 8,\n",
              " 2,\n",
              " 9,\n",
              " 5,\n",
              " 6,\n",
              " 9,\n",
              " 7,\n",
              " 10,\n",
              " 7,\n",
              " 11,\n",
              " 8,\n",
              " 6,\n",
              " 8,\n",
              " 7,\n",
              " 9,\n",
              " 8,\n",
              " 11,\n",
              " 9,\n",
              " 4,\n",
              " 6,\n",
              " 6,\n",
              " 4,\n",
              " 9,\n",
              " 4,\n",
              " 4,\n",
              " 6,\n",
              " 9,\n",
              " 7,\n",
              " 3,\n",
              " 7,\n",
              " 5,\n",
              " 9,\n",
              " 5,\n",
              " 10,\n",
              " 10,\n",
              " 10,\n",
              " 10,\n",
              " 9,\n",
              " 9,\n",
              " 8,\n",
              " 4,\n",
              " 4,\n",
              " 9,\n",
              " 5,\n",
              " 6,\n",
              " 7,\n",
              " 7,\n",
              " 7,\n",
              " 9,\n",
              " 9,\n",
              " 6,\n",
              " 8,\n",
              " 5,\n",
              " 3,\n",
              " 4,\n",
              " 4,\n",
              " 10,\n",
              " 7,\n",
              " 4,\n",
              " 5,\n",
              " 7,\n",
              " 6,\n",
              " 9,\n",
              " 5,\n",
              " 4,\n",
              " 7,\n",
              " 7,\n",
              " 11,\n",
              " 10,\n",
              " 6,\n",
              " 3,\n",
              " 9,\n",
              " 11,\n",
              " 8,\n",
              " 10,\n",
              " 8,\n",
              " 5,\n",
              " 7,\n",
              " 6,\n",
              " 10,\n",
              " 6,\n",
              " 10,\n",
              " 5,\n",
              " 10,\n",
              " 5,\n",
              " 10,\n",
              " 8,\n",
              " 10,\n",
              " 8,\n",
              " 7,\n",
              " 7,\n",
              " 10,\n",
              " 4,\n",
              " 5,\n",
              " 3,\n",
              " 4,\n",
              " 5,\n",
              " 9,\n",
              " 9,\n",
              " 9,\n",
              " 9,\n",
              " 11,\n",
              " 6,\n",
              " 8,\n",
              " 5,\n",
              " 6,\n",
              " 6,\n",
              " 7,\n",
              " 8,\n",
              " 9,\n",
              " 4,\n",
              " 6,\n",
              " 4,\n",
              " 5,\n",
              " 8,\n",
              " 8,\n",
              " 8,\n",
              " 11,\n",
              " 9,\n",
              " 6,\n",
              " 2,\n",
              " 10,\n",
              " 10,\n",
              " 8,\n",
              " 4,\n",
              " 5,\n",
              " 7,\n",
              " 9,\n",
              " 6,\n",
              " 7,\n",
              " 4,\n",
              " 8,\n",
              " 2,\n",
              " 12,\n",
              " 4,\n",
              " 5,\n",
              " 8,\n",
              " 12,\n",
              " 9,\n",
              " 7,\n",
              " 11,\n",
              " 9,\n",
              " 11,\n",
              " 10,\n",
              " 5,\n",
              " 6,\n",
              " 12,\n",
              " 7,\n",
              " 6,\n",
              " 10,\n",
              " 7,\n",
              " 9,\n",
              " 9,\n",
              " 5,\n",
              " 9,\n",
              " 6,\n",
              " 12,\n",
              " 8,\n",
              " 7,\n",
              " 11,\n",
              " 8,\n",
              " 8,\n",
              " 6,\n",
              " 5,\n",
              " 9,\n",
              " 11,\n",
              " 4,\n",
              " 5,\n",
              " 4,\n",
              " 9,\n",
              " 6,\n",
              " 7,\n",
              " 8,\n",
              " 8,\n",
              " 9,\n",
              " 4,\n",
              " 7,\n",
              " 4,\n",
              " 12,\n",
              " 9,\n",
              " 9,\n",
              " 7,\n",
              " 6,\n",
              " 2,\n",
              " 6,\n",
              " 9,\n",
              " 11,\n",
              " 10,\n",
              " 7,\n",
              " 6,\n",
              " 5,\n",
              " 9,\n",
              " 2,\n",
              " 7,\n",
              " 4,\n",
              " 9,\n",
              " 8,\n",
              " 9,\n",
              " 6,\n",
              " 11,\n",
              " 7,\n",
              " 4,\n",
              " 9,\n",
              " 8,\n",
              " 5,\n",
              " 8,\n",
              " 5,\n",
              " 11,\n",
              " 8,\n",
              " 8,\n",
              " 3,\n",
              " 6,\n",
              " 5,\n",
              " 11,\n",
              " 7,\n",
              " 11,\n",
              " 4,\n",
              " 8,\n",
              " 8,\n",
              " 9,\n",
              " 6,\n",
              " 3,\n",
              " 3,\n",
              " 7,\n",
              " 7,\n",
              " 5,\n",
              " 10,\n",
              " 7,\n",
              " 9,\n",
              " 8,\n",
              " 7,\n",
              " 12,\n",
              " 5,\n",
              " 11,\n",
              " 8,\n",
              " 2,\n",
              " 7,\n",
              " 10,\n",
              " 8,\n",
              " 5,\n",
              " 9,\n",
              " 10,\n",
              " 11,\n",
              " 10,\n",
              " 2,\n",
              " 2,\n",
              " 12,\n",
              " 4,\n",
              " 6,\n",
              " 10,\n",
              " 7,\n",
              " 11,\n",
              " 5,\n",
              " 8,\n",
              " 6,\n",
              " 7,\n",
              " 7,\n",
              " 7,\n",
              " 5,\n",
              " 6,\n",
              " 8,\n",
              " 7,\n",
              " 6,\n",
              " 7,\n",
              " 7,\n",
              " 8,\n",
              " 6,\n",
              " 7,\n",
              " 7,\n",
              " 9,\n",
              " 6,\n",
              " 4,\n",
              " 4,\n",
              " 6,\n",
              " 8,\n",
              " 3,\n",
              " 5,\n",
              " 10,\n",
              " 9,\n",
              " 5,\n",
              " 9,\n",
              " 7,\n",
              " 4,\n",
              " 5,\n",
              " 11,\n",
              " 10,\n",
              " 7,\n",
              " 7,\n",
              " 10,\n",
              " 9,\n",
              " 4,\n",
              " 8,\n",
              " 5,\n",
              " 6,\n",
              " 11,\n",
              " 9,\n",
              " 12,\n",
              " 7,\n",
              " 5,\n",
              " 7,\n",
              " 8,\n",
              " 7,\n",
              " 7,\n",
              " 2,\n",
              " 9,\n",
              " 8,\n",
              " 7,\n",
              " 9,\n",
              " 5,\n",
              " 8,\n",
              " 6,\n",
              " 6,\n",
              " 5,\n",
              " 9,\n",
              " 11,\n",
              " 7,\n",
              " 2,\n",
              " 7,\n",
              " 2,\n",
              " 8,\n",
              " 7,\n",
              " 12,\n",
              " 4,\n",
              " 5,\n",
              " 8,\n",
              " 3,\n",
              " 8,\n",
              " 10,\n",
              " 11,\n",
              " 3,\n",
              " 8,\n",
              " 11,\n",
              " 7,\n",
              " 11,\n",
              " 10,\n",
              " 3,\n",
              " 9,\n",
              " 5,\n",
              " 10,\n",
              " 6,\n",
              " 12,\n",
              " 11,\n",
              " 7,\n",
              " 9,\n",
              " 5,\n",
              " 3,\n",
              " 7,\n",
              " 7,\n",
              " 8,\n",
              " 3,\n",
              " 10,\n",
              " 9,\n",
              " 6,\n",
              " 8,\n",
              " 3,\n",
              " 6,\n",
              " 9,\n",
              " 6,\n",
              " 11,\n",
              " 4,\n",
              " 7,\n",
              " 4,\n",
              " 10,\n",
              " 9,\n",
              " 7,\n",
              " 7,\n",
              " 3,\n",
              " 8,\n",
              " 8,\n",
              " 9,\n",
              " 6,\n",
              " 3,\n",
              " 6,\n",
              " 7,\n",
              " 12,\n",
              " 8,\n",
              " 4,\n",
              " 9,\n",
              " 7,\n",
              " 9,\n",
              " 9,\n",
              " 5,\n",
              " 8,\n",
              " 10,\n",
              " 7,\n",
              " 7,\n",
              " 7,\n",
              " 5,\n",
              " 10,\n",
              " 7,\n",
              " 6,\n",
              " 11,\n",
              " 3,\n",
              " 7,\n",
              " 11,\n",
              " 6,\n",
              " 8,\n",
              " 9,\n",
              " 7,\n",
              " 3,\n",
              " 12,\n",
              " 7,\n",
              " 8,\n",
              " 5,\n",
              " 8,\n",
              " 10,\n",
              " 6,\n",
              " 10,\n",
              " 10,\n",
              " 11,\n",
              " 7,\n",
              " 3,\n",
              " 9,\n",
              " 7,\n",
              " 7,\n",
              " 4,\n",
              " 9,\n",
              " 7,\n",
              " 7,\n",
              " 6,\n",
              " 2,\n",
              " 4,\n",
              " 7,\n",
              " 10,\n",
              " 4,\n",
              " 3,\n",
              " 2,\n",
              " 6,\n",
              " 8,\n",
              " 3,\n",
              " 6,\n",
              " 11,\n",
              " 8,\n",
              " 4,\n",
              " 3,\n",
              " 8,\n",
              " 8,\n",
              " 11,\n",
              " 2,\n",
              " 9,\n",
              " 4,\n",
              " 6,\n",
              " 2,\n",
              " 3,\n",
              " 8,\n",
              " 6,\n",
              " 9,\n",
              " 8,\n",
              " 3,\n",
              " 3,\n",
              " 12,\n",
              " 9,\n",
              " 4,\n",
              " 3,\n",
              " 7,\n",
              " 6,\n",
              " 5,\n",
              " 11,\n",
              " 8,\n",
              " 6,\n",
              " 7,\n",
              " 11,\n",
              " 4,\n",
              " 7,\n",
              " 6,\n",
              " 4,\n",
              " 7,\n",
              " 8,\n",
              " 8,\n",
              " 9,\n",
              " 7,\n",
              " 4,\n",
              " 9,\n",
              " 7,\n",
              " 5,\n",
              " 5,\n",
              " 8,\n",
              " 8,\n",
              " 9,\n",
              " 4,\n",
              " 6,\n",
              " 12,\n",
              " 9,\n",
              " 8,\n",
              " 5,\n",
              " 9,\n",
              " 8,\n",
              " 7,\n",
              " 9,\n",
              " 9,\n",
              " 10,\n",
              " 9,\n",
              " 10,\n",
              " 9,\n",
              " 7,\n",
              " 8,\n",
              " 10,\n",
              " 11,\n",
              " 11,\n",
              " 10,\n",
              " 11,\n",
              " 5,\n",
              " 4,\n",
              " 7,\n",
              " 7,\n",
              " 7,\n",
              " 12,\n",
              " 11,\n",
              " 10,\n",
              " 5,\n",
              " 6,\n",
              " 6,\n",
              " 11,\n",
              " 9,\n",
              " 7,\n",
              " 11,\n",
              " 5,\n",
              " 7,\n",
              " 9,\n",
              " 7,\n",
              " 9,\n",
              " 9,\n",
              " 3,\n",
              " 5,\n",
              " 10,\n",
              " 5,\n",
              " 11,\n",
              " 2,\n",
              " 7,\n",
              " 6,\n",
              " 7,\n",
              " 3,\n",
              " 9,\n",
              " 6,\n",
              " 3,\n",
              " 10,\n",
              " 5,\n",
              " 8,\n",
              " 7,\n",
              " 9,\n",
              " 7,\n",
              " 4,\n",
              " 7,\n",
              " 7,\n",
              " 6,\n",
              " 7,\n",
              " 12,\n",
              " 7,\n",
              " 8,\n",
              " 8,\n",
              " 9,\n",
              " 7,\n",
              " 7,\n",
              " 4,\n",
              " 9,\n",
              " 11,\n",
              " 6,\n",
              " 9,\n",
              " 4,\n",
              " 7,\n",
              " 3,\n",
              " 11,\n",
              " 6,\n",
              " 11,\n",
              " 8,\n",
              " 9,\n",
              " 8,\n",
              " 7,\n",
              " 11,\n",
              " 5,\n",
              " 4,\n",
              " 11,\n",
              " 7,\n",
              " 10,\n",
              " 11,\n",
              " 9,\n",
              " 2,\n",
              " 7,\n",
              " 7,\n",
              " 3,\n",
              " 9,\n",
              " 10,\n",
              " 8,\n",
              " 6,\n",
              " 9,\n",
              " 7,\n",
              " 12,\n",
              " 8,\n",
              " 11,\n",
              " 7,\n",
              " 6,\n",
              " 7,\n",
              " 10,\n",
              " 6,\n",
              " 8,\n",
              " 10,\n",
              " 4,\n",
              " 6,\n",
              " 8,\n",
              " 8,\n",
              " 8,\n",
              " 2,\n",
              " 8,\n",
              " 5,\n",
              " 7,\n",
              " 11,\n",
              " 7,\n",
              " 6,\n",
              " 9,\n",
              " 10,\n",
              " 5,\n",
              " 7,\n",
              " 6,\n",
              " 6,\n",
              " 12,\n",
              " 7,\n",
              " 10,\n",
              " 5,\n",
              " 7,\n",
              " 11,\n",
              " 4,\n",
              " 7,\n",
              " 7,\n",
              " 7,\n",
              " 11,\n",
              " 10,\n",
              " 2,\n",
              " 5,\n",
              " 10,\n",
              " 6,\n",
              " 8,\n",
              " 12,\n",
              " 7,\n",
              " 7,\n",
              " 10,\n",
              " 11,\n",
              " 8,\n",
              " 2,\n",
              " 5,\n",
              " 6,\n",
              " 6,\n",
              " 6,\n",
              " 9,\n",
              " 9,\n",
              " 8,\n",
              " 5,\n",
              " 8,\n",
              " 10,\n",
              " 2,\n",
              " 5,\n",
              " 8,\n",
              " 9,\n",
              " 5,\n",
              " 5,\n",
              " 4,\n",
              " 6,\n",
              " 5,\n",
              " 8,\n",
              " 10,\n",
              " 5,\n",
              " 7,\n",
              " 6,\n",
              " 10,\n",
              " 6,\n",
              " 7,\n",
              " 9,\n",
              " 3,\n",
              " 7,\n",
              " 7,\n",
              " 7,\n",
              " 11,\n",
              " 9,\n",
              " 9,\n",
              " 4,\n",
              " 9,\n",
              " 5,\n",
              " 7,\n",
              " 8,\n",
              " 5,\n",
              " 6,\n",
              " 8,\n",
              " 6,\n",
              " 9,\n",
              " 8,\n",
              " 3,\n",
              " 9,\n",
              " 7,\n",
              " 11,\n",
              " 9,\n",
              " 4,\n",
              " 11,\n",
              " 10,\n",
              " 9,\n",
              " 5,\n",
              " 7,\n",
              " 6,\n",
              " 3,\n",
              " 7,\n",
              " 7,\n",
              " 5,\n",
              " 8,\n",
              " 5,\n",
              " 2,\n",
              " 5,\n",
              " 9,\n",
              " 7,\n",
              " 7,\n",
              " 10,\n",
              " 11,\n",
              " 10,\n",
              " 6,\n",
              " 7,\n",
              " 9,\n",
              " 11,\n",
              " 10,\n",
              " 10,\n",
              " 6,\n",
              " 9,\n",
              " 11,\n",
              " 7,\n",
              " 9,\n",
              " 6,\n",
              " 7,\n",
              " 7,\n",
              " 9,\n",
              " 7,\n",
              " 10,\n",
              " 5,\n",
              " 3,\n",
              " 4,\n",
              " 8,\n",
              " 11,\n",
              " 5,\n",
              " 9,\n",
              " 5,\n",
              " 8,\n",
              " 6,\n",
              " 7,\n",
              " 8,\n",
              " 7,\n",
              " 7,\n",
              " 3,\n",
              " 7,\n",
              " 7,\n",
              " 4,\n",
              " 5,\n",
              " 11,\n",
              " 5,\n",
              " 8,\n",
              " 10,\n",
              " 8,\n",
              " 7,\n",
              " 10,\n",
              " 8,\n",
              " 7,\n",
              " 9,\n",
              " 7,\n",
              " 4,\n",
              " 3,\n",
              " 10,\n",
              " 3,\n",
              " 8,\n",
              " 7,\n",
              " 7,\n",
              " 9,\n",
              " 6,\n",
              " 4,\n",
              " 10,\n",
              " 8,\n",
              " 7,\n",
              " 6,\n",
              " 11,\n",
              " 4,\n",
              " 7,\n",
              " 7,\n",
              " 8,\n",
              " 7,\n",
              " 10,\n",
              " 7,\n",
              " 6,\n",
              " 6,\n",
              " 5,\n",
              " 2,\n",
              " 4,\n",
              " 6,\n",
              " 7,\n",
              " 4,\n",
              " 5,\n",
              " 7,\n",
              " 8,\n",
              " 7,\n",
              " 10,\n",
              " 5,\n",
              " 7,\n",
              " 4,\n",
              " 7,\n",
              " 3,\n",
              " 4,\n",
              " 6,\n",
              " 10,\n",
              " 10,\n",
              " 9,\n",
              " 2,\n",
              " 8,\n",
              " 8,\n",
              " 9,\n",
              " 5,\n",
              " 9,\n",
              " 8,\n",
              " 6,\n",
              " 9,\n",
              " 10,\n",
              " 11,\n",
              " 7,\n",
              " 3,\n",
              " 10,\n",
              " 7,\n",
              " 8,\n",
              " 10,\n",
              " 8,\n",
              " 5,\n",
              " 4,\n",
              " 8,\n",
              " 8,\n",
              " 8,\n",
              " 7,\n",
              " 4,\n",
              " 10,\n",
              " 5,\n",
              " 8,\n",
              " 8,\n",
              " 6,\n",
              " 3,\n",
              " 8,\n",
              " 10,\n",
              " 7,\n",
              " 6,\n",
              " 7,\n",
              " 6,\n",
              " 8,\n",
              " 7,\n",
              " 3,\n",
              " 8,\n",
              " 7,\n",
              " 12,\n",
              " 11,\n",
              " 8,\n",
              " 10,\n",
              " 11,\n",
              " 4,\n",
              " 10,\n",
              " 6,\n",
              " 7,\n",
              " 6,\n",
              " 9,\n",
              " 7,\n",
              " 9,\n",
              " 6,\n",
              " 7,\n",
              " 7,\n",
              " 9,\n",
              " 5,\n",
              " 8,\n",
              " 5,\n",
              " 3,\n",
              " 12,\n",
              " 7,\n",
              " 7,\n",
              " 7,\n",
              " 3,\n",
              " 7,\n",
              " 3,\n",
              " 7,\n",
              " 5,\n",
              " 7,\n",
              " 7,\n",
              " 5,\n",
              " 6,\n",
              " 9,\n",
              " 3,\n",
              " 5,\n",
              " 6,\n",
              " 10,\n",
              " 12,\n",
              " 10,\n",
              " 9,\n",
              " 8,\n",
              " 10,\n",
              " 10,\n",
              " 8,\n",
              " 10,\n",
              " 8,\n",
              " 9,\n",
              " 8,\n",
              " 4,\n",
              " 5,\n",
              " 11,\n",
              " 8,\n",
              " 9,\n",
              " 10,\n",
              " 5,\n",
              " 10,\n",
              " 7,\n",
              " 6,\n",
              " 6,\n",
              " 6,\n",
              " 6,\n",
              " 6,\n",
              " 4,\n",
              " 4,\n",
              " 8,\n",
              " 7,\n",
              " 7,\n",
              " 7,\n",
              " 6,\n",
              " 8,\n",
              " 10,\n",
              " 6,\n",
              " 10,\n",
              " 4,\n",
              " 8,\n",
              " 6,\n",
              " 7,\n",
              " 8,\n",
              " 9,\n",
              " 5,\n",
              " 9,\n",
              " 12,\n",
              " 5,\n",
              " 6,\n",
              " 7,\n",
              " 8,\n",
              " 11,\n",
              " 7,\n",
              " 10,\n",
              " 6,\n",
              " 10,\n",
              " 4,\n",
              " 7,\n",
              " 3,\n",
              " 9,\n",
              " 3,\n",
              " 3,\n",
              " 9,\n",
              " 6,\n",
              " 10,\n",
              " 3,\n",
              " 4,\n",
              " 10,\n",
              " 6,\n",
              " 5,\n",
              " 10,\n",
              " 7,\n",
              " 9,\n",
              " 8,\n",
              " 9,\n",
              " 7,\n",
              " 12,\n",
              " 4,\n",
              " 7,\n",
              " ...]"
            ]
          },
          "execution_count": 20,
          "metadata": {},
          "output_type": "execute_result"
        }
      ],
      "source": [
        "L"
      ]
    },
    {
      "cell_type": "code",
      "execution_count": 21,
      "metadata": {
        "colab": {
          "base_uri": "https://localhost:8080/"
        },
        "id": "2620ZC8FEB5k",
        "outputId": "7a07d68a-cd59-474b-e841-12b70fc00a5b"
      },
      "outputs": [
        {
          "data": {
            "text/plain": [
              "10000"
            ]
          },
          "execution_count": 21,
          "metadata": {},
          "output_type": "execute_result"
        }
      ],
      "source": [
        "len(L)"
      ]
    },
    {
      "cell_type": "code",
      "execution_count": 22,
      "metadata": {
        "colab": {
          "base_uri": "https://localhost:8080/"
        },
        "id": "qUA2MblvEB7x",
        "outputId": "25557f47-b7a9-406b-8b2f-48ff63304486"
      },
      "outputs": [
        {
          "data": {
            "text/plain": [
              "[7, 11, 5, 9, 11]"
            ]
          },
          "execution_count": 22,
          "metadata": {},
          "output_type": "execute_result"
        }
      ],
      "source": [
        "L[:5]"
      ]
    },
    {
      "cell_type": "code",
      "execution_count": 23,
      "metadata": {},
      "outputs": [
        {
          "data": {
            "text/plain": [
              "0        7\n",
              "1       11\n",
              "2        5\n",
              "3        9\n",
              "4       11\n",
              "        ..\n",
              "9995     9\n",
              "9996    10\n",
              "9997     9\n",
              "9998     7\n",
              "9999    11\n",
              "Length: 10000, dtype: int64"
            ]
          },
          "execution_count": 23,
          "metadata": {},
          "output_type": "execute_result"
        }
      ],
      "source": [
        "pd.Series(L)"
      ]
    },
    {
      "cell_type": "code",
      "execution_count": 24,
      "metadata": {},
      "outputs": [
        {
          "data": {
            "text/plain": [
              "7     1668\n",
              "8     1433\n",
              "6     1321\n",
              "9     1131\n",
              "5     1101\n",
              "10     851\n",
              "4      813\n",
              "3      550\n",
              "11     544\n",
              "2      315\n",
              "12     273\n",
              "Name: count, dtype: int64"
            ]
          },
          "execution_count": 24,
          "metadata": {},
          "output_type": "execute_result"
        }
      ],
      "source": [
        "pd.Series(L).value_counts()"
      ]
    },
    {
      "cell_type": "code",
      "execution_count": 25,
      "metadata": {},
      "outputs": [
        {
          "data": {
            "text/plain": [
              "10000"
            ]
          },
          "execution_count": 25,
          "metadata": {},
          "output_type": "execute_result"
        }
      ],
      "source": [
        "pd.Series(L).value_counts().sum()"
      ]
    },
    {
      "cell_type": "code",
      "execution_count": 26,
      "metadata": {},
      "outputs": [
        {
          "data": {
            "text/plain": [
              "7     0.1668\n",
              "8     0.1433\n",
              "6     0.1321\n",
              "9     0.1131\n",
              "5     0.1101\n",
              "10    0.0851\n",
              "4     0.0813\n",
              "3     0.0550\n",
              "11    0.0544\n",
              "2     0.0315\n",
              "12    0.0273\n",
              "Name: count, dtype: float64"
            ]
          },
          "execution_count": 26,
          "metadata": {},
          "output_type": "execute_result"
        }
      ],
      "source": [
        "pd.Series(L).value_counts()/pd.Series(L).value_counts().sum()"
      ]
    },
    {
      "cell_type": "code",
      "execution_count": 27,
      "metadata": {
        "id": "Hu76YIbdEB-E"
      },
      "outputs": [],
      "source": [
        "s = (pd.Series(L).value_counts()/pd.Series(L).value_counts().sum()).sort_index()"
      ]
    },
    {
      "cell_type": "code",
      "execution_count": 28,
      "metadata": {},
      "outputs": [
        {
          "data": {
            "text/plain": [
              "2     0.0315\n",
              "3     0.0550\n",
              "4     0.0813\n",
              "5     0.1101\n",
              "6     0.1321\n",
              "7     0.1668\n",
              "8     0.1433\n",
              "9     0.1131\n",
              "10    0.0851\n",
              "11    0.0544\n",
              "12    0.0273\n",
              "Name: count, dtype: float64"
            ]
          },
          "execution_count": 28,
          "metadata": {},
          "output_type": "execute_result"
        }
      ],
      "source": [
        "s"
      ]
    },
    {
      "cell_type": "markdown",
      "metadata": {},
      "source": [
        "## Now if we calculate cumulative sum"
      ]
    },
    {
      "cell_type": "code",
      "execution_count": 29,
      "metadata": {
        "colab": {
          "base_uri": "https://localhost:8080/"
        },
        "id": "ydYmwefR_F3R",
        "outputId": "0a52a761-815d-4245-ac02-226aa42092a3"
      },
      "outputs": [
        {
          "data": {
            "text/plain": [
              "2     0.0315\n",
              "3     0.0865\n",
              "4     0.1678\n",
              "5     0.2779\n",
              "6     0.4100\n",
              "7     0.5768\n",
              "8     0.7201\n",
              "9     0.8332\n",
              "10    0.9183\n",
              "11    0.9727\n",
              "12    1.0000\n",
              "Name: count, dtype: float64"
            ]
          },
          "execution_count": 29,
          "metadata": {},
          "output_type": "execute_result"
        }
      ],
      "source": [
        "np.cumsum(s)"
      ]
    },
    {
      "cell_type": "markdown",
      "metadata": {},
      "source": [
        "## So if we plot for PMF"
      ]
    },
    {
      "cell_type": "code",
      "execution_count": 30,
      "metadata": {
        "colab": {
          "base_uri": "https://localhost:8080/",
          "height": 285
        },
        "id": "Sh5gkLeLECAh",
        "outputId": "75c4eae6-60f1-4f3e-f93a-8ce9dba8110a"
      },
      "outputs": [
        {
          "data": {
            "text/plain": [
              "<Axes: >"
            ]
          },
          "execution_count": 30,
          "metadata": {},
          "output_type": "execute_result"
        },
        {
          "data": {
            "image/png": "[encoded data removed]",
            "text/plain": [
              "<Figure size 640x480 with 1 Axes>"
            ]
          },
          "metadata": {},
          "output_type": "display_data"
        }
      ],
      "source": [
        "s.plot(kind='bar')"
      ]
    },
    {
      "cell_type": "code",
      "execution_count": 31,
      "metadata": {
        "colab": {
          "base_uri": "https://localhost:8080/",
          "height": 285
        },
        "id": "FnuC_aQS-hx7",
        "outputId": "329d4d56-a5a0-4c6f-b8a0-a16d2a9d33ce"
      },
      "outputs": [
        {
          "data": {
            "text/plain": [
              "<Axes: >"
            ]
          },
          "execution_count": 31,
          "metadata": {},
          "output_type": "execute_result"
        },
        {
          "data": {
            "image/png": "[encoded data removed]",
            "text/plain": [
              "<Figure size 640x480 with 1 Axes>"
            ]
          },
          "metadata": {},
          "output_type": "display_data"
        }
      ],
      "source": [
        "np.cumsum(s).plot(kind='bar')"
      ]
    },
    {
      "cell_type": "markdown",
      "metadata": {
        "id": "wwfm9K_sDL1M"
      },
      "source": [
        "# Parametric Density Estimation\n",
        "\n",
        "## To Calculate PDF, let's generate 1000 datapoints which are normally distributed using normal function from numpy, with mean 50 and standerd deviation 5\n",
        "\n",
        "## these parameters are sample parameter; so the actual mean is a little different than sample mean\n",
        "\n",
        "## this is the sample data not the entire data"
      ]
    },
    {
      "cell_type": "code",
      "execution_count": 32,
      "metadata": {
        "id": "Pj2zd24bDQnC"
      },
      "outputs": [],
      "source": [
        "import matplotlib.pyplot as plt\n",
        "import numpy as np\n",
        "from numpy.random import normal\n",
        "\n",
        "sample = normal(loc=50, scale=5,size=1000)"
      ]
    },
    {
      "cell_type": "code",
      "execution_count": 33,
      "metadata": {},
      "outputs": [
        {
          "data": {
            "text/plain": [
              "array([53.84817731, 47.23901681, 54.29065252, 48.02730811, 53.02904273,\n",
              "       51.7756585 , 49.50327402, 55.68332758, 49.13199307, 48.11564157,\n",
              "       37.78840386, 41.92194378, 54.52472724, 52.57852363, 51.89625725,\n",
              "       48.42735832, 46.96961708, 48.43234627, 54.74988212, 45.71341379,\n",
              "       51.07138434, 53.88016043, 53.49116037, 57.96882455, 51.60798757,\n",
              "       49.28354751, 60.99783206, 45.23855794, 49.12292101, 48.96245216,\n",
              "       57.29119629, 46.11230709, 45.06409482, 48.37035623, 50.77588969,\n",
              "       50.20809778, 52.76717702, 52.98104155, 46.31977889, 53.37416069,\n",
              "       50.6088505 , 46.98903339, 45.00357524, 47.83259482, 49.62765277,\n",
              "       47.08817238, 49.8869697 , 48.30006708, 48.39146353, 52.80545905,\n",
              "       48.34807059, 54.61530641, 57.68736962, 48.53293123, 58.19086082,\n",
              "       44.64557528, 45.45467517, 48.7388763 , 55.67561667, 48.61067895,\n",
              "       52.40485256, 59.29640199, 41.41410787, 51.95666866, 50.28447653,\n",
              "       54.85744397, 46.17314488, 51.9860047 , 47.15271929, 50.60993119,\n",
              "       40.84426383, 55.78283148, 56.83682361, 50.18826135, 59.60081481,\n",
              "       48.45304896, 51.05723392, 50.42491721, 49.19611486, 53.86913255,\n",
              "       43.18673802, 53.99262458, 64.55973165, 53.36765551, 57.89236785,\n",
              "       49.95963732, 48.7515037 , 50.08937226, 45.28265443, 51.46698654,\n",
              "       50.52290054, 49.06369956, 46.61605964, 59.24223647, 50.57473333,\n",
              "       48.24088562, 52.19548058, 48.44884319, 42.63569778, 47.79481126,\n",
              "       44.25545846, 54.89400967, 53.32009692, 54.63768835, 49.99644602,\n",
              "       51.2275454 , 56.45565164, 38.37850792, 54.73541524, 51.85067544,\n",
              "       53.80733186, 53.19005135, 47.04601168, 43.28523729, 46.98011052,\n",
              "       44.00374147, 52.82343567, 41.7889952 , 50.97988357, 50.1197702 ,\n",
              "       47.25051381, 46.31838115, 52.71371139, 49.10057358, 51.35541648,\n",
              "       48.76821463, 51.66875411, 56.01084234, 51.95646621, 51.61275705,\n",
              "       45.59413212, 49.75191317, 46.78404355, 49.85074066, 53.41452984,\n",
              "       48.11557794, 47.55256777, 47.57900666, 49.46876607, 48.48860087,\n",
              "       35.26094118, 52.16696211, 47.58551759, 44.65100049, 48.19499684,\n",
              "       48.17984253, 47.42323809, 50.45441048, 50.67978737, 51.96133316,\n",
              "       53.5534808 , 46.54416947, 50.3511344 , 35.59817265, 47.91643791,\n",
              "       49.92253669, 51.53492414, 56.15563135, 56.63885528, 49.13723654,\n",
              "       52.09715596, 48.5027078 , 44.87549242, 45.74882591, 55.51681834,\n",
              "       56.58308987, 47.00974847, 46.37806575, 49.39851434, 46.42462549,\n",
              "       52.01521934, 36.50322697, 49.13524558, 50.98576372, 49.49917735,\n",
              "       39.1873158 , 53.65610295, 41.42679646, 48.97198291, 45.29479016,\n",
              "       55.66380705, 45.22423193, 48.28334381, 44.02805988, 52.37610125,\n",
              "       60.45302022, 44.40093274, 43.07123902, 53.12386146, 54.47622437,\n",
              "       47.94491247, 50.94056094, 59.55577143, 61.48336398, 46.88796051,\n",
              "       45.02052811, 47.61617914, 47.74101752, 50.97178051, 41.85360815,\n",
              "       54.22701252, 60.61069442, 51.36622795, 52.29336293, 52.66114107,\n",
              "       45.93830761, 47.16614685, 52.68242642, 51.67268149, 45.33847356,\n",
              "       49.16668653, 53.81159709, 45.77684592, 44.38712013, 47.96696837,\n",
              "       50.74706717, 52.84453871, 51.13184597, 47.79849505, 52.51899266,\n",
              "       39.03729334, 54.32312744, 43.2835345 , 60.13962479, 50.70772983,\n",
              "       47.22775038, 55.12277052, 51.60754584, 46.92617043, 59.42171937,\n",
              "       37.90896838, 52.36882629, 47.26431851, 50.86651267, 53.03692925,\n",
              "       43.94290646, 40.19198944, 49.43118357, 41.48039203, 59.99091391,\n",
              "       46.89600864, 45.55718399, 55.83854329, 51.35013296, 44.48941434,\n",
              "       57.3842328 , 50.39034365, 58.42515356, 51.5756056 , 40.56624899,\n",
              "       53.49263045, 40.0411157 , 45.29614819, 50.72544892, 52.55578509,\n",
              "       47.0596001 , 51.3988035 , 50.45281338, 49.31987273, 53.79805605,\n",
              "       51.37435066, 54.14004441, 51.9254229 , 53.16856479, 48.52552149,\n",
              "       46.21119186, 54.37666558, 47.05509831, 51.83812945, 47.43334771,\n",
              "       47.9071656 , 47.68310554, 48.14301314, 54.10285293, 47.08643432,\n",
              "       45.92801156, 47.7233747 , 41.70075221, 56.81370809, 50.43752598,\n",
              "       44.69730953, 50.9643542 , 39.20125403, 44.67825746, 51.54742745,\n",
              "       51.24617081, 52.21042278, 48.89273742, 54.69352727, 55.97820384,\n",
              "       51.12409993, 49.59442313, 53.17158676, 52.32035605, 57.28489179,\n",
              "       56.2176871 , 47.1158909 , 54.39293886, 46.80892463, 49.27026938,\n",
              "       44.55366833, 47.53134407, 55.28340586, 50.69813982, 53.66618942,\n",
              "       44.60098675, 51.60049381, 49.92117967, 57.96117244, 49.80037574,\n",
              "       51.77730947, 52.64654321, 50.98157553, 56.672345  , 52.856351  ,\n",
              "       51.52450574, 46.81283137, 48.33224744, 48.48717989, 49.06773682,\n",
              "       47.37183314, 48.7566435 , 40.77553747, 47.42170449, 55.63895914,\n",
              "       50.01000056, 40.72806292, 50.62895897, 53.73466711, 52.0417355 ,\n",
              "       45.37132942, 49.46197029, 60.19927175, 43.26758756, 47.23163374,\n",
              "       50.48723598, 60.34491869, 52.22448605, 58.36896918, 47.0400907 ,\n",
              "       49.68517404, 41.23057353, 54.21011983, 49.82383038, 47.35200313,\n",
              "       47.63199944, 47.05108428, 59.03137239, 59.04352606, 46.90572635,\n",
              "       48.90461059, 52.72218919, 38.67763523, 50.75888489, 54.27914254,\n",
              "       43.03149876, 52.68587373, 51.35841991, 53.58936704, 48.82814282,\n",
              "       52.38964214, 47.01342638, 45.00385738, 42.4689778 , 55.03008165,\n",
              "       57.72016408, 50.15556298, 55.42875094, 43.48331144, 54.49853109,\n",
              "       50.46437747, 45.81715955, 45.88847293, 44.19166344, 48.31494681,\n",
              "       56.7856386 , 50.10182205, 52.13971772, 51.42803769, 52.18731962,\n",
              "       49.27500439, 53.27984747, 50.68562942, 43.44652897, 49.81679609,\n",
              "       53.426885  , 51.60130868, 56.65733212, 54.47772367, 48.15914015,\n",
              "       43.95433696, 61.30028854, 50.7347657 , 49.37495485, 38.39009124,\n",
              "       57.82102743, 51.1777776 , 49.95596161, 53.36653114, 40.85475204,\n",
              "       49.12176768, 48.33826718, 46.9467001 , 52.53794237, 51.50533608,\n",
              "       53.5860868 , 43.461132  , 56.32399508, 51.05292658, 57.65247185,\n",
              "       50.80973001, 48.54658226, 57.10663473, 54.02641412, 57.98813144,\n",
              "       58.30338745, 42.01500346, 52.29067733, 47.37074874, 56.45339271,\n",
              "       45.48896333, 40.34368386, 41.49232765, 47.29891944, 52.04424774,\n",
              "       48.5498956 , 41.63089335, 47.22585525, 47.15724339, 52.27213177,\n",
              "       51.54740343, 47.34280521, 58.43935706, 54.9043972 , 52.02610835,\n",
              "       37.3733429 , 49.16594576, 50.5931319 , 47.92666819, 48.66298853,\n",
              "       50.94497041, 47.75517903, 43.6084731 , 46.78404137, 58.89385999,\n",
              "       52.69188881, 52.71917326, 49.63073534, 43.74278003, 60.38790347,\n",
              "       54.57107375, 45.16748568, 49.65289021, 50.8339644 , 51.83539065,\n",
              "       52.06133582, 55.3185732 , 49.39594701, 51.29710342, 45.670306  ,\n",
              "       49.7201654 , 54.97221334, 47.40692621, 50.29066538, 54.85097312,\n",
              "       45.2671857 , 54.39862261, 53.16180115, 53.7256908 , 48.22798873,\n",
              "       53.581452  , 50.55987381, 45.99075721, 48.91064136, 53.85434774,\n",
              "       45.92627627, 44.70979182, 56.60049412, 46.04675585, 53.704681  ,\n",
              "       57.89912557, 47.82673147, 45.03566662, 51.25417951, 46.99935044,\n",
              "       39.28775765, 48.34732386, 50.54412527, 46.45561712, 48.0542749 ,\n",
              "       49.65232774, 54.84569917, 45.96689003, 43.02763248, 46.94603374,\n",
              "       37.5365053 , 49.99312759, 54.92265437, 51.65629985, 44.10968689,\n",
              "       59.45911021, 51.83201405, 46.29644884, 53.67732243, 44.65987346,\n",
              "       53.01585051, 52.48329821, 43.5263908 , 46.93613559, 45.67323877,\n",
              "       51.87483181, 53.72329229, 52.7907461 , 50.52563099, 51.03854275,\n",
              "       48.24386944, 46.55569029, 53.60900164, 42.31549463, 44.83530277,\n",
              "       59.46506605, 44.80941122, 41.23579294, 56.75308831, 46.18078067,\n",
              "       44.28020096, 50.24538166, 48.80046798, 43.93789228, 58.47816326,\n",
              "       54.99148114, 46.19785655, 36.65955686, 47.9000014 , 33.4474198 ,\n",
              "       43.41094666, 54.44594846, 52.53819232, 50.53234945, 49.99638941,\n",
              "       54.86702848, 49.30625063, 43.99906556, 47.76427933, 58.02861317,\n",
              "       52.31130196, 49.71316202, 53.48865519, 44.64964015, 56.32341253,\n",
              "       53.0267803 , 51.53856497, 55.00436031, 45.99402059, 48.46289956,\n",
              "       54.02906381, 45.14597491, 53.98773853, 53.02181088, 47.89949451,\n",
              "       47.11389871, 46.95770778, 48.88911831, 49.2375343 , 45.22440317,\n",
              "       43.32559957, 58.74020187, 54.89263622, 53.12669016, 50.52999625,\n",
              "       53.98247527, 50.82599597, 43.14981422, 53.46180593, 51.97737123,\n",
              "       37.87381068, 47.74493117, 57.90741249, 53.25055857, 55.25845563,\n",
              "       54.10836545, 51.03218488, 61.92390081, 48.10234384, 52.96215772,\n",
              "       49.88181396, 49.89437753, 50.04686733, 52.25752682, 42.65556894,\n",
              "       54.34806392, 36.88379121, 45.49846366, 54.07750789, 51.13005737,\n",
              "       39.4605819 , 60.27951453, 44.0462181 , 53.24265973, 55.90263907,\n",
              "       53.93037015, 42.58714141, 46.83977778, 56.2065167 , 56.74751309,\n",
              "       53.8438108 , 51.73071489, 49.54601442, 54.53453157, 48.45375251,\n",
              "       49.667519  , 47.83114337, 61.30937283, 44.03345747, 38.86234432,\n",
              "       40.19973166, 46.62287905, 54.39371795, 53.27576347, 51.53705067,\n",
              "       50.54375666, 51.03411492, 45.2355124 , 52.82063175, 55.05109958,\n",
              "       50.08863418, 52.3620483 , 49.99994826, 57.25303405, 44.31345032,\n",
              "       44.95363373, 52.87229388, 50.41197765, 47.59005389, 44.9617846 ,\n",
              "       58.32421531, 50.01146079, 59.6393199 , 53.32917433, 47.82591176,\n",
              "       46.88689708, 62.22859717, 54.36381686, 45.71115802, 42.62880883,\n",
              "       40.63851852, 44.61183283, 42.85574626, 53.2665232 , 57.49989467,\n",
              "       45.16746727, 43.11698403, 53.31602659, 48.95662818, 46.48761962,\n",
              "       56.97764987, 55.64831001, 53.78292544, 53.51396202, 50.33816831,\n",
              "       47.22286738, 58.91208107, 48.79810921, 60.09008051, 48.870157  ,\n",
              "       47.38632721, 50.67120789, 42.60589348, 52.65501567, 44.67428222,\n",
              "       50.63126178, 51.12205292, 42.83827584, 47.00952925, 58.15602616,\n",
              "       57.7354446 , 49.5326129 , 43.14527254, 45.3127569 , 44.53117373,\n",
              "       65.780487  , 53.28901615, 49.51076625, 50.77964072, 52.65384318,\n",
              "       48.56779514, 44.04854219, 52.21786805, 54.04516746, 36.74517909,\n",
              "       57.26168442, 53.63981964, 46.27264499, 45.37561999, 48.71539171,\n",
              "       45.99610671, 45.17840744, 52.23521221, 50.71069532, 52.87005268,\n",
              "       53.67974014, 49.51905128, 52.56214512, 45.51582628, 55.41785373,\n",
              "       55.51603345, 51.98309558, 55.47761838, 54.86139076, 56.3271326 ,\n",
              "       52.4086208 , 44.78276038, 46.79122801, 59.04594254, 46.886601  ,\n",
              "       53.50522668, 45.30564238, 54.93034513, 53.14476349, 50.99594943,\n",
              "       59.83771095, 49.56017182, 53.19579691, 43.71190688, 39.3137544 ,\n",
              "       38.12712022, 53.24535394, 34.25020495, 53.28815022, 48.17935548,\n",
              "       58.86509463, 50.97882268, 56.62815425, 46.06640418, 54.46487753,\n",
              "       50.34558061, 43.35396461, 45.2572284 , 45.76907401, 48.40064354,\n",
              "       51.34602464, 47.98368796, 53.96216766, 51.44624563, 51.57736622,\n",
              "       46.17705936, 50.35289692, 45.73248601, 45.99064226, 45.66415767,\n",
              "       45.59877773, 52.17700254, 41.91602454, 53.07697958, 46.33952097,\n",
              "       45.94326352, 51.16699234, 56.40060698, 53.05347431, 53.16566206,\n",
              "       56.55478335, 49.23054349, 51.55779366, 50.32386452, 39.11666169,\n",
              "       42.08015429, 48.61029759, 50.56020505, 58.11669766, 48.10895819,\n",
              "       41.53848823, 62.83469621, 51.41968622, 54.16491254, 47.6192216 ,\n",
              "       54.49246138, 51.17974646, 48.73799973, 51.43345766, 52.76724554,\n",
              "       46.94039093, 56.70415994, 47.27642509, 49.47718761, 40.7011874 ,\n",
              "       59.33648848, 44.20303292, 46.29619405, 59.43846531, 45.21087943,\n",
              "       46.80967124, 49.92010068, 43.98060934, 53.86152893, 58.24745512,\n",
              "       45.60469297, 46.78693195, 60.74383645, 48.07884824, 58.88548655,\n",
              "       50.61853813, 42.45822658, 51.08016814, 47.19787349, 44.23657615,\n",
              "       50.77512078, 37.146718  , 49.48981054, 54.29162339, 56.57019718,\n",
              "       46.6733821 , 50.27053114, 47.3160822 , 47.92321563, 57.19438229,\n",
              "       46.63963403, 42.84269913, 43.7953827 , 56.38325587, 54.24163661,\n",
              "       41.76136501, 44.02779686, 55.74465969, 47.55468692, 55.53276852,\n",
              "       44.06993156, 45.72648527, 42.21392574, 48.31020585, 48.35396712,\n",
              "       42.2568169 , 41.78819153, 46.08550513, 45.69508755, 45.63167902,\n",
              "       53.21570582, 62.59394851, 49.59970923, 62.07032317, 36.11035043,\n",
              "       49.82960132, 47.39084074, 50.54263783, 44.07001666, 45.90053677,\n",
              "       46.8025921 , 48.62342827, 60.3660886 , 40.30485365, 49.39518095,\n",
              "       46.24444945, 45.19716519, 53.07829558, 51.54091319, 51.50899059,\n",
              "       46.72206076, 42.74731784, 52.60270595, 60.03110255, 43.73132126,\n",
              "       48.52938398, 50.49925757, 45.67854281, 53.96113937, 51.1503868 ,\n",
              "       44.01528   , 45.81010076, 54.71734345, 46.66887305, 54.89576187,\n",
              "       43.02417664, 49.5431848 , 57.36446456, 51.78258354, 51.70770529,\n",
              "       45.78576439, 51.56601212, 55.98567082, 43.28128866, 53.25738486,\n",
              "       54.44836264, 44.29178551, 53.73132777, 52.69384448, 52.05235143,\n",
              "       50.01755598, 57.1405144 , 49.82488575, 49.68370803, 60.60523244,\n",
              "       52.10347233, 50.89886981, 51.33391721, 50.25880924, 43.15154782,\n",
              "       46.19291295, 56.28021485, 59.61640152, 43.68572632, 48.84498896,\n",
              "       41.84456574, 49.69856636, 45.16552745, 53.46718582, 46.36131597,\n",
              "       50.39305634, 44.23317372, 48.55214997, 57.36904598, 47.66383295,\n",
              "       56.80103654, 48.54198322, 52.00590894, 46.03910586, 55.36580146,\n",
              "       54.34842951, 45.45817231, 56.21528613, 55.54898403, 49.65405292,\n",
              "       50.28357409, 42.50312752, 53.60815538, 47.61175943, 49.99521627,\n",
              "       55.98558317, 40.42613318, 47.63009427, 40.55208286, 53.57710578,\n",
              "       42.42679899, 43.65068964, 42.41399787, 52.84176074, 57.03689573,\n",
              "       54.66671008, 52.00907347, 57.17758838, 55.84367915, 48.98233058,\n",
              "       53.64384465, 59.03992572, 46.35011328, 47.71286027, 45.67208675,\n",
              "       47.03064   , 55.81295127, 54.98132849, 42.48083015, 50.05177698,\n",
              "       45.9887918 , 54.46161379, 56.53558656, 51.62273182, 48.23525278,\n",
              "       50.20961372, 53.05123676, 47.50159722, 49.87128549, 44.44607156,\n",
              "       49.52650313, 49.07420701, 51.01330819, 53.64337779, 51.73823667,\n",
              "       44.53990536, 35.98617563, 43.53921595, 48.63843611, 46.03240894,\n",
              "       47.86290194, 51.67349624, 45.71193895, 53.57306486, 45.84842593,\n",
              "       48.52421075, 47.46938224, 46.31361471, 55.5869408 , 59.94337672,\n",
              "       56.37293591, 47.68782399, 43.7397001 , 51.15959591, 42.3767817 ,\n",
              "       53.55098382, 54.10522083, 49.6914761 , 51.13892692, 52.02494579,\n",
              "       51.60707435, 52.4519069 , 46.46492355, 56.0997481 , 54.96993512,\n",
              "       51.16217018, 50.2748195 , 50.16757884, 44.79373244, 52.02092309])"
            ]
          },
          "execution_count": 33,
          "metadata": {},
          "output_type": "execute_result"
        }
      ],
      "source": [
        "sample"
      ]
    },
    {
      "cell_type": "markdown",
      "metadata": {},
      "source": [
        "## As we see this is the sample mean different than actual mean 50"
      ]
    },
    {
      "cell_type": "code",
      "execution_count": 34,
      "metadata": {
        "colab": {
          "base_uri": "https://localhost:8080/"
        },
        "id": "_rEna39pIYVI",
        "outputId": "da1fb9f3-da69-4714-92a3-fad89318691e"
      },
      "outputs": [
        {
          "data": {
            "text/plain": [
              "49.92048350285612"
            ]
          },
          "execution_count": 34,
          "metadata": {},
          "output_type": "execute_result"
        }
      ],
      "source": [
        "sample.mean()"
      ]
    },
    {
      "cell_type": "markdown",
      "metadata": {},
      "source": [
        "# Step 2\n",
        "## Let's plot the histogram to see how the data is distributed"
      ]
    },
    {
      "cell_type": "code",
      "execution_count": 35,
      "metadata": {
        "colab": {
          "base_uri": "https://localhost:8080/",
          "height": 352
        },
        "id": "M6dGCQ1i4QTM",
        "outputId": "dd86b9e9-df29-4f5d-ef31-3f894151c16c"
      },
      "outputs": [
        {
          "data": {
            "text/plain": [
              "(array([  8.,  20.,  57., 159., 220., 252., 172.,  77.,  31.,   4.]),\n",
              " array([33.4474198 , 36.68072652, 39.91403324, 43.14733996, 46.38064668,\n",
              "        49.6139534 , 52.84726012, 56.08056684, 59.31387356, 62.54718028,\n",
              "        65.780487  ]),\n",
              " <BarContainer object of 10 artists>)"
            ]
          },
          "execution_count": 35,
          "metadata": {},
          "output_type": "execute_result"
        },
        {
          "data": {
            "image/png": "[encoded data removed]",
            "text/plain": [
              "<Figure size 640x480 with 1 Axes>"
            ]
          },
          "metadata": {},
          "output_type": "display_data"
        }
      ],
      "source": [
        "plt.hist(sample,bins=10)"
      ]
    },
    {
      "cell_type": "markdown",
      "metadata": {},
      "source": [
        "# Step 3\n",
        "## As we see the data looks like normally distributed, we'll calculate sample mean and sample standerd deviation"
      ]
    },
    {
      "cell_type": "code",
      "execution_count": 36,
      "metadata": {
        "id": "X-v35mzRgjZ3"
      },
      "outputs": [],
      "source": [
        "sample_mean = sample.mean()\n",
        "sample_std = sample.std()"
      ]
    },
    {
      "cell_type": "markdown",
      "metadata": {},
      "source": [
        "# Step 4\n",
        "![alt text](Capture-1.JPG)\n",
        "\n",
        "## to calculate PDF we need to provide mean and standerd deviation"
      ]
    },
    {
      "cell_type": "code",
      "execution_count": 38,
      "metadata": {
        "id": "5ur02_Xng9WR"
      },
      "outputs": [],
      "source": [
        "# fit the distribution with the above parameters\n",
        "\n",
        "from scipy.stats import norm\n",
        "dist = norm(sample_mean, sample_std)"
      ]
    },
    {
      "cell_type": "markdown",
      "metadata": {},
      "source": [
        "## we are creating 100 datapoints between minimum and maximum values"
      ]
    },
    {
      "cell_type": "code",
      "execution_count": 40,
      "metadata": {
        "id": "hlcOo447hkFR"
      },
      "outputs": [],
      "source": [
        "values = np.linspace(sample.min(),sample.max(),100)"
      ]
    },
    {
      "cell_type": "code",
      "execution_count": 42,
      "metadata": {},
      "outputs": [
        {
          "data": {
            "text/plain": [
              "33.447419800656036"
            ]
          },
          "execution_count": 42,
          "metadata": {},
          "output_type": "execute_result"
        }
      ],
      "source": [
        "sample.min()"
      ]
    },
    {
      "cell_type": "code",
      "execution_count": 41,
      "metadata": {
        "colab": {
          "base_uri": "https://localhost:8080/"
        },
        "id": "BvZ48Ud_JGRu",
        "outputId": "29a09a40-6a37-48b4-9c45-289f648978cf"
      },
      "outputs": [
        {
          "data": {
            "text/plain": [
              "65.78048700042442"
            ]
          },
          "execution_count": 41,
          "metadata": {},
          "output_type": "execute_result"
        }
      ],
      "source": [
        "sample.max()"
      ]
    },
    {
      "cell_type": "markdown",
      "metadata": {},
      "source": [
        "# Now all we need to do is provide the value of x to the PDF equation\n",
        "\n",
        "![alt text](Capture-2.JPG)"
      ]
    },
    {
      "cell_type": "code",
      "execution_count": 44,
      "metadata": {
        "id": "qOQvG9dqh_bd"
      },
      "outputs": [],
      "source": [
        "probability_densities = [dist.pdf(value) for value in values]"
      ]
    },
    {
      "cell_type": "markdown",
      "metadata": {},
      "source": [
        "# Step 5\n",
        "## Now as we have the probabilities densities we can simply plot the graph"
      ]
    },
    {
      "cell_type": "code",
      "execution_count": 47,
      "metadata": {
        "colab": {
          "base_uri": "https://localhost:8080/",
          "height": 282
        },
        "id": "qh2YfPFXiJ8x",
        "outputId": "302b0092-460e-413f-f832-993b84da70b6"
      },
      "outputs": [
        {
          "data": {
            "text/plain": [
              "[<matplotlib.lines.Line2D at 0x1a96adf3560>]"
            ]
          },
          "execution_count": 47,
          "metadata": {},
          "output_type": "execute_result"
        },
        {
          "data": {
            "image/png": "[encoded data removed]",
            "text/plain": [
              "<Figure size 640x480 with 1 Axes>"
            ]
          },
          "metadata": {},
          "output_type": "display_data"
        }
      ],
      "source": [
        "plt.hist(sample,bins=10)\n",
        "plt.plot(values,probability_densities)"
      ]
    },
    {
      "cell_type": "markdown",
      "metadata": {},
      "source": [
        "## If we keep the density same it'll look better"
      ]
    },
    {
      "cell_type": "code",
      "execution_count": 48,
      "metadata": {},
      "outputs": [
        {
          "data": {
            "text/plain": [
              "[<matplotlib.lines.Line2D at 0x1a96ac10710>]"
            ]
          },
          "execution_count": 48,
          "metadata": {},
          "output_type": "execute_result"
        },
        {
          "data": {
            "image/png": "[encoded data removed]",
            "text/plain": [
              "<Figure size 640x480 with 1 Axes>"
            ]
          },
          "metadata": {},
          "output_type": "display_data"
        }
      ],
      "source": [
        "plt.hist(sample,bins=10,density=True)\n",
        "plt.plot(values,probability_densities)"
      ]
    },
    {
      "cell_type": "markdown",
      "metadata": {},
      "source": [
        "## We can use seaborn to do the same thing easily"
      ]
    },
    {
      "cell_type": "code",
      "execution_count": 54,
      "metadata": {
        "colab": {
          "base_uri": "https://localhost:8080/",
          "height": 337
        },
        "id": "3TgDJNrlJ24I",
        "outputId": "dd40abf9-509d-4ef7-f769-51d2bc252981"
      },
      "outputs": [
        {
          "data": {
            "text/plain": [
              "<seaborn.axisgrid.FacetGrid at 0x1a95af84e30>"
            ]
          },
          "execution_count": 54,
          "metadata": {},
          "output_type": "execute_result"
        },
        {
          "data": {
            "image/png": "[encoded data removed]",
            "text/plain": [
              "<Figure size 500x500 with 1 Axes>"
            ]
          },
          "metadata": {},
          "output_type": "display_data"
        }
      ],
      "source": [
        "import seaborn as sns\n",
        "sns.displot(sample, kde=True)"
      ]
    },
    {
      "cell_type": "code",
      "execution_count": 55,
      "metadata": {},
      "outputs": [
        {
          "data": {
            "text/plain": [
              "<Axes: ylabel='Count'>"
            ]
          },
          "execution_count": 55,
          "metadata": {},
          "output_type": "execute_result"
        },
        {
          "data": {
            "image/png": "[encoded data removed]",
            "text/plain": [
              "<Figure size 640x480 with 1 Axes>"
            ]
          },
          "metadata": {},
          "output_type": "display_data"
        }
      ],
      "source": [
        "import seaborn as sns\n",
        "sns.histplot(sample, kde=True)"
      ]
    },
    {
      "cell_type": "markdown",
      "metadata": {},
      "source": [
        "## The reason it's called parametric density estimation if we change any of those parameter(mean and std) the plot will be different"
      ]
    },
    {
      "cell_type": "code",
      "execution_count": 57,
      "metadata": {},
      "outputs": [
        {
          "data": {
            "text/plain": [
              "[<matplotlib.lines.Line2D at 0x1a96e302930>]"
            ]
          },
          "execution_count": 57,
          "metadata": {},
          "output_type": "execute_result"
        },
        {
          "data": {
            "image/png": "[encoded data removed]",
            "text/plain": [
              "<Figure size 640x480 with 1 Axes>"
            ]
          },
          "metadata": {},
          "output_type": "display_data"
        }
      ],
      "source": [
        "from scipy.stats import norm\n",
        "dist = norm(60, 12) # if we change mean and std \n",
        "values = np.linspace(sample.min(),sample.max(),100)\n",
        "probability_densities = [dist.pdf(value) for value in values]\n",
        "plt.hist(sample,bins=10,density=True)\n",
        "plt.plot(values,probability_densities)"
      ]
    },
    {
      "cell_type": "markdown",
      "metadata": {
        "id": "wIKxiromDJmn"
      },
      "source": [
        "# KDE Kernet Density Estimation\n",
        "\n",
        "## Here we are taking 1000 points"
      ]
    },
    {
      "cell_type": "code",
      "execution_count": 58,
      "metadata": {
        "id": "tANSTx4znAYG"
      },
      "outputs": [],
      "source": [
        "sample1 = normal(loc=20, scale=5, size=300)\n",
        "sample2 = normal(loc=40, scale=5, size=700)\n",
        "sample = np.hstack((sample1, sample2))"
      ]
    },
    {
      "cell_type": "code",
      "execution_count": 59,
      "metadata": {
        "colab": {
          "base_uri": "https://localhost:8080/"
        },
        "id": "WagjEqX-NNxR",
        "outputId": "991f9d4e-4476-4cdd-8c6a-240c5c10f399"
      },
      "outputs": [
        {
          "data": {
            "text/plain": [
              "array([18.59156281, 18.88510143, 25.72370282, 24.62483905, 16.2334287 ,\n",
              "       14.19300714, 18.99934227, 15.85168919, 16.40576302, 11.16913717,\n",
              "       27.58064644, 17.80161728, 14.38776801, 16.01479757, 23.9174914 ,\n",
              "       20.56280096, 26.39199917, 14.59444353, 26.35367307, 24.17221598,\n",
              "       23.47990197, 29.07495665, 19.85338465, 23.9410308 , 15.96366782,\n",
              "       15.14314474, 14.59333733, 28.15820621, 14.03798895, 22.65567226,\n",
              "       17.66810851, 19.04114242, 19.31766827, 11.68386984, 15.38489696,\n",
              "       18.00454758, 22.50273954, 23.80222531, 23.74463141, 14.16172262,\n",
              "       23.53297947,  8.32945306, 22.97976377,  6.64496972, 19.00685098,\n",
              "       15.32686678, 17.6530159 , 17.21812501, 19.5126371 , 25.14170139,\n",
              "       21.01817575, 22.55667663, 25.18612241, 19.01462087, 18.65428079,\n",
              "       16.91367318, 26.55522152, 28.02342355, 17.93731317, 23.36581479,\n",
              "       23.64391551, 25.90919217, 27.68990227, 28.4403316 , 18.5991504 ,\n",
              "       25.14085913, 15.2176036 , 24.33857834, 18.95509331, 13.95629255,\n",
              "       21.82903313, 17.05341074, 19.05741259, 14.99277527, 16.04470627,\n",
              "       15.24924124, 18.41987071, 12.30084619, 20.00425865, 21.20900092,\n",
              "       26.79497603,  8.29237221, 26.03111975, 20.58645918, 15.9430553 ,\n",
              "       19.35726684, 26.35604146, 21.89075714, 23.78091687, 23.25528807,\n",
              "       14.39470851, 25.23466436, 26.88628103, 11.52522011, 20.06774821,\n",
              "       18.98694614, 18.33756283, 27.05615389, 29.20977726, 17.70538912,\n",
              "       19.28206821, 21.12707388, 33.35915753, 22.86014398, 21.31487768,\n",
              "       19.9688255 , 16.9703815 , 20.99612684, 23.28207665, 13.78165835,\n",
              "       21.24972341, 21.43088916, 28.61171822, 27.28390774, 16.28121142,\n",
              "       20.02836598, 24.4821643 , 25.12004211, 20.17200144, 18.16669284,\n",
              "       19.17076374, 12.1499546 , 28.50742504, 17.75635819, 19.47212303,\n",
              "       21.19588574, 24.33363532, 22.02988736, 16.01681726, 16.86558339,\n",
              "       18.723226  , 27.40242513, 21.34904114, 23.99117741, 25.53642896,\n",
              "       28.06362722, 18.83131875, 21.19507716, 25.57915585, 18.36427227,\n",
              "       30.37336712, 22.93294547, 14.9539294 , 20.25235045, 15.10319231,\n",
              "       17.29913408, 24.89012635, 21.36999542, 22.03464883, 21.62753662,\n",
              "       21.72274835,  7.94518272, 28.00885023, 14.73836317,  9.35232889,\n",
              "       11.10183117, 22.43638625, 15.13291368, 15.53003405, 22.49321451,\n",
              "       23.14977963, 13.44363924, 21.70900001, 19.52374725, 24.21311576,\n",
              "       15.18884417, 17.08723152, 20.46525619, 17.8046422 , 15.94592639,\n",
              "       23.24064677, 23.51808552, 29.13286204, 23.54130189, 16.62705341,\n",
              "       18.21501197, 18.88452717, 20.16953476, 14.6394074 , 14.49238952,\n",
              "       21.04198642, 19.25103874, 30.4452693 , 25.54814467, 25.19646577,\n",
              "       18.00818451, 17.07402523, 24.52753681, 24.47631924, 18.43208372,\n",
              "       26.95891848, 14.48592505, 29.68661858, 19.24692171, 15.21337964,\n",
              "       23.64254217, 16.30862078, 19.06300869, 18.251801  , 16.04931284,\n",
              "       21.34352604, 18.2073883 , 21.3047109 , 19.48733526, 21.13487756,\n",
              "       22.02895281, 21.61146152, 21.11911802, 24.43120371, 20.40113317,\n",
              "       14.97671279, 19.04035463, 22.17687242, 22.53675258, 18.3350322 ,\n",
              "       20.95881795, 19.84461933, 16.24199823, 22.54817316,  8.4913265 ,\n",
              "       15.31395495, 26.60919226, 18.91780089, 19.45147171, 21.93897447,\n",
              "       12.30501291, 27.56582835, 18.54697643, 11.1314537 , 17.35460019,\n",
              "       27.58753867, 15.84307863, 12.23575492, 18.88279731, 21.09206558,\n",
              "       10.54609771, 17.62565378, 14.61818624, 16.79529743, 20.62965162,\n",
              "       16.13892416, 20.03355013, 14.32868228, 16.05670979, 23.99629733,\n",
              "       22.17480718,  5.36607898, 21.13633147, 19.35505644, 20.40891301,\n",
              "       24.68069163, 22.12203369, 19.67536181, 18.9996885 , 23.22688207,\n",
              "       16.4656716 , 25.60757826, 25.39899933, 11.90991318, 25.35835834,\n",
              "       27.30971827, 13.45197932, 18.2760956 , 22.65997792, 22.32511852,\n",
              "        7.7464019 , 20.35151404, 25.26674594, 15.97765724, 22.26001503,\n",
              "       19.21445001, 16.16919163, 16.80755446, 24.93576817, 19.90473179,\n",
              "       22.92227007, 21.61509863, 21.32786742, 26.92930553, 17.6612782 ,\n",
              "       15.78026802, 13.08839152, 13.82855795, 30.51212339, 15.3376611 ,\n",
              "       16.26288917, 23.15543431, 10.4315479 , 16.31483584, 18.11299855,\n",
              "       17.5539948 , 20.87475822, 18.99256873, 10.97859541, 15.82379339,\n",
              "       22.06105796, 18.76670496, 20.26393944, 16.96427653, 17.04141631,\n",
              "       34.7270969 , 43.65774185, 33.56646822, 47.67099654, 40.35221353,\n",
              "       34.8322783 , 31.68590411, 43.49045174, 38.76765023, 45.42582224,\n",
              "       41.41994016, 42.76639842, 41.63406908, 46.41086803, 38.76416304,\n",
              "       38.41909639, 38.24957086, 35.67921329, 43.28907297, 34.75887999,\n",
              "       35.34903805, 44.75027594, 41.22294439, 40.9220717 , 38.25757795,\n",
              "       49.47420329, 42.89671029, 43.0825954 , 47.15691798, 32.90637988,\n",
              "       40.71622003, 35.72810026, 41.82962214, 46.21172011, 36.9651017 ,\n",
              "       39.72900699, 43.64179262, 35.9474476 , 45.15422922, 37.62110224,\n",
              "       47.07716757, 40.94329976, 43.38010451, 42.02307252, 32.19196718,\n",
              "       37.63778546, 42.05156838, 33.27651587, 43.10957749, 32.62068697,\n",
              "       39.2173237 , 38.2294463 , 33.19428467, 41.78647916, 44.77258687,\n",
              "       40.55120208, 27.95469146, 42.35904183, 34.49518634, 39.91504875,\n",
              "       40.56406422, 38.23068073, 36.79501842, 38.38110462, 47.72774109,\n",
              "       43.62544886, 38.757746  , 51.90313361, 32.14718093, 49.55175353,\n",
              "       40.72138884, 39.11211702, 39.25005757, 42.39410164, 40.10204222,\n",
              "       40.38558882, 36.40354956, 35.9223474 , 33.22112687, 32.52012059,\n",
              "       39.13201621, 34.17113935, 32.30395972, 43.62520936, 37.42400138,\n",
              "       35.15185937, 35.60595912, 34.28654952, 34.9721831 , 36.45613964,\n",
              "       40.35822118, 44.10120892, 43.365821  , 43.59854259, 37.65479489,\n",
              "       41.82068343, 43.73645894, 33.49812577, 29.3888921 , 29.91244289,\n",
              "       43.9997186 , 32.85460547, 38.93840587, 39.30907726, 36.08000514,\n",
              "       39.01006643, 46.71244911, 35.80394809, 37.19425432, 41.40817854,\n",
              "       45.42603371, 41.27198356, 43.0253722 , 42.42469671, 40.61261523,\n",
              "       30.67786616, 46.70490449, 37.72044136, 31.59065486, 39.21825253,\n",
              "       46.70747924, 38.0252492 , 30.74933461, 46.63830606, 41.2050781 ,\n",
              "       40.75864115, 46.36445941, 37.36507168, 30.99341728, 45.01050296,\n",
              "       38.57697553, 38.28777302, 39.57487258, 42.23945292, 29.61858577,\n",
              "       40.20646178, 46.16085793, 40.70630371, 38.67446458, 48.67267987,\n",
              "       39.89995576, 45.22267801, 49.81966016, 43.59858706, 46.21428241,\n",
              "       33.77488937, 33.39662568, 42.36379521, 41.03659778, 46.35948896,\n",
              "       44.09314287, 49.56491495, 37.81319519, 37.38747198, 36.57686664,\n",
              "       40.91389579, 32.86964339, 35.16720866, 46.21564805, 35.57329074,\n",
              "       34.30344602, 38.00256779, 36.12258131, 47.62959599, 36.81224161,\n",
              "       52.06003282, 46.93280746, 42.12638431, 45.79497525, 34.92843767,\n",
              "       45.11873627, 40.83052871, 42.71448122, 45.13830462, 41.61165055,\n",
              "       38.56724287, 40.01411807, 40.91102867, 27.97474796, 47.63722163,\n",
              "       36.59962527, 43.46930412, 38.22356265, 41.19891821, 33.38630052,\n",
              "       40.11769221, 38.94706169, 42.00750797, 42.19717214, 40.21541419,\n",
              "       40.90180135, 43.27440592, 38.53995775, 39.2025667 , 43.56571013,\n",
              "       50.02249545, 43.24657899, 40.66189366, 38.8482019 , 42.98107939,\n",
              "       39.73415856, 39.61470171, 37.05872766, 45.4867537 , 52.37128519,\n",
              "       37.27480583, 39.79957658, 42.83137581, 45.72215874, 49.49057141,\n",
              "       32.32195651, 48.17095442, 50.11371436, 38.80893482, 46.03919108,\n",
              "       39.420067  , 47.1260672 , 39.1315769 , 31.57808021, 47.32865364,\n",
              "       33.30833397, 48.64672431, 43.31757077, 42.63527696, 42.79789982,\n",
              "       41.2535948 , 40.95729174, 41.09516002, 42.0006754 , 41.88309875,\n",
              "       52.80409528, 32.70611795, 41.45662572, 43.01134837, 32.33664975,\n",
              "       35.92955007, 41.69384514, 43.58818037, 40.03268146, 41.23450088,\n",
              "       47.41234113, 38.42343961, 47.47913829, 47.44955816, 40.89862402,\n",
              "       36.84078491, 45.111204  , 30.08888382, 38.7860466 , 39.72694718,\n",
              "       44.11799564, 50.32159585, 46.52274544, 36.78536543, 46.86282087,\n",
              "       36.8563506 , 35.11886853, 42.22692484, 42.45536969, 33.00469113,\n",
              "       42.62377717, 39.1061454 , 33.3532576 , 49.42278665, 42.69160853,\n",
              "       31.39558425, 39.50966731, 47.41675449, 39.17983654, 40.13309303,\n",
              "       46.7500984 , 40.46451811, 36.69496059, 40.45014964, 45.55796333,\n",
              "       36.3962159 , 40.82696977, 38.6563736 , 41.26526209, 39.98570455,\n",
              "       32.60858762, 41.01939025, 38.17107002, 42.29122519, 40.81329726,\n",
              "       41.24540654, 37.38912263, 42.45643603, 41.75774608, 39.23733551,\n",
              "       41.69114005, 40.25710819, 36.70537013, 37.64750179, 44.45691588,\n",
              "       38.33985018, 34.10755588, 35.20488183, 39.88985229, 37.25067309,\n",
              "       46.34673839, 36.06236885, 35.0157786 , 37.5389714 , 38.66458978,\n",
              "       44.97565719, 42.57682302, 40.23145814, 37.44867169, 39.01945442,\n",
              "       32.87844152, 41.14927388, 36.37310039, 38.33715748, 40.66578945,\n",
              "       39.04663886, 38.61724038, 30.19326236, 41.02314614, 36.62389844,\n",
              "       37.11368765, 40.61398174, 41.30584173, 54.17813818, 41.73997759,\n",
              "       38.57604954, 37.51463728, 35.23853204, 45.17683804, 41.01845831,\n",
              "       40.14839208, 43.59022839, 49.23100967, 43.47429773, 37.98814383,\n",
              "       37.87620895, 31.53701572, 34.53113518, 38.82810111, 39.80018057,\n",
              "       48.55875316, 44.72889503, 40.8673618 , 45.67128345, 42.51196073,\n",
              "       40.87033845, 39.19819103, 45.08150718, 35.07644483, 36.13520025,\n",
              "       48.4624812 , 30.79060713, 48.89756484, 37.68459351, 32.33710997,\n",
              "       42.61192547, 39.94600828, 39.18775719, 29.63527448, 46.42834008,\n",
              "       33.75669594, 44.68739326, 42.23327576, 38.51140395, 44.20076058,\n",
              "       36.93875139, 32.91558014, 45.92683211, 46.32755475, 34.93242633,\n",
              "       40.39925677, 37.39867621, 44.14001766, 48.98009956, 45.65183307,\n",
              "       40.73170734, 41.53126062, 39.15758548, 38.93606053, 38.86310611,\n",
              "       41.82561436, 42.82916248, 42.98765068, 41.87795415, 38.8766177 ,\n",
              "       40.12000078, 40.61489093, 27.42383749, 36.52159518, 49.48651475,\n",
              "       39.7629459 , 34.6070061 , 42.93010034, 41.14493974, 40.9659313 ,\n",
              "       47.60600092, 38.96334767, 34.62556326, 44.31278748, 47.77964295,\n",
              "       40.17716038, 38.06602384, 35.70173009, 37.39008291, 45.06417303,\n",
              "       39.4996692 , 45.55887076, 39.59841971, 39.84195798, 43.9440069 ,\n",
              "       42.99624359, 36.73271301, 37.98821431, 35.87789043, 35.40498795,\n",
              "       40.579986  , 33.91516371, 44.16424775, 35.50406256, 44.32741425,\n",
              "       38.49881919, 42.3195463 , 47.88075962, 31.60301165, 45.17206138,\n",
              "       36.93209911, 40.79679308, 45.57389888, 52.82000282, 33.76106696,\n",
              "       38.18381204, 43.59518858, 42.03235817, 39.13761102, 37.76533918,\n",
              "       37.32654039, 37.71060126, 46.15243076, 45.00071912, 36.34626219,\n",
              "       44.80806846, 34.6489477 , 40.94632339, 42.27698592, 39.8406621 ,\n",
              "       40.36994361, 36.51492689, 42.3449642 , 38.94515435, 40.36011256,\n",
              "       44.33348678, 38.57604796, 36.29583081, 51.04990918, 42.76271206,\n",
              "       40.34913529, 38.96021549, 47.54589716, 44.51475709, 43.47739011,\n",
              "       38.28240564, 45.02397608, 49.35814112, 41.28539302, 45.39335449,\n",
              "       43.35334456, 42.71831772, 44.25512559, 47.08835728, 35.85585708,\n",
              "       43.79139723, 31.57541865, 45.3502311 , 38.36866505, 44.7909759 ,\n",
              "       38.62032062, 40.39713029, 38.8537957 , 39.70381671, 32.59989374,\n",
              "       39.50033908, 48.82636634, 45.91444131, 44.17244409, 32.35084322,\n",
              "       41.42297105, 50.80543028, 47.39116373, 38.23752513, 45.61597376,\n",
              "       41.20081456, 30.96155106, 38.78710744, 48.04394069, 36.13887369,\n",
              "       40.49689111, 34.78573773, 45.20081697, 38.31790164, 34.33907483,\n",
              "       45.93191283, 44.25840253, 45.56547463, 39.63888682, 38.49544082,\n",
              "       37.58182111, 38.05634626, 39.42433089, 46.16962452, 36.24209384,\n",
              "       42.95532663, 38.81613168, 45.32785209, 44.96706303, 40.98638698,\n",
              "       39.57592764, 39.12345158, 42.04504698, 36.43515955, 42.23296223,\n",
              "       32.18311782, 41.64855355, 48.67070705, 39.84338451, 39.65826615,\n",
              "       43.26858339, 35.71545196, 38.95070304, 39.27312789, 50.30921297,\n",
              "       47.54088986, 41.9030894 , 43.74776198, 36.09211272, 39.06533768,\n",
              "       49.42314612, 31.56069864, 36.94882818, 39.59584654, 28.44116709,\n",
              "       42.8654759 , 38.87633589, 43.02651392, 44.82646375, 36.69539751,\n",
              "       42.51312388, 40.78244172, 41.82434415, 50.65832727, 36.65220553,\n",
              "       32.29460846, 43.84169593, 47.61104017, 41.33724484, 45.6966886 ,\n",
              "       46.18683835, 34.90839506, 44.43640039, 45.69637688, 36.60406128,\n",
              "       28.6075582 , 34.06202864, 36.77937136, 38.41673676, 37.15620161,\n",
              "       40.56180429, 45.07621275, 38.45904204, 35.20943732, 31.67265699,\n",
              "       39.5533992 , 27.00224649, 38.58453333, 50.40963483, 39.95203477,\n",
              "       41.29057858, 43.61557699, 42.4003266 , 38.26287484, 28.70104495,\n",
              "       41.76450934, 39.33182692, 42.95212112, 43.20078964, 38.17253847,\n",
              "       36.25859924, 37.30996125, 38.30570857, 40.76092771, 43.16475646,\n",
              "       36.25586437, 39.05124571, 42.0876441 , 36.99428   , 40.50588058,\n",
              "       41.75156288, 41.31908517, 36.95752641, 39.76772828, 28.80336154,\n",
              "       37.99464403, 36.65485347, 39.93765742, 36.5121262 , 35.50136149,\n",
              "       39.66374292, 51.17540314, 36.51761168, 37.17687579, 37.73263481,\n",
              "       42.11740568, 43.29728672, 36.33810919, 36.16857068, 50.33700323,\n",
              "       41.73584209, 31.56475936, 36.16890405, 33.78081958, 40.0073491 ,\n",
              "       47.38573369, 47.62138402, 42.55063626, 37.43354763, 42.16100276,\n",
              "       36.9949759 , 37.26644656, 36.25423809, 34.19848147, 34.1478895 ,\n",
              "       33.55860592, 30.14352424, 44.57186578, 32.53574308, 42.82773231,\n",
              "       35.67300271, 41.50670313, 40.11387909, 39.87790519, 45.76107641,\n",
              "       47.17420362, 47.1934525 , 48.32196328, 42.91704314, 36.69197899,\n",
              "       43.10232219, 31.63197792, 34.30632021, 47.07746179, 45.00011079,\n",
              "       47.31838409, 39.45025335, 37.02606929, 40.98434219, 42.45129151,\n",
              "       41.14294111, 39.77576198, 48.63924637, 41.40721356, 41.11051425,\n",
              "       30.73628422, 40.77870914, 31.05838842, 37.90525527, 44.89506139,\n",
              "       37.62702756, 45.9383156 , 40.4515344 , 29.699209  , 43.01779318,\n",
              "       45.39732344, 42.89330674, 36.50281629, 39.424846  , 38.05650258,\n",
              "       34.9417252 , 41.16180256, 46.25051461, 39.6722149 , 32.84056865,\n",
              "       44.60610607, 34.99967098, 45.3721331 , 37.35748614, 30.46286844,\n",
              "       45.71576419, 37.1119982 , 37.48164118, 38.90088823, 36.7769032 ,\n",
              "       33.96776264, 43.94670602, 30.12046757, 48.65166141, 43.84780988,\n",
              "       41.35149224, 36.03402123, 41.37438218, 38.70241109, 46.14588899])"
            ]
          },
          "execution_count": 59,
          "metadata": {},
          "output_type": "execute_result"
        }
      ],
      "source": [
        "sample"
      ]
    },
    {
      "cell_type": "markdown",
      "metadata": {},
      "source": [
        "## Let's plot a histogram to see the distribution"
      ]
    },
    {
      "cell_type": "code",
      "execution_count": 60,
      "metadata": {
        "colab": {
          "base_uri": "https://localhost:8080/",
          "height": 543
        },
        "id": "8emYcLrbCYBv",
        "outputId": "4b98c24e-23d2-4c8b-d0b8-584fb5f6ac5f"
      },
      "outputs": [
        {
          "data": {
            "text/plain": [
              "(array([ 1.,  1.,  3.,  2.,  1.,  6.,  4.,  4.,  6., 16., 24., 20., 16.,\n",
              "        29., 23., 16., 27., 20., 17., 15., 15.,  8., 13., 12.,  9., 11.,\n",
              "        16., 14., 19., 20., 24., 40., 47., 47., 62., 57., 65., 47., 44.,\n",
              "        35., 33., 36., 19., 19., 12., 11.,  8.,  2.,  3.,  1.]),\n",
              " array([ 5.36607898,  6.34232016,  7.31856134,  8.29480253,  9.27104371,\n",
              "        10.2472849 , 11.22352608, 12.19976726, 13.17600845, 14.15224963,\n",
              "        15.12849082, 16.104732  , 17.08097319, 18.05721437, 19.03345555,\n",
              "        20.00969674, 20.98593792, 21.96217911, 22.93842029, 23.91466147,\n",
              "        24.89090266, 25.86714384, 26.84338503, 27.81962621, 28.7958674 ,\n",
              "        29.77210858, 30.74834976, 31.72459095, 32.70083213, 33.67707332,\n",
              "        34.6533145 , 35.62955568, 36.60579687, 37.58203805, 38.55827924,\n",
              "        39.53452042, 40.51076161, 41.48700279, 42.46324397, 43.43948516,\n",
              "        44.41572634, 45.39196753, 46.36820871, 47.34444989, 48.32069108,\n",
              "        49.29693226, 50.27317345, 51.24941463, 52.22565582, 53.201897  ,\n",
              "        54.17813818]),\n",
              " <BarContainer object of 50 artists>)"
            ]
          },
          "execution_count": 60,
          "metadata": {},
          "output_type": "execute_result"
        },
        {
          "data": {
            "image/png": "[encoded data removed]",
            "text/plain": [
              "<Figure size 640x480 with 1 Axes>"
            ]
          },
          "metadata": {},
          "output_type": "display_data"
        }
      ],
      "source": [
        "plt.hist(sample,bins=50)"
      ]
    },
    {
      "cell_type": "markdown",
      "metadata": {},
      "source": [
        "## As we see these datapoints doesn't follow any regular distribution, so we'll use KDE to plot, we'll import Kernel Density from sikit learn, we'll keep the bandwith 3 and the kernel gaussian, we can change these values"
      ]
    },
    {
      "cell_type": "code",
      "execution_count": 62,
      "metadata": {
        "colab": {
          "base_uri": "https://localhost:8080/",
          "height": 74
        },
        "id": "fxPkOU_iqtRB",
        "outputId": "90f29a3d-4d38-4800-eaa3-12f41f86630b"
      },
      "outputs": [],
      "source": [
        "from sklearn.neighbors import KernelDensity\n",
        "model = KernelDensity(bandwidth=3, kernel='gaussian')"
      ]
    },
    {
      "cell_type": "markdown",
      "metadata": {},
      "source": [
        "## convert data to a 2D array because most of the machine learning models works on a 2D data\n",
        "## Then we'll fit the model, means it's gonna calculate all the y values and add them up to plot the graph"
      ]
    },
    {
      "cell_type": "code",
      "execution_count": 64,
      "metadata": {},
      "outputs": [
        {
          "data": {
            "text/html": [
              "<style>#sk-container-id-2 {\n",
              "  /* Definition of color scheme common for light and dark mode */\n",
              "  --sklearn-color-text: black;\n",
              "  --sklearn-color-line: gray;\n",
              "  /* Definition of color scheme for unfitted estimators */\n",
              "  --sklearn-color-unfitted-level-0: #fff5e6;\n",
              "  --sklearn-color-unfitted-level-1: #f6e4d2;\n",
              "  --sklearn-color-unfitted-level-2: #ffe0b3;\n",
              "  --sklearn-color-unfitted-level-3: chocolate;\n",
              "  /* Definition of color scheme for fitted estimators */\n",
              "  --sklearn-color-fitted-level-0: #f0f8ff;\n",
              "  --sklearn-color-fitted-level-1: #d4ebff;\n",
              "  --sklearn-color-fitted-level-2: #b3dbfd;\n",
              "  --sklearn-color-fitted-level-3: cornflowerblue;\n",
              "\n",
              "  /* Specific color for light theme */\n",
              "  --sklearn-color-text-on-default-background: var(--sg-text-color, var(--theme-code-foreground, var(--jp-content-font-color1, black)));\n",
              "  --sklearn-color-background: var(--sg-background-color, var(--theme-background, var(--jp-layout-color0, white)));\n",
              "  --sklearn-color-border-box: var(--sg-text-color, var(--theme-code-foreground, var(--jp-content-font-color1, black)));\n",
              "  --sklearn-color-icon: #696969;\n",
              "\n",
              "  @media (prefers-color-scheme: dark) {\n",
              "    /* Redefinition of color scheme for dark theme */\n",
              "    --sklearn-color-text-on-default-background: var(--sg-text-color, var(--theme-code-foreground, var(--jp-content-font-color1, white)));\n",
              "    --sklearn-color-background: var(--sg-background-color, var(--theme-background, var(--jp-layout-color0, #111)));\n",
              "    --sklearn-color-border-box: var(--sg-text-color, var(--theme-code-foreground, var(--jp-content-font-color1, white)));\n",
              "    --sklearn-color-icon: #878787;\n",
              "  }\n",
              "}\n",
              "\n",
              "#sk-container-id-2 {\n",
              "  color: var(--sklearn-color-text);\n",
              "}\n",
              "\n",
              "#sk-container-id-2 pre {\n",
              "  padding: 0;\n",
              "}\n",
              "\n",
              "#sk-container-id-2 input.sk-hidden--visually {\n",
              "  border: 0;\n",
              "  clip: rect(1px 1px 1px 1px);\n",
              "  clip: rect(1px, 1px, 1px, 1px);\n",
              "  height: 1px;\n",
              "  margin: -1px;\n",
              "  overflow: hidden;\n",
              "  padding: 0;\n",
              "  position: absolute;\n",
              "  width: 1px;\n",
              "}\n",
              "\n",
              "#sk-container-id-2 div.sk-dashed-wrapped {\n",
              "  border: 1px dashed var(--sklearn-color-line);\n",
              "  margin: 0 0.4em 0.5em 0.4em;\n",
              "  box-sizing: border-box;\n",
              "  padding-bottom: 0.4em;\n",
              "  background-color: var(--sklearn-color-background);\n",
              "}\n",
              "\n",
              "#sk-container-id-2 div.sk-container {\n",
              "  /* jupyter's `normalize.less` sets `[hidden] { display: none; }`\n",
              "     but bootstrap.min.css set `[hidden] { display: none !important; }`\n",
              "     so we also need the `!important` here to be able to override the\n",
              "     default hidden behavior on the sphinx rendered scikit-learn.org.\n",
              "     See: https://github.com/scikit-learn/scikit-learn/issues/21755 */\n",
              "  display: inline-block !important;\n",
              "  position: relative;\n",
              "}\n",
              "\n",
              "#sk-container-id-2 div.sk-text-repr-fallback {\n",
              "  display: none;\n",
              "}\n",
              "\n",
              "div.sk-parallel-item,\n",
              "div.sk-serial,\n",
              "div.sk-item {\n",
              "  /* draw centered vertical line to link estimators */\n",
              "  background-image: linear-gradient(var(--sklearn-color-text-on-default-background), var(--sklearn-color-text-on-default-background));\n",
              "  background-size: 2px 100%;\n",
              "  background-repeat: no-repeat;\n",
              "  background-position: center center;\n",
              "}\n",
              "\n",
              "/* Parallel-specific style estimator block */\n",
              "\n",
              "#sk-container-id-2 div.sk-parallel-item::after {\n",
              "  content: \"\";\n",
              "  width: 100%;\n",
              "  border-bottom: 2px solid var(--sklearn-color-text-on-default-background);\n",
              "  flex-grow: 1;\n",
              "}\n",
              "\n",
              "#sk-container-id-2 div.sk-parallel {\n",
              "  display: flex;\n",
              "  align-items: stretch;\n",
              "  justify-content: center;\n",
              "  background-color: var(--sklearn-color-background);\n",
              "  position: relative;\n",
              "}\n",
              "\n",
              "#sk-container-id-2 div.sk-parallel-item {\n",
              "  display: flex;\n",
              "  flex-direction: column;\n",
              "}\n",
              "\n",
              "#sk-container-id-2 div.sk-parallel-item:first-child::after {\n",
              "  align-self: flex-end;\n",
              "  width: 50%;\n",
              "}\n",
              "\n",
              "#sk-container-id-2 div.sk-parallel-item:last-child::after {\n",
              "  align-self: flex-start;\n",
              "  width: 50%;\n",
              "}\n",
              "\n",
              "#sk-container-id-2 div.sk-parallel-item:only-child::after {\n",
              "  width: 0;\n",
              "}\n",
              "\n",
              "/* Serial-specific style estimator block */\n",
              "\n",
              "#sk-container-id-2 div.sk-serial {\n",
              "  display: flex;\n",
              "  flex-direction: column;\n",
              "  align-items: center;\n",
              "  background-color: var(--sklearn-color-background);\n",
              "  padding-right: 1em;\n",
              "  padding-left: 1em;\n",
              "}\n",
              "\n",
              "\n",
              "/* Toggleable style: style used for estimator/Pipeline/ColumnTransformer box that is\n",
              "clickable and can be expanded/collapsed.\n",
              "- Pipeline and ColumnTransformer use this feature and define the default style\n",
              "- Estimators will overwrite some part of the style using the `sk-estimator` class\n",
              "*/\n",
              "\n",
              "/* Pipeline and ColumnTransformer style (default) */\n",
              "\n",
              "#sk-container-id-2 div.sk-toggleable {\n",
              "  /* Default theme specific background. It is overwritten whether we have a\n",
              "  specific estimator or a Pipeline/ColumnTransformer */\n",
              "  background-color: var(--sklearn-color-background);\n",
              "}\n",
              "\n",
              "/* Toggleable label */\n",
              "#sk-container-id-2 label.sk-toggleable__label {\n",
              "  cursor: pointer;\n",
              "  display: block;\n",
              "  width: 100%;\n",
              "  margin-bottom: 0;\n",
              "  padding: 0.5em;\n",
              "  box-sizing: border-box;\n",
              "  text-align: center;\n",
              "}\n",
              "\n",
              "#sk-container-id-2 label.sk-toggleable__label-arrow:before {\n",
              "  /* Arrow on the left of the label */\n",
              "  content: \"▸\";\n",
              "  float: left;\n",
              "  margin-right: 0.25em;\n",
              "  color: var(--sklearn-color-icon);\n",
              "}\n",
              "\n",
              "#sk-container-id-2 label.sk-toggleable__label-arrow:hover:before {\n",
              "  color: var(--sklearn-color-text);\n",
              "}\n",
              "\n",
              "/* Toggleable content - dropdown */\n",
              "\n",
              "#sk-container-id-2 div.sk-toggleable__content {\n",
              "  max-height: 0;\n",
              "  max-width: 0;\n",
              "  overflow: hidden;\n",
              "  text-align: left;\n",
              "  /* unfitted */\n",
              "  background-color: var(--sklearn-color-unfitted-level-0);\n",
              "}\n",
              "\n",
              "#sk-container-id-2 div.sk-toggleable__content.fitted {\n",
              "  /* fitted */\n",
              "  background-color: var(--sklearn-color-fitted-level-0);\n",
              "}\n",
              "\n",
              "#sk-container-id-2 div.sk-toggleable__content pre {\n",
              "  margin: 0.2em;\n",
              "  border-radius: 0.25em;\n",
              "  color: var(--sklearn-color-text);\n",
              "  /* unfitted */\n",
              "  background-color: var(--sklearn-color-unfitted-level-0);\n",
              "}\n",
              "\n",
              "#sk-container-id-2 div.sk-toggleable__content.fitted pre {\n",
              "  /* unfitted */\n",
              "  background-color: var(--sklearn-color-fitted-level-0);\n",
              "}\n",
              "\n",
              "#sk-container-id-2 input.sk-toggleable__control:checked~div.sk-toggleable__content {\n",
              "  /* Expand drop-down */\n",
              "  max-height: 200px;\n",
              "  max-width: 100%;\n",
              "  overflow: auto;\n",
              "}\n",
              "\n",
              "#sk-container-id-2 input.sk-toggleable__control:checked~label.sk-toggleable__label-arrow:before {\n",
              "  content: \"▾\";\n",
              "}\n",
              "\n",
              "/* Pipeline/ColumnTransformer-specific style */\n",
              "\n",
              "#sk-container-id-2 div.sk-label input.sk-toggleable__control:checked~label.sk-toggleable__label {\n",
              "  color: var(--sklearn-color-text);\n",
              "  background-color: var(--sklearn-color-unfitted-level-2);\n",
              "}\n",
              "\n",
              "#sk-container-id-2 div.sk-label.fitted input.sk-toggleable__control:checked~label.sk-toggleable__label {\n",
              "  background-color: var(--sklearn-color-fitted-level-2);\n",
              "}\n",
              "\n",
              "/* Estimator-specific style */\n",
              "\n",
              "/* Colorize estimator box */\n",
              "#sk-container-id-2 div.sk-estimator input.sk-toggleable__control:checked~label.sk-toggleable__label {\n",
              "  /* unfitted */\n",
              "  background-color: var(--sklearn-color-unfitted-level-2);\n",
              "}\n",
              "\n",
              "#sk-container-id-2 div.sk-estimator.fitted input.sk-toggleable__control:checked~label.sk-toggleable__label {\n",
              "  /* fitted */\n",
              "  background-color: var(--sklearn-color-fitted-level-2);\n",
              "}\n",
              "\n",
              "#sk-container-id-2 div.sk-label label.sk-toggleable__label,\n",
              "#sk-container-id-2 div.sk-label label {\n",
              "  /* The background is the default theme color */\n",
              "  color: var(--sklearn-color-text-on-default-background);\n",
              "}\n",
              "\n",
              "/* On hover, darken the color of the background */\n",
              "#sk-container-id-2 div.sk-label:hover label.sk-toggleable__label {\n",
              "  color: var(--sklearn-color-text);\n",
              "  background-color: var(--sklearn-color-unfitted-level-2);\n",
              "}\n",
              "\n",
              "/* Label box, darken color on hover, fitted */\n",
              "#sk-container-id-2 div.sk-label.fitted:hover label.sk-toggleable__label.fitted {\n",
              "  color: var(--sklearn-color-text);\n",
              "  background-color: var(--sklearn-color-fitted-level-2);\n",
              "}\n",
              "\n",
              "/* Estimator label */\n",
              "\n",
              "#sk-container-id-2 div.sk-label label {\n",
              "  font-family: monospace;\n",
              "  font-weight: bold;\n",
              "  display: inline-block;\n",
              "  line-height: 1.2em;\n",
              "}\n",
              "\n",
              "#sk-container-id-2 div.sk-label-container {\n",
              "  text-align: center;\n",
              "}\n",
              "\n",
              "/* Estimator-specific */\n",
              "#sk-container-id-2 div.sk-estimator {\n",
              "  font-family: monospace;\n",
              "  border: 1px dotted var(--sklearn-color-border-box);\n",
              "  border-radius: 0.25em;\n",
              "  box-sizing: border-box;\n",
              "  margin-bottom: 0.5em;\n",
              "  /* unfitted */\n",
              "  background-color: var(--sklearn-color-unfitted-level-0);\n",
              "}\n",
              "\n",
              "#sk-container-id-2 div.sk-estimator.fitted {\n",
              "  /* fitted */\n",
              "  background-color: var(--sklearn-color-fitted-level-0);\n",
              "}\n",
              "\n",
              "/* on hover */\n",
              "#sk-container-id-2 div.sk-estimator:hover {\n",
              "  /* unfitted */\n",
              "  background-color: var(--sklearn-color-unfitted-level-2);\n",
              "}\n",
              "\n",
              "#sk-container-id-2 div.sk-estimator.fitted:hover {\n",
              "  /* fitted */\n",
              "  background-color: var(--sklearn-color-fitted-level-2);\n",
              "}\n",
              "\n",
              "/* Specification for estimator info (e.g. \"i\" and \"?\") */\n",
              "\n",
              "/* Common style for \"i\" and \"?\" */\n",
              "\n",
              ".sk-estimator-doc-link,\n",
              "a:link.sk-estimator-doc-link,\n",
              "a:visited.sk-estimator-doc-link {\n",
              "  float: right;\n",
              "  font-size: smaller;\n",
              "  line-height: 1em;\n",
              "  font-family: monospace;\n",
              "  background-color: var(--sklearn-color-background);\n",
              "  border-radius: 1em;\n",
              "  height: 1em;\n",
              "  width: 1em;\n",
              "  text-decoration: none !important;\n",
              "  margin-left: 1ex;\n",
              "  /* unfitted */\n",
              "  border: var(--sklearn-color-unfitted-level-1) 1pt solid;\n",
              "  color: var(--sklearn-color-unfitted-level-1);\n",
              "}\n",
              "\n",
              ".sk-estimator-doc-link.fitted,\n",
              "a:link.sk-estimator-doc-link.fitted,\n",
              "a:visited.sk-estimator-doc-link.fitted {\n",
              "  /* fitted */\n",
              "  border: var(--sklearn-color-fitted-level-1) 1pt solid;\n",
              "  color: var(--sklearn-color-fitted-level-1);\n",
              "}\n",
              "\n",
              "/* On hover */\n",
              "div.sk-estimator:hover .sk-estimator-doc-link:hover,\n",
              ".sk-estimator-doc-link:hover,\n",
              "div.sk-label-container:hover .sk-estimator-doc-link:hover,\n",
              ".sk-estimator-doc-link:hover {\n",
              "  /* unfitted */\n",
              "  background-color: var(--sklearn-color-unfitted-level-3);\n",
              "  color: var(--sklearn-color-background);\n",
              "  text-decoration: none;\n",
              "}\n",
              "\n",
              "div.sk-estimator.fitted:hover .sk-estimator-doc-link.fitted:hover,\n",
              ".sk-estimator-doc-link.fitted:hover,\n",
              "div.sk-label-container:hover .sk-estimator-doc-link.fitted:hover,\n",
              ".sk-estimator-doc-link.fitted:hover {\n",
              "  /* fitted */\n",
              "  background-color: var(--sklearn-color-fitted-level-3);\n",
              "  color: var(--sklearn-color-background);\n",
              "  text-decoration: none;\n",
              "}\n",
              "\n",
              "/* Span, style for the box shown on hovering the info icon */\n",
              ".sk-estimator-doc-link span {\n",
              "  display: none;\n",
              "  z-index: 9999;\n",
              "  position: relative;\n",
              "  font-weight: normal;\n",
              "  right: .2ex;\n",
              "  padding: .5ex;\n",
              "  margin: .5ex;\n",
              "  width: min-content;\n",
              "  min-width: 20ex;\n",
              "  max-width: 50ex;\n",
              "  color: var(--sklearn-color-text);\n",
              "  box-shadow: 2pt 2pt 4pt #999;\n",
              "  /* unfitted */\n",
              "  background: var(--sklearn-color-unfitted-level-0);\n",
              "  border: .5pt solid var(--sklearn-color-unfitted-level-3);\n",
              "}\n",
              "\n",
              ".sk-estimator-doc-link.fitted span {\n",
              "  /* fitted */\n",
              "  background: var(--sklearn-color-fitted-level-0);\n",
              "  border: var(--sklearn-color-fitted-level-3);\n",
              "}\n",
              "\n",
              ".sk-estimator-doc-link:hover span {\n",
              "  display: block;\n",
              "}\n",
              "\n",
              "/* \"?\"-specific style due to the `<a>` HTML tag */\n",
              "\n",
              "#sk-container-id-2 a.estimator_doc_link {\n",
              "  float: right;\n",
              "  font-size: 1rem;\n",
              "  line-height: 1em;\n",
              "  font-family: monospace;\n",
              "  background-color: var(--sklearn-color-background);\n",
              "  border-radius: 1rem;\n",
              "  height: 1rem;\n",
              "  width: 1rem;\n",
              "  text-decoration: none;\n",
              "  /* unfitted */\n",
              "  color: var(--sklearn-color-unfitted-level-1);\n",
              "  border: var(--sklearn-color-unfitted-level-1) 1pt solid;\n",
              "}\n",
              "\n",
              "#sk-container-id-2 a.estimator_doc_link.fitted {\n",
              "  /* fitted */\n",
              "  border: var(--sklearn-color-fitted-level-1) 1pt solid;\n",
              "  color: var(--sklearn-color-fitted-level-1);\n",
              "}\n",
              "\n",
              "/* On hover */\n",
              "#sk-container-id-2 a.estimator_doc_link:hover {\n",
              "  /* unfitted */\n",
              "  background-color: var(--sklearn-color-unfitted-level-3);\n",
              "  color: var(--sklearn-color-background);\n",
              "  text-decoration: none;\n",
              "}\n",
              "\n",
              "#sk-container-id-2 a.estimator_doc_link.fitted:hover {\n",
              "  /* fitted */\n",
              "  background-color: var(--sklearn-color-fitted-level-3);\n",
              "}\n",
              "</style><div id=\"sk-container-id-2\" class=\"sk-top-container\"><div class=\"sk-text-repr-fallback\"><pre>KernelDensity(bandwidth=3)</pre><b>In a Jupyter environment, please rerun this cell to show the HTML representation or trust the notebook. <br />On GitHub, the HTML representation is unable to render, please try loading this page with nbviewer.org.</b></div><div class=\"sk-container\" hidden><div class=\"sk-item\"><div class=\"sk-estimator fitted sk-toggleable\"><input class=\"sk-toggleable__control sk-hidden--visually\" id=\"sk-estimator-id-2\" type=\"checkbox\" checked><label for=\"sk-estimator-id-2\" class=\"sk-toggleable__label fitted sk-toggleable__label-arrow fitted\">&nbsp;&nbsp;KernelDensity<a class=\"sk-estimator-doc-link fitted\" rel=\"noreferrer\" target=\"_blank\" href=\"https://scikit-learn.org/1.4/modules/generated/sklearn.neighbors.KernelDensity.html\">?<span>Documentation for KernelDensity</span></a><span class=\"sk-estimator-doc-link fitted\">i<span>Fitted</span></span></label><div class=\"sk-toggleable__content fitted\"><pre>KernelDensity(bandwidth=3)</pre></div> </div></div></div></div>"
            ],
            "text/plain": [
              "KernelDensity(bandwidth=3)"
            ]
          },
          "execution_count": 64,
          "metadata": {},
          "output_type": "execute_result"
        }
      ],
      "source": [
        "sample = sample.reshape((len(sample), 1))\n",
        "model.fit(sample)"
      ]
    },
    {
      "cell_type": "markdown",
      "metadata": {},
      "source": [
        "## Now we are generating 100 points between min and max values and convert them in 2D"
      ]
    },
    {
      "cell_type": "code",
      "execution_count": 65,
      "metadata": {
        "id": "ACjbeWVnq90c"
      },
      "outputs": [],
      "source": [
        "values = np.linspace(sample.min(),sample.max(),100)\n",
        "values = values.reshape((len(values), 1))"
      ]
    },
    {
      "cell_type": "markdown",
      "metadata": {},
      "source": [
        "## We'er calculating the y values or probabiliti densities\n",
        "## `score_samples(values)` returns the log-density estimate of the input samples values. This is because the `score_samples()` method of the KernelDensity class returns the logarithm of the probability density estimate rather than the actual probability density estimate. Because exponent cancel out the log values"
      ]
    },
    {
      "cell_type": "code",
      "execution_count": 66,
      "metadata": {
        "id": "SdGSnDL-C60o"
      },
      "outputs": [],
      "source": [
        "probability_densities = model.score_samples(values)\n",
        "probability_densities = np.exp(probability_densities)"
      ]
    },
    {
      "cell_type": "markdown",
      "metadata": {},
      "source": [
        "## Finally ploting them"
      ]
    },
    {
      "cell_type": "code",
      "execution_count": 67,
      "metadata": {
        "colab": {
          "base_uri": "https://localhost:8080/",
          "height": 265
        },
        "id": "6Mx-98t9rDIZ",
        "outputId": "b8e82588-784f-4aa0-ab89-3f50b9c650f5"
      },
      "outputs": [
        {
          "data": {
            "image/png": "[encoded data removed]",
            "text/plain": [
              "<Figure size 640x480 with 1 Axes>"
            ]
          },
          "metadata": {},
          "output_type": "display_data"
        }
      ],
      "source": [
        "plt.hist(sample, bins=50, density=True)\n",
        "plt.plot(values[:], probability_densities)\n",
        "plt.show()"
      ]
    },
    {
      "cell_type": "markdown",
      "metadata": {},
      "source": [
        "## Now if we change the bandwith values the plot will be changed\n",
        "## Short bandwidth create steep curves"
      ]
    },
    {
      "cell_type": "code",
      "execution_count": 69,
      "metadata": {},
      "outputs": [
        {
          "data": {
            "image/png": "[encoded data removed]",
            "text/plain": [
              "<Figure size 640x480 with 1 Axes>"
            ]
          },
          "metadata": {},
          "output_type": "display_data"
        }
      ],
      "source": [
        "from sklearn.neighbors import KernelDensity\n",
        "model = KernelDensity(bandwidth=.5, kernel='gaussian')\n",
        "sample = sample.reshape((len(sample), 1))\n",
        "model.fit(sample)\n",
        "values = np.linspace(sample.min(),sample.max(),100)\n",
        "values = values.reshape((len(values), 1))\n",
        "probability_densities = model.score_samples(values)\n",
        "probability_densities = np.exp(probability_densities)\n",
        "plt.hist(sample, bins=50, density=True)\n",
        "plt.plot(values[:], probability_densities)\n",
        "plt.show()"
      ]
    },
    {
      "cell_type": "markdown",
      "metadata": {},
      "source": [
        "## Now if we change the bandwith values the plot will be changed\n",
        "## large bandwidth create wide curves"
      ]
    },
    {
      "cell_type": "code",
      "execution_count": 72,
      "metadata": {},
      "outputs": [
        {
          "data": {
            "image/png": "[encoded data removed]",
            "text/plain": [
              "<Figure size 640x480 with 1 Axes>"
            ]
          },
          "metadata": {},
          "output_type": "display_data"
        }
      ],
      "source": [
        "from sklearn.neighbors import KernelDensity\n",
        "model = KernelDensity(bandwidth=6, kernel='gaussian')\n",
        "sample = sample.reshape((len(sample), 1))\n",
        "model.fit(sample)\n",
        "values = np.linspace(sample.min(),sample.max(),100)\n",
        "values = values.reshape((len(values), 1))\n",
        "probability_densities = model.score_samples(values)\n",
        "probability_densities = np.exp(probability_densities)\n",
        "plt.hist(sample, bins=50, density=True)\n",
        "plt.plot(values[:], probability_densities)\n",
        "plt.show()"
      ]
    },
    {
      "cell_type": "code",
      "execution_count": null,
      "metadata": {
        "colab": {
          "base_uri": "https://localhost:8080/",
          "height": 282
        },
        "id": "DZ9gslUGOdZ0",
        "outputId": "f62b1d35-e11f-41a1-ebe8-67d943e59f4f"
      },
      "outputs": [
        {
          "data": {
            "text/plain": [
              "<AxesSubplot:ylabel='Density'>"
            ]
          },
          "execution_count": 132,
          "metadata": {},
          "output_type": "execute_result"
        },
        {
          "data": {
            "image/png": "[encoded data removed]",
            "text/plain": [
              "<Figure size 432x288 with 1 Axes>"
            ]
          },
          "metadata": {
            "needs_background": "light"
          },
          "output_type": "display_data"
        }
      ],
      "source": [
        "sns.kdeplot(sample.reshape(1000),bw_adjust=0.02)"
      ]
    },
    {
      "cell_type": "code",
      "execution_count": null,
      "metadata": {
        "id": "48l9TEV3rP5h"
      },
      "outputs": [],
      "source": [
        "import seaborn as sns"
      ]
    },
    {
      "cell_type": "code",
      "execution_count": null,
      "metadata": {
        "id": "pvVbpaheO4yW"
      },
      "outputs": [],
      "source": [
        "df = sns.load_dataset('iris')"
      ]
    },
    {
      "cell_type": "code",
      "execution_count": null,
      "metadata": {
        "colab": {
          "base_uri": "https://localhost:8080/",
          "height": 206
        },
        "id": "GjfTUowqPBAQ",
        "outputId": "fd7d61fc-0bd7-4581-ec40-d03569a19740"
      },
      "outputs": [
        {
          "data": {
            "text/html": [
              "\n",
              "  <div id=\"df-d316fa85-d039-4aae-b16d-1ca683813b85\">\n",
              "    <div class=\"colab-df-container\">\n",
              "      <div>\n",
              "<style scoped>\n",
              "    .dataframe tbody tr th:only-of-type {\n",
              "        vertical-align: middle;\n",
              "    }\n",
              "\n",
              "    .dataframe tbody tr th {\n",
              "        vertical-align: top;\n",
              "    }\n",
              "\n",
              "    .dataframe thead th {\n",
              "        text-align: right;\n",
              "    }\n",
              "</style>\n",
              "<table border=\"1\" class=\"dataframe\">\n",
              "  <thead>\n",
              "    <tr style=\"text-align: right;\">\n",
              "      <th></th>\n",
              "      <th>sepal_length</th>\n",
              "      <th>sepal_width</th>\n",
              "      <th>petal_length</th>\n",
              "      <th>petal_width</th>\n",
              "      <th>species</th>\n",
              "    </tr>\n",
              "  </thead>\n",
              "  <tbody>\n",
              "    <tr>\n",
              "      <th>0</th>\n",
              "      <td>5.1</td>\n",
              "      <td>3.5</td>\n",
              "      <td>1.4</td>\n",
              "      <td>0.2</td>\n",
              "      <td>setosa</td>\n",
              "    </tr>\n",
              "    <tr>\n",
              "      <th>1</th>\n",
              "      <td>4.9</td>\n",
              "      <td>3.0</td>\n",
              "      <td>1.4</td>\n",
              "      <td>0.2</td>\n",
              "      <td>setosa</td>\n",
              "    </tr>\n",
              "    <tr>\n",
              "      <th>2</th>\n",
              "      <td>4.7</td>\n",
              "      <td>3.2</td>\n",
              "      <td>1.3</td>\n",
              "      <td>0.2</td>\n",
              "      <td>setosa</td>\n",
              "    </tr>\n",
              "    <tr>\n",
              "      <th>3</th>\n",
              "      <td>4.6</td>\n",
              "      <td>3.1</td>\n",
              "      <td>1.5</td>\n",
              "      <td>0.2</td>\n",
              "      <td>setosa</td>\n",
              "    </tr>\n",
              "    <tr>\n",
              "      <th>4</th>\n",
              "      <td>5.0</td>\n",
              "      <td>3.6</td>\n",
              "      <td>1.4</td>\n",
              "      <td>0.2</td>\n",
              "      <td>setosa</td>\n",
              "    </tr>\n",
              "  </tbody>\n",
              "</table>\n",
              "</div>\n",
              "      <button class=\"colab-df-convert\" onclick=\"convertToInteractive('df-d316fa85-d039-4aae-b16d-1ca683813b85')\"\n",
              "              title=\"Convert this dataframe to an interactive table.\"\n",
              "              style=\"display:none;\">\n",
              "        \n",
              "  <svg xmlns=\"http://www.w3.org/2000/svg\" height=\"24px\"viewBox=\"0 0 24 24\"\n",
              "       width=\"24px\">\n",
              "    <path d=\"M0 0h24v24H0V0z\" fill=\"none\"/>\n",
              "    <path d=\"M18.56 5.44l.94 2.06.94-2.06 2.06-.94-2.06-.94-.94-2.06-.94 2.06-2.06.94zm-11 1L8.5 8.5l.94-2.06 2.06-.94-2.06-.94L8.5 2.5l-.94 2.06-2.06.94zm10 10l.94 2.06.94-2.06 2.06-.94-2.06-.94-.94-2.06-.94 2.06-2.06.94z\"/><path d=\"M17.41 7.96l-1.37-1.37c-.4-.4-.92-.59-1.43-.59-.52 0-1.04.2-1.43.59L10.3 9.45l-7.72 7.72c-.78.78-.78 2.05 0 2.83L4 21.41c.39.39.9.59 1.41.59.51 0 1.02-.2 1.41-.59l7.78-7.78 2.81-2.81c.8-.78.8-2.07 0-2.86zM5.41 20L4 18.59l7.72-7.72 1.47 1.35L5.41 20z\"/>\n",
              "  </svg>\n",
              "      </button>\n",
              "      \n",
              "  <style>\n",
              "    .colab-df-container {\n",
              "      display:flex;\n",
              "      flex-wrap:wrap;\n",
              "      gap: 12px;\n",
              "    }\n",
              "\n",
              "    .colab-df-convert {\n",
              "      background-color: #E8F0FE;\n",
              "      border: none;\n",
              "      border-radius: 50%;\n",
              "      cursor: pointer;\n",
              "      display: none;\n",
              "      fill: #1967D2;\n",
              "      height: 32px;\n",
              "      padding: 0 0 0 0;\n",
              "      width: 32px;\n",
              "    }\n",
              "\n",
              "    .colab-df-convert:hover {\n",
              "      background-color: #E2EBFA;\n",
              "      box-shadow: 0px 1px 2px rgba(60, 64, 67, 0.3), 0px 1px 3px 1px rgba(60, 64, 67, 0.15);\n",
              "      fill: #174EA6;\n",
              "    }\n",
              "\n",
              "    [theme=dark] .colab-df-convert {\n",
              "      background-color: #3B4455;\n",
              "      fill: #D2E3FC;\n",
              "    }\n",
              "\n",
              "    [theme=dark] .colab-df-convert:hover {\n",
              "      background-color: #434B5C;\n",
              "      box-shadow: 0px 1px 3px 1px rgba(0, 0, 0, 0.15);\n",
              "      filter: drop-shadow(0px 1px 2px rgba(0, 0, 0, 0.3));\n",
              "      fill: #FFFFFF;\n",
              "    }\n",
              "  </style>\n",
              "\n",
              "      <script>\n",
              "        const buttonEl =\n",
              "          document.querySelector('#df-d316fa85-d039-4aae-b16d-1ca683813b85 button.colab-df-convert');\n",
              "        buttonEl.style.display =\n",
              "          google.colab.kernel.accessAllowed ? 'block' : 'none';\n",
              "\n",
              "        async function convertToInteractive(key) {\n",
              "          const element = document.querySelector('#df-d316fa85-d039-4aae-b16d-1ca683813b85');\n",
              "          const dataTable =\n",
              "            await google.colab.kernel.invokeFunction('convertToInteractive',\n",
              "                                                     [key], {});\n",
              "          if (!dataTable) return;\n",
              "\n",
              "          const docLinkHtml = 'Like what you see? Visit the ' +\n",
              "            '<a target=\"_blank\" href=https://colab.research.google.com/notebooks/data_table.ipynb>data table notebook</a>'\n",
              "            + ' to learn more about interactive tables.';\n",
              "          element.innerHTML = '';\n",
              "          dataTable['output_type'] = 'display_data';\n",
              "          await google.colab.output.renderOutput(dataTable, element);\n",
              "          const docLink = document.createElement('div');\n",
              "          docLink.innerHTML = docLinkHtml;\n",
              "          element.appendChild(docLink);\n",
              "        }\n",
              "      </script>\n",
              "    </div>\n",
              "  </div>\n",
              "  "
            ],
            "text/plain": [
              "   sepal_length  sepal_width  petal_length  petal_width species\n",
              "0           5.1          3.5           1.4          0.2  setosa\n",
              "1           4.9          3.0           1.4          0.2  setosa\n",
              "2           4.7          3.2           1.3          0.2  setosa\n",
              "3           4.6          3.1           1.5          0.2  setosa\n",
              "4           5.0          3.6           1.4          0.2  setosa"
            ]
          },
          "execution_count": 13,
          "metadata": {},
          "output_type": "execute_result"
        }
      ],
      "source": [
        "df.head()"
      ]
    },
    {
      "cell_type": "code",
      "execution_count": null,
      "metadata": {
        "colab": {
          "base_uri": "https://localhost:8080/",
          "height": 297
        },
        "id": "GWXYuEaXO6xA",
        "outputId": "caf9948b-ca46-457d-e8f7-a8f4d544e3b3"
      },
      "outputs": [
        {
          "data": {
            "text/plain": [
              "<Axes: xlabel='sepal_length', ylabel='Density'>"
            ]
          },
          "execution_count": 14,
          "metadata": {},
          "output_type": "execute_result"
        },
        {
          "data": {
            "image/png": "[encoded data removed]",
            "text/plain": [
              "<Figure size 432x288 with 1 Axes>"
            ]
          },
          "metadata": {
            "needs_background": "light"
          },
          "output_type": "display_data"
        }
      ],
      "source": [
        "sns.kdeplot(data=df,x='sepal_length',hue='species')"
      ]
    },
    {
      "cell_type": "code",
      "execution_count": null,
      "metadata": {
        "colab": {
          "base_uri": "https://localhost:8080/",
          "height": 297
        },
        "id": "HfD6ynwBSMh8",
        "outputId": "99c3c3e1-95a1-4b26-9874-e2967de686d8"
      },
      "outputs": [
        {
          "data": {
            "text/plain": [
              "<Axes: xlabel='sepal_width', ylabel='Density'>"
            ]
          },
          "execution_count": 15,
          "metadata": {},
          "output_type": "execute_result"
        },
        {
          "data": {
            "image/png": "[encoded data removed]",
            "text/plain": [
              "<Figure size 432x288 with 1 Axes>"
            ]
          },
          "metadata": {
            "needs_background": "light"
          },
          "output_type": "display_data"
        }
      ],
      "source": [
        "sns.kdeplot(data=df,x='sepal_width',hue='species')"
      ]
    },
    {
      "cell_type": "code",
      "execution_count": null,
      "metadata": {
        "colab": {
          "base_uri": "https://localhost:8080/",
          "height": 297
        },
        "id": "L017GVtXSMvj",
        "outputId": "89e77eee-27d9-4267-90a5-1bfb8cc98dde"
      },
      "outputs": [
        {
          "data": {
            "text/plain": [
              "<Axes: xlabel='petal_length', ylabel='Density'>"
            ]
          },
          "execution_count": 16,
          "metadata": {},
          "output_type": "execute_result"
        },
        {
          "data": {
            "image/png": "[encoded data removed]",
            "text/plain": [
              "<Figure size 432x288 with 1 Axes>"
            ]
          },
          "metadata": {
            "needs_background": "light"
          },
          "output_type": "display_data"
        }
      ],
      "source": [
        "sns.kdeplot(data=df,x='petal_length',hue='species')"
      ]
    },
    {
      "cell_type": "code",
      "execution_count": null,
      "metadata": {
        "colab": {
          "base_uri": "https://localhost:8080/",
          "height": 297
        },
        "id": "QrkO_gNGSM6v",
        "outputId": "d76ccd7f-3190-4d44-98a8-2f22bd972335"
      },
      "outputs": [
        {
          "data": {
            "text/plain": [
              "<Axes: xlabel='petal_width', ylabel='Density'>"
            ]
          },
          "execution_count": 17,
          "metadata": {},
          "output_type": "execute_result"
        },
        {
          "data": {
            "image/png": "[encoded data removed]",
            "text/plain": [
              "<Figure size 432x288 with 1 Axes>"
            ]
          },
          "metadata": {
            "needs_background": "light"
          },
          "output_type": "display_data"
        }
      ],
      "source": [
        "sns.kdeplot(data=df,x='petal_width',hue='species')"
      ]
    },
    {
      "cell_type": "code",
      "execution_count": null,
      "metadata": {
        "id": "lZSdzNveSNGV"
      },
      "outputs": [],
      "source": []
    },
    {
      "cell_type": "code",
      "execution_count": null,
      "metadata": {
        "colab": {
          "base_uri": "https://localhost:8080/",
          "height": 297
        },
        "id": "gO8eZwpPPEe9",
        "outputId": "e37821ca-5a29-4355-e319-e9812efe2d30"
      },
      "outputs": [
        {
          "data": {
            "text/plain": [
              "<AxesSubplot:xlabel='petal_width', ylabel='Density'>"
            ]
          },
          "execution_count": 61,
          "metadata": {},
          "output_type": "execute_result"
        },
        {
          "data": {
            "image/png": "[encoded data removed]",
            "text/plain": [
              "<Figure size 432x288 with 1 Axes>"
            ]
          },
          "metadata": {
            "needs_background": "light"
          },
          "output_type": "display_data"
        }
      ],
      "source": [
        "sns.kdeplot(df['petal_width'],hue=df['species'])\n",
        "sns.ecdfplot(data=df,x='petal_width',hue='species')"
      ]
    },
    {
      "cell_type": "code",
      "execution_count": null,
      "metadata": {
        "id": "Es7lOOwyRk7T"
      },
      "outputs": [],
      "source": [
        "titanic = pd.read_csv('https://raw.githubusercontent.com/datasciencedojo/datasets/master/titanic.csv')"
      ]
    },
    {
      "cell_type": "code",
      "execution_count": null,
      "metadata": {
        "colab": {
          "base_uri": "https://localhost:8080/",
          "height": 285
        },
        "id": "WDggW8PYRlcr",
        "outputId": "f15af5a9-bac3-402e-c28d-44e140d92454"
      },
      "outputs": [
        {
          "data": {
            "text/html": [
              "\n",
              "  <div id=\"df-f2e8ffe3-3034-44e1-ae5f-9f5c3eeeec6f\">\n",
              "    <div class=\"colab-df-container\">\n",
              "      <div>\n",
              "<style scoped>\n",
              "    .dataframe tbody tr th:only-of-type {\n",
              "        vertical-align: middle;\n",
              "    }\n",
              "\n",
              "    .dataframe tbody tr th {\n",
              "        vertical-align: top;\n",
              "    }\n",
              "\n",
              "    .dataframe thead th {\n",
              "        text-align: right;\n",
              "    }\n",
              "</style>\n",
              "<table border=\"1\" class=\"dataframe\">\n",
              "  <thead>\n",
              "    <tr style=\"text-align: right;\">\n",
              "      <th></th>\n",
              "      <th>PassengerId</th>\n",
              "      <th>Survived</th>\n",
              "      <th>Pclass</th>\n",
              "      <th>Name</th>\n",
              "      <th>Sex</th>\n",
              "      <th>Age</th>\n",
              "      <th>SibSp</th>\n",
              "      <th>Parch</th>\n",
              "      <th>Ticket</th>\n",
              "      <th>Fare</th>\n",
              "      <th>Cabin</th>\n",
              "      <th>Embarked</th>\n",
              "    </tr>\n",
              "  </thead>\n",
              "  <tbody>\n",
              "    <tr>\n",
              "      <th>0</th>\n",
              "      <td>1</td>\n",
              "      <td>0</td>\n",
              "      <td>3</td>\n",
              "      <td>Braund, Mr. Owen Harris</td>\n",
              "      <td>male</td>\n",
              "      <td>22.0</td>\n",
              "      <td>1</td>\n",
              "      <td>0</td>\n",
              "      <td>A/5 21171</td>\n",
              "      <td>7.2500</td>\n",
              "      <td>NaN</td>\n",
              "      <td>S</td>\n",
              "    </tr>\n",
              "    <tr>\n",
              "      <th>1</th>\n",
              "      <td>2</td>\n",
              "      <td>1</td>\n",
              "      <td>1</td>\n",
              "      <td>Cumings, Mrs. John Bradley (Florence Briggs Th...</td>\n",
              "      <td>female</td>\n",
              "      <td>38.0</td>\n",
              "      <td>1</td>\n",
              "      <td>0</td>\n",
              "      <td>PC 17599</td>\n",
              "      <td>71.2833</td>\n",
              "      <td>C85</td>\n",
              "      <td>C</td>\n",
              "    </tr>\n",
              "    <tr>\n",
              "      <th>2</th>\n",
              "      <td>3</td>\n",
              "      <td>1</td>\n",
              "      <td>3</td>\n",
              "      <td>Heikkinen, Miss. Laina</td>\n",
              "      <td>female</td>\n",
              "      <td>26.0</td>\n",
              "      <td>0</td>\n",
              "      <td>0</td>\n",
              "      <td>STON/O2. 3101282</td>\n",
              "      <td>7.9250</td>\n",
              "      <td>NaN</td>\n",
              "      <td>S</td>\n",
              "    </tr>\n",
              "    <tr>\n",
              "      <th>3</th>\n",
              "      <td>4</td>\n",
              "      <td>1</td>\n",
              "      <td>1</td>\n",
              "      <td>Futrelle, Mrs. Jacques Heath (Lily May Peel)</td>\n",
              "      <td>female</td>\n",
              "      <td>35.0</td>\n",
              "      <td>1</td>\n",
              "      <td>0</td>\n",
              "      <td>113803</td>\n",
              "      <td>53.1000</td>\n",
              "      <td>C123</td>\n",
              "      <td>S</td>\n",
              "    </tr>\n",
              "    <tr>\n",
              "      <th>4</th>\n",
              "      <td>5</td>\n",
              "      <td>0</td>\n",
              "      <td>3</td>\n",
              "      <td>Allen, Mr. William Henry</td>\n",
              "      <td>male</td>\n",
              "      <td>35.0</td>\n",
              "      <td>0</td>\n",
              "      <td>0</td>\n",
              "      <td>373450</td>\n",
              "      <td>8.0500</td>\n",
              "      <td>NaN</td>\n",
              "      <td>S</td>\n",
              "    </tr>\n",
              "  </tbody>\n",
              "</table>\n",
              "</div>\n",
              "      <button class=\"colab-df-convert\" onclick=\"convertToInteractive('df-f2e8ffe3-3034-44e1-ae5f-9f5c3eeeec6f')\"\n",
              "              title=\"Convert this dataframe to an interactive table.\"\n",
              "              style=\"display:none;\">\n",
              "        \n",
              "  <svg xmlns=\"http://www.w3.org/2000/svg\" height=\"24px\"viewBox=\"0 0 24 24\"\n",
              "       width=\"24px\">\n",
              "    <path d=\"M0 0h24v24H0V0z\" fill=\"none\"/>\n",
              "    <path d=\"M18.56 5.44l.94 2.06.94-2.06 2.06-.94-2.06-.94-.94-2.06-.94 2.06-2.06.94zm-11 1L8.5 8.5l.94-2.06 2.06-.94-2.06-.94L8.5 2.5l-.94 2.06-2.06.94zm10 10l.94 2.06.94-2.06 2.06-.94-2.06-.94-.94-2.06-.94 2.06-2.06.94z\"/><path d=\"M17.41 7.96l-1.37-1.37c-.4-.4-.92-.59-1.43-.59-.52 0-1.04.2-1.43.59L10.3 9.45l-7.72 7.72c-.78.78-.78 2.05 0 2.83L4 21.41c.39.39.9.59 1.41.59.51 0 1.02-.2 1.41-.59l7.78-7.78 2.81-2.81c.8-.78.8-2.07 0-2.86zM5.41 20L4 18.59l7.72-7.72 1.47 1.35L5.41 20z\"/>\n",
              "  </svg>\n",
              "      </button>\n",
              "      \n",
              "  <style>\n",
              "    .colab-df-container {\n",
              "      display:flex;\n",
              "      flex-wrap:wrap;\n",
              "      gap: 12px;\n",
              "    }\n",
              "\n",
              "    .colab-df-convert {\n",
              "      background-color: #E8F0FE;\n",
              "      border: none;\n",
              "      border-radius: 50%;\n",
              "      cursor: pointer;\n",
              "      display: none;\n",
              "      fill: #1967D2;\n",
              "      height: 32px;\n",
              "      padding: 0 0 0 0;\n",
              "      width: 32px;\n",
              "    }\n",
              "\n",
              "    .colab-df-convert:hover {\n",
              "      background-color: #E2EBFA;\n",
              "      box-shadow: 0px 1px 2px rgba(60, 64, 67, 0.3), 0px 1px 3px 1px rgba(60, 64, 67, 0.15);\n",
              "      fill: #174EA6;\n",
              "    }\n",
              "\n",
              "    [theme=dark] .colab-df-convert {\n",
              "      background-color: #3B4455;\n",
              "      fill: #D2E3FC;\n",
              "    }\n",
              "\n",
              "    [theme=dark] .colab-df-convert:hover {\n",
              "      background-color: #434B5C;\n",
              "      box-shadow: 0px 1px 3px 1px rgba(0, 0, 0, 0.15);\n",
              "      filter: drop-shadow(0px 1px 2px rgba(0, 0, 0, 0.3));\n",
              "      fill: #FFFFFF;\n",
              "    }\n",
              "  </style>\n",
              "\n",
              "      <script>\n",
              "        const buttonEl =\n",
              "          document.querySelector('#df-f2e8ffe3-3034-44e1-ae5f-9f5c3eeeec6f button.colab-df-convert');\n",
              "        buttonEl.style.display =\n",
              "          google.colab.kernel.accessAllowed ? 'block' : 'none';\n",
              "\n",
              "        async function convertToInteractive(key) {\n",
              "          const element = document.querySelector('#df-f2e8ffe3-3034-44e1-ae5f-9f5c3eeeec6f');\n",
              "          const dataTable =\n",
              "            await google.colab.kernel.invokeFunction('convertToInteractive',\n",
              "                                                     [key], {});\n",
              "          if (!dataTable) return;\n",
              "\n",
              "          const docLinkHtml = 'Like what you see? Visit the ' +\n",
              "            '<a target=\"_blank\" href=https://colab.research.google.com/notebooks/data_table.ipynb>data table notebook</a>'\n",
              "            + ' to learn more about interactive tables.';\n",
              "          element.innerHTML = '';\n",
              "          dataTable['output_type'] = 'display_data';\n",
              "          await google.colab.output.renderOutput(dataTable, element);\n",
              "          const docLink = document.createElement('div');\n",
              "          docLink.innerHTML = docLinkHtml;\n",
              "          element.appendChild(docLink);\n",
              "        }\n",
              "      </script>\n",
              "    </div>\n",
              "  </div>\n",
              "  "
            ],
            "text/plain": [
              "   PassengerId  Survived  Pclass  \\\n",
              "0            1         0       3   \n",
              "1            2         1       1   \n",
              "2            3         1       3   \n",
              "3            4         1       1   \n",
              "4            5         0       3   \n",
              "\n",
              "                                                Name     Sex   Age  SibSp  \\\n",
              "0                            Braund, Mr. Owen Harris    male  22.0      1   \n",
              "1  Cumings, Mrs. John Bradley (Florence Briggs Th...  female  38.0      1   \n",
              "2                             Heikkinen, Miss. Laina  female  26.0      0   \n",
              "3       Futrelle, Mrs. Jacques Heath (Lily May Peel)  female  35.0      1   \n",
              "4                           Allen, Mr. William Henry    male  35.0      0   \n",
              "\n",
              "   Parch            Ticket     Fare Cabin Embarked  \n",
              "0      0         A/5 21171   7.2500   NaN        S  \n",
              "1      0          PC 17599  71.2833   C85        C  \n",
              "2      0  STON/O2. 3101282   7.9250   NaN        S  \n",
              "3      0            113803  53.1000  C123        S  \n",
              "4      0            373450   8.0500   NaN        S  "
            ]
          },
          "execution_count": 19,
          "metadata": {},
          "output_type": "execute_result"
        }
      ],
      "source": [
        "titanic.head()"
      ]
    },
    {
      "cell_type": "code",
      "execution_count": null,
      "metadata": {
        "colab": {
          "base_uri": "https://localhost:8080/",
          "height": 296
        },
        "id": "mwYpnDPNSDu1",
        "outputId": "e61f9827-fd5d-4e89-b7df-77d5c2f85f78"
      },
      "outputs": [
        {
          "data": {
            "text/plain": [
              "<Axes: xlabel='Age', ylabel='Density'>"
            ]
          },
          "execution_count": 21,
          "metadata": {},
          "output_type": "execute_result"
        },
        {
          "data": {
            "image/png": "[encoded data removed]",
            "text/plain": [
              "<Figure size 432x288 with 1 Axes>"
            ]
          },
          "metadata": {
            "needs_background": "light"
          },
          "output_type": "display_data"
        }
      ],
      "source": [
        "# code here\n",
        "sns.kdeplot(data=titanic,x='Age',hue='Sex')"
      ]
    },
    {
      "cell_type": "code",
      "execution_count": null,
      "metadata": {
        "colab": {
          "base_uri": "https://localhost:8080/",
          "height": 458
        },
        "id": "_5Az3OFmPNvn",
        "outputId": "1a5239a6-558b-4e4d-b9d5-1edf862d2f79"
      },
      "outputs": [
        {
          "data": {
            "text/plain": [
              "<seaborn.axisgrid.JointGrid at 0x7f41e974e7c0>"
            ]
          },
          "execution_count": 59,
          "metadata": {},
          "output_type": "execute_result"
        },
        {
          "data": {
            "image/png": "[encoded data removed]",
            "text/plain": [
              "<Figure size 432x432 with 4 Axes>"
            ]
          },
          "metadata": {
            "needs_background": "light"
          },
          "output_type": "display_data"
        }
      ],
      "source": [
        " sns.jointplot(data=df, x=\"petal_length\", y=\"sepal_length\", kind=\"kde\",fill=True,cbar=True)"
      ]
    },
    {
      "cell_type": "code",
      "execution_count": null,
      "metadata": {
        "colab": {
          "base_uri": "https://localhost:8080/",
          "height": 296
        },
        "id": "HuCPjhWQSz5Q",
        "outputId": "a4396b99-d3e8-4426-c3ff-d92fd74dda18"
      },
      "outputs": [
        {
          "data": {
            "text/plain": [
              "<Axes: xlabel='Age', ylabel='Density'>"
            ]
          },
          "execution_count": 23,
          "metadata": {},
          "output_type": "execute_result"
        },
        {
          "data": {
            "image/png": "[encoded data removed]",
            "text/plain": [
              "<Figure size 432x288 with 1 Axes>"
            ]
          },
          "metadata": {
            "needs_background": "light"
          },
          "output_type": "display_data"
        }
      ],
      "source": [
        "sns.kdeplot(titanic['Age'])"
      ]
    },
    {
      "cell_type": "code",
      "execution_count": null,
      "metadata": {
        "colab": {
          "base_uri": "https://localhost:8080/"
        },
        "id": "UU8EvZtkzLJH",
        "outputId": "35da9e11-07dc-48ee-bed2-edde8ab367d8"
      },
      "outputs": [
        {
          "data": {
            "text/plain": [
              "29.69911764705882"
            ]
          },
          "execution_count": 24,
          "metadata": {},
          "output_type": "execute_result"
        }
      ],
      "source": [
        "titanic['Age'].mean()"
      ]
    },
    {
      "cell_type": "code",
      "execution_count": null,
      "metadata": {
        "id": "-qZ7TLzXzWf6"
      },
      "outputs": [],
      "source": [
        "x = (titanic['Age'] - titanic['Age'].mean())/titanic['Age'].std()"
      ]
    },
    {
      "cell_type": "code",
      "execution_count": null,
      "metadata": {
        "colab": {
          "base_uri": "https://localhost:8080/",
          "height": 296
        },
        "id": "N1E-Wx3vzbpk",
        "outputId": "b8f9db68-59c2-47ce-8fb1-91089b3990fa"
      },
      "outputs": [
        {
          "data": {
            "text/plain": [
              "<Axes: xlabel='Age', ylabel='Density'>"
            ]
          },
          "execution_count": 28,
          "metadata": {},
          "output_type": "execute_result"
        },
        {
          "data": {
            "image/png": "[encoded data removed]",
            "text/plain": [
              "<Figure size 432x288 with 1 Axes>"
            ]
          },
          "metadata": {
            "needs_background": "light"
          },
          "output_type": "display_data"
        }
      ],
      "source": [
        "sns.kdeplot(x)"
      ]
    },
    {
      "cell_type": "code",
      "execution_count": null,
      "metadata": {
        "colab": {
          "base_uri": "https://localhost:8080/"
        },
        "id": "HiyJuu1XzsS-",
        "outputId": "4442da60-baeb-44a4-b2eb-4999001d1d03"
      },
      "outputs": [
        {
          "data": {
            "text/plain": [
              "2.338621049070358e-16"
            ]
          },
          "execution_count": 29,
          "metadata": {},
          "output_type": "execute_result"
        }
      ],
      "source": [
        "x.mean()"
      ]
    },
    {
      "cell_type": "code",
      "execution_count": null,
      "metadata": {
        "colab": {
          "base_uri": "https://localhost:8080/"
        },
        "id": "hnxKg-YUzxBF",
        "outputId": "bc110ce5-2620-4aee-a9ba-4cdeebf06a6d"
      },
      "outputs": [
        {
          "data": {
            "text/plain": [
              "1.0"
            ]
          },
          "execution_count": 30,
          "metadata": {},
          "output_type": "execute_result"
        }
      ],
      "source": [
        "x.std()"
      ]
    },
    {
      "cell_type": "code",
      "execution_count": null,
      "metadata": {
        "colab": {
          "base_uri": "https://localhost:8080/"
        },
        "id": "zukZ3BmOz1XF",
        "outputId": "b12fe27e-d1ab-4c2d-9423-bb33bdc48cce"
      },
      "outputs": [
        {
          "data": {
            "text/plain": [
              "0.38910778230082704"
            ]
          },
          "execution_count": 32,
          "metadata": {},
          "output_type": "execute_result"
        }
      ],
      "source": [
        "titanic['Age'].skew()"
      ]
    },
    {
      "cell_type": "code",
      "execution_count": null,
      "metadata": {
        "colab": {
          "base_uri": "https://localhost:8080/"
        },
        "id": "6EBKSsQd7SOy",
        "outputId": "d042a547-4320-48c8-9ec1-55137d352a14"
      },
      "outputs": [
        {
          "data": {
            "text/plain": [
              "73.27860964406094"
            ]
          },
          "execution_count": 33,
          "metadata": {},
          "output_type": "execute_result"
        }
      ],
      "source": [
        "titanic['Age'].mean() + 3*titanic['Age'].std()"
      ]
    },
    {
      "cell_type": "code",
      "execution_count": null,
      "metadata": {
        "colab": {
          "base_uri": "https://localhost:8080/"
        },
        "id": "uf9R_YNL9uMs",
        "outputId": "b70b3edb-fda6-4ebe-ae77-fe613c79c493"
      },
      "outputs": [
        {
          "data": {
            "text/plain": [
              "-13.880374349943303"
            ]
          },
          "execution_count": 34,
          "metadata": {},
          "output_type": "execute_result"
        }
      ],
      "source": [
        "titanic['Age'].mean() - 3*titanic['Age'].std()"
      ]
    },
    {
      "cell_type": "code",
      "execution_count": null,
      "metadata": {
        "colab": {
          "base_uri": "https://localhost:8080/",
          "height": 112
        },
        "id": "rf3bBw7D9xgD",
        "outputId": "1b0db4c9-e0a0-4851-a162-71b0d1298c82"
      },
      "outputs": [
        {
          "data": {
            "text/html": [
              "\n",
              "  <div id=\"df-83d66de9-d78e-4ac5-a9d7-f1600ac3441d\">\n",
              "    <div class=\"colab-df-container\">\n",
              "      <div>\n",
              "<style scoped>\n",
              "    .dataframe tbody tr th:only-of-type {\n",
              "        vertical-align: middle;\n",
              "    }\n",
              "\n",
              "    .dataframe tbody tr th {\n",
              "        vertical-align: top;\n",
              "    }\n",
              "\n",
              "    .dataframe thead th {\n",
              "        text-align: right;\n",
              "    }\n",
              "</style>\n",
              "<table border=\"1\" class=\"dataframe\">\n",
              "  <thead>\n",
              "    <tr style=\"text-align: right;\">\n",
              "      <th></th>\n",
              "      <th>PassengerId</th>\n",
              "      <th>Survived</th>\n",
              "      <th>Pclass</th>\n",
              "      <th>Name</th>\n",
              "      <th>Sex</th>\n",
              "      <th>Age</th>\n",
              "      <th>SibSp</th>\n",
              "      <th>Parch</th>\n",
              "      <th>Ticket</th>\n",
              "      <th>Fare</th>\n",
              "      <th>Cabin</th>\n",
              "      <th>Embarked</th>\n",
              "    </tr>\n",
              "  </thead>\n",
              "  <tbody>\n",
              "    <tr>\n",
              "      <th>630</th>\n",
              "      <td>631</td>\n",
              "      <td>1</td>\n",
              "      <td>1</td>\n",
              "      <td>Barkworth, Mr. Algernon Henry Wilson</td>\n",
              "      <td>male</td>\n",
              "      <td>80.0</td>\n",
              "      <td>0</td>\n",
              "      <td>0</td>\n",
              "      <td>27042</td>\n",
              "      <td>30.000</td>\n",
              "      <td>A23</td>\n",
              "      <td>S</td>\n",
              "    </tr>\n",
              "    <tr>\n",
              "      <th>851</th>\n",
              "      <td>852</td>\n",
              "      <td>0</td>\n",
              "      <td>3</td>\n",
              "      <td>Svensson, Mr. Johan</td>\n",
              "      <td>male</td>\n",
              "      <td>74.0</td>\n",
              "      <td>0</td>\n",
              "      <td>0</td>\n",
              "      <td>347060</td>\n",
              "      <td>7.775</td>\n",
              "      <td>NaN</td>\n",
              "      <td>S</td>\n",
              "    </tr>\n",
              "  </tbody>\n",
              "</table>\n",
              "</div>\n",
              "      <button class=\"colab-df-convert\" onclick=\"convertToInteractive('df-83d66de9-d78e-4ac5-a9d7-f1600ac3441d')\"\n",
              "              title=\"Convert this dataframe to an interactive table.\"\n",
              "              style=\"display:none;\">\n",
              "        \n",
              "  <svg xmlns=\"http://www.w3.org/2000/svg\" height=\"24px\"viewBox=\"0 0 24 24\"\n",
              "       width=\"24px\">\n",
              "    <path d=\"M0 0h24v24H0V0z\" fill=\"none\"/>\n",
              "    <path d=\"M18.56 5.44l.94 2.06.94-2.06 2.06-.94-2.06-.94-.94-2.06-.94 2.06-2.06.94zm-11 1L8.5 8.5l.94-2.06 2.06-.94-2.06-.94L8.5 2.5l-.94 2.06-2.06.94zm10 10l.94 2.06.94-2.06 2.06-.94-2.06-.94-.94-2.06-.94 2.06-2.06.94z\"/><path d=\"M17.41 7.96l-1.37-1.37c-.4-.4-.92-.59-1.43-.59-.52 0-1.04.2-1.43.59L10.3 9.45l-7.72 7.72c-.78.78-.78 2.05 0 2.83L4 21.41c.39.39.9.59 1.41.59.51 0 1.02-.2 1.41-.59l7.78-7.78 2.81-2.81c.8-.78.8-2.07 0-2.86zM5.41 20L4 18.59l7.72-7.72 1.47 1.35L5.41 20z\"/>\n",
              "  </svg>\n",
              "      </button>\n",
              "      \n",
              "  <style>\n",
              "    .colab-df-container {\n",
              "      display:flex;\n",
              "      flex-wrap:wrap;\n",
              "      gap: 12px;\n",
              "    }\n",
              "\n",
              "    .colab-df-convert {\n",
              "      background-color: #E8F0FE;\n",
              "      border: none;\n",
              "      border-radius: 50%;\n",
              "      cursor: pointer;\n",
              "      display: none;\n",
              "      fill: #1967D2;\n",
              "      height: 32px;\n",
              "      padding: 0 0 0 0;\n",
              "      width: 32px;\n",
              "    }\n",
              "\n",
              "    .colab-df-convert:hover {\n",
              "      background-color: #E2EBFA;\n",
              "      box-shadow: 0px 1px 2px rgba(60, 64, 67, 0.3), 0px 1px 3px 1px rgba(60, 64, 67, 0.15);\n",
              "      fill: #174EA6;\n",
              "    }\n",
              "\n",
              "    [theme=dark] .colab-df-convert {\n",
              "      background-color: #3B4455;\n",
              "      fill: #D2E3FC;\n",
              "    }\n",
              "\n",
              "    [theme=dark] .colab-df-convert:hover {\n",
              "      background-color: #434B5C;\n",
              "      box-shadow: 0px 1px 3px 1px rgba(0, 0, 0, 0.15);\n",
              "      filter: drop-shadow(0px 1px 2px rgba(0, 0, 0, 0.3));\n",
              "      fill: #FFFFFF;\n",
              "    }\n",
              "  </style>\n",
              "\n",
              "      <script>\n",
              "        const buttonEl =\n",
              "          document.querySelector('#df-83d66de9-d78e-4ac5-a9d7-f1600ac3441d button.colab-df-convert');\n",
              "        buttonEl.style.display =\n",
              "          google.colab.kernel.accessAllowed ? 'block' : 'none';\n",
              "\n",
              "        async function convertToInteractive(key) {\n",
              "          const element = document.querySelector('#df-83d66de9-d78e-4ac5-a9d7-f1600ac3441d');\n",
              "          const dataTable =\n",
              "            await google.colab.kernel.invokeFunction('convertToInteractive',\n",
              "                                                     [key], {});\n",
              "          if (!dataTable) return;\n",
              "\n",
              "          const docLinkHtml = 'Like what you see? Visit the ' +\n",
              "            '<a target=\"_blank\" href=https://colab.research.google.com/notebooks/data_table.ipynb>data table notebook</a>'\n",
              "            + ' to learn more about interactive tables.';\n",
              "          element.innerHTML = '';\n",
              "          dataTable['output_type'] = 'display_data';\n",
              "          await google.colab.output.renderOutput(dataTable, element);\n",
              "          const docLink = document.createElement('div');\n",
              "          docLink.innerHTML = docLinkHtml;\n",
              "          element.appendChild(docLink);\n",
              "        }\n",
              "      </script>\n",
              "    </div>\n",
              "  </div>\n",
              "  "
            ],
            "text/plain": [
              "     PassengerId  Survived  Pclass                                  Name  \\\n",
              "630          631         1       1  Barkworth, Mr. Algernon Henry Wilson   \n",
              "851          852         0       3                   Svensson, Mr. Johan   \n",
              "\n",
              "      Sex   Age  SibSp  Parch  Ticket    Fare Cabin Embarked  \n",
              "630  male  80.0      0      0   27042  30.000   A23        S  \n",
              "851  male  74.0      0      0  347060   7.775   NaN        S  "
            ]
          },
          "execution_count": 37,
          "metadata": {},
          "output_type": "execute_result"
        }
      ],
      "source": [
        "titanic[titanic['Age'] > 73]"
      ]
    },
    {
      "cell_type": "code",
      "execution_count": null,
      "metadata": {
        "colab": {
          "base_uri": "https://localhost:8080/"
        },
        "id": "KQu5isNq9-5b",
        "outputId": "81c376ea-9345-4043-8be1-1de17bfea78d"
      },
      "outputs": [
        {
          "data": {
            "text/plain": [
              "80.0"
            ]
          },
          "execution_count": 36,
          "metadata": {},
          "output_type": "execute_result"
        }
      ],
      "source": [
        "titanic['Age'].max()"
      ]
    },
    {
      "cell_type": "code",
      "execution_count": null,
      "metadata": {
        "id": "Gqi-IezQ-D_w"
      },
      "outputs": [],
      "source": []
    }
  ],
  "metadata": {
    "colab": {
      "provenance": []
    },
    "kernelspec": {
      "display_name": "Python 3",
      "name": "python3"
    },
    "language_info": {
      "codemirror_mode": {
        "name": "ipython",
        "version": 3
      },
      "file_extension": ".py",
      "mimetype": "text/x-python",
      "name": "python",
      "nbconvert_exporter": "python",
      "pygments_lexer": "ipython3",
      "version": "3.12.4"
    }
  },
  "nbformat": 4,
  "nbformat_minor": 0
}
